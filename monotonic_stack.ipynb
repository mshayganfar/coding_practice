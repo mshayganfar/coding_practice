{
 "cells": [
  {
   "cell_type": "markdown",
   "id": "09254038",
   "metadata": {},
   "source": [
    "# Monotonic Stack"
   ]
  },
  {
   "cell_type": "markdown",
   "id": "7c293319",
   "metadata": {},
   "source": [
    "## 1) Daily Temperatures\n",
    "\n",
    "Given an array of integers temperatures represents the daily temperatures, return an array answer such that answer[i] is the number of days you have to wait after the ith day to get a warmer temperature. If there is no future day for which this is possible, keep answer[i] == 0 instead.\n",
    "\n",
    "<b>Example</b>\n",
    "\n",
    "Input: temperatures = [73, 74, 75, 71, 69, 72, 76, 73] <br />\n",
    "Output: [1, 1, 4, 2, 1, 1, 0, 0]\n",
    "\n",
    "<b>Example</b>\n",
    "\n",
    "Input: temperatures = [30, 40, 50, 60] <br />\n",
    "Output: [1, 1, 1, 0]\n",
    "\n",
    "<b>Example</b>\n",
    "\n",
    "Input: temperatures = [30, 60, 90] <br />\n",
    "Output: [1, 1, 0]"
   ]
  },
  {
   "cell_type": "code",
   "execution_count": 1,
   "id": "fb35198d",
   "metadata": {},
   "outputs": [],
   "source": [
    "from typing import List"
   ]
  },
  {
   "cell_type": "code",
   "execution_count": 2,
   "id": "6fadf630",
   "metadata": {},
   "outputs": [],
   "source": [
    "def dailyTemperatures(temperatures: List[int]) -> List[int]:\n",
    "    \n",
    "    n = len(temperatures)\n",
    "    answer = [0] * n\n",
    "    stack = []\n",
    "        \n",
    "    for curr_day, curr_temp in enumerate(temperatures):\n",
    "        while stack and temperatures[stack[-1]] < curr_temp:\n",
    "            prev_day = stack.pop()\n",
    "            answer[prev_day] = curr_day - prev_day\n",
    "        stack.append(curr_day)\n",
    "        \n",
    "    return answer"
   ]
  },
  {
   "cell_type": "code",
   "execution_count": 3,
   "id": "606b33b3",
   "metadata": {},
   "outputs": [
    {
     "data": {
      "text/plain": [
       "[1, 1, 4, 2, 1, 1, 0, 0]"
      ]
     },
     "execution_count": 3,
     "metadata": {},
     "output_type": "execute_result"
    }
   ],
   "source": [
    "temperatures = [73, 74, 75, 71, 69, 72, 76, 73]\n",
    "dailyTemperatures(temperatures)"
   ]
  },
  {
   "cell_type": "code",
   "execution_count": 4,
   "id": "ea744dec",
   "metadata": {},
   "outputs": [
    {
     "data": {
      "text/plain": [
       "[1, 1, 1, 0]"
      ]
     },
     "execution_count": 4,
     "metadata": {},
     "output_type": "execute_result"
    }
   ],
   "source": [
    "temperatures = [30, 40, 50, 60]\n",
    "dailyTemperatures(temperatures)"
   ]
  },
  {
   "cell_type": "code",
   "execution_count": 5,
   "id": "8739cf0e",
   "metadata": {},
   "outputs": [
    {
     "data": {
      "text/plain": [
       "[1, 1, 0]"
      ]
     },
     "execution_count": 5,
     "metadata": {},
     "output_type": "execute_result"
    }
   ],
   "source": [
    "temperatures = [30, 60, 90]\n",
    "dailyTemperatures(temperatures)"
   ]
  },
  {
   "cell_type": "code",
   "execution_count": 6,
   "id": "455d23dc",
   "metadata": {},
   "outputs": [
    {
     "name": "stdout",
     "output_type": "stream",
     "text": [
      "0 30\n",
      "1 60\n",
      "2 90\n"
     ]
    }
   ],
   "source": [
    "temperatures = [30, 60, 90]\n",
    "for a,b in enumerate(temperatures):\n",
    "    print (a, b)"
   ]
  },
  {
   "cell_type": "markdown",
   "id": "a2cbbf95",
   "metadata": {},
   "source": [
    "## 2) Online Stock Span\n",
    "\n",
    "Design an algorithm that collects daily price quotes for some stock and returns the span of that stock's price for the current day.\n",
    "\n",
    "The span of the stock's price in one day is the maximum number of consecutive days (starting from that day and going backward) for which the stock price was less than or equal to the price of that day.\n",
    "\n",
    "* For example, if the prices of the stock in the last four days is [7,2,1,2] and the price of the stock today is 2, then the span of today is 4 because starting from today, the price of the stock was less than or equal 2 for 4 consecutive days.\n",
    "* Also, if the prices of the stock in the last four days is [7,34,1,2] and the price of the stock today is 8, then the span of today is 3 because starting from today, the price of the stock was less than or equal 8 for 3 consecutive days.\n",
    "\n",
    "Implement the StockSpanner class:\n",
    "\n",
    "* StockSpanner() Initializes the object of the class.\n",
    "* int next(int price) Returns the span of the stock's price given that today's price is price.\n",
    "\n",
    "<b>Example</b>\n",
    "\n",
    "Input: <br />\n",
    "[\"StockSpanner\", \"next\", \"next\", \"next\", \"next\", \"next\", \"next\", \"next\"] <br />\n",
    "[[], [100], [80], [60], [70], [60], [75], [85]] <br />\n",
    "\n",
    "Output: <br />\n",
    "[null, 1, 1, 1, 2, 1, 4, 6]\n",
    "\n",
    "Explanation: <br />\n",
    "StockSpanner stockSpanner = new StockSpanner(); <br />\n",
    "stockSpanner.next(100); // return 1 <br />\n",
    "stockSpanner.next(80);  // return 1 <br />\n",
    "stockSpanner.next(60);  // return 1 <br />\n",
    "stockSpanner.next(70);  // return 2 <br />\n",
    "stockSpanner.next(60);  // return 1 <br />\n",
    "stockSpanner.next(75);  // return 4, because the last 4 prices (including today's price of 75) were less than or equal to today's price. <br />\n",
    "stockSpanner.next(85);  // return 6 <br />"
   ]
  },
  {
   "cell_type": "code",
   "execution_count": 7,
   "id": "7c40ad0e",
   "metadata": {},
   "outputs": [],
   "source": [
    "class StockSpanner:\n",
    "\n",
    "    def __init__(self):\n",
    "        self.prices = []\n",
    "\n",
    "    def next(self, price: int) -> int:\n",
    "        count = 1\n",
    "        \n",
    "        while self.prices and self.prices[-1][0] <= price:\n",
    "            count += self.prices.pop()[1]\n",
    "        \n",
    "        self.prices.append([price, count])\n",
    "        \n",
    "        return count"
   ]
  },
  {
   "cell_type": "code",
   "execution_count": 8,
   "id": "05413e6b",
   "metadata": {},
   "outputs": [
    {
     "name": "stdout",
     "output_type": "stream",
     "text": [
      "1\n",
      "1\n",
      "1\n",
      "2\n",
      "1\n",
      "4\n",
      "6\n"
     ]
    }
   ],
   "source": [
    "stockSpanner = StockSpanner()\n",
    "print(stockSpanner.next(100))\n",
    "print(stockSpanner.next(80))\n",
    "print(stockSpanner.next(60))\n",
    "print(stockSpanner.next(70))\n",
    "print(stockSpanner.next(60))\n",
    "print(stockSpanner.next(75))\n",
    "print(stockSpanner.next(85))"
   ]
  },
  {
   "cell_type": "code",
   "execution_count": null,
   "id": "56afe8b5",
   "metadata": {},
   "outputs": [],
   "source": []
  }
 ],
 "metadata": {
  "kernelspec": {
   "display_name": "Python 3 (ipykernel)",
   "language": "python",
   "name": "python3"
  },
  "language_info": {
   "codemirror_mode": {
    "name": "ipython",
    "version": 3
   },
   "file_extension": ".py",
   "mimetype": "text/x-python",
   "name": "python",
   "nbconvert_exporter": "python",
   "pygments_lexer": "ipython3",
   "version": "3.8.16"
  }
 },
 "nbformat": 4,
 "nbformat_minor": 5
}
