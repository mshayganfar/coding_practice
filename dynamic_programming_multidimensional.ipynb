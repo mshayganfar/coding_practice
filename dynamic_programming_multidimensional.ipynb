{
 "cells": [
  {
   "cell_type": "markdown",
   "id": "fde50f93",
   "metadata": {},
   "source": [
    "# Dynamic Programming - Multidimensional"
   ]
  },
  {
   "cell_type": "markdown",
   "id": "0e53af10",
   "metadata": {},
   "source": [
    "## 1) Maximum Score from Performing Multiplication Operations\n",
    "\n",
    "You are given two 0-indexed integer arrays nums and multipliers of size n and m respectively, where n >= m.\n",
    "\n",
    "You begin with a score of 0. You want to perform exactly m operations. On the ith operation (0-indexed) you will:\n",
    "\n",
    "* Choose one integer x from either the start or the end of the array nums.\n",
    "* Add multipliers[i] * x to your score.\n",
    "    * Note that multipliers[0] corresponds to the first operation, multipliers[1] to the second operation, and so on.\n",
    "* Remove x from nums.\n",
    "\n",
    "Return the maximum score after performing m operations.\n",
    "\n",
    "<b>Example</b>\n",
    "\n",
    "Input: nums = [1, 2, 3], multipliers = [3, 2, 1] <br />\n",
    "Output: 14\n",
    "\n",
    "Explanation: An optimal solution is as follows:\n",
    "- Choose from the end, [1,2,3], adding 3 * 3 = 9 to the score.\n",
    "- Choose from the end, [1,2], adding 2 * 2 = 4 to the score.\n",
    "- Choose from the end, [1], adding 1 * 1 = 1 to the score.\n",
    "\n",
    "The total score is 9 + 4 + 1 = 14.\n",
    "\n",
    "<b>Example</b>\n",
    "\n",
    "Input: nums = [-5, -3, -3, -2, 7, 1], multipliers = [-10, -5, 3, 4, 6] <br />\n",
    "Output: 102\n",
    "\n",
    "Explanation: An optimal solution is as follows:\n",
    "- Choose from the start, [-5,-3,-3,-2,7,1], adding -5 * -10 = 50 to the score.\n",
    "- Choose from the start, [-3,-3,-2,7,1], adding -3 * -5 = 15 to the score.\n",
    "- Choose from the start, [-3,-2,7,1], adding -3 * 3 = -9 to the score.\n",
    "- Choose from the end, [-2,7,1], adding 1 * 4 = 4 to the score.\n",
    "- Choose from the end, [-2,7], adding 7 * 6 = 42 to the score. \n",
    "\n",
    "The total score is 50 + 15 - 9 + 4 + 42 = 102."
   ]
  },
  {
   "cell_type": "code",
   "execution_count": 1,
   "id": "a4c7a772",
   "metadata": {},
   "outputs": [],
   "source": [
    "from functools import lru_cache\n",
    "from typing import List"
   ]
  },
  {
   "cell_type": "code",
   "execution_count": 2,
   "id": "4bdf9d78",
   "metadata": {},
   "outputs": [],
   "source": [
    "# Top-Down Solution (Memoization): Time & Space Complexity = m^2\n",
    "\n",
    "def maximumScore(nums: List[int], multipliers: List[int]) -> int:\n",
    "    \n",
    "    @lru_cache(2000)\n",
    "    def dp(i: int, left: int) -> int:\n",
    "        \n",
    "        if i == m:\n",
    "            return 0\n",
    "        \n",
    "        mult = multipliers[i]\n",
    "        right = n - 1 - (i - left)\n",
    "        \n",
    "        return max(mult * nums[left] + dp(i+1, left+1), mult * nums[right] + dp(i+1, left))\n",
    "    \n",
    "    n, m = len(nums), len(multipliers)\n",
    "    \n",
    "    return dp(0, 0)"
   ]
  },
  {
   "cell_type": "code",
   "execution_count": 3,
   "id": "51e5d642",
   "metadata": {},
   "outputs": [],
   "source": [
    "# Bottom-Up Solution (Tabulation): Time & Space Complexity = m^2\n",
    "\n",
    "def maximumScore(nums: List[int], multipliers: List[int]) -> int:\n",
    "    \n",
    "    n, m = len(nums), len(multipliers)\n",
    "    \n",
    "    dp = [[0] * (m + 1) for _ in range(m + 1)]\n",
    "    \n",
    "    for i in range(m - 1, -1, -1):\n",
    "        for left in range(i, -1, -1):\n",
    "            mult = multipliers[i]\n",
    "            right = n - 1 - (i - left)\n",
    "            \n",
    "            dp[i][left] = max(mult * nums[left] + dp[i+1][left+1], mult * nums[right] + dp[i+1][left])\n",
    "    \n",
    "    return dp[0][0]"
   ]
  },
  {
   "cell_type": "code",
   "execution_count": 4,
   "id": "4027a2f4",
   "metadata": {},
   "outputs": [
    {
     "data": {
      "text/plain": [
       "14"
      ]
     },
     "execution_count": 4,
     "metadata": {},
     "output_type": "execute_result"
    }
   ],
   "source": [
    "nums = [1, 2, 3]\n",
    "multipliers = [3, 2, 1]\n",
    "maximumScore(nums, multipliers)"
   ]
  },
  {
   "cell_type": "code",
   "execution_count": 5,
   "id": "f0c563ae",
   "metadata": {},
   "outputs": [
    {
     "data": {
      "text/plain": [
       "102"
      ]
     },
     "execution_count": 5,
     "metadata": {},
     "output_type": "execute_result"
    }
   ],
   "source": [
    "nums = [-5, -3, -3, -2, 7, 1]\n",
    "multipliers = [-10, -5, 3, 4, 6]\n",
    "maximumScore(nums, multipliers)"
   ]
  },
  {
   "cell_type": "markdown",
   "id": "44ee7cf2",
   "metadata": {},
   "source": [
    "## 2) Longest Common Subsequence\n",
    "\n",
    "Given two strings text1 and text2, return the length of their longest common subsequence. If there is no common subsequence, return 0.\n",
    "\n",
    "A subsequence of a string is a new string generated from the original string with some characters (can be none) deleted without changing the relative order of the remaining characters.\n",
    "\n",
    "* For example, \"ace\" is a subsequence of \"abcde\".\n",
    "\n",
    "A common subsequence of two strings is a subsequence that is common to both strings.\n",
    "\n",
    "<b>Example</b>\n",
    "\n",
    "Input: text1 = \"abcde\", text2 = \"ace\" <br />\n",
    "Output: 3\n",
    "\n",
    "Explanation: The longest common subsequence is \"ace\" and its length is 3.\n",
    "\n",
    "<b>Example</b>\n",
    "\n",
    "Input: text1 = \"abc\", text2 = \"abc\" <br />\n",
    "Output: 3\n",
    "\n",
    "Explanation: The longest common subsequence is \"abc\" and its length is 3.\n",
    "\n",
    "<b>Example</b>\n",
    "\n",
    "Input: text1 = \"abc\", text2 = \"def\" <br />\n",
    "Output: 0\n",
    "\n",
    "Explanation: There is no such common subsequence, so the result is 0."
   ]
  },
  {
   "cell_type": "code",
   "execution_count": 6,
   "id": "1575d63b",
   "metadata": {},
   "outputs": [],
   "source": [
    "from functools import lru_cache"
   ]
  },
  {
   "cell_type": "code",
   "execution_count": 7,
   "id": "60e37666",
   "metadata": {},
   "outputs": [],
   "source": [
    "# Top-Down Solution (Memoization)\n",
    "\n",
    "def longestCommonSubsequence(text1: str, text2: str) -> int:\n",
    "    \n",
    "    @lru_cache(maxsize=None)\n",
    "    def dp(i: int, j: int) -> int:\n",
    "        \n",
    "        if i == len(text1) or j == len(text2):\n",
    "            return 0\n",
    "        \n",
    "        case1 = dp(i+1, j)\n",
    "\n",
    "        first_occurence = text2.find(text1[i], j)\n",
    "        case2 = 0\n",
    "        if first_occurence != -1:\n",
    "            case2 = 1 + dp(i + 1, first_occurence + 1)\n",
    "        \n",
    "        return max(case1, case2)\n",
    "    \n",
    "    return dp(0, 0)"
   ]
  },
  {
   "cell_type": "code",
   "execution_count": 8,
   "id": "25b4c2d5",
   "metadata": {},
   "outputs": [],
   "source": [
    "# Top-Down Solution (Memoization) - Improved Memoization\n",
    "\n",
    "def longestCommonSubsequence(text1: str, text2: str) -> int:\n",
    "    \n",
    "    @lru_cache(maxsize=None)\n",
    "    def dp(i: int, j: int) -> int:\n",
    "        \n",
    "        if i == len(text1) or j == len(text2):\n",
    "            return 0\n",
    "        \n",
    "        if text1[i] == text2[j]:\n",
    "            return 1 + dp(i + 1, j + 1)\n",
    "        else:\n",
    "            return max(dp(i, j + 1), dp(i + 1, j))\n",
    "    \n",
    "    return dp(0, 0)"
   ]
  },
  {
   "cell_type": "code",
   "execution_count": 9,
   "id": "91d9aa3b",
   "metadata": {},
   "outputs": [],
   "source": [
    "# Bottom-Up Solution (Tabulation) - Improved Memoization\n",
    "\n",
    "def longestCommonSubsequence(text1: str, text2: str) -> int:\n",
    "    \n",
    "    dp = [[0] * (len(text2) + 1) for _ in range(len(text1) + 1)]\n",
    "    \n",
    "    for col in reversed(range(len(text2))):\n",
    "        for row in reversed(range(len(text1))):\n",
    "            if text1[row] == text2[col]:\n",
    "                dp[row][col] = 1 + dp[row + 1][col + 1]\n",
    "            else:\n",
    "                dp[row][col] = max(dp[row][col + 1], dp[row + 1][col])\n",
    "    \n",
    "    return dp[0][0]"
   ]
  },
  {
   "cell_type": "code",
   "execution_count": 10,
   "id": "e7452bbd",
   "metadata": {},
   "outputs": [
    {
     "data": {
      "text/plain": [
       "3"
      ]
     },
     "execution_count": 10,
     "metadata": {},
     "output_type": "execute_result"
    }
   ],
   "source": [
    "text1 = \"abcde\"\n",
    "text2 = \"ace\"\n",
    "longestCommonSubsequence(text1, text2)"
   ]
  },
  {
   "cell_type": "code",
   "execution_count": 11,
   "id": "b14bc481",
   "metadata": {},
   "outputs": [
    {
     "data": {
      "text/plain": [
       "3"
      ]
     },
     "execution_count": 11,
     "metadata": {},
     "output_type": "execute_result"
    }
   ],
   "source": [
    "text1 = \"abc\"\n",
    "text2 = \"abc\"\n",
    "longestCommonSubsequence(text1, text2)"
   ]
  },
  {
   "cell_type": "code",
   "execution_count": 12,
   "id": "e1a41502",
   "metadata": {},
   "outputs": [
    {
     "data": {
      "text/plain": [
       "0"
      ]
     },
     "execution_count": 12,
     "metadata": {},
     "output_type": "execute_result"
    }
   ],
   "source": [
    "text1 = \"abc\"\n",
    "text2 = \"def\"\n",
    "longestCommonSubsequence(text1, text2)"
   ]
  },
  {
   "cell_type": "markdown",
   "id": "65361592",
   "metadata": {},
   "source": [
    "## 3) Unique Paths\n",
    "\n",
    "There is a robot on an m x n grid. The robot is initially located at the top-left corner (i.e., grid[0][0]). The robot tries to move to the bottom-right corner (i.e., grid[m - 1][n - 1]). The robot can only move either down or right at any point in time.\n",
    "\n",
    "Given the two integers m and n, return the number of possible unique paths that the robot can take to reach the bottom-right corner.\n",
    "\n",
    "The test cases are generated so that the answer will be less than or equal to 2 * 10^9.\n",
    "\n",
    "<b>Example</b>\n",
    "\n",
    "Input: m = 3, n = 7 <br />\n",
    "Output: 28\n",
    "\n",
    "<b>Example</b>\n",
    "\n",
    "Input: m = 3, n = 2 <br />\n",
    "Output: 3\n",
    "\n",
    "Explanation: From the top-left corner, there are a total of 3 ways to reach the bottom-right corner:\n",
    "1. Right -> Down -> Down\n",
    "2. Down -> Down -> Right\n",
    "3. Down -> Right -> Down"
   ]
  },
  {
   "cell_type": "code",
   "execution_count": 13,
   "id": "f3c803f8",
   "metadata": {},
   "outputs": [],
   "source": [
    "# Top-Down Solution (Memoization)\n",
    "\n",
    "def uniquePaths(m: int, n: int) -> int:\n",
    "    \n",
    "    def dp(i: int, j: int) -> int:\n",
    "        \n",
    "        if i == 0 or j == 0:\n",
    "            return 1\n",
    "        \n",
    "        if (i, j) in memo:\n",
    "            return memo[(i, j)]\n",
    "        \n",
    "        memo[(i, j)] = dp(i - 1, j) + dp(i, j - 1)\n",
    "        \n",
    "        return memo[(i, j)]\n",
    "    \n",
    "    memo = {}\n",
    "    return dp(m - 1, n - 1)"
   ]
  },
  {
   "cell_type": "code",
   "execution_count": 14,
   "id": "b2ca4f10",
   "metadata": {},
   "outputs": [],
   "source": [
    "# Bottom-Up Solution (Tabulation)\n",
    "\n",
    "def uniquePaths(m: int, n: int) -> int:\n",
    "    \n",
    "    dp = [[1] * n for _ in range(m)]\n",
    "    \n",
    "    for col in range(1, m):\n",
    "        for row in range(1, n):\n",
    "            dp[col][row] = dp[col - 1][row] + dp[col][row - 1]\n",
    "    \n",
    "    return dp[m - 1][n - 1]"
   ]
  },
  {
   "cell_type": "code",
   "execution_count": 15,
   "id": "8a621a70",
   "metadata": {},
   "outputs": [
    {
     "data": {
      "text/plain": [
       "28"
      ]
     },
     "execution_count": 15,
     "metadata": {},
     "output_type": "execute_result"
    }
   ],
   "source": [
    "m = 3\n",
    "n = 7\n",
    "uniquePaths(m, n)"
   ]
  },
  {
   "cell_type": "code",
   "execution_count": 16,
   "id": "ef54ec8e",
   "metadata": {},
   "outputs": [
    {
     "data": {
      "text/plain": [
       "3"
      ]
     },
     "execution_count": 16,
     "metadata": {},
     "output_type": "execute_result"
    }
   ],
   "source": [
    "m = 3\n",
    "n = 2\n",
    "uniquePaths(m, n)"
   ]
  },
  {
   "cell_type": "markdown",
   "id": "8c7b43a0",
   "metadata": {},
   "source": [
    "## 4) Maximal Square\n",
    "\n",
    "Given an m x n binary matrix filled with 0's and 1's, find the largest square containing only 1's and return its area.\n",
    "\n",
    "<b>Example</b>\n",
    "\n",
    "Input: matrix = [[\"1\", \"0\", \"1\", \"0\", \"0\"], [\"1\", \"0\", \"1\", \"1\", \"1\"], [\"1\", \"1\", \"1\", \"1\", \"1\"], [\"1\", \"0\", \"0\", \"1\", \"0\"]] <br />\n",
    "Output: 4\n",
    "\n",
    "<b>Example</b>\n",
    "\n",
    "Input: matrix = [[\"0\", \"1\"], [\"1\", \"0\"]] <br />\n",
    "Output: 1\n",
    "\n",
    "<b>Example</b>\n",
    "\n",
    "Input: matrix = [[\"0\"]] <br />\n",
    "Output: 0"
   ]
  },
  {
   "cell_type": "code",
   "execution_count": 17,
   "id": "36f4c697",
   "metadata": {},
   "outputs": [],
   "source": [
    "from typing import List"
   ]
  },
  {
   "cell_type": "code",
   "execution_count": 18,
   "id": "6749a27d",
   "metadata": {},
   "outputs": [],
   "source": [
    "# Bottom-Up Solution (Tabulation)\n",
    "\n",
    "def maximalSquare(matrix: List[List[str]]) -> int:\n",
    "    \n",
    "    if len(matrix) == 0:\n",
    "        return 0\n",
    "    \n",
    "    rows = len(matrix)\n",
    "    cols = len(matrix[0])\n",
    "        \n",
    "    dp = [[0] * (cols + 1) for _ in range(rows + 1)]\n",
    "    maxsqlen = 0\n",
    "        \n",
    "    for i in range(1, rows + 1):\n",
    "        for j in range(1, cols + 1):\n",
    "            if matrix[i - 1][j - 1] == '1':\n",
    "                dp[i][j] = min(dp[i][j - 1], dp[i - 1][j], dp[i - 1][j - 1]) + 1\n",
    "                maxsqlen = max(maxsqlen, dp[i][j])\n",
    "    \n",
    "    return maxsqlen ** 2"
   ]
  },
  {
   "cell_type": "code",
   "execution_count": 19,
   "id": "a8a9c31b",
   "metadata": {},
   "outputs": [
    {
     "data": {
      "text/plain": [
       "4"
      ]
     },
     "execution_count": 19,
     "metadata": {},
     "output_type": "execute_result"
    }
   ],
   "source": [
    "matrix = [[\"1\", \"0\", \"1\", \"0\", \"0\"], [\"1\", \"0\", \"1\", \"1\", \"1\"], [\"1\", \"1\", \"1\", \"1\", \"1\"], [\"1\", \"0\", \"0\", \"1\", \"0\"]]\n",
    "maximalSquare(matrix)"
   ]
  },
  {
   "cell_type": "code",
   "execution_count": 20,
   "id": "9463c9da",
   "metadata": {},
   "outputs": [
    {
     "data": {
      "text/plain": [
       "1"
      ]
     },
     "execution_count": 20,
     "metadata": {},
     "output_type": "execute_result"
    }
   ],
   "source": [
    "matrix = [[\"0\", \"1\"], [\"1\", \"0\"]]\n",
    "maximalSquare(matrix)"
   ]
  },
  {
   "cell_type": "code",
   "execution_count": 21,
   "id": "0f5fac3d",
   "metadata": {},
   "outputs": [
    {
     "data": {
      "text/plain": [
       "0"
      ]
     },
     "execution_count": 21,
     "metadata": {},
     "output_type": "execute_result"
    }
   ],
   "source": [
    "matrix = [[\"0\"]]\n",
    "maximalSquare(matrix)"
   ]
  },
  {
   "cell_type": "code",
   "execution_count": null,
   "id": "a3d1d81b",
   "metadata": {},
   "outputs": [],
   "source": []
  }
 ],
 "metadata": {
  "kernelspec": {
   "display_name": "Python 3 (ipykernel)",
   "language": "python",
   "name": "python3"
  },
  "language_info": {
   "codemirror_mode": {
    "name": "ipython",
    "version": 3
   },
   "file_extension": ".py",
   "mimetype": "text/x-python",
   "name": "python",
   "nbconvert_exporter": "python",
   "pygments_lexer": "ipython3",
   "version": "3.8.16"
  }
 },
 "nbformat": 4,
 "nbformat_minor": 5
}
