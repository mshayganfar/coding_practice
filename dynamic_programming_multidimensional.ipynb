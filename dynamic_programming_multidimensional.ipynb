{
 "cells": [
  {
   "cell_type": "markdown",
   "id": "89343248",
   "metadata": {},
   "source": [
    "# Dynamic Programming - Multidimensional"
   ]
  },
  {
   "cell_type": "markdown",
   "id": "dfaa39e8",
   "metadata": {},
   "source": [
    "## 1) Maximum Score from Performing Multiplication Operations\n",
    "\n",
    "You are given two 0-indexed integer arrays nums and multipliers of size n and m respectively, where n >= m.\n",
    "\n",
    "You begin with a score of 0. You want to perform exactly m operations. On the ith operation (0-indexed) you will:\n",
    "\n",
    "* Choose one integer x from either the start or the end of the array nums.\n",
    "* Add multipliers[i] * x to your score.\n",
    "    * Note that multipliers[0] corresponds to the first operation, multipliers[1] to the second operation, and so on.\n",
    "* Remove x from nums.\n",
    "\n",
    "Return the maximum score after performing m operations.\n",
    "\n",
    "<b>Example</b>\n",
    "\n",
    "Input: nums = [1, 2, 3], multipliers = [3, 2, 1] <br />\n",
    "Output: 14\n",
    "\n",
    "Explanation: An optimal solution is as follows:\n",
    "- Choose from the end, [1,2,3], adding 3 * 3 = 9 to the score.\n",
    "- Choose from the end, [1,2], adding 2 * 2 = 4 to the score.\n",
    "- Choose from the end, [1], adding 1 * 1 = 1 to the score.\n",
    "\n",
    "The total score is 9 + 4 + 1 = 14.\n",
    "\n",
    "<b>Example</b>\n",
    "\n",
    "Input: nums = [-5, -3, -3, -2, 7, 1], multipliers = [-10, -5, 3, 4, 6] <br />\n",
    "Output: 102\n",
    "\n",
    "Explanation: An optimal solution is as follows:\n",
    "- Choose from the start, [-5,-3,-3,-2,7,1], adding -5 * -10 = 50 to the score.\n",
    "- Choose from the start, [-3,-3,-2,7,1], adding -3 * -5 = 15 to the score.\n",
    "- Choose from the start, [-3,-2,7,1], adding -3 * 3 = -9 to the score.\n",
    "- Choose from the end, [-2,7,1], adding 1 * 4 = 4 to the score.\n",
    "- Choose from the end, [-2,7], adding 7 * 6 = 42 to the score. \n",
    "\n",
    "The total score is 50 + 15 - 9 + 4 + 42 = 102."
   ]
  },
  {
   "cell_type": "code",
   "execution_count": 1,
   "id": "393caa00",
   "metadata": {},
   "outputs": [],
   "source": [
    "from functools import lru_cache\n",
    "from typing import List"
   ]
  },
  {
   "cell_type": "code",
   "execution_count": 2,
   "id": "1403f8f2",
   "metadata": {},
   "outputs": [],
   "source": [
    "# Top-Down Solution (Memoization): Time & Space Complexity = m^2\n",
    "\n",
    "def maximumScore(nums: List[int], multipliers: List[int]) -> int:\n",
    "    \n",
    "    @lru_cache(2000)\n",
    "    def dp(i: int, left: int) -> int:\n",
    "        \n",
    "        if i == m:\n",
    "            return 0\n",
    "        \n",
    "        mult = multipliers[i]\n",
    "        right = n - 1 - (i - left)\n",
    "        \n",
    "        return max(mult * nums[left] + dp(i+1, left+1), mult * nums[right] + dp(i+1, left))\n",
    "    \n",
    "    n, m = len(nums), len(multipliers)\n",
    "    \n",
    "    return dp(0, 0)"
   ]
  },
  {
   "cell_type": "code",
   "execution_count": 3,
   "id": "88126882",
   "metadata": {},
   "outputs": [],
   "source": [
    "# Bottom-Up Solution (Tabulation): Time & Space Complexity = m^2\n",
    "\n",
    "def maximumScore(nums: List[int], multipliers: List[int]) -> int:\n",
    "    \n",
    "    n, m = len(nums), len(multipliers)\n",
    "    \n",
    "    dp = [[0] * (m + 1) for _ in range(m + 1)]\n",
    "    \n",
    "    for i in range(m - 1, -1, -1):\n",
    "        for left in range(i, -1, -1):\n",
    "            mult = multipliers[i]\n",
    "            right = n - 1 - (i - left)\n",
    "            \n",
    "            dp[i][left] = max(mult * nums[left] + dp[i+1][left+1], mult * nums[right] + dp[i+1][left])\n",
    "    \n",
    "    return dp[0][0]"
   ]
  },
  {
   "cell_type": "code",
   "execution_count": 4,
   "id": "9cbff099",
   "metadata": {},
   "outputs": [
    {
     "data": {
      "text/plain": [
       "14"
      ]
     },
     "execution_count": 4,
     "metadata": {},
     "output_type": "execute_result"
    }
   ],
   "source": [
    "nums = [1, 2, 3]\n",
    "multipliers = [3, 2, 1]\n",
    "maximumScore(nums, multipliers)"
   ]
  },
  {
   "cell_type": "code",
   "execution_count": 5,
   "id": "8042637b",
   "metadata": {},
   "outputs": [
    {
     "data": {
      "text/plain": [
       "102"
      ]
     },
     "execution_count": 5,
     "metadata": {},
     "output_type": "execute_result"
    }
   ],
   "source": [
    "nums = [-5, -3, -3, -2, 7, 1]\n",
    "multipliers = [-10, -5, 3, 4, 6]\n",
    "maximumScore(nums, multipliers)"
   ]
  },
  {
   "cell_type": "markdown",
   "id": "caad09c8",
   "metadata": {},
   "source": [
    "## 2) Longest Common Subsequence\n",
    "\n",
    "Given two strings text1 and text2, return the length of their longest common subsequence. If there is no common subsequence, return 0.\n",
    "\n",
    "A subsequence of a string is a new string generated from the original string with some characters (can be none) deleted without changing the relative order of the remaining characters.\n",
    "\n",
    "* For example, \"ace\" is a subsequence of \"abcde\".\n",
    "\n",
    "A common subsequence of two strings is a subsequence that is common to both strings.\n",
    "\n",
    "<b>Example</b>\n",
    "\n",
    "Input: text1 = \"abcde\", text2 = \"ace\" <br />\n",
    "Output: 3\n",
    "\n",
    "Explanation: The longest common subsequence is \"ace\" and its length is 3.\n",
    "\n",
    "<b>Example</b>\n",
    "\n",
    "Input: text1 = \"abc\", text2 = \"abc\" <br />\n",
    "Output: 3\n",
    "\n",
    "Explanation: The longest common subsequence is \"abc\" and its length is 3.\n",
    "\n",
    "<b>Example</b>\n",
    "\n",
    "Input: text1 = \"abc\", text2 = \"def\" <br />\n",
    "Output: 0\n",
    "\n",
    "Explanation: There is no such common subsequence, so the result is 0."
   ]
  },
  {
   "cell_type": "code",
   "execution_count": 6,
   "id": "65fb3747",
   "metadata": {},
   "outputs": [],
   "source": [
    "from functools import lru_cache"
   ]
  },
  {
   "cell_type": "code",
   "execution_count": 7,
   "id": "c2f72b3e",
   "metadata": {},
   "outputs": [],
   "source": [
    "# Top-Down Solution (Memoization)\n",
    "\n",
    "def longestCommonSubsequence(text1: str, text2: str) -> int:\n",
    "    \n",
    "    @lru_cache(maxsize=None)\n",
    "    def dp(i: int, j: int) -> int:\n",
    "        \n",
    "        if i == len(text1) or j == len(text2):\n",
    "            return 0\n",
    "        \n",
    "        case1 = dp(i+1, j)\n",
    "\n",
    "        first_occurence = text2.find(text1[i], j)\n",
    "        case2 = 0\n",
    "        if first_occurence != -1:\n",
    "            case2 = 1 + dp(i + 1, first_occurence + 1)\n",
    "        \n",
    "        return max(case1, case2)\n",
    "    \n",
    "    return dp(0, 0)"
   ]
  },
  {
   "cell_type": "code",
   "execution_count": 8,
   "id": "4da38231",
   "metadata": {},
   "outputs": [],
   "source": [
    "# Top-Down Solution (Memoization) - Improved Memoization\n",
    "\n",
    "def longestCommonSubsequence(text1: str, text2: str) -> int:\n",
    "    \n",
    "    @lru_cache(maxsize=None)\n",
    "    def dp(i: int, j: int) -> int:\n",
    "        \n",
    "        if i == len(text1) or j == len(text2):\n",
    "            return 0\n",
    "        \n",
    "        if text1[i] == text2[j]:\n",
    "            return 1 + dp(i + 1, j + 1)\n",
    "        else:\n",
    "            return max(dp(i, j + 1), dp(i + 1, j))\n",
    "    \n",
    "    return dp(0, 0)"
   ]
  },
  {
   "cell_type": "code",
   "execution_count": 9,
   "id": "ddba2baf",
   "metadata": {},
   "outputs": [],
   "source": [
    "# Bottom-Up Solution (Tabulation) - Improved Memoization\n",
    "\n",
    "def longestCommonSubsequence(text1: str, text2: str) -> int:\n",
    "    \n",
    "    dp = [[0] * (len(text2) + 1) for _ in range(len(text1) + 1)]\n",
    "    \n",
    "    for col in reversed(range(len(text2))):\n",
    "        for row in reversed(range(len(text1))):\n",
    "            if text1[row] == text2[col]:\n",
    "                dp[row][col] = 1 + dp[row + 1][col + 1]\n",
    "            else:\n",
    "                dp[row][col] = max(dp[row][col + 1], dp[row + 1][col])\n",
    "    \n",
    "    return dp[0][0]"
   ]
  },
  {
   "cell_type": "code",
   "execution_count": 10,
   "id": "2e4cafee",
   "metadata": {},
   "outputs": [
    {
     "data": {
      "text/plain": [
       "3"
      ]
     },
     "execution_count": 10,
     "metadata": {},
     "output_type": "execute_result"
    }
   ],
   "source": [
    "text1 = \"abcde\"\n",
    "text2 = \"ace\"\n",
    "longestCommonSubsequence(text1, text2)"
   ]
  },
  {
   "cell_type": "code",
   "execution_count": 11,
   "id": "044ab73d",
   "metadata": {},
   "outputs": [
    {
     "data": {
      "text/plain": [
       "3"
      ]
     },
     "execution_count": 11,
     "metadata": {},
     "output_type": "execute_result"
    }
   ],
   "source": [
    "text1 = \"abc\"\n",
    "text2 = \"abc\"\n",
    "longestCommonSubsequence(text1, text2)"
   ]
  },
  {
   "cell_type": "code",
   "execution_count": 12,
   "id": "7b395108",
   "metadata": {},
   "outputs": [
    {
     "data": {
      "text/plain": [
       "0"
      ]
     },
     "execution_count": 12,
     "metadata": {},
     "output_type": "execute_result"
    }
   ],
   "source": [
    "text1 = \"abc\"\n",
    "text2 = \"def\"\n",
    "longestCommonSubsequence(text1, text2)"
   ]
  },
  {
   "cell_type": "markdown",
   "id": "5c0dda7b",
   "metadata": {},
   "source": [
    "## 3) Unique Paths\n",
    "\n",
    "There is a robot on an m x n grid. The robot is initially located at the top-left corner (i.e., grid[0][0]). The robot tries to move to the bottom-right corner (i.e., grid[m - 1][n - 1]). The robot can only move either down or right at any point in time.\n",
    "\n",
    "Given the two integers m and n, return the number of possible unique paths that the robot can take to reach the bottom-right corner.\n",
    "\n",
    "The test cases are generated so that the answer will be less than or equal to 2 * 10^9.\n",
    "\n",
    "<b>Example</b>\n",
    "\n",
    "Input: m = 3, n = 7 <br />\n",
    "Output: 28\n",
    "\n",
    "<b>Example</b>\n",
    "\n",
    "Input: m = 3, n = 2 <br />\n",
    "Output: 3\n",
    "\n",
    "Explanation: From the top-left corner, there are a total of 3 ways to reach the bottom-right corner:\n",
    "1. Right -> Down -> Down\n",
    "2. Down -> Down -> Right\n",
    "3. Down -> Right -> Down"
   ]
  },
  {
   "cell_type": "code",
   "execution_count": 13,
   "id": "394af333",
   "metadata": {},
   "outputs": [],
   "source": [
    "# Top-Down Solution (Memoization)\n",
    "\n",
    "def uniquePaths(m: int, n: int) -> int:\n",
    "    \n",
    "    def dp(i: int, j: int) -> int:\n",
    "        \n",
    "        if i == 0 or j == 0:\n",
    "            return 1\n",
    "        \n",
    "        if (i, j) in memo:\n",
    "            return memo[(i, j)]\n",
    "        \n",
    "        memo[(i, j)] = dp(i - 1, j) + dp(i, j - 1)\n",
    "        \n",
    "        return memo[(i, j)]\n",
    "    \n",
    "    memo = {}\n",
    "    return dp(m - 1, n - 1)"
   ]
  },
  {
   "cell_type": "code",
   "execution_count": 14,
   "id": "aad458bc",
   "metadata": {},
   "outputs": [],
   "source": [
    "# Bottom-Up Solution (Tabulation)\n",
    "\n",
    "def uniquePaths(m: int, n: int) -> int:\n",
    "    \n",
    "    dp = [[1] * n for _ in range(m)]\n",
    "    \n",
    "    for col in range(1, m):\n",
    "        for row in range(1, n):\n",
    "            dp[col][row] = dp[col - 1][row] + dp[col][row - 1]\n",
    "    \n",
    "    return dp[m - 1][n - 1]"
   ]
  },
  {
   "cell_type": "code",
   "execution_count": 15,
   "id": "ed594b38",
   "metadata": {},
   "outputs": [
    {
     "data": {
      "text/plain": [
       "28"
      ]
     },
     "execution_count": 15,
     "metadata": {},
     "output_type": "execute_result"
    }
   ],
   "source": [
    "m = 3\n",
    "n = 7\n",
    "uniquePaths(m, n)"
   ]
  },
  {
   "cell_type": "code",
   "execution_count": 16,
   "id": "5daece12",
   "metadata": {},
   "outputs": [
    {
     "data": {
      "text/plain": [
       "3"
      ]
     },
     "execution_count": 16,
     "metadata": {},
     "output_type": "execute_result"
    }
   ],
   "source": [
    "m = 3\n",
    "n = 2\n",
    "uniquePaths(m, n)"
   ]
  },
  {
   "cell_type": "markdown",
   "id": "4a10859a",
   "metadata": {},
   "source": [
    "## 4) Maximal Square\n",
    "\n",
    "Given an m x n binary matrix filled with 0's and 1's, find the largest square containing only 1's and return its area.\n",
    "\n",
    "<b>Example</b>\n",
    "\n",
    "Input: matrix = [[\"1\", \"0\", \"1\", \"0\", \"0\"], [\"1\", \"0\", \"1\", \"1\", \"1\"], [\"1\", \"1\", \"1\", \"1\", \"1\"], [\"1\", \"0\", \"0\", \"1\", \"0\"]] <br />\n",
    "Output: 4\n",
    "\n",
    "<b>Example</b>\n",
    "\n",
    "Input: matrix = [[\"0\", \"1\"], [\"1\", \"0\"]] <br />\n",
    "Output: 1\n",
    "\n",
    "<b>Example</b>\n",
    "\n",
    "Input: matrix = [[\"0\"]] <br />\n",
    "Output: 0"
   ]
  },
  {
   "cell_type": "code",
   "execution_count": 17,
   "id": "bd9b6c4b",
   "metadata": {},
   "outputs": [],
   "source": [
    "from typing import List"
   ]
  },
  {
   "cell_type": "code",
   "execution_count": 18,
   "id": "ddd2360d",
   "metadata": {},
   "outputs": [],
   "source": [
    "# Bottom-Up Solution (Tabulation)\n",
    "\n",
    "def maximalSquare(matrix: List[List[str]]) -> int:\n",
    "    \n",
    "    if len(matrix) == 0:\n",
    "        return 0\n",
    "    \n",
    "    rows = len(matrix)\n",
    "    cols = len(matrix[0])\n",
    "        \n",
    "    dp = [[0] * (cols + 1) for _ in range(rows + 1)]\n",
    "    maxsqlen = 0\n",
    "        \n",
    "    for i in range(1, rows + 1):\n",
    "        for j in range(1, cols + 1):\n",
    "            if matrix[i - 1][j - 1] == '1':\n",
    "                dp[i][j] = min(dp[i][j - 1], dp[i - 1][j], dp[i - 1][j - 1]) + 1\n",
    "                maxsqlen = max(maxsqlen, dp[i][j])\n",
    "    \n",
    "    return maxsqlen ** 2"
   ]
  },
  {
   "cell_type": "code",
   "execution_count": 19,
   "id": "c4a89aa6",
   "metadata": {},
   "outputs": [
    {
     "data": {
      "text/plain": [
       "4"
      ]
     },
     "execution_count": 19,
     "metadata": {},
     "output_type": "execute_result"
    }
   ],
   "source": [
    "matrix = [[\"1\", \"0\", \"1\", \"0\", \"0\"], [\"1\", \"0\", \"1\", \"1\", \"1\"], [\"1\", \"1\", \"1\", \"1\", \"1\"], [\"1\", \"0\", \"0\", \"1\", \"0\"]]\n",
    "maximalSquare(matrix)"
   ]
  },
  {
   "cell_type": "code",
   "execution_count": 20,
   "id": "59ff5f7e",
   "metadata": {},
   "outputs": [
    {
     "data": {
      "text/plain": [
       "1"
      ]
     },
     "execution_count": 20,
     "metadata": {},
     "output_type": "execute_result"
    }
   ],
   "source": [
    "matrix = [[\"0\", \"1\"], [\"1\", \"0\"]]\n",
    "maximalSquare(matrix)"
   ]
  },
  {
   "cell_type": "code",
   "execution_count": 21,
   "id": "258fc898",
   "metadata": {},
   "outputs": [
    {
     "data": {
      "text/plain": [
       "0"
      ]
     },
     "execution_count": 21,
     "metadata": {},
     "output_type": "execute_result"
    }
   ],
   "source": [
    "matrix = [[\"0\"]]\n",
    "maximalSquare(matrix)"
   ]
  },
  {
   "cell_type": "markdown",
   "id": "925c77d7",
   "metadata": {},
   "source": [
    "## 5) Minimum Difficulty of a Job Schedule\n",
    "\n",
    "You want to schedule a list of jobs in d days. Jobs are dependent (i.e To work on the ith job, you have to finish all the jobs j where 0 <= j < i).\n",
    "\n",
    "You have to finish at least one task every day. The difficulty of a job schedule is the sum of difficulties of each day of the d days. The difficulty of a day is the maximum difficulty of a job done on that day.\n",
    "\n",
    "You are given an integer array jobDifficulty and an integer d. The difficulty of the ith job is jobDifficulty[i].\n",
    "\n",
    "Return the minimum difficulty of a job schedule. If you cannot find a schedule for the jobs return -1.\n",
    "\n",
    "<b>Example</b>\n",
    "\n",
    "Input: jobDifficulty = [6, 5, 4, 3, 2, 1], d = 2 <br />\n",
    "Output: 7\n",
    "\n",
    "Explanation: First day you can finish the first 5 jobs, total difficulty = 6. <br />\n",
    "Second day you can finish the last job, total difficulty = 1. <br />\n",
    "The difficulty of the schedule = 6 + 1 = 7\n",
    "\n",
    "<b>Example</b>\n",
    "\n",
    "Input: jobDifficulty = [9,9,9], d = 4 <br />\n",
    "Output: -1\n",
    "\n",
    "Explanation: If you finish a job per day you will still have a free day. you cannot find a schedule for the given jobs.\n",
    "\n",
    "<b>Example</b>\n",
    "\n",
    "Input: jobDifficulty = [1,1,1], d = 3 <br />\n",
    "Output: 3\n",
    "\n",
    "Explanation: The schedule is one job per day. total difficulty will be 3."
   ]
  },
  {
   "cell_type": "code",
   "execution_count": 22,
   "id": "6e5c90db",
   "metadata": {},
   "outputs": [],
   "source": [
    "from functools import lru_cache"
   ]
  },
  {
   "cell_type": "code",
   "execution_count": 23,
   "id": "8170aa99",
   "metadata": {},
   "outputs": [],
   "source": [
    "# Top-Down Solution (Memoization)\n",
    "\n",
    "def minDifficulty(jobDifficulty: List[int], d: int) -> int:\n",
    "    \n",
    "    n = len(jobDifficulty)\n",
    "    \n",
    "    if n < d:\n",
    "        return -1\n",
    "    \n",
    "    hardest_job_remaining = [0] * n\n",
    "    hardest_job = 0\n",
    "    \n",
    "    for i in range(n - 1, -1, -1):\n",
    "        hardest_job = max(hardest_job, jobDifficulty[i])\n",
    "        hardest_job_remaining[i] = hardest_job\n",
    "    \n",
    "    @lru_cache(None)\n",
    "    def dp(i: int, day: int) -> int:\n",
    "        \n",
    "        if day == d:\n",
    "            return hardest_job_remaining[i]\n",
    "        \n",
    "        best = float(\"inf\")\n",
    "        hardest = 0\n",
    "        \n",
    "        for j in range(i, n - (d - day)):\n",
    "            hardest = max(hardest, jobDifficulty[j])\n",
    "            best = min(best, hardest + dp(j + 1, day + 1))\n",
    "\n",
    "        return best\n",
    "    \n",
    "    return dp(0, 1)"
   ]
  },
  {
   "cell_type": "code",
   "execution_count": 24,
   "id": "26e6add3",
   "metadata": {},
   "outputs": [],
   "source": [
    "# Bottom-Up Solution (Tabulation)\n",
    "\n",
    "def minDifficulty(jobDifficulty: List[int], d: int) -> int:\n",
    "\n",
    "    n = len(jobDifficulty)\n",
    "    \n",
    "    if n < d:\n",
    "        return -1\n",
    "        \n",
    "    dp = [[float(\"inf\")] * (d + 1) for _ in range(n)]\n",
    "        \n",
    "    dp[-1][d] = jobDifficulty[-1]\n",
    "\n",
    "    for i in range(n - 2, -1, -1):\n",
    "        dp[i][d] = max(dp[i + 1][d], jobDifficulty[i])\n",
    "\n",
    "    for day in range(d - 1, 0, -1):\n",
    "        for i in range(day - 1, n - (d - day)):\n",
    "            hardest = 0\n",
    "            for j in range(i, n - (d - day)):\n",
    "                hardest = max(hardest, jobDifficulty[j])\n",
    "                dp[i][day] = min(dp[i][day], hardest + dp[j + 1][day + 1])\n",
    "\n",
    "    return dp[0][1]"
   ]
  },
  {
   "cell_type": "code",
   "execution_count": 25,
   "id": "2ebf3cee",
   "metadata": {},
   "outputs": [
    {
     "data": {
      "text/plain": [
       "7"
      ]
     },
     "execution_count": 25,
     "metadata": {},
     "output_type": "execute_result"
    }
   ],
   "source": [
    "jobDifficulty = [6, 5, 4, 3, 2, 1]\n",
    "d = 2\n",
    "minDifficulty(jobDifficulty, d)"
   ]
  },
  {
   "cell_type": "code",
   "execution_count": 26,
   "id": "f33569f6",
   "metadata": {},
   "outputs": [
    {
     "data": {
      "text/plain": [
       "-1"
      ]
     },
     "execution_count": 26,
     "metadata": {},
     "output_type": "execute_result"
    }
   ],
   "source": [
    "jobDifficulty = [9,9,9]\n",
    "d = 4\n",
    "minDifficulty(jobDifficulty, d)"
   ]
  },
  {
   "cell_type": "code",
   "execution_count": 27,
   "id": "51d218dc",
   "metadata": {},
   "outputs": [
    {
     "data": {
      "text/plain": [
       "3"
      ]
     },
     "execution_count": 27,
     "metadata": {},
     "output_type": "execute_result"
    }
   ],
   "source": [
    "jobDifficulty = [1,1,1]\n",
    "d = 3\n",
    "minDifficulty(jobDifficulty, d)"
   ]
  },
  {
   "cell_type": "markdown",
   "id": "3913775b",
   "metadata": {},
   "source": [
    "## 6) Best Time to Buy and Sell Stock with Transaction Fee\n",
    "\n",
    "You are given an array prices where prices[i] is the price of a given stock on the ith day, and an integer fee representing a transaction fee.\n",
    "\n",
    "Find the maximum profit you can achieve. You may complete as many transactions as you like, but you need to pay the transaction fee for each transaction.\n",
    "\n",
    "Note:\n",
    "\n",
    "* You may not engage in multiple transactions simultaneously (i.e., you must sell the stock before you buy again).\n",
    "* The transaction fee is only charged once for each stock purchase and sale.\n",
    "\n",
    "<b>Example</b>\n",
    "\n",
    "Input: prices = [1, 3, 2, 8, 4, 9], fee = 2 <br />\n",
    "Output: 8\n",
    "\n",
    "Explanation: The maximum profit can be achieved by: <br />\n",
    "- Buying at prices[0] = 1\n",
    "- Selling at prices[3] = 8\n",
    "- Buying at prices[4] = 4\n",
    "- Selling at prices[5] = 9\n",
    "\n",
    "The total profit is ((8 - 1) - 2) + ((9 - 4) - 2) = 8.\n",
    "\n",
    "<b>Example</b>\n",
    "\n",
    "Input: prices = [1, 3, 7, 5, 10, 3], fee = 3 <br />\n",
    "Output: 6"
   ]
  },
  {
   "cell_type": "code",
   "execution_count": 28,
   "id": "5ffe1eec",
   "metadata": {},
   "outputs": [],
   "source": [
    "from typing import List"
   ]
  },
  {
   "cell_type": "code",
   "execution_count": 29,
   "id": "a0a5b168",
   "metadata": {},
   "outputs": [],
   "source": [
    "# Bottom-Up Solution\n",
    "\n",
    "def maxProfit(prices: List[int], fee: int) -> int:\n",
    "    \n",
    "    n = len(prices)\n",
    "    hold = [0] * n\n",
    "    free = [0] * n\n",
    "    \n",
    "    hold[0] = -prices[0]\n",
    "    \n",
    "    for i in range(1, n):\n",
    "        hold[i] = max(hold[i - 1], free[i - 1] - prices[i])\n",
    "        free[i] = max(free[i - 1], hold[i - 1] + prices[i] - fee)\n",
    "    \n",
    "    return free[-1]"
   ]
  },
  {
   "cell_type": "code",
   "execution_count": 30,
   "id": "65c9c219",
   "metadata": {},
   "outputs": [],
   "source": [
    "# Bottom-Up Solution (Space-Optimized)\n",
    "\n",
    "def maxProfit(prices: List[int], fee: int) -> int:\n",
    "    \n",
    "    n = len(prices)\n",
    "    hold = -prices[0]\n",
    "    free = 0\n",
    "    \n",
    "    for i in range(1, n):\n",
    "        tmp = hold\n",
    "        hold = max(hold, free - prices[i])\n",
    "        free = max(free, tmp + prices[i] - fee)\n",
    "    \n",
    "    return free"
   ]
  },
  {
   "cell_type": "code",
   "execution_count": 31,
   "id": "eef03bef",
   "metadata": {},
   "outputs": [
    {
     "data": {
      "text/plain": [
       "8"
      ]
     },
     "execution_count": 31,
     "metadata": {},
     "output_type": "execute_result"
    }
   ],
   "source": [
    "prices = [1, 3, 2, 8, 4, 9]\n",
    "fee = 2\n",
    "maxProfit(prices, fee)"
   ]
  },
  {
   "cell_type": "code",
   "execution_count": 32,
   "id": "4deccf7a",
   "metadata": {},
   "outputs": [
    {
     "data": {
      "text/plain": [
       "6"
      ]
     },
     "execution_count": 32,
     "metadata": {},
     "output_type": "execute_result"
    }
   ],
   "source": [
    "prices = [1, 3, 7, 5, 10, 3]\n",
    "fee = 3\n",
    "maxProfit(prices, fee)"
   ]
  },
  {
   "cell_type": "markdown",
   "id": "1e01c02e",
   "metadata": {},
   "source": [
    "## 7) Edit Distance\n",
    "\n",
    "Given two strings word1 and word2, return the minimum number of operations required to convert word1 to word2.\n",
    "\n",
    "You have the following three operations permitted on a word:\n",
    "\n",
    "* Insert a character\n",
    "* Delete a character\n",
    "* Replace a character\n",
    "\n",
    "<b>Example</b>\n",
    "\n",
    "Input: word1 = \"horse\", word2 = \"ros\" <br />\n",
    "Output: 3\n",
    "\n",
    "Explanation: <br />\n",
    "horse -> rorse (replace 'h' with 'r') <br />\n",
    "rorse -> rose (remove 'r') <br />\n",
    "rose -> ros (remove 'e')\n",
    "\n",
    "<b>Example</b>\n",
    "\n",
    "Input: word1 = \"intention\", word2 = \"execution\" <br />\n",
    "Output: 5\n",
    "\n",
    "Explanation: <br />\n",
    "intention -> inention (remove 't') <br />\n",
    "inention -> enention (replace 'i' with 'e') <br />\n",
    "enention -> exention (replace 'n' with 'x') <br />\n",
    "exention -> exection (replace 'n' with 'c') <br />\n",
    "exection -> execution (insert 'u')"
   ]
  },
  {
   "cell_type": "code",
   "execution_count": 33,
   "id": "d642bf3f",
   "metadata": {},
   "outputs": [],
   "source": [
    "# Top-Down Solution (Memoization)\n",
    "\n",
    "def minDistance(word1: str, word2: str) -> int:\n",
    "    \n",
    "    def dp(word1: str, word2: str, word1Index: int, word2Index: int) -> int:\n",
    "        \n",
    "        if word1Index == 0:\n",
    "            return word2Index\n",
    "        \n",
    "        if word2Index == 0:\n",
    "            return word1Index\n",
    "        \n",
    "        if memo[word1Index][word2Index] is not None:\n",
    "            return memo[word1Index][word2Index]\n",
    "        \n",
    "        minEditDistance = 0\n",
    "        \n",
    "        if word1[word1Index - 1] == word2[word2Index - 1]:\n",
    "            minEditDistance = dp(word1, word2, word1Index - 1, word2Index - 1)\n",
    "        else:\n",
    "            insertOperation = dp(word1, word2, word1Index, word2Index - 1)\n",
    "            deleteOperation = dp(word1, word2, word1Index - 1, word2Index)\n",
    "            replaceOperation = dp(word1, word2, word1Index - 1, word2Index - 1)\n",
    "            \n",
    "            minEditDistance = (min(insertOperation, deleteOperation, replaceOperation) + 1)\n",
    "            \n",
    "        memo[word1Index][word2Index] = minEditDistance\n",
    "        \n",
    "        return minEditDistance\n",
    "    \n",
    "    memo = [[None for _ in range(len(word2) + 1)] for _ in range(len(word1) + 1)]\n",
    "    \n",
    "    return dp(word1, word2, len(word1), len(word2))"
   ]
  },
  {
   "cell_type": "code",
   "execution_count": 34,
   "id": "febc884b",
   "metadata": {},
   "outputs": [
    {
     "data": {
      "text/plain": [
       "3"
      ]
     },
     "execution_count": 34,
     "metadata": {},
     "output_type": "execute_result"
    }
   ],
   "source": [
    "word1 = \"horse\"\n",
    "word2 = \"ros\"\n",
    "minDistance(word1, word2)"
   ]
  },
  {
   "cell_type": "code",
   "execution_count": 35,
   "id": "fd8bd2bb",
   "metadata": {},
   "outputs": [
    {
     "data": {
      "text/plain": [
       "5"
      ]
     },
     "execution_count": 35,
     "metadata": {},
     "output_type": "execute_result"
    }
   ],
   "source": [
    "word1 = \"intention\"\n",
    "word2 = \"execution\"\n",
    "minDistance(word1, word2)"
   ]
  },
  {
   "cell_type": "code",
   "execution_count": null,
   "id": "2c931241",
   "metadata": {},
   "outputs": [],
   "source": []
  }
 ],
 "metadata": {
  "kernelspec": {
   "display_name": "Python 3 (ipykernel)",
   "language": "python",
   "name": "python3"
  },
  "language_info": {
   "codemirror_mode": {
    "name": "ipython",
    "version": 3
   },
   "file_extension": ".py",
   "mimetype": "text/x-python",
   "name": "python",
   "nbconvert_exporter": "python",
   "pygments_lexer": "ipython3",
   "version": "3.8.16"
  }
 },
 "nbformat": 4,
 "nbformat_minor": 5
}
