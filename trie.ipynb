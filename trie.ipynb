{
 "cells": [
  {
   "cell_type": "markdown",
   "id": "ad3e32a7",
   "metadata": {},
   "source": [
    "# Trie"
   ]
  },
  {
   "cell_type": "markdown",
   "id": "6721efbe",
   "metadata": {},
   "source": [
    "## 1) Implement Trie (Prefix Tree)\n",
    "\n",
    "A trie (pronounced as \"try\") or prefix tree is a tree data structure used to efficiently store and retrieve keys in a dataset of strings. There are various applications of this data structure, such as autocomplete and spellchecker.\n",
    "\n",
    "Implement the Trie class:\n",
    "\n",
    "* Trie() Initializes the trie object.\n",
    "* void insert(String word) Inserts the string word into the trie.\n",
    "* boolean search(String word) Returns true if the string word is in the trie (i.e., was inserted before), and false otherwise.\n",
    "* boolean startsWith(String prefix) Returns true if there is a previously inserted string word that has the prefix prefix, and false otherwise.\n",
    "\n",
    "<b>Example</b>\n",
    "\n",
    "Input: <br />\n",
    "[\"Trie\", \"insert\", \"search\", \"search\", \"startsWith\", \"insert\", \"search\"] <br />\n",
    "[[], [\"apple\"], [\"apple\"], [\"app\"], [\"app\"], [\"app\"], [\"app\"]] <br />\n",
    "\n",
    "Output: <br />\n",
    "[null, null, true, false, true, null, true]\n",
    "\n",
    "Explanation:\n",
    "\n",
    "Trie trie = new Trie(); <br />\n",
    "trie.insert(\"apple\"); <br />\n",
    "trie.search(\"apple\");   // return True <br />\n",
    "trie.search(\"app\");     // return False <br />\n",
    "trie.startsWith(\"app\"); // return True <br />\n",
    "trie.insert(\"app\"); <br />\n",
    "trie.search(\"app\");     // return True"
   ]
  },
  {
   "cell_type": "code",
   "execution_count": 1,
   "id": "753527b7",
   "metadata": {},
   "outputs": [],
   "source": [
    "class TrieNode:\n",
    "    def __init__(self):\n",
    "        self.children = {}\n",
    "        self.end_of_word = False"
   ]
  },
  {
   "cell_type": "code",
   "execution_count": 2,
   "id": "2e35db17",
   "metadata": {},
   "outputs": [],
   "source": [
    "class Trie:\n",
    "\n",
    "    def __init__(self):\n",
    "        self.root = TrieNode()\n",
    "    \n",
    "    def insert(self, word: str) -> None:\n",
    "        cur = self.root\n",
    "        \n",
    "        for c in word:\n",
    "            if c not in cur.children:\n",
    "                cur.children[c] = TrieNode()\n",
    "            cur = cur.children[c]\n",
    "        cur.end_of_word = True\n",
    "\n",
    "    def search(self, word: str) -> bool:\n",
    "        cur = self.root\n",
    "        \n",
    "        for c in word:\n",
    "            if c not in cur.children:\n",
    "                return False\n",
    "            cur = cur.children[c]\n",
    "        return cur.end_of_word\n",
    "\n",
    "    def startsWith(self, prefix: str) -> bool:\n",
    "        cur = self.root\n",
    "        \n",
    "        for p in prefix:\n",
    "            if p not in cur.children:\n",
    "                return False\n",
    "            cur = cur.children[p]\n",
    "        return True"
   ]
  },
  {
   "cell_type": "code",
   "execution_count": 3,
   "id": "5aed18c2",
   "metadata": {},
   "outputs": [
    {
     "name": "stdout",
     "output_type": "stream",
     "text": [
      "True\n",
      "True\n",
      "False\n"
     ]
    }
   ],
   "source": [
    "obj = Trie()\n",
    "obj.insert('apple')\n",
    "param_2 = obj.search('apple')\n",
    "param_3 = obj.startsWith('app')\n",
    "param_4 = obj.startsWith('A')\n",
    "print(param_2)\n",
    "print(param_3)\n",
    "print(param_4)"
   ]
  },
  {
   "cell_type": "markdown",
   "id": "91480efc",
   "metadata": {},
   "source": [
    "## 2) Search Suggestions System\n",
    "\n",
    "You are given an array of strings products and a string searchWord.\n",
    "\n",
    "Design a system that suggests at most three product names from products after each character of searchWord is typed. Suggested products should have common prefix with searchWord. If there are more than three products with a common prefix return the three lexicographically minimums products.\n",
    "\n",
    "Return a list of lists of the suggested products after each character of searchWord is typed.\n",
    "\n",
    "<b>Example</b>\n",
    "\n",
    "Input: <br />\n",
    "products = [\"mobile\", \"mouse\", \"moneypot\", \"monitor\", \"mousepad\"], searchWord = \"mouse\" <br />\n",
    "Output: <br />\n",
    "[[\"mobile\", \"moneypot\", \"monitor\"], [\"mobile\", \"moneypot\", \"monitor\"], [\"mouse\", \"mousepad\"], [\"mouse\", \"mousepad\"], [\"mouse\", \"mousepad\"]]\n",
    "\n",
    "Explanation: <br />\n",
    "products sorted lexicographically = [\"mobile\", \"moneypot\", \"monitor\", \"mouse\", \"mousepad\"]. <br />\n",
    "After typing m and mo all products match and we show user [\"mobile\", \"moneypot\", \"monitor\"]. <br />\n",
    "After typing mou, mous and mouse the system suggests [\"mouse\", \"mousepad\"].\n",
    "\n",
    "<b>Example</b>\n",
    "\n",
    "Input: <br />\n",
    "products = [\"havana\"], searchWord = \"havana\" <br />\n",
    "Output: <br />\n",
    "[[\"havana\"], [\"havana\"], [\"havana\"], [\"havana\"], [\"havana\"], [\"havana\"]]\n",
    "\n",
    "Explanation: <br />\n",
    "The only word \"havana\" will be always suggested while typing the search word."
   ]
  },
  {
   "cell_type": "code",
   "execution_count": 4,
   "id": "1af24489",
   "metadata": {},
   "outputs": [],
   "source": [
    "from typing import List"
   ]
  },
  {
   "cell_type": "code",
   "execution_count": 5,
   "id": "ff29fb15",
   "metadata": {},
   "outputs": [],
   "source": [
    "class TrieNode:\n",
    "    def __init__(self):\n",
    "        self.children = {}\n",
    "        self.words = []\n",
    "        self.n = 0"
   ]
  },
  {
   "cell_type": "code",
   "execution_count": 6,
   "id": "d098781c",
   "metadata": {},
   "outputs": [],
   "source": [
    "class Trie:\n",
    "\n",
    "    def __init__(self):\n",
    "        self.root = TrieNode()\n",
    "    \n",
    "    def insert(self, word: str) -> None:\n",
    "        cur = self.root\n",
    "        \n",
    "        for c in word:\n",
    "            if c not in cur.children:\n",
    "                cur.children[c] = TrieNode()\n",
    "            cur = cur.children[c]\n",
    "            if cur.n < 3:\n",
    "                cur.words.append(word)\n",
    "                cur.n += 1\n",
    "    \n",
    "    def find_word_by_prefix(self, prefix: str) -> List[str]:\n",
    "        cur = self.root\n",
    "        \n",
    "        for p in prefix:\n",
    "            if p not in cur.children: \n",
    "                return ''\n",
    "            cur = cur.children[p]\n",
    "        \n",
    "        return cur.words"
   ]
  },
  {
   "cell_type": "code",
   "execution_count": 7,
   "id": "732c4ed3",
   "metadata": {},
   "outputs": [],
   "source": [
    "def suggestedProducts(products: List[str], searchWord: str) -> List[List[str]]:\n",
    "    \n",
    "    products.sort()\n",
    "    \n",
    "    trie = Trie()\n",
    "    result = []\n",
    "    \n",
    "    for product in products:\n",
    "        trie.insert(product)\n",
    "    \n",
    "    prefix = ''\n",
    "    for c in searchWord:\n",
    "        prefix += c\n",
    "        result.append(trie.find_word_by_prefix(prefix))\n",
    "    \n",
    "    return result"
   ]
  },
  {
   "cell_type": "code",
   "execution_count": 8,
   "id": "104ebb51",
   "metadata": {},
   "outputs": [
    {
     "data": {
      "text/plain": [
       "[['mobile', 'moneypot', 'monitor'],\n",
       " ['mobile', 'moneypot', 'monitor'],\n",
       " ['mouse', 'mousepad'],\n",
       " ['mouse', 'mousepad'],\n",
       " ['mouse', 'mousepad']]"
      ]
     },
     "execution_count": 8,
     "metadata": {},
     "output_type": "execute_result"
    }
   ],
   "source": [
    "products = [\"mobile\", \"mouse\", \"moneypot\", \"monitor\", \"mousepad\"]\n",
    "searchWord = \"mouse\"\n",
    "suggestedProducts(products, searchWord)"
   ]
  },
  {
   "cell_type": "code",
   "execution_count": 9,
   "id": "0bd3cb2e",
   "metadata": {},
   "outputs": [
    {
     "data": {
      "text/plain": [
       "[['havana'], ['havana'], ['havana'], ['havana'], ['havana'], ['havana']]"
      ]
     },
     "execution_count": 9,
     "metadata": {},
     "output_type": "execute_result"
    }
   ],
   "source": [
    "products = [\"havana\"]\n",
    "searchWord = \"havana\" \n",
    "suggestedProducts(products, searchWord)"
   ]
  },
  {
   "cell_type": "code",
   "execution_count": null,
   "id": "2322b47a",
   "metadata": {},
   "outputs": [],
   "source": []
  }
 ],
 "metadata": {
  "kernelspec": {
   "display_name": "Python 3 (ipykernel)",
   "language": "python",
   "name": "python3"
  },
  "language_info": {
   "codemirror_mode": {
    "name": "ipython",
    "version": 3
   },
   "file_extension": ".py",
   "mimetype": "text/x-python",
   "name": "python",
   "nbconvert_exporter": "python",
   "pygments_lexer": "ipython3",
   "version": "3.8.16"
  }
 },
 "nbformat": 4,
 "nbformat_minor": 5
}
