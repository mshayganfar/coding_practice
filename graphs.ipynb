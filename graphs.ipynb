{
 "cells": [
  {
   "cell_type": "markdown",
   "id": "d73c8f71",
   "metadata": {},
   "source": [
    "# Graphs"
   ]
  },
  {
   "cell_type": "code",
   "execution_count": 1,
   "id": "35a50543",
   "metadata": {},
   "outputs": [],
   "source": [
    "class Node:\n",
    "    def __init__(self, value, neighbors=None):\n",
    "        self.value = value\n",
    "        if neighbors is None:\n",
    "            self.neighbors = []\n",
    "        else:\n",
    "            self.neighbors = neighbors\n",
    "    \n",
    "    def has_neighbors(self):\n",
    "        return len(self.neighbors) != 0\n",
    "    \n",
    "    def number_of_neighbors(self):\n",
    "        return len(self.neighbors)\n",
    "    \n",
    "    def add_neighbors(self, neighbor):\n",
    "        self.neighbors.append(neighbor)"
   ]
  },
  {
   "cell_type": "code",
   "execution_count": 6,
   "id": "c2bf72e1",
   "metadata": {},
   "outputs": [],
   "source": [
    "class Graph:\n",
    "    def __init__(self, nodes=None):\n",
    "        if nodes is None:\n",
    "            self.nodes = []\n",
    "        else:\n",
    "            self.nodes = nodes\n",
    "            \n",
    "    def add_node(self, node):\n",
    "        self.nodes.append(node)\n",
    "        \n",
    "    def find_node(self, value):\n",
    "        for node in self.nodes:\n",
    "            if node.value == value:\n",
    "                return node\n",
    "        return None\n",
    "    \n",
    "    def add_edge(self, value1, value2):\n",
    "        node1 = find_node(value1)\n",
    "        node2 = find_node(value2)\n",
    "        \n",
    "        if node1 is not None or node2 is not None:\n",
    "            node1.add_neighbors(value2)\n",
    "            node2.add_neighbors(value1)\n",
    "        else:\n",
    "            print('Error: one or both nodes were not found')\n",
    "            \n",
    "    def numer_of_nodes(self):\n",
    "        return len(self.nodes)\n",
    "    \n",
    "    def are_connected(self, value1, value2):\n",
    "        node1 = find_node(value1)\n",
    "        node2 = find_node(value2)\n",
    "        \n",
    "        if node1 is not None and node2 is not None:\n",
    "            return node1.value in node2.neighbors\n",
    "        else:\n",
    "            print('Error: one or both nodes were not found')\n",
    "        \n",
    "        return False"
   ]
  },
  {
   "cell_type": "markdown",
   "id": "82f3d345",
   "metadata": {},
   "source": [
    "## Adjucency List Implementation"
   ]
  },
  {
   "cell_type": "code",
   "execution_count": 24,
   "id": "5930a398",
   "metadata": {},
   "outputs": [],
   "source": [
    "class Graph:\n",
    "    def __init__(self, edges):\n",
    "        self.edges = edges\n",
    "        self.graph_dict = {}\n",
    "        \n",
    "        for start, end in self.edges:\n",
    "            if start in self.graph_dict:\n",
    "                self.graph_dict[start].append(end)\n",
    "            else:\n",
    "                self.graph_dict[start] = [end]\n",
    "        print('Graph: ', self.graph_dict)\n",
    "    \n",
    "    def get_path(self, start, end, path=[]):\n",
    "        \n",
    "        path += [start]\n",
    "        \n",
    "        if start == end:\n",
    "            return [path]\n",
    "        \n",
    "        if start not in self.graph_dict:\n",
    "            return []\n",
    "        \n",
    "        paths = []\n",
    "        for node in self.graph_dict[start]:\n",
    "            if node not in path:\n",
    "                new_paths = self.get_path(node, end, path)\n",
    "                for p in new_paths:\n",
    "                    paths.append(p)\n",
    "                    \n",
    "        return paths\n",
    "    \n",
    "    def get_shortest_path(self, start, end, path=[]):\n",
    "        path += [start]\n",
    "        \n",
    "        if start == end:\n",
    "            return [path]\n",
    "        \n",
    "        if start not in self.graph_dict:\n",
    "            return []\n",
    "        \n",
    "        shortest_path = None\n",
    "        for node in self.graph_dict[start]:\n",
    "            if node not in path:\n",
    "                sp = self.get_path(node, end, path)\n",
    "                if sp:\n",
    "                    if shortest_path is None or len(sp) < len(shortest_path):\n",
    "                        shortest_path = sp\n",
    "\n",
    "        return shortest_path"
   ]
  },
  {
   "cell_type": "code",
   "execution_count": 25,
   "id": "c968d9f4",
   "metadata": {},
   "outputs": [],
   "source": [
    "routes = [('Mumbai', 'Paris'), \n",
    "          ('Mumbai', 'Dubai'), \n",
    "          ('Paris', 'Dubai'), \n",
    "          ('Paris', 'New York'), \n",
    "          ('Dubai', 'New York'), \n",
    "          ('New York', 'Toronto')]"
   ]
  },
  {
   "cell_type": "code",
   "execution_count": 26,
   "id": "2335b641",
   "metadata": {},
   "outputs": [
    {
     "name": "stdout",
     "output_type": "stream",
     "text": [
      "Graph:  {'Mumbai': ['Paris', 'Dubai'], 'Paris': ['Dubai', 'New York'], 'Dubai': ['New York'], 'New York': ['Toronto']}\n"
     ]
    }
   ],
   "source": [
    "graph = Graph(routes)"
   ]
  },
  {
   "cell_type": "code",
   "execution_count": 27,
   "id": "b65a0576",
   "metadata": {},
   "outputs": [
    {
     "name": "stdout",
     "output_type": "stream",
     "text": [
      "[['Mumbai', 'Paris', 'Dubai', 'New York']]\n"
     ]
    }
   ],
   "source": [
    "print(graph.get_path('Mumbai', 'New York'))"
   ]
  },
  {
   "cell_type": "code",
   "execution_count": 28,
   "id": "345bb8d1",
   "metadata": {},
   "outputs": [
    {
     "name": "stdout",
     "output_type": "stream",
     "text": [
      "[['Mumbai', 'Paris', 'Dubai', 'New York']]\n"
     ]
    }
   ],
   "source": [
    "print(graph.get_shortest_path('Mumbai', 'New York'))"
   ]
  },
  {
   "cell_type": "code",
   "execution_count": 29,
   "id": "849d7cc1",
   "metadata": {},
   "outputs": [],
   "source": [
    "graph = {'Mumbai': ['Paris', 'Dubai'], \n",
    "         'Paris': ['Dubai', 'New York'], \n",
    "         'Dubai': ['New York'], \n",
    "         'New York': ['Toronto']}"
   ]
  },
  {
   "cell_type": "code",
   "execution_count": 30,
   "id": "9c9f6ba1",
   "metadata": {},
   "outputs": [],
   "source": [
    "def find_path(graph, start, end, path=[]):\n",
    "    path += [start]\n",
    "    \n",
    "    if start == end:\n",
    "        return path\n",
    "    \n",
    "    for node in graph[start]:\n",
    "        if node not in path:\n",
    "            newpath = find_path(graph, node, end, path)\n",
    "            if newpath:\n",
    "                return newpath"
   ]
  },
  {
   "cell_type": "code",
   "execution_count": 31,
   "id": "f3aa1410",
   "metadata": {},
   "outputs": [
    {
     "name": "stdout",
     "output_type": "stream",
     "text": [
      "['Mumbai', 'Paris', 'Dubai', 'New York']\n"
     ]
    }
   ],
   "source": [
    "print(find_path(graph, 'Mumbai', 'New York'))"
   ]
  },
  {
   "cell_type": "code",
   "execution_count": 32,
   "id": "fd9bd54c",
   "metadata": {},
   "outputs": [],
   "source": [
    "def find_all_paths(graph, start, end, path =[]):\n",
    "    path = path + [start]\n",
    "    \n",
    "    if start == end:\n",
    "        return [path]\n",
    "    \n",
    "    paths = []\n",
    "    for node in graph[start]:\n",
    "        if node not in path:\n",
    "            newpaths = find_all_paths(graph, node, end, path)\n",
    "        for newpath in newpaths:\n",
    "            paths.append(newpath)\n",
    "    \n",
    "    return paths"
   ]
  },
  {
   "cell_type": "code",
   "execution_count": 33,
   "id": "ca92ab91",
   "metadata": {},
   "outputs": [
    {
     "name": "stdout",
     "output_type": "stream",
     "text": [
      "[['Mumbai', 'Paris', 'Dubai', 'New York'], ['Mumbai', 'Paris', 'New York'], ['Mumbai', 'Dubai', 'New York']]\n"
     ]
    }
   ],
   "source": [
    "print(find_all_paths(graph, 'Mumbai', 'New York'))"
   ]
  },
  {
   "cell_type": "code",
   "execution_count": 34,
   "id": "3baa6770",
   "metadata": {},
   "outputs": [],
   "source": [
    "def find_shortest_path(graph, start, end, path =[]):\n",
    "    path = path + [start]\n",
    "    \n",
    "    if start == end:\n",
    "        return path\n",
    "    \n",
    "    shortest = None\n",
    "    for node in graph[start]:\n",
    "        if node not in path:\n",
    "            newpath = find_shortest_path(graph, node, end, path)\n",
    "            if newpath:\n",
    "                if not shortest or len(newpath) < len(shortest):\n",
    "                    shortest = newpath\n",
    "    return shortest"
   ]
  },
  {
   "cell_type": "code",
   "execution_count": 35,
   "id": "cfe7bc8c",
   "metadata": {},
   "outputs": [
    {
     "name": "stdout",
     "output_type": "stream",
     "text": [
      "['Mumbai', 'Paris', 'New York']\n"
     ]
    }
   ],
   "source": [
    "print(find_shortest_path(graph, 'Mumbai', 'New York'))"
   ]
  },
  {
   "cell_type": "markdown",
   "id": "44d35c92",
   "metadata": {},
   "source": [
    "## Depth First Search (DFS)"
   ]
  },
  {
   "cell_type": "markdown",
   "id": "eb6f9d65",
   "metadata": {},
   "source": [
    "### Recursive (pre-order)"
   ]
  },
  {
   "cell_type": "code",
   "execution_count": 40,
   "id": "2ee6d004",
   "metadata": {},
   "outputs": [],
   "source": [
    "from collections import defaultdict, deque"
   ]
  },
  {
   "cell_type": "code",
   "execution_count": 36,
   "id": "063b7aba",
   "metadata": {},
   "outputs": [],
   "source": [
    "graph = {'Mumbai': ['Paris', 'Dubai'], \n",
    "         'Paris': ['Dubai', 'New York'], \n",
    "         'Dubai': ['New York'], \n",
    "         'New York': ['Toronto']}"
   ]
  },
  {
   "cell_type": "code",
   "execution_count": 62,
   "id": "13cfdfff",
   "metadata": {},
   "outputs": [],
   "source": [
    "visited = set()"
   ]
  },
  {
   "cell_type": "code",
   "execution_count": 63,
   "id": "7ef514d3",
   "metadata": {},
   "outputs": [],
   "source": [
    "def DFS_pre(graph, node):\n",
    "    \n",
    "    print(node, end=' ')\n",
    "    visited.add(node)\n",
    "\n",
    "    for neighbor in graph[node]:\n",
    "        if neighbor not in visited:\n",
    "            DFS_pre(graph, neighbor)"
   ]
  },
  {
   "cell_type": "code",
   "execution_count": 64,
   "id": "92952364",
   "metadata": {},
   "outputs": [
    {
     "name": "stdout",
     "output_type": "stream",
     "text": [
      "Mumbai Paris Dubai New York Toronto "
     ]
    }
   ],
   "source": [
    "visited = set()\n",
    "\n",
    "dd_graph = defaultdict(str, graph)\n",
    "\n",
    "DFS_pre(dd_graph, 'Mumbai')"
   ]
  },
  {
   "cell_type": "markdown",
   "id": "523de5da",
   "metadata": {},
   "source": [
    "### Recursive (post-order)"
   ]
  },
  {
   "cell_type": "code",
   "execution_count": 75,
   "id": "ae4a2126",
   "metadata": {},
   "outputs": [],
   "source": [
    "graph = {'Mumbai': ['Paris', 'Dubai'], \n",
    "         'Paris': ['Dubai', 'New York'], \n",
    "         'Dubai': ['New York'], \n",
    "         'New York': ['Toronto']}"
   ]
  },
  {
   "cell_type": "code",
   "execution_count": 76,
   "id": "7b7dd471",
   "metadata": {},
   "outputs": [],
   "source": [
    "visited = set()"
   ]
  },
  {
   "cell_type": "code",
   "execution_count": 77,
   "id": "382a5d57",
   "metadata": {},
   "outputs": [],
   "source": [
    "def DFS_post(graph, node):\n",
    "    \n",
    "    visited.add(node)\n",
    "\n",
    "    for neighbor in graph[node]:\n",
    "        if neighbor not in visited:\n",
    "            DFS_post(graph, neighbor)\n",
    "            \n",
    "    print(node, end=' ')"
   ]
  },
  {
   "cell_type": "code",
   "execution_count": 78,
   "id": "8336cab6",
   "metadata": {},
   "outputs": [
    {
     "name": "stdout",
     "output_type": "stream",
     "text": [
      "Toronto New York Dubai Paris Mumbai "
     ]
    }
   ],
   "source": [
    "dd_graph = defaultdict(str, graph)\n",
    "\n",
    "DFS_post(dd_graph, 'Mumbai')"
   ]
  },
  {
   "cell_type": "markdown",
   "id": "9c7998ec",
   "metadata": {},
   "source": [
    "### Iterative"
   ]
  },
  {
   "cell_type": "code",
   "execution_count": 79,
   "id": "964b0b3c",
   "metadata": {},
   "outputs": [],
   "source": [
    "graph = {'Mumbai': ['Paris', 'Dubai'], \n",
    "         'Paris': ['Dubai', 'New York'], \n",
    "         'Dubai': ['New York'], \n",
    "         'New York': ['Toronto']}"
   ]
  },
  {
   "cell_type": "code",
   "execution_count": 80,
   "id": "164eb786",
   "metadata": {},
   "outputs": [],
   "source": [
    "visited = set()"
   ]
  },
  {
   "cell_type": "code",
   "execution_count": 81,
   "id": "421594fa",
   "metadata": {},
   "outputs": [],
   "source": [
    "def DFS_iter(graph, node):\n",
    "    stack = []\n",
    "    stack.append(node)\n",
    "    \n",
    "    while len(stack) > 0:\n",
    "        node = stack.pop()\n",
    "        if node not in visited:\n",
    "            print(node, end=' ')\n",
    "            visited.add(node)\n",
    "            for neighbor in graph[node]:\n",
    "                if neighbor not in visited:\n",
    "                    stack.append(neighbor)"
   ]
  },
  {
   "cell_type": "code",
   "execution_count": 82,
   "id": "011a9fcf",
   "metadata": {},
   "outputs": [
    {
     "name": "stdout",
     "output_type": "stream",
     "text": [
      "Mumbai Dubai New York Toronto Paris "
     ]
    }
   ],
   "source": [
    "dd_graph = defaultdict(str, graph)\n",
    "\n",
    "DFS_iter(dd_graph, 'Mumbai')"
   ]
  },
  {
   "cell_type": "markdown",
   "id": "d62c1f82",
   "metadata": {},
   "source": [
    "## Breadth First Search"
   ]
  },
  {
   "cell_type": "code",
   "execution_count": 83,
   "id": "8b68723f",
   "metadata": {},
   "outputs": [],
   "source": [
    "graph = {'Mumbai': ['Paris', 'Dubai'], \n",
    "         'Paris': ['Dubai', 'New York'], \n",
    "         'Dubai': ['New York'], \n",
    "         'New York': ['Toronto']}"
   ]
  },
  {
   "cell_type": "code",
   "execution_count": 84,
   "id": "35d9ab96",
   "metadata": {},
   "outputs": [],
   "source": [
    "def BFS(graph, node):\n",
    "    visited = set()\n",
    "    queue = deque()\n",
    "    \n",
    "    queue.append(node)\n",
    "\n",
    "    while queue:\n",
    "        node = queue.popleft()\n",
    "\n",
    "        if node not in visited:\n",
    "            print(node, end=' ')\n",
    "            visited.add(node)\n",
    "            for neighbor in graph[node]:\n",
    "                if neighbor not in visited:\n",
    "                    queue.append(neighbor)"
   ]
  },
  {
   "cell_type": "code",
   "execution_count": 85,
   "id": "176a403e",
   "metadata": {},
   "outputs": [
    {
     "name": "stdout",
     "output_type": "stream",
     "text": [
      "Mumbai Paris Dubai New York Toronto "
     ]
    }
   ],
   "source": [
    "dd_graph = defaultdict(str, graph)\n",
    "\n",
    "BFS(dd_graph, 'Mumbai')"
   ]
  },
  {
   "cell_type": "markdown",
   "id": "e1ba5e09",
   "metadata": {},
   "source": [
    "## Minimizing Permutations\n",
    "\n",
    "In this problem, you are given an integer N, and a permutation, P of the integers from 1 to N, denoted as (a_1, a_2, ..., a_N). You want to rearrange the elements of the permutation into increasing order, repeatedly making the following operation:\n",
    "\n",
    "Select a sub-portion of the permutation, (a_i, ..., a_j), and reverse its order.\n",
    "\n",
    "Your goal is to compute the minimum number of such operations required to return the permutation to increasing order.\n",
    "\n",
    "<b>Example</b>\n",
    "\n",
    "If N = 3, and P = (3, 1, 2), we can do the following operations:\n",
    "\n",
    "1) Select (1, 2) and reverse it: P = (3, 2, 1).\n",
    "2) Select (3, 2, 1) and reverse it: P = (1, 2, 3).\n",
    "\n",
    "output = 2"
   ]
  },
  {
   "cell_type": "code",
   "execution_count": 86,
   "id": "3c40a884",
   "metadata": {},
   "outputs": [],
   "source": [
    "from collections import deque"
   ]
  },
  {
   "cell_type": "code",
   "execution_count": 102,
   "id": "e961daba",
   "metadata": {},
   "outputs": [],
   "source": [
    "def minOperations(arr):\n",
    "    target_state = ''.join([str(num) for num in sorted(arr)])\n",
    "    current_state = ''.join([str(num) for num in arr])\n",
    "    \n",
    "    q = deque([(0, current_state)]) # (<level>, <permutation>)\n",
    "    visited = set([current_state])\n",
    "    \n",
    "    while q:\n",
    "        level, curr_state = q.popleft()\n",
    "        \n",
    "        if curr_state == target_state:\n",
    "            return level\n",
    "        \n",
    "        for i in range(len(curr_state)):\n",
    "            for j in range(i, len(curr_state)):\n",
    "                \n",
    "                permutation = curr_state[:i] + curr_state[i: j+1][::-1] + curr_state[j + 1:]\n",
    "                \n",
    "                if permutation not in visited:\n",
    "                    visited.add(permutation)\n",
    "                    q.append((level + 1, permutation))\n",
    "\n",
    "    return -1"
   ]
  },
  {
   "cell_type": "code",
   "execution_count": 103,
   "id": "33c68c97",
   "metadata": {},
   "outputs": [
    {
     "data": {
      "text/plain": [
       "1"
      ]
     },
     "execution_count": 103,
     "metadata": {},
     "output_type": "execute_result"
    }
   ],
   "source": [
    "arr_1 = [1, 2, 5, 4, 3]\n",
    "minOperations(arr_1)"
   ]
  },
  {
   "cell_type": "code",
   "execution_count": 104,
   "id": "708c5fcd",
   "metadata": {},
   "outputs": [
    {
     "data": {
      "text/plain": [
       "2"
      ]
     },
     "execution_count": 104,
     "metadata": {},
     "output_type": "execute_result"
    }
   ],
   "source": [
    "arr_2 = [3, 1, 2]\n",
    "minOperations(arr_2)"
   ]
  },
  {
   "cell_type": "code",
   "execution_count": null,
   "id": "f7c9c5f8",
   "metadata": {},
   "outputs": [],
   "source": []
  }
 ],
 "metadata": {
  "kernelspec": {
   "display_name": "Python 3 (ipykernel)",
   "language": "python",
   "name": "python3"
  },
  "language_info": {
   "codemirror_mode": {
    "name": "ipython",
    "version": 3
   },
   "file_extension": ".py",
   "mimetype": "text/x-python",
   "name": "python",
   "nbconvert_exporter": "python",
   "pygments_lexer": "ipython3",
   "version": "3.8.16"
  }
 },
 "nbformat": 4,
 "nbformat_minor": 5
}
