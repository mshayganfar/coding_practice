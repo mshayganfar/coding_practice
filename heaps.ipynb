{
 "cells": [
  {
   "cell_type": "markdown",
   "id": "7b78af2d",
   "metadata": {},
   "source": [
    "# Heaps"
   ]
  },
  {
   "cell_type": "markdown",
   "id": "d344bb12",
   "metadata": {},
   "source": [
    "## Min Heap"
   ]
  },
  {
   "cell_type": "code",
   "execution_count": 1,
   "id": "e4819798",
   "metadata": {},
   "outputs": [],
   "source": [
    "import sys"
   ]
  },
  {
   "cell_type": "code",
   "execution_count": 2,
   "id": "0ea3e247",
   "metadata": {},
   "outputs": [],
   "source": [
    "class MinHeap:\n",
    "    \n",
    "    def __init__(self, max_size):\n",
    "        self.max_size = max_size\n",
    "        self.size = 0\n",
    "        self.Heap = [0] * (self.max_size + 1)\n",
    "        self.Heap[0] = -1 * sys.maxsize\n",
    "        self.FRONT = 1\n",
    "        \n",
    "    def parent(self, pos):\n",
    "        return pos // 2\n",
    "    \n",
    "    def left_child(self, pos):\n",
    "        return 2 * pos\n",
    "    \n",
    "    def right_child(self, pos):\n",
    "        return (2 * pos) + 1\n",
    "    \n",
    "    def is_leaf(self, pos):\n",
    "        return 2 * pos > self.size\n",
    "    \n",
    "    def swap(self, fpos, spos):\n",
    "        self.Heap[fpos], self.Heap[spos] = self.Heap[spos], self.Heap[fpos]\n",
    "        \n",
    "    def min_heapify(self, pos):\n",
    "        \n",
    "        if not self.is_leaf(pos):\n",
    "            if self.Heap[pos] > self.Heap[self.left_child(pos)] or \\\n",
    "            self.Heap[pos] > self.Heap[self.right_child(pos)]:\n",
    "                if self.Heap[self.left_child(pos)] < self.Heap[self.right_child(pos)]:\n",
    "                    self.swap(pos, self.left_child(pos))\n",
    "                    self.min_heapify(self.left_child(pos))\n",
    "                else:\n",
    "                    self.swap(pos, self.right_child(pos))\n",
    "                    self.min_heapify(self.right_child(pos))\n",
    "                    \n",
    "    def insert(self, element):\n",
    "        if self.size >= self.max_size:\n",
    "            return\n",
    "        \n",
    "        self.size += 1\n",
    "        self.Heap[self.size] = element\n",
    "        \n",
    "        current = self.size\n",
    "        \n",
    "        while self.Heap[current] < self.Heap[self.parent(current)]:\n",
    "            self.swap(current, self.parent(current))\n",
    "            current = self.parent(current)\n",
    "            \n",
    "    def print_heap(self):\n",
    "        for i in range(1, (self.size // 2) + 1):\n",
    "            print('Parent: ' + str(self.Heap[i])+\" Left Child : \" + \n",
    "                  str(self.Heap[2 * i])+\" Right Child : \" + \n",
    "                  str(self.Heap[2 * i + 1]))\n",
    "    \n",
    "    def min_heap(self): \n",
    "        for pos in range(self.size//2, 0, -1): \n",
    "            self.min_heapify(pos) \n",
    "    \n",
    "    def remove(self):\n",
    "        popped = self.Heap[self.FRONT]\n",
    "        self.Heap[self.FRONT] = self.Heap[self.size]\n",
    "        self.size -= 1\n",
    "        self.min_heapify(self.FRONT)\n",
    "        return popped"
   ]
  },
  {
   "cell_type": "code",
   "execution_count": 3,
   "id": "5ffda7d5",
   "metadata": {},
   "outputs": [
    {
     "name": "stdout",
     "output_type": "stream",
     "text": [
      "The minHeap is \n",
      "Parent: 3 Left Child : 5 Right Child : 6\n",
      "Parent: 5 Left Child : 9 Right Child : 84\n",
      "Parent: 6 Left Child : 19 Right Child : 17\n",
      "Parent: 9 Left Child : 22 Right Child : 10\n",
      "The Min val is 3\n"
     ]
    }
   ],
   "source": [
    "print('The minHeap is ')\n",
    "minHeap = MinHeap(15)\n",
    "minHeap.insert(5)\n",
    "minHeap.insert(3)\n",
    "minHeap.insert(17)\n",
    "minHeap.insert(10)\n",
    "minHeap.insert(84)\n",
    "minHeap.insert(19)\n",
    "minHeap.insert(6)\n",
    "minHeap.insert(22)\n",
    "minHeap.insert(9)\n",
    "minHeap.min_heap()\n",
    "  \n",
    "minHeap.print_heap()\n",
    "print(\"The Min val is \" + str(minHeap.remove()))"
   ]
  },
  {
   "cell_type": "markdown",
   "id": "5aaee2a9",
   "metadata": {},
   "source": [
    "## heapq Python Library"
   ]
  },
  {
   "cell_type": "code",
   "execution_count": 4,
   "id": "a7e6f1d1",
   "metadata": {},
   "outputs": [],
   "source": [
    "from heapq import heapify, heappush, heappop "
   ]
  },
  {
   "cell_type": "code",
   "execution_count": 5,
   "id": "7f66c26c",
   "metadata": {},
   "outputs": [
    {
     "name": "stdout",
     "output_type": "stream",
     "text": [
      "Head value of heap : 10\n",
      "The heap elements : \n",
      "10 30 20 400 \n",
      "\n",
      "The heap elements : \n",
      "20 30 400 "
     ]
    }
   ],
   "source": [
    "heap = []\n",
    "heapify(heap)\n",
    "\n",
    "heappush(heap, 10)\n",
    "heappush(heap, 30)\n",
    "heappush(heap, 20)\n",
    "heappush(heap, 400)\n",
    "\n",
    "print(\"Head value of heap : \" + str(heap[0]))\n",
    "\n",
    "print(\"The heap elements : \")\n",
    "for i in heap:\n",
    "    print(i, end = ' ')\n",
    "print('\\n')\n",
    "\n",
    "element = heappop(heap)\n",
    "\n",
    "print(\"The heap elements : \")\n",
    "for i in heap:\n",
    "    print(i, end = ' ')"
   ]
  },
  {
   "cell_type": "markdown",
   "id": "abcdffbb",
   "metadata": {},
   "source": [
    "## 1) Largest Triple Products\n",
    "\n",
    "You're given a list of n integers arr[0..(n-1)]. You must compute a list output[0..(n-1)] such that, for each index i (between 0 and n-1, inclusive), output[i] is equal to the product of the three largest elements out of arr[0..i] (or equal to -1 if i < 2, as arr[0..i] then includes fewer than three elements).\n",
    "\n",
    "Note that the three largest elements used to form any product may have the same values as one another, but they must be at different indices in arr.\n",
    "\n",
    "<b>Example 1</b>\n",
    "\n",
    "n = 5 <br />\n",
    "arr = [1, 2, 3, 4, 5] <br />\n",
    "output = [-1, -1, 6, 24, 60]\n",
    "\n",
    "The 3rd element of output is 3 x 2 x 1 = 6, the 4th is 4 x 3 x 2 = 24, and the 5th is 5 x 4 x 3 = 60.\n",
    "\n",
    "<b>Example 2</b>\n",
    "\n",
    "n = 5 <br />\n",
    "arr = [2, 1, 2, 1, 2] <br />\n",
    "output = [-1, -1, 4, 4, 8]\n",
    "\n",
    "The 3rd element of output is 2 x 2 x 1 = 4, the 4th is 2 x 2 x 1 = 4, and the 5th is 2 x 2 x 2 = 8."
   ]
  },
  {
   "cell_type": "code",
   "execution_count": 6,
   "id": "5fc38bbe",
   "metadata": {},
   "outputs": [],
   "source": [
    "import heapq\n",
    "import numpy as np"
   ]
  },
  {
   "cell_type": "code",
   "execution_count": 7,
   "id": "bb90d61e",
   "metadata": {},
   "outputs": [],
   "source": [
    "def findMaxProduct(arr):\n",
    "    output = []\n",
    "    heap = []\n",
    "    # heapq.heapify(heap)\n",
    "    \n",
    "    for num in arr:\n",
    "        heapq.heappush(heap, num)\n",
    "        if len(heap) < 3:\n",
    "            output.append(-1)\n",
    "        else:\n",
    "            output.append(np.prod(heapq.nlargest(3, heap)))\n",
    "    \n",
    "    return output"
   ]
  },
  {
   "cell_type": "code",
   "execution_count": 8,
   "id": "24c572ba",
   "metadata": {},
   "outputs": [
    {
     "data": {
      "text/plain": [
       "[-1, -1, 6, 24, 60]"
      ]
     },
     "execution_count": 8,
     "metadata": {},
     "output_type": "execute_result"
    }
   ],
   "source": [
    "arr_1 = [1, 2, 3, 4, 5]\n",
    "findMaxProduct(arr_1)"
   ]
  },
  {
   "cell_type": "code",
   "execution_count": 9,
   "id": "86107674",
   "metadata": {},
   "outputs": [
    {
     "data": {
      "text/plain": [
       "[-1, -1, 56, 56, 140, 140]"
      ]
     },
     "execution_count": 9,
     "metadata": {},
     "output_type": "execute_result"
    }
   ],
   "source": [
    "arr_2 = [2, 4, 7, 1, 5, 3]\n",
    "findMaxProduct(arr_2)"
   ]
  },
  {
   "cell_type": "code",
   "execution_count": 10,
   "id": "9f1052e9",
   "metadata": {},
   "outputs": [
    {
     "data": {
      "text/plain": [
       "[-1, -1, 4, 4, 8]"
      ]
     },
     "execution_count": 10,
     "metadata": {},
     "output_type": "execute_result"
    }
   ],
   "source": [
    "arr_3 = [2, 1, 2, 1, 2]\n",
    "findMaxProduct(arr_3)"
   ]
  },
  {
   "cell_type": "markdown",
   "id": "e667c804",
   "metadata": {},
   "source": [
    "## 2) Magical Candy Bags\n",
    "\n",
    "You have N bags of candy. The ith bag contains arr[i] pieces of candy, and each of the bags is magical!\n",
    "\n",
    "It takes you 1 minute to eat all of the pieces of candy in a bag (irrespective of how many pieces of candy are inside), and as soon as you finish, the bag mysteriously refills. If there were x pieces of candy in the bag at the beginning of the minute, then after you've finished you'll find that floor(x/2) pieces are now inside.\n",
    "\n",
    "You have k minutes to eat as much candy as possible. How many pieces of candy can you eat?\n",
    "\n",
    "<b>Example 1</b>\n",
    "\n",
    "N = 5 <br />\n",
    "k = 3 <br />\n",
    "arr = [2, 1, 7, 4, 2] <br />\n",
    "output = 14\n",
    "\n",
    "In the first minute you can eat 7 pieces of candy. That bag will refill with floor(7/2) = 3 pieces.\n",
    "\n",
    "In the second minute you can eat 4 pieces of candy from another bag. That bag will refill with floor(4/2) = 2 pieces.\n",
    "\n",
    "In the third minute you can eat the 3 pieces of candy that have appeared in the first bag that you ate.\n",
    "\n",
    "In total you can eat 7 + 4 + 3 = 14 pieces of candy."
   ]
  },
  {
   "cell_type": "code",
   "execution_count": 11,
   "id": "f3f18bb8",
   "metadata": {},
   "outputs": [],
   "source": [
    "# Older Solution\n",
    "\n",
    "# def maxCandies(arr, k):\n",
    "#     heapq._heapify_max(arr)\n",
    "    \n",
    "#     total_candies = 0\n",
    "#     for _ in range(3):\n",
    "#         largest_num = heapq.nlargest(1, arr)[0]\n",
    "#         total_candies += largest_num\n",
    "#         heapq._heapreplace_max(arr, largest_num//2)\n",
    "    \n",
    "#     return total_candies"
   ]
  },
  {
   "cell_type": "code",
   "execution_count": 12,
   "id": "503c657d",
   "metadata": {},
   "outputs": [],
   "source": [
    "def maxCandies(arr, k):\n",
    "    candy_pieces = 0\n",
    "    heap = []\n",
    "    \n",
    "    for num in arr:\n",
    "        heapq.heappush(heap, -num)\n",
    "    \n",
    "    for _ in range(k):\n",
    "        num_max = abs(heapq.heappop(heap))\n",
    "        heapq.heappush(heap, -(num_max//2))\n",
    "        candy_pieces += num_max\n",
    "    \n",
    "    return candy_pieces"
   ]
  },
  {
   "cell_type": "code",
   "execution_count": 13,
   "id": "0f615ab0",
   "metadata": {},
   "outputs": [
    {
     "data": {
      "text/plain": [
       "14"
      ]
     },
     "execution_count": 13,
     "metadata": {},
     "output_type": "execute_result"
    }
   ],
   "source": [
    "arr_1 = [2, 1, 7, 4, 2]\n",
    "k_1 = 3\n",
    "maxCandies(arr_1, k_1)"
   ]
  },
  {
   "cell_type": "code",
   "execution_count": 14,
   "id": "175ea875",
   "metadata": {},
   "outputs": [
    {
     "data": {
      "text/plain": [
       "228"
      ]
     },
     "execution_count": 14,
     "metadata": {},
     "output_type": "execute_result"
    }
   ],
   "source": [
    "arr_2 = [19, 78, 76, 72, 48, 8, 24, 74, 29]\n",
    "k_2 = 3\n",
    "maxCandies(arr_2, k_2)"
   ]
  },
  {
   "cell_type": "markdown",
   "id": "b0ee3d51",
   "metadata": {},
   "source": [
    "## 3) Median Stream\n",
    "\n",
    "You're given a list of n integers arr[0..(n-1)]. You must compute a list output[0..(n-1)] such that, for each index i (between 0 and n-1, inclusive), output[i] is equal to the median of the elements arr[0..i] (rounded down to the nearest integer).\n",
    "\n",
    "The median of a list of integers is defined as follows. If the integers were to be sorted, then:\n",
    "\n",
    "* If there are an odd number of integers, then the median is equal to the middle integer in the sorted order.\n",
    "* Otherwise, if there are an even number of integers, then the median is equal to the average of the two middle-most integers in the sorted order.\n",
    "\n",
    "<b>Example 1</b>\n",
    "\n",
    "n = 4 <br />\n",
    "arr = [5, 15, 1, 3] <br />\n",
    "output = [5, 10, 5, 4]\n",
    "\n",
    "The median of [5] is 5, the median of [5, 15] is (5 + 15) / 2 = 10, the median of [5, 15, 1] is 5, and the median of [5, 15, 1, 3] is (3 + 5) / 2 = 4.\n",
    "\n",
    "<b>Example 2</b>\n",
    "\n",
    "n = 2 <br />\n",
    "arr = [1, 2] <br />\n",
    "output = [1, 1]\n",
    "\n",
    "The median of [1] is 1, the median of [1, 2] is (1 + 2) / 2 = 1.5 (which should be rounded down to 1)."
   ]
  },
  {
   "cell_type": "code",
   "execution_count": 15,
   "id": "874f6f1f",
   "metadata": {},
   "outputs": [],
   "source": [
    "def findMedian(arr):\n",
    "    \n",
    "    output = []\n",
    "    max_heap = []\n",
    "    min_heap = []\n",
    "    \n",
    "    for num in arr:\n",
    "        if len(max_heap) == len(min_heap):\n",
    "            heapq.heappush(min_heap, -heapq.heappushpop(max_heap, -num))\n",
    "        else:\n",
    "            heapq.heappush(max_heap, -heapq.heappushpop(min_heap, num))\n",
    "\n",
    "        if len(max_heap) == len(min_heap):\n",
    "            output.append((min_heap[0] - max_heap[0]) // 2)\n",
    "        else:\n",
    "            output.append(min_heap[0])\n",
    "    \n",
    "    return output"
   ]
  },
  {
   "cell_type": "code",
   "execution_count": 16,
   "id": "ccdc20e6",
   "metadata": {},
   "outputs": [
    {
     "data": {
      "text/plain": [
       "[5, 10, 5, 4]"
      ]
     },
     "execution_count": 16,
     "metadata": {},
     "output_type": "execute_result"
    }
   ],
   "source": [
    "arr_1 = [5, 15, 1, 3]\n",
    "findMedian(arr_1)"
   ]
  },
  {
   "cell_type": "code",
   "execution_count": 17,
   "id": "81f18589",
   "metadata": {},
   "outputs": [
    {
     "data": {
      "text/plain": [
       "[2, 3, 4, 3, 4, 3]"
      ]
     },
     "execution_count": 17,
     "metadata": {},
     "output_type": "execute_result"
    }
   ],
   "source": [
    "arr_2 = [2, 4, 7, 1, 5, 3]\n",
    "findMedian(arr_2)"
   ]
  },
  {
   "cell_type": "markdown",
   "id": "3c5a7bec",
   "metadata": {},
   "source": [
    "## 4) Kth Largest Element in an Array\n",
    "\n",
    "Given an integer array nums and an integer k, return the kth largest element in the array.\n",
    "\n",
    "Note that it is the kth largest element in the sorted order, not the kth distinct element.\n",
    "\n",
    "Can you solve it without sorting?\n",
    "\n",
    "<b>Example</b>\n",
    "\n",
    "Input: nums = [3, 2, 1, 5, 6, 4], k = 2 <br />\n",
    "Output: 5\n",
    "\n",
    "<b>Example</b>\n",
    "\n",
    "Input: nums = [3, 2, 3, 1, 2, 4, 5, 5, 6], k = 4 <br />\n",
    "Output: 4"
   ]
  },
  {
   "cell_type": "code",
   "execution_count": 18,
   "id": "11b3cc18",
   "metadata": {},
   "outputs": [],
   "source": [
    "from heapq import heapify, heappush, heappop\n",
    "from typing import List"
   ]
  },
  {
   "cell_type": "code",
   "execution_count": 19,
   "id": "5eafd250",
   "metadata": {},
   "outputs": [],
   "source": [
    "def findKthLargest(nums: List[int], k: int) -> int:\n",
    "    \n",
    "    heap = []\n",
    "    for num in nums:\n",
    "        heappush(heap, num)\n",
    "    \n",
    "    return heapq.nlargest(k, heap)[-1]"
   ]
  },
  {
   "cell_type": "code",
   "execution_count": 20,
   "id": "7d5879ed",
   "metadata": {},
   "outputs": [],
   "source": [
    "# A Little Bit Faster Solution\n",
    "\n",
    "def findKthLargest(nums: List[int], k: int) -> int:\n",
    "    \n",
    "    heapify(nums)\n",
    "    return heapq.nlargest(k, nums)[-1]"
   ]
  },
  {
   "cell_type": "code",
   "execution_count": 21,
   "id": "5d340fea",
   "metadata": {},
   "outputs": [],
   "source": [
    "# Faster Solution (Without Sorting)\n",
    "\n",
    "def findKthLargest(nums: List[int], k: int) -> int:\n",
    "    \n",
    "    heap = []\n",
    "    for num in nums:\n",
    "        heapq.heappush(heap, num)\n",
    "        if len(heap) > k:\n",
    "            heapq.heappop(heap)\n",
    "        \n",
    "    return heap[0]"
   ]
  },
  {
   "cell_type": "code",
   "execution_count": 22,
   "id": "d51c9a0c",
   "metadata": {},
   "outputs": [
    {
     "data": {
      "text/plain": [
       "5"
      ]
     },
     "execution_count": 22,
     "metadata": {},
     "output_type": "execute_result"
    }
   ],
   "source": [
    "nums = [3, 2, 1, 5, 6, 4]\n",
    "k = 2\n",
    "findKthLargest(nums, k)"
   ]
  },
  {
   "cell_type": "code",
   "execution_count": 23,
   "id": "baab1dcf",
   "metadata": {},
   "outputs": [
    {
     "data": {
      "text/plain": [
       "4"
      ]
     },
     "execution_count": 23,
     "metadata": {},
     "output_type": "execute_result"
    }
   ],
   "source": [
    "nums = [3, 2, 3, 1, 2, 4, 5, 5, 6]\n",
    "k = 4\n",
    "findKthLargest(nums, k)"
   ]
  },
  {
   "cell_type": "markdown",
   "id": "8f43e170",
   "metadata": {},
   "source": [
    "## 5) Smallest Number in Infinite Set\n",
    "\n",
    "You have a set which contains all positive integers [1, 2, 3, 4, 5, ...].\n",
    "\n",
    "Implement the SmallestInfiniteSet class:\n",
    "\n",
    "* SmallestInfiniteSet() Initializes the SmallestInfiniteSet object to contain all positive integers.\n",
    "* int popSmallest() Removes and returns the smallest integer contained in the infinite set.\n",
    "* void addBack(int num) Adds a positive integer num back into the infinite set, if it is not already in the infinite set.\n",
    "\n",
    "<b>Example</b>\n",
    "\n",
    "Input: <br />\n",
    "[\"SmallestInfiniteSet\", \"addBack\", \"popSmallest\", \"popSmallest\", \"popSmallest\", \"addBack\", \"popSmallest\", \"popSmallest\", \"popSmallest\"] <br />\n",
    "[[], [2], [], [], [], [1], [], [], []]\n",
    "\n",
    "Output: <br />\n",
    "[null, null, 1, 2, 3, null, 1, 4, 5]\n",
    "\n",
    "Explanation:\n",
    "\n",
    "SmallestInfiniteSet smallestInfiniteSet = new SmallestInfiniteSet(); <br />\n",
    "smallestInfiniteSet.addBack(2);    // 2 is already in the set, so no change is made. <br />\n",
    "smallestInfiniteSet.popSmallest(); // return 1, since 1 is the smallest number, and remove it from the set. <br />\n",
    "smallestInfiniteSet.popSmallest(); // return 2, and remove it from the set. <br />\n",
    "smallestInfiniteSet.popSmallest(); // return 3, and remove it from the set. <br />\n",
    "smallestInfiniteSet.addBack(1);    // 1 is added back to the set. <br />\n",
    "smallestInfiniteSet.popSmallest(); // return 1, since 1 was added back to the set and <br />\n",
    "                                   // is the smallest number, and remove it from the set. <br />\n",
    "smallestInfiniteSet.popSmallest(); // return 4, and remove it from the set. <br />\n",
    "smallestInfiniteSet.popSmallest(); // return 5, and remove it from the set. <br />"
   ]
  },
  {
   "cell_type": "code",
   "execution_count": 24,
   "id": "415df4db",
   "metadata": {},
   "outputs": [],
   "source": [
    "from heapq import heapify, heappush, heappop"
   ]
  },
  {
   "cell_type": "code",
   "execution_count": 25,
   "id": "ca390fec",
   "metadata": {},
   "outputs": [],
   "source": [
    "# Prototype\n",
    "\n",
    "class SmallestInfiniteSet:\n",
    "\n",
    "    def __init__(self):\n",
    "        self.heap = [i for i in range(1, 1001)]\n",
    "\n",
    "    def popSmallest(self) -> int:\n",
    "        if self.heap:\n",
    "            heapify(self.heap)\n",
    "            return heappop(self.heap)\n",
    "        else:\n",
    "            return\n",
    "\n",
    "    def addBack(self, num: int) -> None:\n",
    "        if num not in self.heap:\n",
    "            heappush(self.heap, num)"
   ]
  },
  {
   "cell_type": "code",
   "execution_count": 26,
   "id": "f6045cf3",
   "metadata": {},
   "outputs": [],
   "source": [
    "class SmallestInfiniteSet:\n",
    "    \n",
    "    def __init__(self):\n",
    "        self.is_present: {int} = set()\n",
    "        self.added_integers: [int] = []\n",
    "        self.current_integer = 1\n",
    "\n",
    "    def popSmallest(self) -> int:\n",
    "        # If there are numbers in the min-heap, \n",
    "        # top element is lowest among all the available numbers.\n",
    "        if len(self.added_integers):\n",
    "            answer = heappop(self.added_integers)\n",
    "            self.is_present.remove(answer)\n",
    "        # Otherwise, the smallest number of large positive set \n",
    "        # denoted by 'current_integer' is the answer.\n",
    "        else:\n",
    "            answer = self.current_integer\n",
    "            self.current_integer += 1\n",
    "        return answer\n",
    "\n",
    "    def addBack(self, num: int) -> None:\n",
    "        if self.current_integer <= num or num in self.is_present:\n",
    "            return\n",
    "        # We push 'num' in the min-heap if it isn't already present.\n",
    "        heappush(self.added_integers, num)\n",
    "        self.is_present.add(num)"
   ]
  },
  {
   "cell_type": "code",
   "execution_count": 27,
   "id": "df429d2d",
   "metadata": {},
   "outputs": [
    {
     "name": "stdout",
     "output_type": "stream",
     "text": [
      "1\n",
      "2\n",
      "3\n",
      "1\n",
      "4\n",
      "5\n"
     ]
    }
   ],
   "source": [
    "smallestInfiniteSet = SmallestInfiniteSet()\n",
    "smallestInfiniteSet.addBack(2)\n",
    "print(smallestInfiniteSet.popSmallest())\n",
    "print(smallestInfiniteSet.popSmallest())\n",
    "print(smallestInfiniteSet.popSmallest())\n",
    "smallestInfiniteSet.addBack(1)\n",
    "print(smallestInfiniteSet.popSmallest())\n",
    "print(smallestInfiniteSet.popSmallest())\n",
    "print(smallestInfiniteSet.popSmallest())"
   ]
  },
  {
   "cell_type": "markdown",
   "id": "2cf28674",
   "metadata": {},
   "source": [
    "## 6) Maximum Subsequence Score\n",
    "\n",
    "You are given two 0-indexed integer arrays nums1 and nums2 of equal length n and a positive integer k. You must choose a subsequence of indices from nums1 of length k.\n",
    "\n",
    "For chosen indices i0, i1, ..., ik - 1, your score is defined as:\n",
    "\n",
    "* The sum of the selected elements from nums1 multiplied with the minimum of the selected elements from nums2.\n",
    "* It can defined simply as: (nums1[i0] + nums1[i1] +...+ nums1[ik - 1]) * min(nums2[i0] , nums2[i1], ... ,nums2[ik - 1]).\n",
    "\n",
    "Return the maximum possible score.\n",
    "\n",
    "A subsequence of indices of an array is a set that can be derived from the set {0, 1, ..., n-1} by deleting some or no elements.\n",
    "\n",
    "<b>Example</b>\n",
    "\n",
    "Input: nums1 = [1,3,3,2], nums2 = [2,1,3,4], k = 3 <br />\n",
    "Output: 12\n",
    "\n",
    "Explanation:\n",
    "\n",
    "The four possible subsequence scores are:\n",
    "\n",
    "- We choose the indices 0, 1, and 2 with score = (1+3+3) * min(2,1,3) = 7.\n",
    "- We choose the indices 0, 1, and 3 with score = (1+3+2) * min(2,1,4) = 6. \n",
    "- We choose the indices 0, 2, and 3 with score = (1+3+2) * min(2,3,4) = 12. \n",
    "- We choose the indices 1, 2, and 3 with score = (3+3+2) * min(1,3,4) = 8.\n",
    "\n",
    "Therefore, we return the max score, which is 12.\n",
    "\n",
    "<b>Example</b>\n",
    "\n",
    "Input: nums1 = [4,2,3,1,1], nums2 = [7,5,10,9,6], k = 1 <br />\n",
    "Output: 30 <br />\n",
    "\n",
    "Explanation:\n",
    "\n",
    "Choosing index 2 is optimal: nums1[2] * nums2[2] = 3 * 10 = 30 is the maximum possible score."
   ]
  },
  {
   "cell_type": "code",
   "execution_count": 28,
   "id": "0a6c43ca",
   "metadata": {},
   "outputs": [],
   "source": [
    "from heapq import heapify, heappush, heappop\n",
    "from typing import List\n",
    "from itertools import combinations"
   ]
  },
  {
   "cell_type": "code",
   "execution_count": 29,
   "id": "1b1f321c",
   "metadata": {},
   "outputs": [],
   "source": [
    "# Solution without Heap\n",
    "\n",
    "def maxScore(nums1: List[int], nums2: List[int], k: int) -> int:\n",
    "    \n",
    "    comb = combinations(enumerate(nums1), k)\n",
    "    max_score = float('-inf')\n",
    "    for c in comb:\n",
    "        sum_sub1 = sum(n for _, n in c)\n",
    "        min_sub2 = float('inf')\n",
    "        for i, _ in c:\n",
    "            min_sub2 = min(min_sub2, nums2[i])\n",
    "        max_score = max(max_score, sum_sub1 * min_sub2)\n",
    "    \n",
    "    return max_score"
   ]
  },
  {
   "cell_type": "code",
   "execution_count": 30,
   "id": "ebbf9784",
   "metadata": {},
   "outputs": [],
   "source": [
    "# Faster Solution\n",
    "\n",
    "def maxScore(nums1: List[int], nums2: List[int], k: int) -> int:\n",
    "    \n",
    "    # Sort pair (nums1[i], nums2[i]) by nums2[i] in decreasing order.\n",
    "    pairs = [(a, b) for a, b in zip(nums1, nums2)]\n",
    "    pairs.sort(key = lambda x: -x[1])\n",
    "    \n",
    "    # Use a min-heap to maintain the top k elements.\n",
    "    top_k_heap = [x[0] for x in pairs[:k]]\n",
    "    top_k_sum = sum(top_k_heap)\n",
    "    heapify(top_k_heap)\n",
    "    \n",
    "    # The score of the first k pairs.\n",
    "    answer = top_k_sum * pairs[k - 1][1]\n",
    "    \n",
    "    # Iterate over every nums2[i] as minimum from nums2.\n",
    "    for i in range(k, len(nums1)):\n",
    "        # Remove the smallest integer from the previous top k elements\n",
    "        # then add nums1[i] to the top k elements.\n",
    "        top_k_sum -= heappop(top_k_heap)\n",
    "        top_k_sum += pairs[i][0]\n",
    "        heappush(top_k_heap, pairs[i][0])\n",
    "        \n",
    "        # Update answer as the maximum score.\n",
    "        answer = max(answer, top_k_sum * pairs[i][1])\n",
    "    \n",
    "    return answer"
   ]
  },
  {
   "cell_type": "code",
   "execution_count": 31,
   "id": "968ea3c6",
   "metadata": {},
   "outputs": [],
   "source": [
    "from operator import itemgetter"
   ]
  },
  {
   "cell_type": "code",
   "execution_count": 32,
   "id": "a68bc4c6",
   "metadata": {},
   "outputs": [],
   "source": [
    "# Faster and More Readable Solution\n",
    "\n",
    "def maxScore(nums1: List[int], nums2: List[int], k: int) -> int:\n",
    "\n",
    "    answer = 0\n",
    "    prefix_sum = 0\n",
    "    min_heap = []\n",
    "    \n",
    "    pairs = sorted(list(zip(nums1, nums2)), key = itemgetter(1), reverse = True)\n",
    "    \n",
    "    for n1, n2 in pairs:\n",
    "        prefix_sum += n1\n",
    "        heappush(min_heap, n1)\n",
    "        if len(min_heap) == k:\n",
    "            answer = max(answer, prefix_sum * n2)\n",
    "            prefix_sum -= heappop(min_heap)                               \n",
    "    \n",
    "    return answer"
   ]
  },
  {
   "cell_type": "code",
   "execution_count": 33,
   "id": "608b15e7",
   "metadata": {},
   "outputs": [
    {
     "data": {
      "text/plain": [
       "12"
      ]
     },
     "execution_count": 33,
     "metadata": {},
     "output_type": "execute_result"
    }
   ],
   "source": [
    "nums1 = [1, 3, 3, 2]\n",
    "nums2 = [2, 1, 3, 4]\n",
    "k = 3\n",
    "maxScore(nums1, nums2, k)"
   ]
  },
  {
   "cell_type": "code",
   "execution_count": 34,
   "id": "8426a6c3",
   "metadata": {},
   "outputs": [
    {
     "data": {
      "text/plain": [
       "30"
      ]
     },
     "execution_count": 34,
     "metadata": {},
     "output_type": "execute_result"
    }
   ],
   "source": [
    "nums1 = [4, 2, 3, 1, 1]\n",
    "nums2 = [7, 5, 10, 9, 6]\n",
    "k = 1\n",
    "maxScore(nums1, nums2, k)"
   ]
  },
  {
   "cell_type": "code",
   "execution_count": 35,
   "id": "7832883e",
   "metadata": {},
   "outputs": [
    {
     "data": {
      "text/plain": [
       "[(3, 10), (1, 9), (4, 7), (1, 6), (2, 5)]"
      ]
     },
     "execution_count": 35,
     "metadata": {},
     "output_type": "execute_result"
    }
   ],
   "source": [
    "nums1 = [4, 2, 3, 1, 1]\n",
    "nums2 = [7, 5, 10, 9, 6]\n",
    "sorted(list(zip(nums1, nums2)), key=itemgetter(1), reverse=True)"
   ]
  },
  {
   "cell_type": "markdown",
   "id": "162507e4",
   "metadata": {},
   "source": [
    "## 7) Total Cost to Hire K Workers\n",
    "\n",
    "You are given a 0-indexed integer array costs where costs[i] is the cost of hiring the ith worker.\n",
    "\n",
    "You are also given two integers k and candidates. We want to hire exactly k workers according to the following rules:\n",
    "\n",
    "* You will run k sessions and hire exactly one worker in each session.\n",
    "* In each hiring session, choose the worker with the lowest cost from either the first candidates workers or the last candidates workers. Break the tie by the smallest index.\n",
    "* For example, if costs = [3, 2, 7, 7, 1, 2] and candidates = 2, then in the first hiring session, we will choose the 4th worker because they have the lowest cost [3, 2, 7, 7, 1, 2].\n",
    "* In the second hiring session, we will choose 1st worker because they have the same lowest cost as 4th worker but they have the smallest index [3, 2, 7, 7, 2]. Please note that the indexing may be changed in the process.\n",
    "* If there are fewer than candidates workers remaining, choose the worker with the lowest cost among them. Break the tie by the smallest index.\n",
    "* A worker can only be chosen once.\n",
    "\n",
    "Return the total cost to hire exactly k workers.\n",
    "\n",
    "<b>Example</b>\n",
    "\n",
    "Input: costs = [17, 12, 10, 2, 7, 2, 11, 20, 8], k = 3, candidates = 4 <br />\n",
    "Output: 11\n",
    "\n",
    "Explanation:\n",
    "\n",
    "We hire 3 workers in total. The total cost is initially 0.\n",
    "- In the first hiring round we choose the worker from [17, 12, 10, 2, 7, 2, 11, 20, 8]. The lowest cost is 2, and we break the tie by the smallest index, which is 3. The total cost = 0 + 2 = 2.\n",
    "- In the second hiring round we choose the worker from [17, 12, 10, 7, 2, 11, 20, 8]. The lowest cost is 2 (index 4). The total cost = 2 + 2 = 4.\n",
    "- In the third hiring round we choose the worker from [17, 12, 10, 7, 11, 20, 8]. The lowest cost is 7 (index 3). The total cost = 4 + 7 = 11. Notice that the worker with index 3 was common in the first and last four workers.\n",
    "\n",
    "The total hiring cost is 11.\n",
    "\n",
    "<b>Example</b>\n",
    "\n",
    "Input: costs = [1, 2, 4, 1], k = 3, candidates = 3 <br />\n",
    "Output: 4\n",
    "\n",
    "Explanation:\n",
    "\n",
    "We hire 3 workers in total. The total cost is initially 0.\n",
    "- In the first hiring round we choose the worker from [1, 2, 4, 1]. The lowest cost is 1, and we break the tie by the smallest index, which is 0. The total cost = 0 + 1 = 1. Notice that workers with index 1 and 2 are common in the first and last 3 workers.\n",
    "- In the second hiring round we choose the worker from [2, 4, 1]. The lowest cost is 1 (index 2). The total cost = 1 + 1 = 2.\n",
    "- In the third hiring round there are less than three candidates. We choose the worker from the remaining workers [2, 4]. The lowest cost is 2 (index 0). The total cost = 2 + 2 = 4.\n",
    "\n",
    "The total hiring cost is 4."
   ]
  },
  {
   "cell_type": "code",
   "execution_count": 36,
   "id": "fadb88f1",
   "metadata": {},
   "outputs": [],
   "source": [
    "from heapq import heapify, heappush, heappop\n",
    "from typing import List"
   ]
  },
  {
   "cell_type": "code",
   "execution_count": 37,
   "id": "9c943e09",
   "metadata": {},
   "outputs": [],
   "source": [
    "def totalCost(costs: List[int], k: int, candidates: int) -> int:\n",
    "    \n",
    "    answer = 0\n",
    "    \n",
    "    i = 1\n",
    "    while i <= k and len(costs) > 0:\n",
    "        candidates = min(candidates, len(costs))\n",
    "\n",
    "        if min(costs[:candidates]) <= min(costs[-candidates:]):\n",
    "            answer += costs.pop((costs.index(min(costs[:candidates]))))\n",
    "        else:\n",
    "            answer += costs.pop((costs.index(min(costs[-candidates:]))))\n",
    "        i += 1\n",
    "    \n",
    "    return answer"
   ]
  },
  {
   "cell_type": "code",
   "execution_count": 38,
   "id": "b81560dd",
   "metadata": {},
   "outputs": [],
   "source": [
    "def totalCost(costs: List[int], k: int, candidates: int) -> int:\n",
    "    \n",
    "        # head_workers stores the first k workers.\n",
    "    # tail_workers stores at most last k workers without any workers from the first k workers. \n",
    "    head_workers = costs[:candidates]\n",
    "    tail_workers = costs[max(candidates, len(costs) - candidates):]\n",
    "    heapify(head_workers)\n",
    "    heapify(tail_workers)\n",
    "    \n",
    "    answer = 0\n",
    "    next_head, next_tail = candidates, len(costs) - 1 - candidates \n",
    "    \n",
    "    for _ in range(k): \n",
    "        if not tail_workers or head_workers and head_workers[0] <= tail_workers[0]: \n",
    "            answer += heappop(head_workers)\n",
    "            \n",
    "            # Only refill the queue if there are workers outside the two queues.\n",
    "            if next_head <= next_tail: \n",
    "                heappush(head_workers, costs[next_head])\n",
    "                next_head += 1\n",
    "        else: \n",
    "            answer += heappop(tail_workers)\n",
    "\n",
    "            # Only refill the queue if there are workers outside the two queues.\n",
    "            if next_head <= next_tail:  \n",
    "                heappush(tail_workers, costs[next_tail])\n",
    "                next_tail -= 1\n",
    "                    \n",
    "    return answer"
   ]
  },
  {
   "cell_type": "code",
   "execution_count": 39,
   "id": "f0aa6704",
   "metadata": {},
   "outputs": [
    {
     "data": {
      "text/plain": [
       "11"
      ]
     },
     "execution_count": 39,
     "metadata": {},
     "output_type": "execute_result"
    }
   ],
   "source": [
    "costs = [17, 12, 10, 2, 7, 2, 11, 20, 8]\n",
    "k = 3\n",
    "candidates = 4\n",
    "totalCost(costs, k, candidates)"
   ]
  },
  {
   "cell_type": "code",
   "execution_count": 40,
   "id": "6cd6cc3b",
   "metadata": {},
   "outputs": [
    {
     "data": {
      "text/plain": [
       "4"
      ]
     },
     "execution_count": 40,
     "metadata": {},
     "output_type": "execute_result"
    }
   ],
   "source": [
    "costs = [1, 2, 4, 1]\n",
    "k = 3\n",
    "candidates = 3\n",
    "totalCost(costs, k, candidates)"
   ]
  },
  {
   "cell_type": "code",
   "execution_count": null,
   "id": "ebe0f90e",
   "metadata": {},
   "outputs": [],
   "source": []
  }
 ],
 "metadata": {
  "kernelspec": {
   "display_name": "Python 3 (ipykernel)",
   "language": "python",
   "name": "python3"
  },
  "language_info": {
   "codemirror_mode": {
    "name": "ipython",
    "version": 3
   },
   "file_extension": ".py",
   "mimetype": "text/x-python",
   "name": "python",
   "nbconvert_exporter": "python",
   "pygments_lexer": "ipython3",
   "version": "3.8.16"
  }
 },
 "nbformat": 4,
 "nbformat_minor": 5
}
