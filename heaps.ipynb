{
 "cells": [
  {
   "cell_type": "markdown",
   "id": "9ba3e174",
   "metadata": {},
   "source": [
    "# Heaps"
   ]
  },
  {
   "cell_type": "markdown",
   "id": "d25329ab",
   "metadata": {},
   "source": [
    "## Min Heap"
   ]
  },
  {
   "cell_type": "code",
   "execution_count": 1,
   "id": "ddecc3d2",
   "metadata": {},
   "outputs": [],
   "source": [
    "import sys"
   ]
  },
  {
   "cell_type": "code",
   "execution_count": 2,
   "id": "9072aa1b",
   "metadata": {},
   "outputs": [],
   "source": [
    "class MinHeap:\n",
    "    \n",
    "    def __init__(self, max_size):\n",
    "        self.max_size = max_size\n",
    "        self.size = 0\n",
    "        self.Heap = [0] * (self.max_size + 1)\n",
    "        self.Heap[0] = -1 * sys.maxsize\n",
    "        self.FRONT = 1\n",
    "        \n",
    "    def parent(self, pos):\n",
    "        return pos // 2\n",
    "    \n",
    "    def left_child(self, pos):\n",
    "        return 2 * pos\n",
    "    \n",
    "    def right_child(self, pos):\n",
    "        return (2 * pos) + 1\n",
    "    \n",
    "    def is_leaf(self, pos):\n",
    "        return 2 * pos > self.size\n",
    "    \n",
    "    def swap(self, fpos, spos):\n",
    "        self.Heap[fpos], self.Heap[spos] = self.Heap[spos], self.Heap[fpos]\n",
    "        \n",
    "    def min_heapify(self, pos):\n",
    "        \n",
    "        if not self.is_leaf(pos):\n",
    "            if self.Heap[pos] > self.Heap[self.left_child(pos)] or \\\n",
    "            self.Heap[pos] > self.Heap[self.right_child(pos)]:\n",
    "                if self.Heap[self.left_child(pos)] < self.Heap[self.right_child(pos)]:\n",
    "                    self.swap(pos, self.left_child(pos))\n",
    "                    self.min_heapify(self.left_child(pos))\n",
    "                else:\n",
    "                    self.swap(pos, self.right_child(pos))\n",
    "                    self.min_heapify(self.right_child(pos))\n",
    "                    \n",
    "    def insert(self, element):\n",
    "        if self.size >= self.max_size:\n",
    "            return\n",
    "        \n",
    "        self.size += 1\n",
    "        self.Heap[self.size] = element\n",
    "        \n",
    "        current = self.size\n",
    "        \n",
    "        while self.Heap[current] < self.Heap[self.parent(current)]:\n",
    "            self.swap(current, self.parent(current))\n",
    "            current = self.parent(current)\n",
    "            \n",
    "    def print_heap(self):\n",
    "        for i in range(1, (self.size // 2) + 1):\n",
    "            print('Parent: ' + str(self.Heap[i])+\" Left Child : \" + \n",
    "                  str(self.Heap[2 * i])+\" Right Child : \" + \n",
    "                  str(self.Heap[2 * i + 1]))\n",
    "    \n",
    "    def min_heap(self): \n",
    "        for pos in range(self.size//2, 0, -1): \n",
    "            self.min_heapify(pos) \n",
    "    \n",
    "    def remove(self):\n",
    "        popped = self.Heap[self.FRONT]\n",
    "        self.Heap[self.FRONT] = self.Heap[self.size]\n",
    "        self.size -= 1\n",
    "        self.min_heapify(self.FRONT)\n",
    "        return popped"
   ]
  },
  {
   "cell_type": "code",
   "execution_count": 3,
   "id": "a2b2fae7",
   "metadata": {},
   "outputs": [
    {
     "name": "stdout",
     "output_type": "stream",
     "text": [
      "The minHeap is \n",
      "Parent: 3 Left Child : 5 Right Child : 6\n",
      "Parent: 5 Left Child : 9 Right Child : 84\n",
      "Parent: 6 Left Child : 19 Right Child : 17\n",
      "Parent: 9 Left Child : 22 Right Child : 10\n",
      "The Min val is 3\n"
     ]
    }
   ],
   "source": [
    "print('The minHeap is ')\n",
    "minHeap = MinHeap(15)\n",
    "minHeap.insert(5)\n",
    "minHeap.insert(3)\n",
    "minHeap.insert(17)\n",
    "minHeap.insert(10)\n",
    "minHeap.insert(84)\n",
    "minHeap.insert(19)\n",
    "minHeap.insert(6)\n",
    "minHeap.insert(22)\n",
    "minHeap.insert(9)\n",
    "minHeap.min_heap()\n",
    "  \n",
    "minHeap.print_heap()\n",
    "print(\"The Min val is \" + str(minHeap.remove()))"
   ]
  },
  {
   "cell_type": "markdown",
   "id": "53b6870e",
   "metadata": {},
   "source": [
    "## heapq Python Library"
   ]
  },
  {
   "cell_type": "code",
   "execution_count": 4,
   "id": "730dae17",
   "metadata": {},
   "outputs": [],
   "source": [
    "from heapq import heapify, heappush, heappop "
   ]
  },
  {
   "cell_type": "code",
   "execution_count": 9,
   "id": "ccaf324e",
   "metadata": {},
   "outputs": [
    {
     "name": "stdout",
     "output_type": "stream",
     "text": [
      "Head value of heap : 10\n",
      "The heap elements : \n",
      "10 30 20 400 \n",
      "\n",
      "The heap elements : \n",
      "20 30 400 "
     ]
    }
   ],
   "source": [
    "heap = []\n",
    "heapify(heap)\n",
    "\n",
    "heappush(heap, 10)\n",
    "heappush(heap, 30)\n",
    "heappush(heap, 20)\n",
    "heappush(heap, 400)\n",
    "\n",
    "print(\"Head value of heap : \" + str(heap[0]))\n",
    "\n",
    "print(\"The heap elements : \")\n",
    "for i in heap:\n",
    "    print(i, end = ' ')\n",
    "print('\\n')\n",
    "\n",
    "element = heappop(heap)\n",
    "\n",
    "print(\"The heap elements : \")\n",
    "for i in heap:\n",
    "    print(i, end = ' ')"
   ]
  },
  {
   "cell_type": "code",
   "execution_count": null,
   "id": "8382e815",
   "metadata": {},
   "outputs": [],
   "source": []
  }
 ],
 "metadata": {
  "kernelspec": {
   "display_name": "Python 3 (ipykernel)",
   "language": "python",
   "name": "python3"
  },
  "language_info": {
   "codemirror_mode": {
    "name": "ipython",
    "version": 3
   },
   "file_extension": ".py",
   "mimetype": "text/x-python",
   "name": "python",
   "nbconvert_exporter": "python",
   "pygments_lexer": "ipython3",
   "version": "3.8.16"
  }
 },
 "nbformat": 4,
 "nbformat_minor": 5
}
