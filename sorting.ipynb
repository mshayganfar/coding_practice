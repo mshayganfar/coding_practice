{
 "cells": [
  {
   "cell_type": "markdown",
   "id": "32a40ead",
   "metadata": {},
   "source": [
    "# Sorting"
   ]
  },
  {
   "cell_type": "markdown",
   "id": "81723bfb",
   "metadata": {},
   "source": [
    "## Bubble Sort"
   ]
  },
  {
   "cell_type": "code",
   "execution_count": 5,
   "id": "66a04dba",
   "metadata": {},
   "outputs": [],
   "source": [
    "def bubble_sort(array):\n",
    "    \n",
    "    n = len(array)\n",
    "    \n",
    "    sorted = False\n",
    "    for i in range(n-1):\n",
    "        for j in range(n-i-1):\n",
    "            if array[j] > array[j+1]:\n",
    "                sorted = True\n",
    "                array[j], array[j+1] = array[j+1], array[j]\n",
    "                \n",
    "        if not sorted:\n",
    "            break\n",
    "    \n",
    "    return array"
   ]
  },
  {
   "cell_type": "code",
   "execution_count": 30,
   "id": "5fb8c02d",
   "metadata": {},
   "outputs": [
    {
     "data": {
      "text/plain": [
       "[5, 6, 7, 7, 7, 11, 12, 13, 100]"
      ]
     },
     "execution_count": 30,
     "metadata": {},
     "output_type": "execute_result"
    }
   ],
   "source": [
    "arr = [12, 11, 7, 13, 5, 6, 7, 7, 100]\n",
    "bubble_sort(arr)"
   ]
  },
  {
   "cell_type": "markdown",
   "id": "968fae4e",
   "metadata": {},
   "source": [
    "## Merge Sort"
   ]
  },
  {
   "cell_type": "code",
   "execution_count": 24,
   "id": "e9b35cb6",
   "metadata": {},
   "outputs": [],
   "source": [
    "def merge(array, left, middle, right):\n",
    "    n1 = middle - left + 1\n",
    "    n2 = right - middle\n",
    "    \n",
    "    # create temp arrays\n",
    "    left_arr = [0] * n1\n",
    "    right_arr = [0] * n2\n",
    "    \n",
    "    # Copy data to temp arrays\n",
    "    for i in range(n1):\n",
    "        left_arr[i] = array[left + i]\n",
    " \n",
    "    for j in range(n2):\n",
    "        right_arr[j] = array[middle + j + 1]\n",
    "    \n",
    "    # Merge the temp arrays back into arr[l..r]\n",
    "    i = 0    # Initial index of first subarray\n",
    "    j = 0    # Initial index of second subarray\n",
    "    k = left # Initial index of merged subarray\n",
    "    \n",
    "    \n",
    "    while i < n1 and j < n2:\n",
    "        if left_arr[i] < right_arr[j]:\n",
    "            array[k] = left_arr[i]\n",
    "            i += 1\n",
    "        else:\n",
    "            array[k] = right_arr[j]\n",
    "            j += 1\n",
    "        k += 1\n",
    "    \n",
    "    # Copy the remaining elements of L[], if there are any\n",
    "    while i < n1:\n",
    "        array[k] = left_arr[i]\n",
    "        i += 1\n",
    "        k += 1\n",
    "    \n",
    "    # Copy the remaining elements of R[], if there are any\n",
    "    while j < n2:\n",
    "        array[k] = right_arr[j]\n",
    "        j += 1\n",
    "        k += 1"
   ]
  },
  {
   "cell_type": "code",
   "execution_count": 25,
   "id": "c0acae83",
   "metadata": {},
   "outputs": [],
   "source": [
    "def merge_sort(array, left, right):\n",
    "    if left < right:\n",
    "        middle = (left + right) // 2\n",
    "        \n",
    "        merge_sort(array, left, middle)\n",
    "        merge_sort(array, middle+1, right)\n",
    "        \n",
    "        merge(array, left, middle, right)\n",
    "        \n",
    "    return array"
   ]
  },
  {
   "cell_type": "code",
   "execution_count": 26,
   "id": "fc470d4a",
   "metadata": {},
   "outputs": [
    {
     "data": {
      "text/plain": [
       "[5, 6, 7, 7, 7, 11, 12, 13, 100]"
      ]
     },
     "execution_count": 26,
     "metadata": {},
     "output_type": "execute_result"
    }
   ],
   "source": [
    "arr = [12, 11, 7, 13, 5, 6, 7, 7, 100]\n",
    "merge_sort(arr, 0, len(arr)-1)"
   ]
  },
  {
   "cell_type": "markdown",
   "id": "d35540c6",
   "metadata": {},
   "source": [
    "## Quick Sort"
   ]
  },
  {
   "cell_type": "code",
   "execution_count": 21,
   "id": "1b9cc3d3",
   "metadata": {},
   "outputs": [],
   "source": [
    "# Function to find the partition position\n",
    "def partition(array, low, high):\n",
    "    \n",
    "    # choose the rightmost element as pivot\n",
    "    pivot = array[high]\n",
    "    \n",
    "    # pointer for greater element\n",
    "    i = low - 1\n",
    "    \n",
    "    # traverse through all elements\n",
    "    # compare each element with pivot\n",
    "    for j in range(low, high):\n",
    "        if array[j] <= pivot:\n",
    "            \n",
    "            # If element smaller than pivot is found\n",
    "            # swap it with the greater element pointed by i\n",
    "            i = i + 1\n",
    "            \n",
    "            # Swapping element at i with element at j\n",
    "            array[i], array[j] = array[j], array[i]\n",
    "    \n",
    "    # Swap the pivot element with the greater element specified by i\n",
    "    array[i+1], array[high] = array[high], array[i+1]\n",
    "    \n",
    "    # Return the position from where partition is done\n",
    "    return i+1"
   ]
  },
  {
   "cell_type": "code",
   "execution_count": 22,
   "id": "0ddd6e54",
   "metadata": {},
   "outputs": [],
   "source": [
    "def quick_sort(array, low, high):\n",
    "    if low < high:\n",
    "        \n",
    "        # Find pivot element such that\n",
    "        # element smaller than pivot are on the left\n",
    "        # element greater than pivot are on the right\n",
    "        pivot = partition(array, low, high)\n",
    "        \n",
    "        # Recursive call on the left of pivot\n",
    "        quick_sort(array, low, pivot-1)\n",
    "        \n",
    "        # Recursive call on the right of pivot\n",
    "        quick_sort(array, pivot+1, high)\n",
    "        \n",
    "    return array"
   ]
  },
  {
   "cell_type": "code",
   "execution_count": 29,
   "id": "2c047a21",
   "metadata": {},
   "outputs": [
    {
     "data": {
      "text/plain": [
       "[5, 6, 7, 7, 7, 11, 12, 13, 100]"
      ]
     },
     "execution_count": 29,
     "metadata": {},
     "output_type": "execute_result"
    }
   ],
   "source": [
    "arr = [12, 11, 7, 13, 5, 6, 7, 7, 100]\n",
    "quick_sort(arr, 0, len(arr)-1)"
   ]
  },
  {
   "cell_type": "markdown",
   "id": "412576c9",
   "metadata": {},
   "source": [
    "## Balanced Split\n",
    "\n",
    "Given an array of integers (which may include repeated integers), determine if there's a way to split the array into two subsequences A and B such that the sum of the integers in both arrays is the same, and all of the integers in A are strictly smaller than all of the integers in B.\n",
    "\n",
    "Note: Strictly smaller denotes that every integer in A must be less than, and not equal to, every integer in B.\n",
    "\n",
    "<b>Example 1</b>\n",
    "\n",
    "arr = [1, 5, 7, 1] <br />\n",
    "output = True <br />\n",
    "We can split the array into A = [1, 1, 5] and B = [7].\n",
    "\n",
    "<b>Example 2</b>\n",
    "\n",
    "arr = [12, 7, 6, 7, 6] <br />\n",
    "output = False\n",
    "\n",
    "We can't split the array into A = [6, 6, 7] and B = [7, 12] since this doesn't satisfy the requirement that all integers in A are smaller than all integers in B."
   ]
  },
  {
   "cell_type": "code",
   "execution_count": null,
   "id": "e587233d",
   "metadata": {},
   "outputs": [],
   "source": [
    "# Older Solution\n",
    "\n",
    "# def balancedSplitExists(arr):\n",
    "#     merge_sort(arr)\n",
    "    \n",
    "#     i = j = 1\n",
    "#     max_right = left_sum = arr[0]\n",
    "#     min_left = right_sum = arr[-1]\n",
    "    \n",
    "#     while (i+j) < len(arr):\n",
    "#         if left_sum <= right_sum:\n",
    "#             left_sum += arr[i]\n",
    "#             max_right = max(max_right, arr[i])\n",
    "#             i += 1\n",
    "#         else:    \n",
    "#             j += 1\n",
    "#             right_sum += arr[-j]\n",
    "#             min_left = min(min_left, arr[-j])\n",
    "    \n",
    "#     if left_sum == right_sum and max_right < min_left:\n",
    "#         return True\n",
    "    \n",
    "#     return False"
   ]
  },
  {
   "cell_type": "code",
   "execution_count": 47,
   "id": "a2de47d4",
   "metadata": {},
   "outputs": [],
   "source": [
    "def balancedSplitExists(arr):\n",
    "    \n",
    "    arr.sort()\n",
    "    \n",
    "    left_sum = sum(arr)\n",
    "    right_sum = 0\n",
    "    \n",
    "    for i in range(len(arr)-1, -1, -1):\n",
    "        left_sum -= arr[i]\n",
    "        right_sum += arr[i]\n",
    "        if left_sum == right_sum:\n",
    "            if arr[i-1] < arr[i]:\n",
    "                return True\n",
    "    \n",
    "    return False"
   ]
  },
  {
   "cell_type": "code",
   "execution_count": 48,
   "id": "b9a05773",
   "metadata": {},
   "outputs": [
    {
     "data": {
      "text/plain": [
       "True"
      ]
     },
     "execution_count": 48,
     "metadata": {},
     "output_type": "execute_result"
    }
   ],
   "source": [
    "arr_1 = [2, 1, 2, 5]\n",
    "balancedSplitExists(arr_1)"
   ]
  },
  {
   "cell_type": "code",
   "execution_count": 49,
   "id": "fd524ef2",
   "metadata": {},
   "outputs": [
    {
     "data": {
      "text/plain": [
       "False"
      ]
     },
     "execution_count": 49,
     "metadata": {},
     "output_type": "execute_result"
    }
   ],
   "source": [
    "arr_2 = [3, 6, 3, 4, 4]\n",
    "balancedSplitExists(arr_2)"
   ]
  },
  {
   "cell_type": "code",
   "execution_count": 52,
   "id": "834fa1d3",
   "metadata": {},
   "outputs": [
    {
     "data": {
      "text/plain": [
       "True"
      ]
     },
     "execution_count": 52,
     "metadata": {},
     "output_type": "execute_result"
    }
   ],
   "source": [
    "arr_3 = [7, 1, 2, 2, 1, 3, 4, 13, 3, 4, 3, 6, 3]\n",
    "balancedSplitExists(arr_3)"
   ]
  },
  {
   "cell_type": "markdown",
   "id": "55d074fa",
   "metadata": {},
   "source": [
    "# Counting Triangles\n",
    "\n",
    "Given a list of N triangles with integer side lengths, determine how many different triangles there are. Two triangles are considered to be the same if they can both be placed on the plane such that their vertices occupy exactly the same three points.\n",
    "\n",
    "<b>Example 1</b>\n",
    "arr = [[2, 2, 3], [3, 2, 2], [2, 5, 6]] <br />\n",
    "output = 2\n",
    "\n",
    "The first two triangles are the same, so there are only 2 distinct triangles.\n",
    "\n",
    "<b>Example 2</b>\n",
    "arr = [[8, 4, 6], [100, 101, 102], [84, 93, 173]] <br />\n",
    "output = 3\n",
    "\n",
    "All of these triangles are distinct.\n",
    "\n",
    "<b>Example 3</b>\n",
    "arr = [[5, 8, 9], [5, 9, 8], [9, 5, 8], [9, 8, 5], [8, 9, 5], [8, 5, 9]] <br />\n",
    "output = 1\n",
    "\n",
    "All of these triangles are the same."
   ]
  },
  {
   "cell_type": "code",
   "execution_count": null,
   "id": "6db5bb69",
   "metadata": {},
   "outputs": [],
   "source": [
    "# Older Solution\n",
    "\n",
    "# def countDistinctTriangles(arr):\n",
    "\n",
    "#     distinct_triangles = set()\n",
    "#     triangle_cnt = 0\n",
    "#     for sides in arr:\n",
    "#         sorted_sides = tuple(sorted(sides))\n",
    "#         if sorted_sides not in distinct_triangles:\n",
    "#             distinct_triangles.add(sorted_sides)\n",
    "\n",
    "#     return len(distinct_triangles)"
   ]
  },
  {
   "cell_type": "code",
   "execution_count": 55,
   "id": "52120b50",
   "metadata": {},
   "outputs": [],
   "source": [
    "def countDistinctTriangles(arr):\n",
    "    return len({tuple(sorted(triangle)) for triangle in arr})"
   ]
  },
  {
   "cell_type": "code",
   "execution_count": 56,
   "id": "f9d0343c",
   "metadata": {},
   "outputs": [
    {
     "data": {
      "text/plain": [
       "3"
      ]
     },
     "execution_count": 56,
     "metadata": {},
     "output_type": "execute_result"
    }
   ],
   "source": [
    "arr_1 = [(7, 6, 5), (5, 7, 6), (8, 2, 9), (2, 3, 4), (2, 4, 3)]\n",
    "countDistinctTriangles(arr_1)"
   ]
  },
  {
   "cell_type": "code",
   "execution_count": 57,
   "id": "9b195e6e",
   "metadata": {},
   "outputs": [
    {
     "data": {
      "text/plain": [
       "3"
      ]
     },
     "execution_count": 57,
     "metadata": {},
     "output_type": "execute_result"
    }
   ],
   "source": [
    "arr_2 = [(3, 4, 5), (8, 8, 9), (7, 7, 7)]\n",
    "countDistinctTriangles(arr_2)"
   ]
  },
  {
   "cell_type": "code",
   "execution_count": 58,
   "id": "e8d177e6",
   "metadata": {},
   "outputs": [
    {
     "data": {
      "text/plain": [
       "2"
      ]
     },
     "execution_count": 58,
     "metadata": {},
     "output_type": "execute_result"
    }
   ],
   "source": [
    "arr_3 = [[2, 2, 3], [3, 2, 2], [2, 5, 6]]\n",
    "countDistinctTriangles(arr_3)"
   ]
  },
  {
   "cell_type": "code",
   "execution_count": 59,
   "id": "cfe00114",
   "metadata": {},
   "outputs": [
    {
     "data": {
      "text/plain": [
       "3"
      ]
     },
     "execution_count": 59,
     "metadata": {},
     "output_type": "execute_result"
    }
   ],
   "source": [
    "arr_4 = [[8, 4, 6], [100, 101, 102], [84, 93, 173]]\n",
    "countDistinctTriangles(arr_4)"
   ]
  },
  {
   "cell_type": "code",
   "execution_count": 60,
   "id": "e75d8eb9",
   "metadata": {},
   "outputs": [
    {
     "data": {
      "text/plain": [
       "1"
      ]
     },
     "execution_count": 60,
     "metadata": {},
     "output_type": "execute_result"
    }
   ],
   "source": [
    "arr_5 = [[5, 8, 9], [5, 9, 8], [9, 5, 8], [9, 8, 5], [8, 9, 5], [8, 5, 9]]\n",
    "countDistinctTriangles(arr_5)"
   ]
  },
  {
   "cell_type": "code",
   "execution_count": null,
   "id": "af7bd8af",
   "metadata": {},
   "outputs": [],
   "source": []
  }
 ],
 "metadata": {
  "kernelspec": {
   "display_name": "Python 3 (ipykernel)",
   "language": "python",
   "name": "python3"
  },
  "language_info": {
   "codemirror_mode": {
    "name": "ipython",
    "version": 3
   },
   "file_extension": ".py",
   "mimetype": "text/x-python",
   "name": "python",
   "nbconvert_exporter": "python",
   "pygments_lexer": "ipython3",
   "version": "3.8.16"
  }
 },
 "nbformat": 4,
 "nbformat_minor": 5
}
