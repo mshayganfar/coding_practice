{
 "cells": [
  {
   "cell_type": "markdown",
   "id": "76b3b0e7",
   "metadata": {},
   "source": [
    "# Hash Tables"
   ]
  },
  {
   "cell_type": "markdown",
   "id": "c0602494",
   "metadata": {},
   "source": [
    "## Pair Sums\n",
    "\n",
    "Given a list of n integers arr[0..(n-1)], determine the number of different pairs of elements within it which sum to k.\n",
    "\n",
    "If an integer appears in the list multiple times, each copy is considered to be different; that is, two pairs are considered different if one pair includes at least one array index which the other doesn't, even if they include the same values.\n",
    "\n",
    "<b>Example 1</b>\n",
    "\n",
    "n = 5 <br />\n",
    "k = 6 <br />\n",
    "arr = [1, 2, 3, 4, 3] <br />\n",
    "output = 2 <br />\n",
    "\n",
    "The valid pairs are 2+4 and 3+3.\n",
    "\n",
    "<b>Example 2</b>\n",
    "n = 5 <br />\n",
    "k = 6 <br />\n",
    "arr = [1, 5, 3, 3, 3] <br />\n",
    "output = 4 <br />\n",
    "\n",
    "There's one valid pair 1+5, and three different valid pairs 3+3 (the 3rd and 4th elements, 3rd and 5th elements, and 4th and 5th elements)."
   ]
  },
  {
   "cell_type": "code",
   "execution_count": null,
   "id": "0292f40b",
   "metadata": {},
   "outputs": [],
   "source": [
    "# Older Solution\n",
    "\n",
    "# def numberOfWays(arr, k):\n",
    "#     list_perm = list(combinations(arr, 2))\n",
    "\n",
    "#     pair_sum_dict = {}\n",
    "#     for item in list_perm:\n",
    "#         key = item[0]+item[1]\n",
    "#         if key not in pair_sum_dict.keys():\n",
    "#             val_list = []\n",
    "#             val_list.append(item)\n",
    "#             pair_sum_dict[key] = val_list\n",
    "#         else:\n",
    "#             pair_sum_dict[key].append(item)\n",
    "\n",
    "#     return len(pair_sum_dict[k])"
   ]
  },
  {
   "cell_type": "code",
   "execution_count": 19,
   "id": "83b60592",
   "metadata": {},
   "outputs": [],
   "source": [
    "def numberOfWays(arr, k):\n",
    "    num_dict = {}\n",
    "    for num in arr:\n",
    "        if num in num_dict:\n",
    "            num_dict[num] += 1\n",
    "        else:\n",
    "            num_dict[num] = 1\n",
    "    \n",
    "    count = 0\n",
    "    for v in num_dict:\n",
    "        if (k - v) in num_dict:\n",
    "            if (k - v) == (k / 2):\n",
    "                count += (num_dict[k-v] * (num_dict[k-v] - 1))\n",
    "            else:\n",
    "                count += (num_dict[v] * num_dict[k-v])\n",
    "    \n",
    "    print(num_dict)\n",
    "    return count//2"
   ]
  },
  {
   "cell_type": "code",
   "execution_count": 20,
   "id": "4140719c",
   "metadata": {},
   "outputs": [
    {
     "name": "stdout",
     "output_type": "stream",
     "text": [
      "{1: 1, 2: 1, 3: 2, 4: 1}\n"
     ]
    },
    {
     "data": {
      "text/plain": [
       "2"
      ]
     },
     "execution_count": 20,
     "metadata": {},
     "output_type": "execute_result"
    }
   ],
   "source": [
    "k = 6\n",
    "arr = [1, 2, 3, 4, 3]\n",
    "numberOfWays(arr, k)"
   ]
  },
  {
   "cell_type": "code",
   "execution_count": 21,
   "id": "c756edf0",
   "metadata": {},
   "outputs": [
    {
     "name": "stdout",
     "output_type": "stream",
     "text": [
      "{1: 1, 5: 1, 3: 3}\n"
     ]
    },
    {
     "data": {
      "text/plain": [
       "4"
      ]
     },
     "execution_count": 21,
     "metadata": {},
     "output_type": "execute_result"
    }
   ],
   "source": [
    "k = 6\n",
    "arr = [1, 5, 3, 3, 3]\n",
    "numberOfWays(arr, k)"
   ]
  },
  {
   "cell_type": "code",
   "execution_count": 23,
   "id": "ee3c5878",
   "metadata": {},
   "outputs": [
    {
     "name": "stdout",
     "output_type": "stream",
     "text": [
      "{1: 1, 2: 1, 5: 1, 3: 3, 4: 1}\n"
     ]
    },
    {
     "data": {
      "text/plain": [
       "3"
      ]
     },
     "execution_count": 23,
     "metadata": {},
     "output_type": "execute_result"
    }
   ],
   "source": [
    "k = 8\n",
    "arr = [1, 2, 5, 3, 3, 4, 3]\n",
    "numberOfWays(arr, k)"
   ]
  }
 ],
 "metadata": {
  "kernelspec": {
   "display_name": "Python 3 (ipykernel)",
   "language": "python",
   "name": "python3"
  },
  "language_info": {
   "codemirror_mode": {
    "name": "ipython",
    "version": 3
   },
   "file_extension": ".py",
   "mimetype": "text/x-python",
   "name": "python",
   "nbconvert_exporter": "python",
   "pygments_lexer": "ipython3",
   "version": "3.8.16"
  }
 },
 "nbformat": 4,
 "nbformat_minor": 5
}
