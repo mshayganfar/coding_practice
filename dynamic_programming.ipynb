{
 "cells": [
  {
   "cell_type": "markdown",
   "id": "628ab7ee",
   "metadata": {},
   "source": [
    "# Dynamic Programming"
   ]
  },
  {
   "cell_type": "markdown",
   "id": "b45981ae",
   "metadata": {},
   "source": [
    "## 1) Climbing Stairs\n",
    "\n",
    "You are climbing a staircase. It takes n steps to reach the top.\n",
    "\n",
    "Each time you can either climb 1 or 2 steps. In how many distinct ways can you climb to the top?\n",
    "\n",
    "<b>Example</b>\n",
    "\n",
    "Input: n = 2 <br />\n",
    "Output: 2\n",
    "Explanation: There are two ways to climb to the top.\n",
    "1. 1 step + 1 step\n",
    "2. 2 steps\n",
    "\n",
    "<b>Example</b>\n",
    "\n",
    "Input: n = 3 <br />\n",
    "Output: 3\n",
    "Explanation: There are three ways to climb to the top.\n",
    "1. 1 step + 1 step + 1 step\n",
    "2. 1 step + 2 steps\n",
    "3. 2 steps + 1 step"
   ]
  },
  {
   "cell_type": "code",
   "execution_count": 1,
   "id": "0f77606d",
   "metadata": {},
   "outputs": [],
   "source": [
    "# Top-Down Approach (Memorization)\n",
    "\n",
    "def climbStairs(n: int) -> int:\n",
    "    \n",
    "    def dp(i: int) -> int:\n",
    "        \n",
    "        # Base cases\n",
    "        if i <= 2:\n",
    "            return i\n",
    "        \n",
    "        if i not in memo:\n",
    "            memo[i] = dp(i-1) + dp(i-2) # Recurrence relation\n",
    "        \n",
    "        return memo[i]\n",
    "    \n",
    "    memo = {}\n",
    "    return dp(n)"
   ]
  },
  {
   "cell_type": "code",
   "execution_count": 2,
   "id": "a3060ff7",
   "metadata": {},
   "outputs": [],
   "source": [
    "# Bottom-Up Approach (Tabulation)\n",
    "\n",
    "def climbStairs(n: int) -> int:\n",
    "    \n",
    "    if n == 1:\n",
    "        return 1\n",
    "    \n",
    "    dp = [0] * (n+1)\n",
    "    \n",
    "    # Base cases\n",
    "    dp[1] = 1\n",
    "    dp[2] = 2\n",
    "    \n",
    "    for i in range(3, n+1):\n",
    "        dp[i] = dp[i-1] + dp[i-2] # Recurrence relation\n",
    "    \n",
    "    return dp[n]"
   ]
  },
  {
   "cell_type": "code",
   "execution_count": 3,
   "id": "6aef8a8f",
   "metadata": {},
   "outputs": [
    {
     "data": {
      "text/plain": [
       "2"
      ]
     },
     "execution_count": 3,
     "metadata": {},
     "output_type": "execute_result"
    }
   ],
   "source": [
    "n = 2\n",
    "climbStairs(n)"
   ]
  },
  {
   "cell_type": "code",
   "execution_count": 4,
   "id": "7680b0c9",
   "metadata": {},
   "outputs": [
    {
     "data": {
      "text/plain": [
       "3"
      ]
     },
     "execution_count": 4,
     "metadata": {},
     "output_type": "execute_result"
    }
   ],
   "source": [
    "n = 3\n",
    "climbStairs(n)"
   ]
  },
  {
   "cell_type": "markdown",
   "id": "8826af5e",
   "metadata": {},
   "source": [
    "## 2) House Robber\n",
    "\n",
    "You are a professional robber planning to rob houses along a street. Each house has a certain amount of money stashed, the only constraint stopping you from robbing each of them is that adjacent houses have security systems connected and it will automatically contact the police if two adjacent houses were broken into on the same night.\n",
    "\n",
    "Given an integer array nums representing the amount of money of each house, return the maximum amount of money you can rob tonight without alerting the police.\n",
    "\n",
    "<b>Example</b>\n",
    "\n",
    "Input: nums = [1, 2, 3, 1] <br />\n",
    "Output: 4\n",
    "\n",
    "Explanation: Rob house 1 (money = 1) and then rob house 3 (money = 3). <br />\n",
    "Total amount you can rob = 1 + 3 = 4.\n",
    "\n",
    "<b>Example</b>\n",
    "\n",
    "Input: nums = [2, 7, 9, 3, 1] <br />\n",
    "Output: 12\n",
    "\n",
    "Explanation: Rob house 1 (money = 2), rob house 3 (money = 9) and rob house 5 (money = 1). <br />\n",
    "Total amount you can rob = 2 + 9 + 1 = 12."
   ]
  },
  {
   "cell_type": "code",
   "execution_count": 5,
   "id": "096570e1",
   "metadata": {},
   "outputs": [],
   "source": [
    "from typing import List"
   ]
  },
  {
   "cell_type": "code",
   "execution_count": 6,
   "id": "b8b56bbd",
   "metadata": {},
   "outputs": [],
   "source": [
    "# Top-Down Approach (Memorization)\n",
    "\n",
    "def rob(nums: List[int]) -> int:\n",
    "    def dp(i: int):\n",
    "        \n",
    "        # Base cases\n",
    "        if i == 0:\n",
    "            return nums[0]\n",
    "        elif i == 1:\n",
    "            return max(nums[0], nums[1])\n",
    "        \n",
    "        if i not in memo:\n",
    "            memo[i] = max(dp(i-1), dp(i-2) + nums[i]) # Recurrence relation\n",
    "            \n",
    "        return memo[i]\n",
    "            \n",
    "    memo = {}\n",
    "    return dp(len(nums) - 1)"
   ]
  },
  {
   "cell_type": "code",
   "execution_count": 7,
   "id": "2a8fb09c",
   "metadata": {},
   "outputs": [],
   "source": [
    "# Bottom-Up Approach (Tabulation)\n",
    "\n",
    "def rob(nums: List[int]) -> int:\n",
    "    \n",
    "    if len(nums) == 1:\n",
    "        return nums[0]\n",
    "    \n",
    "    dp = [0] * len(nums)\n",
    "    \n",
    "    # Base cases\n",
    "    dp[0] = nums[0]\n",
    "    dp[1] = max(nums[0], nums[1])\n",
    "    \n",
    "    for i in range(2, len(nums)):\n",
    "        dp[i] = max(dp[i-1], dp[i-2] + nums[i]) # Recurrence relation\n",
    "    \n",
    "    return dp[-1]"
   ]
  },
  {
   "cell_type": "code",
   "execution_count": 8,
   "id": "51aa587f",
   "metadata": {},
   "outputs": [
    {
     "data": {
      "text/plain": [
       "4"
      ]
     },
     "execution_count": 8,
     "metadata": {},
     "output_type": "execute_result"
    }
   ],
   "source": [
    "nums = [1, 2, 3, 1]\n",
    "rob(nums)"
   ]
  },
  {
   "cell_type": "code",
   "execution_count": 9,
   "id": "90737ef9",
   "metadata": {},
   "outputs": [
    {
     "data": {
      "text/plain": [
       "12"
      ]
     },
     "execution_count": 9,
     "metadata": {},
     "output_type": "execute_result"
    }
   ],
   "source": [
    "nums = [2, 7, 9, 3, 1]\n",
    "rob(nums)"
   ]
  },
  {
   "cell_type": "markdown",
   "id": "23782fea",
   "metadata": {},
   "source": [
    "## 3) Min Cost Climbing Stairs\n",
    "\n",
    "You are given an integer array cost where cost[i] is the cost of ith step on a staircase. Once you pay the cost, you can either climb one or two steps.\n",
    "\n",
    "You can either start from the step with index 0, or the step with index 1.\n",
    "\n",
    "Return the minimum cost to reach the top of the floor.\n",
    "\n",
    "<b>Example</b>\n",
    "\n",
    "Input: cost = [10, 15, 20] <br />\n",
    "Output: 15\n",
    "\n",
    "Explanation: You will start at index 1.\n",
    "- Pay 15 and climb two steps to reach the top.\n",
    "\n",
    "The total cost is 15.\n",
    "\n",
    "<b>Example</b>\n",
    "\n",
    "Input: cost = [1, 100, 1, 1, 1, 100, 1, 1, 100, 1] <br />\n",
    "Output: 6\n",
    "\n",
    "Explanation: You will start at index 0.\n",
    "- Pay 1 and climb two steps to reach index 2.\n",
    "- Pay 1 and climb two steps to reach index 4.\n",
    "- Pay 1 and climb two steps to reach index 6.\n",
    "- Pay 1 and climb one step to reach index 7.\n",
    "- Pay 1 and climb two steps to reach index 9.\n",
    "- Pay 1 and climb one step to reach the top.\n",
    "\n",
    "The total cost is 6."
   ]
  },
  {
   "cell_type": "code",
   "execution_count": 10,
   "id": "8bd26918",
   "metadata": {},
   "outputs": [],
   "source": [
    "# Top-Down Approach (Memorization)\n",
    "\n",
    "def minCostClimbingStairs(cost: List[int]) -> int:\n",
    "    \n",
    "    def dp(i: int) -> int:\n",
    "        \n",
    "        if i <= 1:\n",
    "            return 0\n",
    "        \n",
    "        if i in memo:\n",
    "            return memo[i]\n",
    "        \n",
    "        down_one = cost[i-1] + dp(i-1)\n",
    "        down_two = cost[i-2] + dp(i-2)\n",
    "        \n",
    "        memo[i] = min(down_one, down_two) # Recurrence relation\n",
    "        \n",
    "        return memo[i]\n",
    "    \n",
    "    memo = {}\n",
    "    return dp(len(cost))"
   ]
  },
  {
   "cell_type": "code",
   "execution_count": 11,
   "id": "e1aa33c0",
   "metadata": {},
   "outputs": [],
   "source": [
    "# Bottom-Up Approach (Tabulation)\n",
    "\n",
    "def minCostClimbingStairs(cost: List[int]) -> int:\n",
    "    \n",
    "    dp = [0] * (len(cost) + 1)\n",
    "    \n",
    "    for i in range(2, len(cost) + 1):\n",
    "        one_step = dp[i-1] + cost[i-1]\n",
    "        two_steps = dp[i-2] + cost[i-2]\n",
    "        dp[i] = min(one_step, two_steps) # Recurrence relation\n",
    "    \n",
    "    return dp[-1]"
   ]
  },
  {
   "cell_type": "code",
   "execution_count": 12,
   "id": "8dd1ba00",
   "metadata": {},
   "outputs": [
    {
     "data": {
      "text/plain": [
       "15"
      ]
     },
     "execution_count": 12,
     "metadata": {},
     "output_type": "execute_result"
    }
   ],
   "source": [
    "cost = [10, 15, 20]\n",
    "minCostClimbingStairs(cost)"
   ]
  },
  {
   "cell_type": "code",
   "execution_count": 13,
   "id": "6feba010",
   "metadata": {},
   "outputs": [
    {
     "data": {
      "text/plain": [
       "6"
      ]
     },
     "execution_count": 13,
     "metadata": {},
     "output_type": "execute_result"
    }
   ],
   "source": [
    "cost = [1, 100, 1, 1, 1, 100, 1, 1, 100, 1]\n",
    "minCostClimbingStairs(cost)"
   ]
  },
  {
   "cell_type": "markdown",
   "id": "e6275b60",
   "metadata": {},
   "source": [
    "## 4) N-th Tribonacci Number\n",
    "\n",
    "The Tribonacci sequence Tn is defined as follows: \n",
    "\n",
    "T0 = 0, T1 = 1, T2 = 1, and Tn+3 = Tn + Tn+1 + Tn+2 for n >= 0.\n",
    "\n",
    "Given n, return the value of Tn.\n",
    "\n",
    "<b>Example</b>\n",
    "\n",
    "Input: n = 4 <br />\n",
    "Output: 4\n",
    "\n",
    "Explanation:\n",
    "T_3 = 0 + 1 + 1 = 2 <br />\n",
    "T_4 = 1 + 1 + 2 = 4 <br />\n",
    "\n",
    "<b>Example</b>\n",
    "\n",
    "Input: n = 25 <br />\n",
    "Output: 1389537"
   ]
  },
  {
   "cell_type": "code",
   "execution_count": 14,
   "id": "edee91ae",
   "metadata": {},
   "outputs": [],
   "source": [
    "# Top-Down Approach (Memorization)\n",
    "\n",
    "def tribonacci(n: int) -> int:\n",
    "    \n",
    "    def dp(i: int) -> int:\n",
    "        \n",
    "        if i not in memo:\n",
    "            memo[i] = dp(i-1) + dp(i-2) + dp(i-3) # Recurrence relation\n",
    "        \n",
    "        return memo[i]\n",
    "    \n",
    "    memo = {0: 0, 1: 1, 2: 1}\n",
    "    return dp(n)"
   ]
  },
  {
   "cell_type": "code",
   "execution_count": 15,
   "id": "dbdf24d2",
   "metadata": {},
   "outputs": [],
   "source": [
    "# Bottom-Up Approach (Tabulation)\n",
    "\n",
    "def tribonacci(n: int) -> int:\n",
    "    \n",
    "    if n < 3:\n",
    "        return 1 if n else 0\n",
    "    \n",
    "    dp = [0] * (n+1)\n",
    "    \n",
    "    dp[0] = 0\n",
    "    dp[1] = 1\n",
    "    dp[2] = 1\n",
    "    \n",
    "    for i in range(3, n+1):\n",
    "        dp[i] = dp[i-1] + dp[i-2] + dp[i-3]\n",
    "    \n",
    "    return dp[n]"
   ]
  },
  {
   "cell_type": "code",
   "execution_count": 16,
   "id": "6c72f5f6",
   "metadata": {},
   "outputs": [
    {
     "data": {
      "text/plain": [
       "4"
      ]
     },
     "execution_count": 16,
     "metadata": {},
     "output_type": "execute_result"
    }
   ],
   "source": [
    "n = 4\n",
    "tribonacci(n)"
   ]
  },
  {
   "cell_type": "code",
   "execution_count": 17,
   "id": "70270b77",
   "metadata": {},
   "outputs": [
    {
     "data": {
      "text/plain": [
       "1389537"
      ]
     },
     "execution_count": 17,
     "metadata": {},
     "output_type": "execute_result"
    }
   ],
   "source": [
    "n = 25\n",
    "tribonacci(n)"
   ]
  },
  {
   "cell_type": "code",
   "execution_count": null,
   "id": "7a89c12d",
   "metadata": {},
   "outputs": [],
   "source": []
  }
 ],
 "metadata": {
  "kernelspec": {
   "display_name": "Python 3 (ipykernel)",
   "language": "python",
   "name": "python3"
  },
  "language_info": {
   "codemirror_mode": {
    "name": "ipython",
    "version": 3
   },
   "file_extension": ".py",
   "mimetype": "text/x-python",
   "name": "python",
   "nbconvert_exporter": "python",
   "pygments_lexer": "ipython3",
   "version": "3.8.16"
  }
 },
 "nbformat": 4,
 "nbformat_minor": 5
}
