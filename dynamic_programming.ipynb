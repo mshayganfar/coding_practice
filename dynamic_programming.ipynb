{
 "cells": [
  {
   "cell_type": "markdown",
   "id": "0ea8d32c",
   "metadata": {},
   "source": [
    "# Dynamic Programming"
   ]
  },
  {
   "cell_type": "markdown",
   "id": "0abf3c10",
   "metadata": {},
   "source": [
    "## 1) Climbing Stairs\n",
    "\n",
    "You are climbing a staircase. It takes n steps to reach the top.\n",
    "\n",
    "Each time you can either climb 1 or 2 steps. In how many distinct ways can you climb to the top?\n",
    "\n",
    "<b>Example</b>\n",
    "\n",
    "Input: n = 2 <br />\n",
    "Output: 2\n",
    "Explanation: There are two ways to climb to the top.\n",
    "1. 1 step + 1 step\n",
    "2. 2 steps\n",
    "\n",
    "<b>Example</b>\n",
    "\n",
    "Input: n = 3 <br />\n",
    "Output: 3\n",
    "Explanation: There are three ways to climb to the top.\n",
    "1. 1 step + 1 step + 1 step\n",
    "2. 1 step + 2 steps\n",
    "3. 2 steps + 1 step"
   ]
  },
  {
   "cell_type": "code",
   "execution_count": 1,
   "id": "660af8b0",
   "metadata": {},
   "outputs": [],
   "source": [
    "# Top-Down Approach (Memorization)\n",
    "\n",
    "def climbStairs(n: int) -> int:\n",
    "    \n",
    "    def dp(i: int) -> int:\n",
    "        \n",
    "        # Base cases\n",
    "        if i <= 2:\n",
    "            return i\n",
    "        \n",
    "        if i not in memo:\n",
    "            memo[i] = dp(i-1) + dp(i-2) # Recurrence relation\n",
    "        \n",
    "        return memo[i]\n",
    "    \n",
    "    memo = {}\n",
    "    return dp(n)"
   ]
  },
  {
   "cell_type": "code",
   "execution_count": 5,
   "id": "5ef29a4c",
   "metadata": {},
   "outputs": [],
   "source": [
    "# Bottom-Up Approach (Tabulation)\n",
    "\n",
    "def climbStairs(n: int) -> int:\n",
    "    \n",
    "    if n == 1:\n",
    "        return 1\n",
    "    \n",
    "    dp = [0] * (n+1)\n",
    "    \n",
    "    # Base cases\n",
    "    dp[1] = 1\n",
    "    dp[2] = 2\n",
    "    \n",
    "    for i in range(3, n+1):\n",
    "        dp[i] = dp[i-1] + dp[i-2] # Recurrence relation\n",
    "    \n",
    "    return dp[n]"
   ]
  },
  {
   "cell_type": "code",
   "execution_count": 6,
   "id": "9ee27163",
   "metadata": {},
   "outputs": [
    {
     "data": {
      "text/plain": [
       "2"
      ]
     },
     "execution_count": 6,
     "metadata": {},
     "output_type": "execute_result"
    }
   ],
   "source": [
    "n = 2\n",
    "climbStairs(n)"
   ]
  },
  {
   "cell_type": "code",
   "execution_count": 7,
   "id": "5ce1e46f",
   "metadata": {},
   "outputs": [
    {
     "data": {
      "text/plain": [
       "3"
      ]
     },
     "execution_count": 7,
     "metadata": {},
     "output_type": "execute_result"
    }
   ],
   "source": [
    "n = 3\n",
    "climbStairs(n)"
   ]
  },
  {
   "cell_type": "markdown",
   "id": "4aa6c157",
   "metadata": {},
   "source": [
    "## 2) House Robber\n",
    "\n",
    "You are a professional robber planning to rob houses along a street. Each house has a certain amount of money stashed, the only constraint stopping you from robbing each of them is that adjacent houses have security systems connected and it will automatically contact the police if two adjacent houses were broken into on the same night.\n",
    "\n",
    "Given an integer array nums representing the amount of money of each house, return the maximum amount of money you can rob tonight without alerting the police.\n",
    "\n",
    "<b>Example</b>\n",
    "\n",
    "Input: nums = [1, 2, 3, 1] <br />\n",
    "Output: 4\n",
    "\n",
    "Explanation: Rob house 1 (money = 1) and then rob house 3 (money = 3). <br />\n",
    "Total amount you can rob = 1 + 3 = 4.\n",
    "\n",
    "<b>Example</b>\n",
    "\n",
    "Input: nums = [2, 7, 9, 3, 1] <br />\n",
    "Output: 12\n",
    "\n",
    "Explanation: Rob house 1 (money = 2), rob house 3 (money = 9) and rob house 5 (money = 1). <br />\n",
    "Total amount you can rob = 2 + 9 + 1 = 12."
   ]
  },
  {
   "cell_type": "code",
   "execution_count": 10,
   "id": "a9bc0edb",
   "metadata": {},
   "outputs": [],
   "source": [
    "from typing import List"
   ]
  },
  {
   "cell_type": "code",
   "execution_count": 11,
   "id": "efba783d",
   "metadata": {},
   "outputs": [],
   "source": [
    "# Top-Down Approach (Memorization)\n",
    "\n",
    "def rob(nums: List[int]) -> int:\n",
    "    def dp(i: int):\n",
    "        \n",
    "        # Base cases\n",
    "        if i == 0:\n",
    "            return nums[0]\n",
    "        elif i == 1:\n",
    "            return max(nums[0], nums[1])\n",
    "        \n",
    "        if i not in memo:\n",
    "            memo[i] = max(dp(i-1), dp(i-2) + nums[i]) # Recurrence relation\n",
    "            \n",
    "        return memo[i]\n",
    "            \n",
    "    memo = {}\n",
    "    return dp(len(nums) - 1)"
   ]
  },
  {
   "cell_type": "code",
   "execution_count": 18,
   "id": "1a033d4d",
   "metadata": {},
   "outputs": [],
   "source": [
    "# Bottom-Up Approach (Tabulation)\n",
    "\n",
    "def rob(nums: List[int]) -> int:\n",
    "    \n",
    "    if len(nums) == 1:\n",
    "        return nums[0]\n",
    "    \n",
    "    dp = [0] * len(nums)\n",
    "    \n",
    "    # Base cases\n",
    "    dp[0] = nums[0]\n",
    "    dp[1] = max(nums[0], nums[1])\n",
    "    \n",
    "    for i in range(2, len(nums)):\n",
    "        dp[i] = max(dp[i-1], dp[i-2] + nums[i]) # Recurrence relation\n",
    "    \n",
    "    return dp[-1]"
   ]
  },
  {
   "cell_type": "code",
   "execution_count": 19,
   "id": "6c3294ef",
   "metadata": {},
   "outputs": [
    {
     "data": {
      "text/plain": [
       "4"
      ]
     },
     "execution_count": 19,
     "metadata": {},
     "output_type": "execute_result"
    }
   ],
   "source": [
    "nums = [1, 2, 3, 1]\n",
    "rob(nums)"
   ]
  },
  {
   "cell_type": "code",
   "execution_count": 20,
   "id": "5e880788",
   "metadata": {},
   "outputs": [
    {
     "data": {
      "text/plain": [
       "12"
      ]
     },
     "execution_count": 20,
     "metadata": {},
     "output_type": "execute_result"
    }
   ],
   "source": [
    "nums = [2, 7, 9, 3, 1]\n",
    "rob(nums)"
   ]
  },
  {
   "cell_type": "markdown",
   "id": "41ec6f71",
   "metadata": {},
   "source": [
    "## 3) Min Cost Climbing Stairs\n",
    "\n",
    "You are given an integer array cost where cost[i] is the cost of ith step on a staircase. Once you pay the cost, you can either climb one or two steps.\n",
    "\n",
    "You can either start from the step with index 0, or the step with index 1.\n",
    "\n",
    "Return the minimum cost to reach the top of the floor.\n",
    "\n",
    "<b>Example</b>\n",
    "\n",
    "Input: cost = [10, 15, 20] <br />\n",
    "Output: 15\n",
    "\n",
    "Explanation: You will start at index 1.\n",
    "- Pay 15 and climb two steps to reach the top.\n",
    "\n",
    "The total cost is 15.\n",
    "\n",
    "<b>Example</b>\n",
    "\n",
    "Input: cost = [1, 100, 1, 1, 1, 100, 1, 1, 100, 1] <br />\n",
    "Output: 6\n",
    "\n",
    "Explanation: You will start at index 0.\n",
    "- Pay 1 and climb two steps to reach index 2.\n",
    "- Pay 1 and climb two steps to reach index 4.\n",
    "- Pay 1 and climb two steps to reach index 6.\n",
    "- Pay 1 and climb one step to reach index 7.\n",
    "- Pay 1 and climb two steps to reach index 9.\n",
    "- Pay 1 and climb one step to reach the top.\n",
    "\n",
    "The total cost is 6."
   ]
  },
  {
   "cell_type": "code",
   "execution_count": 34,
   "id": "515a1365",
   "metadata": {},
   "outputs": [],
   "source": [
    "# Top-Down Approach (Memorization)\n",
    "\n",
    "def minCostClimbingStairs(cost: List[int]) -> int:\n",
    "    \n",
    "    def dp(i: int) -> int:\n",
    "        \n",
    "        if i <= 1:\n",
    "            return 0\n",
    "        \n",
    "        if i in memo:\n",
    "            return memo[i]\n",
    "        \n",
    "        down_one = cost[i-1] + dp(i-1)\n",
    "        down_two = cost[i-2] + dp(i-2)\n",
    "        \n",
    "        memo[i] = min(down_one, down_two) # Recurrence relation\n",
    "        \n",
    "        return memo[i]\n",
    "    \n",
    "    memo = {}\n",
    "    return dp(len(cost))"
   ]
  },
  {
   "cell_type": "code",
   "execution_count": 37,
   "id": "95769869",
   "metadata": {},
   "outputs": [],
   "source": [
    "# Bottom-Up Approach (Tabulation)\n",
    "\n",
    "def minCostClimbingStairs(cost: List[int]) -> int:\n",
    "    \n",
    "    dp = [0] * (len(cost) + 1)\n",
    "    \n",
    "    for i in range(2, len(cost) + 1):\n",
    "        one_step = dp[i-1] + cost[i-1]\n",
    "        two_steps = dp[i-2] + cost[i-2]\n",
    "        dp[i] = min(one_step, two_steps) # Recurrence relation\n",
    "    \n",
    "    return dp[-1]"
   ]
  },
  {
   "cell_type": "code",
   "execution_count": 38,
   "id": "48b9af63",
   "metadata": {},
   "outputs": [
    {
     "data": {
      "text/plain": [
       "15"
      ]
     },
     "execution_count": 38,
     "metadata": {},
     "output_type": "execute_result"
    }
   ],
   "source": [
    "cost = [10, 15, 20]\n",
    "minCostClimbingStairs(cost)"
   ]
  },
  {
   "cell_type": "code",
   "execution_count": 39,
   "id": "16d40c2a",
   "metadata": {},
   "outputs": [
    {
     "data": {
      "text/plain": [
       "6"
      ]
     },
     "execution_count": 39,
     "metadata": {},
     "output_type": "execute_result"
    }
   ],
   "source": [
    "cost = [1, 100, 1, 1, 1, 100, 1, 1, 100, 1]\n",
    "minCostClimbingStairs(cost)"
   ]
  },
  {
   "cell_type": "code",
   "execution_count": null,
   "id": "7f61363c",
   "metadata": {},
   "outputs": [],
   "source": []
  }
 ],
 "metadata": {
  "kernelspec": {
   "display_name": "Python 3 (ipykernel)",
   "language": "python",
   "name": "python3"
  },
  "language_info": {
   "codemirror_mode": {
    "name": "ipython",
    "version": 3
   },
   "file_extension": ".py",
   "mimetype": "text/x-python",
   "name": "python",
   "nbconvert_exporter": "python",
   "pygments_lexer": "ipython3",
   "version": "3.8.16"
  }
 },
 "nbformat": 4,
 "nbformat_minor": 5
}
