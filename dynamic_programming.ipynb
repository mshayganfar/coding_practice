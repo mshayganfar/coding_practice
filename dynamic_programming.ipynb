{
 "cells": [
  {
   "cell_type": "markdown",
   "id": "e2efede4",
   "metadata": {},
   "source": [
    "# Dynamic Programming"
   ]
  },
  {
   "cell_type": "markdown",
   "id": "98e45bb4",
   "metadata": {},
   "source": [
    "## 1) Climbing Stairs\n",
    "\n",
    "You are climbing a staircase. It takes n steps to reach the top.\n",
    "\n",
    "Each time you can either climb 1 or 2 steps. In how many distinct ways can you climb to the top?\n",
    "\n",
    "<b>Example</b>\n",
    "\n",
    "Input: n = 2 <br />\n",
    "Output: 2\n",
    "Explanation: There are two ways to climb to the top.\n",
    "1. 1 step + 1 step\n",
    "2. 2 steps\n",
    "\n",
    "<b>Example</b>\n",
    "\n",
    "Input: n = 3 <br />\n",
    "Output: 3\n",
    "Explanation: There are three ways to climb to the top.\n",
    "1. 1 step + 1 step + 1 step\n",
    "2. 1 step + 2 steps\n",
    "3. 2 steps + 1 step"
   ]
  },
  {
   "cell_type": "code",
   "execution_count": 1,
   "id": "5032d136",
   "metadata": {},
   "outputs": [],
   "source": [
    "# Top-Down Approach (Memoization)\n",
    "\n",
    "def climbStairs(n: int) -> int:\n",
    "    \n",
    "    def dp(i: int) -> int:\n",
    "        \n",
    "        # Base cases\n",
    "        if i <= 2:\n",
    "            return i\n",
    "        \n",
    "        if i not in memo:\n",
    "            memo[i] = dp(i-1) + dp(i-2) # Recurrence relation\n",
    "        \n",
    "        return memo[i]\n",
    "    \n",
    "    memo = {}\n",
    "    return dp(n)"
   ]
  },
  {
   "cell_type": "code",
   "execution_count": 2,
   "id": "53422989",
   "metadata": {},
   "outputs": [],
   "source": [
    "# Bottom-Up Approach (Tabulation)\n",
    "\n",
    "def climbStairs(n: int) -> int:\n",
    "    \n",
    "    if n == 1:\n",
    "        return 1\n",
    "    \n",
    "    dp = [0] * (n+1)\n",
    "    \n",
    "    # Base cases\n",
    "    dp[1] = 1\n",
    "    dp[2] = 2\n",
    "    \n",
    "    for i in range(3, n+1):\n",
    "        dp[i] = dp[i-1] + dp[i-2] # Recurrence relation\n",
    "    \n",
    "    return dp[n]"
   ]
  },
  {
   "cell_type": "code",
   "execution_count": 3,
   "id": "972fe841",
   "metadata": {},
   "outputs": [
    {
     "data": {
      "text/plain": [
       "2"
      ]
     },
     "execution_count": 3,
     "metadata": {},
     "output_type": "execute_result"
    }
   ],
   "source": [
    "n = 2\n",
    "climbStairs(n)"
   ]
  },
  {
   "cell_type": "code",
   "execution_count": 4,
   "id": "cf870409",
   "metadata": {},
   "outputs": [
    {
     "data": {
      "text/plain": [
       "3"
      ]
     },
     "execution_count": 4,
     "metadata": {},
     "output_type": "execute_result"
    }
   ],
   "source": [
    "n = 3\n",
    "climbStairs(n)"
   ]
  },
  {
   "cell_type": "markdown",
   "id": "c1a912af",
   "metadata": {},
   "source": [
    "## 2) House Robber\n",
    "\n",
    "You are a professional robber planning to rob houses along a street. Each house has a certain amount of money stashed, the only constraint stopping you from robbing each of them is that adjacent houses have security systems connected and it will automatically contact the police if two adjacent houses were broken into on the same night.\n",
    "\n",
    "Given an integer array nums representing the amount of money of each house, return the maximum amount of money you can rob tonight without alerting the police.\n",
    "\n",
    "<b>Example</b>\n",
    "\n",
    "Input: nums = [1, 2, 3, 1] <br />\n",
    "Output: 4\n",
    "\n",
    "Explanation: Rob house 1 (money = 1) and then rob house 3 (money = 3). <br />\n",
    "Total amount you can rob = 1 + 3 = 4.\n",
    "\n",
    "<b>Example</b>\n",
    "\n",
    "Input: nums = [2, 7, 9, 3, 1] <br />\n",
    "Output: 12\n",
    "\n",
    "Explanation: Rob house 1 (money = 2), rob house 3 (money = 9) and rob house 5 (money = 1). <br />\n",
    "Total amount you can rob = 2 + 9 + 1 = 12."
   ]
  },
  {
   "cell_type": "code",
   "execution_count": 5,
   "id": "6dc765a6",
   "metadata": {},
   "outputs": [],
   "source": [
    "from typing import List"
   ]
  },
  {
   "cell_type": "code",
   "execution_count": 6,
   "id": "5349db6a",
   "metadata": {},
   "outputs": [],
   "source": [
    "# Top-Down Approach (Memoization)\n",
    "\n",
    "def rob(nums: List[int]) -> int:\n",
    "    def dp(i: int):\n",
    "        \n",
    "        # Base cases\n",
    "        if i == 0:\n",
    "            return nums[0]\n",
    "        elif i == 1:\n",
    "            return max(nums[0], nums[1])\n",
    "        \n",
    "        if i not in memo:\n",
    "            memo[i] = max(dp(i-1), dp(i-2) + nums[i]) # Recurrence relation\n",
    "            \n",
    "        return memo[i]\n",
    "            \n",
    "    memo = {}\n",
    "    return dp(len(nums) - 1)"
   ]
  },
  {
   "cell_type": "code",
   "execution_count": 7,
   "id": "617816ae",
   "metadata": {},
   "outputs": [],
   "source": [
    "# Bottom-Up Approach (Tabulation)\n",
    "\n",
    "def rob(nums: List[int]) -> int:\n",
    "    \n",
    "    if len(nums) == 1:\n",
    "        return nums[0]\n",
    "    \n",
    "    dp = [0] * len(nums)\n",
    "    \n",
    "    # Base cases\n",
    "    dp[0] = nums[0]\n",
    "    dp[1] = max(nums[0], nums[1])\n",
    "    \n",
    "    for i in range(2, len(nums)):\n",
    "        dp[i] = max(dp[i-1], dp[i-2] + nums[i]) # Recurrence relation\n",
    "    \n",
    "    return dp[-1]"
   ]
  },
  {
   "cell_type": "code",
   "execution_count": 8,
   "id": "3da880fe",
   "metadata": {},
   "outputs": [
    {
     "data": {
      "text/plain": [
       "4"
      ]
     },
     "execution_count": 8,
     "metadata": {},
     "output_type": "execute_result"
    }
   ],
   "source": [
    "nums = [1, 2, 3, 1]\n",
    "rob(nums)"
   ]
  },
  {
   "cell_type": "code",
   "execution_count": 9,
   "id": "0313e14b",
   "metadata": {},
   "outputs": [
    {
     "data": {
      "text/plain": [
       "12"
      ]
     },
     "execution_count": 9,
     "metadata": {},
     "output_type": "execute_result"
    }
   ],
   "source": [
    "nums = [2, 7, 9, 3, 1]\n",
    "rob(nums)"
   ]
  },
  {
   "cell_type": "markdown",
   "id": "e6eac4b0",
   "metadata": {},
   "source": [
    "## 3) Min Cost Climbing Stairs\n",
    "\n",
    "You are given an integer array cost where cost[i] is the cost of ith step on a staircase. Once you pay the cost, you can either climb one or two steps.\n",
    "\n",
    "You can either start from the step with index 0, or the step with index 1.\n",
    "\n",
    "Return the minimum cost to reach the top of the floor.\n",
    "\n",
    "<b>Example</b>\n",
    "\n",
    "Input: cost = [10, 15, 20] <br />\n",
    "Output: 15\n",
    "\n",
    "Explanation: You will start at index 1.\n",
    "- Pay 15 and climb two steps to reach the top.\n",
    "\n",
    "The total cost is 15.\n",
    "\n",
    "<b>Example</b>\n",
    "\n",
    "Input: cost = [1, 100, 1, 1, 1, 100, 1, 1, 100, 1] <br />\n",
    "Output: 6\n",
    "\n",
    "Explanation: You will start at index 0.\n",
    "- Pay 1 and climb two steps to reach index 2.\n",
    "- Pay 1 and climb two steps to reach index 4.\n",
    "- Pay 1 and climb two steps to reach index 6.\n",
    "- Pay 1 and climb one step to reach index 7.\n",
    "- Pay 1 and climb two steps to reach index 9.\n",
    "- Pay 1 and climb one step to reach the top.\n",
    "\n",
    "The total cost is 6."
   ]
  },
  {
   "cell_type": "code",
   "execution_count": 10,
   "id": "757815b8",
   "metadata": {},
   "outputs": [],
   "source": [
    "# Top-Down Approach (Memoization)\n",
    "\n",
    "def minCostClimbingStairs(cost: List[int]) -> int:\n",
    "    \n",
    "    def dp(i: int) -> int:\n",
    "        \n",
    "        if i <= 1:\n",
    "            return 0\n",
    "        \n",
    "        if i not in memo:\n",
    "            down_one = cost[i-1] + dp(i-1)\n",
    "            down_two = cost[i-2] + dp(i-2)\n",
    "\n",
    "            memo[i] = min(down_one, down_two) # Recurrence relation\n",
    "        \n",
    "        return memo[i]\n",
    "    \n",
    "    memo = {}\n",
    "    return dp(len(cost))"
   ]
  },
  {
   "cell_type": "code",
   "execution_count": 11,
   "id": "ba700525",
   "metadata": {},
   "outputs": [],
   "source": [
    "# Bottom-Up Approach (Tabulation)\n",
    "\n",
    "def minCostClimbingStairs(cost: List[int]) -> int:\n",
    "    \n",
    "    dp = [0] * (len(cost) + 1)\n",
    "    \n",
    "    for i in range(2, len(cost) + 1):\n",
    "        one_step = dp[i-1] + cost[i-1]\n",
    "        two_steps = dp[i-2] + cost[i-2]\n",
    "        dp[i] = min(one_step, two_steps) # Recurrence relation\n",
    "    \n",
    "    return dp[-1]"
   ]
  },
  {
   "cell_type": "code",
   "execution_count": 12,
   "id": "bf71d2a2",
   "metadata": {},
   "outputs": [
    {
     "data": {
      "text/plain": [
       "15"
      ]
     },
     "execution_count": 12,
     "metadata": {},
     "output_type": "execute_result"
    }
   ],
   "source": [
    "cost = [10, 15, 20]\n",
    "minCostClimbingStairs(cost)"
   ]
  },
  {
   "cell_type": "code",
   "execution_count": 13,
   "id": "6b9c36f6",
   "metadata": {},
   "outputs": [
    {
     "data": {
      "text/plain": [
       "6"
      ]
     },
     "execution_count": 13,
     "metadata": {},
     "output_type": "execute_result"
    }
   ],
   "source": [
    "cost = [1, 100, 1, 1, 1, 100, 1, 1, 100, 1]\n",
    "minCostClimbingStairs(cost)"
   ]
  },
  {
   "cell_type": "markdown",
   "id": "d0b73295",
   "metadata": {},
   "source": [
    "## 4) N-th Tribonacci Number\n",
    "\n",
    "The Tribonacci sequence Tn is defined as follows: \n",
    "\n",
    "T0 = 0, T1 = 1, T2 = 1, and Tn+3 = Tn + Tn+1 + Tn+2 for n >= 0.\n",
    "\n",
    "Given n, return the value of Tn.\n",
    "\n",
    "<b>Example</b>\n",
    "\n",
    "Input: n = 4 <br />\n",
    "Output: 4\n",
    "\n",
    "Explanation:\n",
    "T_3 = 0 + 1 + 1 = 2 <br />\n",
    "T_4 = 1 + 1 + 2 = 4 <br />\n",
    "\n",
    "<b>Example</b>\n",
    "\n",
    "Input: n = 25 <br />\n",
    "Output: 1389537"
   ]
  },
  {
   "cell_type": "code",
   "execution_count": 14,
   "id": "78193d21",
   "metadata": {},
   "outputs": [],
   "source": [
    "# Top-Down Approach (Memoization)\n",
    "\n",
    "def tribonacci(n: int) -> int:\n",
    "    \n",
    "    def dp(i: int) -> int:\n",
    "        \n",
    "        if i not in memo:\n",
    "            memo[i] = dp(i-1) + dp(i-2) + dp(i-3) # Recurrence relation\n",
    "        \n",
    "        return memo[i]\n",
    "    \n",
    "    memo = {0: 0, 1: 1, 2: 1}\n",
    "    return dp(n)"
   ]
  },
  {
   "cell_type": "code",
   "execution_count": 15,
   "id": "a03ac167",
   "metadata": {},
   "outputs": [],
   "source": [
    "# Bottom-Up Approach (Tabulation)\n",
    "\n",
    "def tribonacci(n: int) -> int:\n",
    "    \n",
    "    if n < 3:\n",
    "        return 1 if n else 0\n",
    "    \n",
    "    dp = [0] * (n+1)\n",
    "    \n",
    "    dp[1] = 1\n",
    "    dp[2] = 1\n",
    "    \n",
    "    for i in range(3, n+1):\n",
    "        dp[i] = dp[i-1] + dp[i-2] + dp[i-3] # Recurrence relation\n",
    "    \n",
    "    return dp[n]"
   ]
  },
  {
   "cell_type": "code",
   "execution_count": 16,
   "id": "14c1e1cc",
   "metadata": {},
   "outputs": [
    {
     "data": {
      "text/plain": [
       "4"
      ]
     },
     "execution_count": 16,
     "metadata": {},
     "output_type": "execute_result"
    }
   ],
   "source": [
    "n = 4\n",
    "tribonacci(n)"
   ]
  },
  {
   "cell_type": "code",
   "execution_count": 17,
   "id": "46c9ee71",
   "metadata": {},
   "outputs": [
    {
     "data": {
      "text/plain": [
       "1389537"
      ]
     },
     "execution_count": 17,
     "metadata": {},
     "output_type": "execute_result"
    }
   ],
   "source": [
    "n = 25\n",
    "tribonacci(n)"
   ]
  },
  {
   "cell_type": "markdown",
   "id": "e1926030",
   "metadata": {},
   "source": [
    "## 5) Delete and Earn\n",
    "\n",
    "You are given an integer array nums. You want to maximize the number of points you get by performing the following operation any number of times:\n",
    "\n",
    "Pick any nums[i] and delete it to earn nums[i] points. Afterwards, you must delete every element equal to nums[i] - 1 and every element equal to nums[i] + 1.\n",
    "Return the maximum number of points you can earn by applying the above operation some number of times.\n",
    "\n",
    "<b>Example</b>\n",
    "\n",
    "Input: nums = [3, 4, 2] <br />\n",
    "Output: 6\n",
    "\n",
    "Explanation: You can perform the following operations:\n",
    "- Delete 4 to earn 4 points. Consequently, 3 is also deleted. nums = [2].\n",
    "- Delete 2 to earn 2 points. nums = [].\n",
    "\n",
    "You earn a total of 6 points.\n",
    "\n",
    "<b>Example</b>\n",
    "\n",
    "Input: nums = [2, 2, 3, 3, 3, 4] <br />\n",
    "Output: 9\n",
    "\n",
    "Explanation: You can perform the following operations:\n",
    "- Delete a 3 to earn 3 points. All 2's and 4's are also deleted. nums = [3,3].\n",
    "- Delete a 3 again to earn 3 points. nums = [3].\n",
    "- Delete a 3 once more to earn 3 points. nums = [].\n",
    "\n",
    "You earn a total of 9 points."
   ]
  },
  {
   "cell_type": "code",
   "execution_count": 18,
   "id": "afa0fd66",
   "metadata": {},
   "outputs": [],
   "source": [
    "from typing import List\n",
    "from collections import defaultdict\n",
    "from functools import lru_cache"
   ]
  },
  {
   "cell_type": "code",
   "execution_count": 19,
   "id": "82cef490",
   "metadata": {},
   "outputs": [],
   "source": [
    "# Top-Down Approach (Memoization)\n",
    "\n",
    "def deleteAndEarn(nums: List[int]) -> int:\n",
    "    \n",
    "    @lru_cache(maxsize=None)\n",
    "    def dp(num: int) -> int:\n",
    "        \n",
    "        # Base cases\n",
    "        if num == 0:\n",
    "            return 0\n",
    "        if num == 1:\n",
    "            return points[1]\n",
    "            \n",
    "        return max(points[num] + dp(num-2), dp(num-1)) # Recurrence relation\n",
    "    \n",
    "    points = defaultdict(int)\n",
    "    max_number = 0\n",
    "    \n",
    "    for num in nums:\n",
    "        points[num] += num\n",
    "        max_number = max(max_number, num)\n",
    "    \n",
    "    return dp(max_number)"
   ]
  },
  {
   "cell_type": "code",
   "execution_count": 20,
   "id": "bdce8cc2",
   "metadata": {},
   "outputs": [],
   "source": [
    "# Bottom-Up Approach (Tabulation)\n",
    "\n",
    "def deleteAndEarn(nums: List[int]) -> int:\n",
    "    \n",
    "    points = defaultdict(int)\n",
    "    max_number = 0\n",
    "    \n",
    "    for num in nums:\n",
    "        points[num] += num\n",
    "        max_number = max(max_number, num)\n",
    "    \n",
    "    dp = [0] * (max_number + 1) # Important\n",
    "    \n",
    "    dp[1] = points[1]\n",
    "    \n",
    "    for i in range(2, len(dp)):\n",
    "        dp[i] = max(points[i] + dp[i-2], dp[i-1]) # Recurrence relation\n",
    "    \n",
    "    return max(dp)"
   ]
  },
  {
   "cell_type": "code",
   "execution_count": 21,
   "id": "785f320e",
   "metadata": {},
   "outputs": [
    {
     "data": {
      "text/plain": [
       "6"
      ]
     },
     "execution_count": 21,
     "metadata": {},
     "output_type": "execute_result"
    }
   ],
   "source": [
    "nums = [3, 4, 2]\n",
    "deleteAndEarn(nums)"
   ]
  },
  {
   "cell_type": "code",
   "execution_count": 22,
   "id": "8c03a466",
   "metadata": {},
   "outputs": [
    {
     "data": {
      "text/plain": [
       "9"
      ]
     },
     "execution_count": 22,
     "metadata": {},
     "output_type": "execute_result"
    }
   ],
   "source": [
    "nums = [2, 2, 3, 3, 3, 4]\n",
    "deleteAndEarn(nums)"
   ]
  },
  {
   "cell_type": "markdown",
   "id": "268f718b",
   "metadata": {},
   "source": [
    "## 6) Domino and Tromino Tiling\n",
    "\n",
    "You have two types of tiles: a 2 x 1 domino shape and a tromino shape. You may rotate these shapes.\n",
    "\n",
    "Given an integer n, return the number of ways to tile an 2 x n board. Since the answer may be very large, return it modulo 10^9 + 7.\n",
    "\n",
    "In a tiling, every square must be covered by a tile. Two tilings are different if and only if there are two 4-directionally adjacent cells on the board such that exactly one of the tilings has both squares occupied by a tile.\n",
    "\n",
    "<b>Example</b>\n",
    "\n",
    "Input: n = 3 <br />\n",
    "Output: 5\n",
    "\n",
    "<b>Example</b>\n",
    "\n",
    "Input: n = 1 <br />\n",
    "Output: 1"
   ]
  },
  {
   "cell_type": "code",
   "execution_count": 23,
   "id": "d5374db9",
   "metadata": {},
   "outputs": [],
   "source": [
    "# Top-Down Approach (Memoization)\n",
    "\n",
    "def numTilings(n: int) -> int:\n",
    "    \n",
    "    MOD = 1_000_000_007\n",
    "    \n",
    "    @lru_cache(maxsize=None)\n",
    "    def p(n):\n",
    "        if n == 2:\n",
    "            return 1\n",
    "        return (p(n-1) + f(n-2)) % MOD\n",
    "    \n",
    "    @lru_cache(maxsize=None)\n",
    "    def f(n):\n",
    "        if n <= 2:\n",
    "            return n\n",
    "        return (f(n-1) + f(n-2) + 2 * p(n-1)) % MOD\n",
    "        \n",
    "    return f(n)"
   ]
  },
  {
   "cell_type": "code",
   "execution_count": 24,
   "id": "9f256635",
   "metadata": {},
   "outputs": [],
   "source": [
    "# Bottom-Up Approach (Tabulation)\n",
    "\n",
    "def numTilings(n: int) -> int:\n",
    "    \n",
    "    MOD = 1_000_000_007\n",
    "    \n",
    "    if n <= 2:\n",
    "        return n\n",
    "    \n",
    "    f = [0] * (n+1)\n",
    "    p = [0] * (n+1)\n",
    "    \n",
    "    f[1] = 1\n",
    "    f[2] = 2\n",
    "    p[2] = 1\n",
    "    \n",
    "    for i in range(3, n+1):\n",
    "        f[i] = (f[i-1] + f[i-2] + 2 * p[i-1]) % MOD\n",
    "        p[i] = (p[i-1] + f[i-2]) % MOD\n",
    "    \n",
    "    return f[n]"
   ]
  },
  {
   "cell_type": "code",
   "execution_count": 25,
   "id": "6ceba3ef",
   "metadata": {},
   "outputs": [
    {
     "data": {
      "text/plain": [
       "5"
      ]
     },
     "execution_count": 25,
     "metadata": {},
     "output_type": "execute_result"
    }
   ],
   "source": [
    "n = 3\n",
    "numTilings(n)"
   ]
  },
  {
   "cell_type": "code",
   "execution_count": 26,
   "id": "b97c67ad",
   "metadata": {},
   "outputs": [
    {
     "data": {
      "text/plain": [
       "1"
      ]
     },
     "execution_count": 26,
     "metadata": {},
     "output_type": "execute_result"
    }
   ],
   "source": [
    "n = 1\n",
    "numTilings(n)"
   ]
  },
  {
   "cell_type": "code",
   "execution_count": null,
   "id": "df0cf822",
   "metadata": {},
   "outputs": [],
   "source": []
  }
 ],
 "metadata": {
  "kernelspec": {
   "display_name": "Python 3 (ipykernel)",
   "language": "python",
   "name": "python3"
  },
  "language_info": {
   "codemirror_mode": {
    "name": "ipython",
    "version": 3
   },
   "file_extension": ".py",
   "mimetype": "text/x-python",
   "name": "python",
   "nbconvert_exporter": "python",
   "pygments_lexer": "ipython3",
   "version": "3.8.16"
  }
 },
 "nbformat": 4,
 "nbformat_minor": 5
}
