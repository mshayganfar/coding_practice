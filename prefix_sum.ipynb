{
 "cells": [
  {
   "cell_type": "markdown",
   "id": "37904821",
   "metadata": {},
   "source": [
    "# Prefix Sum"
   ]
  },
  {
   "cell_type": "markdown",
   "id": "47533d73",
   "metadata": {},
   "source": [
    "## 1) Find the Highest Altitude\n",
    "\n",
    "There is a biker going on a road trip. The road trip consists of n + 1 points at different altitudes. The biker starts his trip on point 0 with altitude equal 0.\n",
    "\n",
    "You are given an integer array gain of length n where gain[i] is the net gain in altitude between points i and i + 1 for all (0 <= i < n). Return the highest altitude of a point.\n",
    "\n",
    "<b>Example</b>\n",
    "\n",
    "Input: gain = [-5, 1, 5, 0, -7] <br />\n",
    "Output: 1\n",
    "\n",
    "Explanation: The altitudes are [0, -5, -4, 1, 1, -6]. The highest is 1.\n",
    "\n",
    "<b>Example</b>\n",
    "\n",
    "Input: gain = [-4, -3, -2, -1, 4, 3, 2] <br />\n",
    "Output: 0\n",
    "\n",
    "Explanation: The altitudes are [0, -4, -7, -9, -10, -6, -3, -1]. The highest is 0."
   ]
  },
  {
   "cell_type": "code",
   "execution_count": 2,
   "id": "ea22621c",
   "metadata": {},
   "outputs": [],
   "source": [
    "from typing import List"
   ]
  },
  {
   "cell_type": "code",
   "execution_count": 5,
   "id": "073098da",
   "metadata": {},
   "outputs": [],
   "source": [
    "def largestAltitude(gain: List[int]) -> int:\n",
    "    \n",
    "    longest_alt = alt = 0\n",
    "    for g in gain:\n",
    "        alt += g\n",
    "        longest_alt = max(longest_alt, alt)\n",
    "    \n",
    "    return longest_alt"
   ]
  },
  {
   "cell_type": "code",
   "execution_count": 6,
   "id": "031a3f3a",
   "metadata": {},
   "outputs": [
    {
     "data": {
      "text/plain": [
       "1"
      ]
     },
     "execution_count": 6,
     "metadata": {},
     "output_type": "execute_result"
    }
   ],
   "source": [
    "gain = [-5, 1, 5, 0, -7]\n",
    "largestAltitude(gain)"
   ]
  },
  {
   "cell_type": "code",
   "execution_count": 7,
   "id": "bec64e08",
   "metadata": {},
   "outputs": [
    {
     "data": {
      "text/plain": [
       "0"
      ]
     },
     "execution_count": 7,
     "metadata": {},
     "output_type": "execute_result"
    }
   ],
   "source": [
    "gain = [-4, -3, -2, -1, 4, 3, 2]\n",
    "largestAltitude(gain)"
   ]
  },
  {
   "cell_type": "markdown",
   "id": "3a685dc6",
   "metadata": {},
   "source": [
    "## 2) Find Pivot Index\n",
    "\n",
    "Given an array of integers nums, calculate the pivot index of this array.\n",
    "\n",
    "The pivot index is the index where the sum of all the numbers strictly to the left of the index is equal to the sum of all the numbers strictly to the index's right.\n",
    "\n",
    "If the index is on the left edge of the array, then the left sum is 0 because there are no elements to the left. This also applies to the right edge of the array.\n",
    "\n",
    "Return the leftmost pivot index. If no such index exists, return -1.\n",
    "\n",
    "<b>Example</b>\n",
    "\n",
    "Input: nums = [1, 7, 3, 6, 5, 6] <br />\n",
    "Output: 3\n",
    "\n",
    "Explanation: <br />\n",
    "The pivot index is 3. <br />\n",
    "Left sum = nums[0] + nums[1] + nums[2] = 1 + 7 + 3 = 11 <br />\n",
    "Right sum = nums[4] + nums[5] = 5 + 6 = 11\n",
    "\n",
    "<b>Example</b>\n",
    "\n",
    "Input: nums = [1, 2, 3] <br />\n",
    "Output: -1\n",
    "\n",
    "Explanation: <br />\n",
    "There is no index that satisfies the conditions in the problem statement.\n",
    "\n",
    "<b>Example</b>\n",
    "\n",
    "Input: nums = [2,1,-1] <br />\n",
    "Output: 0\n",
    "\n",
    "Explanation: <br />\n",
    "The pivot index is 0. <br />\n",
    "Left sum = 0 (no elements to the left of index 0) <br />\n",
    "Right sum = nums[1] + nums[2] = 1 + -1 = 0"
   ]
  },
  {
   "cell_type": "code",
   "execution_count": 53,
   "id": "c462449c",
   "metadata": {},
   "outputs": [],
   "source": [
    "def pivotIndex(nums: List[int]) -> int:\n",
    "    \n",
    "    S = sum(nums)\n",
    "    left_sum = 0\n",
    "    for i, num in enumerate(nums):\n",
    "        if left_sum == (S - left_sum -num):\n",
    "            return i\n",
    "        left_sum += num\n",
    "    \n",
    "    return -1"
   ]
  },
  {
   "cell_type": "code",
   "execution_count": 59,
   "id": "07c93688",
   "metadata": {},
   "outputs": [],
   "source": [
    "# Another Similar Approach\n",
    "\n",
    "def pivotIndex(nums: List[int]) -> int:\n",
    "    \n",
    "    left_sum, right_sum = 0, sum(nums)\n",
    "    \n",
    "    for i, num in enumerate(nums):\n",
    "        right_sum -= num\n",
    "        if left_sum == right_sum:\n",
    "            return i\n",
    "        left_sum += num\n",
    "    return -1"
   ]
  },
  {
   "cell_type": "code",
   "execution_count": 60,
   "id": "90a5b370",
   "metadata": {},
   "outputs": [
    {
     "data": {
      "text/plain": [
       "3"
      ]
     },
     "execution_count": 60,
     "metadata": {},
     "output_type": "execute_result"
    }
   ],
   "source": [
    "nums = [1, 7, 3, 6, 5, 6]\n",
    "pivotIndex(nums)"
   ]
  },
  {
   "cell_type": "code",
   "execution_count": 61,
   "id": "c7e64ff7",
   "metadata": {},
   "outputs": [
    {
     "data": {
      "text/plain": [
       "-1"
      ]
     },
     "execution_count": 61,
     "metadata": {},
     "output_type": "execute_result"
    }
   ],
   "source": [
    "nums = [1, 2, 3]\n",
    "pivotIndex(nums)"
   ]
  },
  {
   "cell_type": "code",
   "execution_count": 62,
   "id": "e17fa710",
   "metadata": {},
   "outputs": [
    {
     "data": {
      "text/plain": [
       "0"
      ]
     },
     "execution_count": 62,
     "metadata": {},
     "output_type": "execute_result"
    }
   ],
   "source": [
    "nums = [2,1,-1]\n",
    "pivotIndex(nums)"
   ]
  },
  {
   "cell_type": "code",
   "execution_count": 63,
   "id": "d4e33409",
   "metadata": {},
   "outputs": [
    {
     "data": {
      "text/plain": [
       "-1"
      ]
     },
     "execution_count": 63,
     "metadata": {},
     "output_type": "execute_result"
    }
   ],
   "source": [
    "nums = [-1, -1, -1, -1, -1, -1]\n",
    "pivotIndex(nums)"
   ]
  },
  {
   "cell_type": "code",
   "execution_count": 64,
   "id": "ad31acbf",
   "metadata": {},
   "outputs": [
    {
     "data": {
      "text/plain": [
       "2"
      ]
     },
     "execution_count": 64,
     "metadata": {},
     "output_type": "execute_result"
    }
   ],
   "source": [
    "nums = [-1, -1, -1, -1, -1, 0]\n",
    "pivotIndex(nums)"
   ]
  },
  {
   "cell_type": "code",
   "execution_count": null,
   "id": "6dac55f4",
   "metadata": {},
   "outputs": [],
   "source": []
  }
 ],
 "metadata": {
  "kernelspec": {
   "display_name": "Python 3 (ipykernel)",
   "language": "python",
   "name": "python3"
  },
  "language_info": {
   "codemirror_mode": {
    "name": "ipython",
    "version": 3
   },
   "file_extension": ".py",
   "mimetype": "text/x-python",
   "name": "python",
   "nbconvert_exporter": "python",
   "pygments_lexer": "ipython3",
   "version": "3.8.16"
  }
 },
 "nbformat": 4,
 "nbformat_minor": 5
}
