{
 "cells": [
  {
   "cell_type": "markdown",
   "id": "289ee2bc",
   "metadata": {},
   "source": [
    "# Sliding Window"
   ]
  },
  {
   "cell_type": "markdown",
   "id": "dea22db0",
   "metadata": {},
   "source": [
    "## 1) Maximum Average Subarray I\n",
    "\n",
    "You are given an integer array nums consisting of n elements, and an integer k.\n",
    "\n",
    "Find a contiguous subarray whose length is equal to k that has the maximum average value and return this value. Any answer with a calculation error less than 10-5 will be accepted.\n",
    "\n",
    "<b>Example</b>\n",
    "\n",
    "Input: nums = [1, 12, -5, -6, 50, 3], k = 4 <br />\n",
    "Output: 12.75000\n",
    "\n",
    "Explanation: Maximum average is (12 - 5 - 6 + 50) / 4 = 51 / 4 = 12.75\n",
    "\n",
    "<b>Example</b>\n",
    "\n",
    "Input: nums = [5], k = 1 <br />\n",
    "Output: 5.00000"
   ]
  },
  {
   "cell_type": "code",
   "execution_count": 2,
   "id": "83e4db50",
   "metadata": {},
   "outputs": [],
   "source": [
    "from typing import List"
   ]
  },
  {
   "cell_type": "code",
   "execution_count": 11,
   "id": "781718d1",
   "metadata": {},
   "outputs": [],
   "source": [
    "def findMaxAverage(nums: List[int], k: int) -> float:\n",
    "    \n",
    "    max_avg = float('-inf')\n",
    "    for i in range(len(nums) - k + 1):\n",
    "        cur_sum = 0\n",
    "        for j in range(i, i + k):\n",
    "            cur_sum += nums[j]\n",
    "        \n",
    "        max_avg = max(max_avg, cur_sum / k)\n",
    "    \n",
    "    return max_avg"
   ]
  },
  {
   "cell_type": "code",
   "execution_count": 16,
   "id": "da68c098",
   "metadata": {},
   "outputs": [],
   "source": [
    "# Faster Solution\n",
    "\n",
    "def findMaxAverage(nums: List[int], k: int) -> float:\n",
    "    \n",
    "    max_sum = sum(nums[:k])\n",
    "    for i in range(1, len(nums) - k + 1):\n",
    "        cur_sum = sum(nums[i: i+ k])\n",
    "        max_sum = max(max_sum, cur_sum)\n",
    "    \n",
    "    return max_sum/k"
   ]
  },
  {
   "cell_type": "code",
   "execution_count": 21,
   "id": "a36a62ba",
   "metadata": {},
   "outputs": [],
   "source": [
    "# Fastest Solution\n",
    "\n",
    "def findMaxAverage(nums: List[int], k: int) -> float:\n",
    "    \n",
    "    max_sum = cur_sum = sum(nums[:k])\n",
    "    for i in range(k, len(nums)):\n",
    "        cur_sum += nums[i] - nums[i-k]\n",
    "        max_sum = max(max_sum, cur_sum)\n",
    "    \n",
    "    return max_sum/k"
   ]
  },
  {
   "cell_type": "code",
   "execution_count": 22,
   "id": "f019641b",
   "metadata": {},
   "outputs": [
    {
     "data": {
      "text/plain": [
       "12.75"
      ]
     },
     "execution_count": 22,
     "metadata": {},
     "output_type": "execute_result"
    }
   ],
   "source": [
    "nums = [1, 12, -5, -6, 50, 3]\n",
    "k = 4\n",
    "findMaxAverage(nums, k)"
   ]
  },
  {
   "cell_type": "code",
   "execution_count": 23,
   "id": "a9a6b080",
   "metadata": {},
   "outputs": [
    {
     "data": {
      "text/plain": [
       "5.0"
      ]
     },
     "execution_count": 23,
     "metadata": {},
     "output_type": "execute_result"
    }
   ],
   "source": [
    "nums = [5]\n",
    "k = 1\n",
    "findMaxAverage(nums, k)"
   ]
  },
  {
   "cell_type": "markdown",
   "id": "a8797620",
   "metadata": {},
   "source": [
    "## 2) Maximum Number of Vowels in a Substring of Given Length\n",
    "\n",
    "Given a string s and an integer k, return the maximum number of vowel letters in any substring of s with length k.\n",
    "\n",
    "Vowel letters in English are 'a', 'e', 'i', 'o', and 'u'.\n",
    "\n",
    "<b>Example</b>\n",
    "\n",
    "Input: s = \"abciiidef\", k = 3 <br />\n",
    "Output: 3\n",
    "\n",
    "Explanation: The substring \"iii\" contains 3 vowel letters.\n",
    "\n",
    "<b>Example</b>\n",
    "\n",
    "Input: s = \"aeiou\", k = 2 <br />\n",
    "Output: 2\n",
    "\n",
    "Explanation: Any substring of length 2 contains 2 vowels.\n",
    "\n",
    "<b>Example</b>\n",
    "\n",
    "Input: s = \"leetcode\", k = 3 <br />\n",
    "Output: 2\n",
    "\n",
    "Explanation: \"lee\", \"eet\" and \"ode\" contain 2 vowels."
   ]
  },
  {
   "cell_type": "code",
   "execution_count": 47,
   "id": "8c69a977",
   "metadata": {},
   "outputs": [],
   "source": [
    "def maxVowels(s: str, k: int) -> int:\n",
    "    vowels = {'a', 'e', 'i', 'o', 'u'}\n",
    "    max_vowels = 0\n",
    "    for i in range(len(s) - k + 1):\n",
    "        cur_vowels = 0\n",
    "        for ch in s[i: i+k]:\n",
    "            if ch in vowels:\n",
    "                cur_vowels += 1\n",
    "        max_vowels = max(max_vowels, cur_vowels)\n",
    "        \n",
    "    return max_vowels"
   ]
  },
  {
   "cell_type": "code",
   "execution_count": 52,
   "id": "a35ffb99",
   "metadata": {},
   "outputs": [],
   "source": [
    "def maxVowels(s: str, k: int) -> int:\n",
    "    vowels = {'a', 'e', 'i', 'o', 'u'}\n",
    "        \n",
    "    count = 0\n",
    "    for i in range(k):\n",
    "        count += int(s[i] in vowels)\n",
    "    \n",
    "    max_vowels = count\n",
    "        \n",
    "    for i in range(k, len(s)):\n",
    "        count += int(s[i] in vowels)\n",
    "        count -= int(s[i - k] in vowels)\n",
    "        max_vowels = max(max_vowels, count)\n",
    "        \n",
    "    return max_vowels"
   ]
  },
  {
   "cell_type": "code",
   "execution_count": 53,
   "id": "4b13875f",
   "metadata": {},
   "outputs": [
    {
     "data": {
      "text/plain": [
       "3"
      ]
     },
     "execution_count": 53,
     "metadata": {},
     "output_type": "execute_result"
    }
   ],
   "source": [
    "s = \"abciiidef\"\n",
    "k = 3\n",
    "maxVowels(s, k)"
   ]
  },
  {
   "cell_type": "code",
   "execution_count": 54,
   "id": "2c2687ff",
   "metadata": {},
   "outputs": [
    {
     "data": {
      "text/plain": [
       "2"
      ]
     },
     "execution_count": 54,
     "metadata": {},
     "output_type": "execute_result"
    }
   ],
   "source": [
    "s = \"aeiou\"\n",
    "k = 2\n",
    "maxVowels(s, k)"
   ]
  },
  {
   "cell_type": "code",
   "execution_count": 55,
   "id": "90386923",
   "metadata": {},
   "outputs": [
    {
     "data": {
      "text/plain": [
       "2"
      ]
     },
     "execution_count": 55,
     "metadata": {},
     "output_type": "execute_result"
    }
   ],
   "source": [
    "s = \"leetcode\"\n",
    "k = 3\n",
    "maxVowels(s, k)"
   ]
  },
  {
   "cell_type": "code",
   "execution_count": 56,
   "id": "46a8d3f2",
   "metadata": {},
   "outputs": [
    {
     "data": {
      "text/plain": [
       "4"
      ]
     },
     "execution_count": 56,
     "metadata": {},
     "output_type": "execute_result"
    }
   ],
   "source": [
    "s = \"weallloveyou\"\n",
    "k = 7\n",
    "maxVowels(s, k)"
   ]
  },
  {
   "cell_type": "markdown",
   "id": "2955c1ec",
   "metadata": {},
   "source": [
    "## 3) Max Consecutive Ones III\n",
    "\n",
    "Given a binary array nums and an integer k, return the maximum number of consecutive 1's in the array if you can flip at most k 0's.\n",
    "\n",
    "<b>Example</b>\n",
    "\n",
    "Input: nums = [1, 1, 1, 0, 0, 0, 1, 1, 1, 1, 0], k = 2 <br />\n",
    "Output: 6 <br />\n",
    "\n",
    "Explanation: [1, 1, 1, 0, 0, <b>1</b>, 1, 1, 1, 1, <b>1</b>] <br />\n",
    "Bolded numbers were flipped from 0 to 1. The longest subarray is underlined.\n",
    "\n",
    "<b>Example</b>\n",
    "\n",
    "Input: nums = [0, 0, 1, 1, 0, 0, 1, 1, 1, 0, 1, 1, 0, 0, 0, 1, 1, 1, 1], k = 3 <br />\n",
    "Output: 10\n",
    "\n",
    "Explanation: [0, 0, 1, 1, <b>1</b>, <b>1</b>, 1, 1, 1, <b>1</b>, 1, 1, 0, 0, 0, 1, 1, 1, 1] <br />\n",
    "Bolded numbers were flipped from 0 to 1. The longest subarray is underlined."
   ]
  },
  {
   "cell_type": "code",
   "execution_count": 187,
   "id": "8fbe879f",
   "metadata": {},
   "outputs": [],
   "source": [
    "def longestOnes(nums: List[int], k: int) -> int:\n",
    "    \n",
    "    left = 0\n",
    "    count = 0\n",
    "    for right in range(len(nums)):\n",
    "        k -= 1 - nums[right]\n",
    "        \n",
    "        if k < 0:\n",
    "            k += 1 - nums[left]\n",
    "            left += 1\n",
    "    \n",
    "    return right - left + 1"
   ]
  },
  {
   "cell_type": "code",
   "execution_count": 195,
   "id": "4c49a69b",
   "metadata": {},
   "outputs": [],
   "source": [
    "# More Readable Solution\n",
    "\n",
    "def longestOnes(nums: List[int], k: int) -> int:    \n",
    "    l = 0    \n",
    "    for r in range(len(nums)):\n",
    "        if nums[r] == 0:\n",
    "            k -= 1\n",
    "        if k < 0:\n",
    "            if nums[l] == 0:\n",
    "                k += 1\n",
    "            l += 1\n",
    "    return r - l + 1"
   ]
  },
  {
   "cell_type": "code",
   "execution_count": 196,
   "id": "b8d78ead",
   "metadata": {},
   "outputs": [
    {
     "data": {
      "text/plain": [
       "6"
      ]
     },
     "execution_count": 196,
     "metadata": {},
     "output_type": "execute_result"
    }
   ],
   "source": [
    "nums = [1, 1, 1, 0, 0, 0, 1, 1, 1, 1, 0]\n",
    "k = 2\n",
    "longestOnes(nums, k)"
   ]
  },
  {
   "cell_type": "code",
   "execution_count": 197,
   "id": "4592beeb",
   "metadata": {},
   "outputs": [
    {
     "data": {
      "text/plain": [
       "10"
      ]
     },
     "execution_count": 197,
     "metadata": {},
     "output_type": "execute_result"
    }
   ],
   "source": [
    "nums = [0, 0, 1, 1, 0, 0, 1, 1, 1, 0, 1, 1, 0, 0, 0, 1, 1, 1, 1]\n",
    "k = 3\n",
    "longestOnes(nums, k)"
   ]
  },
  {
   "cell_type": "code",
   "execution_count": 198,
   "id": "f6cff197",
   "metadata": {},
   "outputs": [
    {
     "data": {
      "text/plain": [
       "4"
      ]
     },
     "execution_count": 198,
     "metadata": {},
     "output_type": "execute_result"
    }
   ],
   "source": [
    "nums = [1, 1, 1, 0, 0, 0, 1, 1, 1, 1]\n",
    "k = 0\n",
    "longestOnes(nums, k)"
   ]
  },
  {
   "cell_type": "markdown",
   "id": "f44a47b8",
   "metadata": {},
   "source": [
    "## 4) Longest Subarray of 1's After Deleting One Element\n",
    "\n",
    "Given a binary array nums, you should delete one element from it.\n",
    "\n",
    "Return the size of the longest non-empty subarray containing only 1's in the resulting array. Return 0 if there is no such subarray.\n",
    "\n",
    "<b>Example</b>\n",
    "\n",
    "Input: nums = [1, 1, 0, 1] <br />\n",
    "Output: 3\n",
    "\n",
    "Explanation: After deleting the number in position 2, [1, 1, 1] contains 3 numbers with value of 1's.\n",
    "\n",
    "<b>Example</b>\n",
    "\n",
    "Input: nums = [0, 1, 1, 1, 0, 1, 1, 0, 1] <br />\n",
    "Output: 5\n",
    "\n",
    "Explanation: After deleting the number in position 4, [0, 1, 1, 1, 1, 1, 0, 1] longest subarray with value of 1's is [1, 1, 1, 1, 1].\n",
    "\n",
    "<b>Example</b>\n",
    "\n",
    "Input: nums = [1, 1, 1] <br />\n",
    "Output: 2\n",
    "\n",
    "Explanation: You must delete one element."
   ]
  },
  {
   "cell_type": "code",
   "execution_count": 203,
   "id": "08fe2475",
   "metadata": {},
   "outputs": [],
   "source": [
    "def longestSubarray(nums: List[int]) -> int:\n",
    "    l = 0\n",
    "    k = 1\n",
    "    for r in range(len(nums)):\n",
    "        if nums[r] == 0:\n",
    "            k -= 1\n",
    "        if k < 0:\n",
    "            if nums[l] == 0:\n",
    "                k += 1\n",
    "            l += 1\n",
    "    return r - l"
   ]
  },
  {
   "cell_type": "code",
   "execution_count": 204,
   "id": "d71d4804",
   "metadata": {},
   "outputs": [
    {
     "data": {
      "text/plain": [
       "3"
      ]
     },
     "execution_count": 204,
     "metadata": {},
     "output_type": "execute_result"
    }
   ],
   "source": [
    "nums = [1, 1, 0, 1]\n",
    "longestSubarray(nums)"
   ]
  },
  {
   "cell_type": "code",
   "execution_count": 205,
   "id": "98b24a1f",
   "metadata": {},
   "outputs": [
    {
     "data": {
      "text/plain": [
       "5"
      ]
     },
     "execution_count": 205,
     "metadata": {},
     "output_type": "execute_result"
    }
   ],
   "source": [
    "nums = [0, 1, 1, 1, 0, 1, 1, 0, 1]\n",
    "longestSubarray(nums)"
   ]
  },
  {
   "cell_type": "code",
   "execution_count": 206,
   "id": "3ef7d811",
   "metadata": {},
   "outputs": [
    {
     "data": {
      "text/plain": [
       "2"
      ]
     },
     "execution_count": 206,
     "metadata": {},
     "output_type": "execute_result"
    }
   ],
   "source": [
    "nums = [1, 1, 1]\n",
    "longestSubarray(nums)"
   ]
  },
  {
   "cell_type": "code",
   "execution_count": null,
   "id": "7203b150",
   "metadata": {},
   "outputs": [],
   "source": []
  }
 ],
 "metadata": {
  "kernelspec": {
   "display_name": "Python 3 (ipykernel)",
   "language": "python",
   "name": "python3"
  },
  "language_info": {
   "codemirror_mode": {
    "name": "ipython",
    "version": 3
   },
   "file_extension": ".py",
   "mimetype": "text/x-python",
   "name": "python",
   "nbconvert_exporter": "python",
   "pygments_lexer": "ipython3",
   "version": "3.8.16"
  }
 },
 "nbformat": 4,
 "nbformat_minor": 5
}
