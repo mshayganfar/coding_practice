{
 "cells": [
  {
   "cell_type": "markdown",
   "id": "a13874cf",
   "metadata": {},
   "source": [
    "# Graph - BFS"
   ]
  },
  {
   "cell_type": "markdown",
   "id": "3d25f55f",
   "metadata": {},
   "source": [
    "## 1) Nearest Exit from Entrance in Maze\n",
    "\n",
    "You are given an m x n matrix maze (0-indexed) with empty cells (represented as '.') and walls (represented as '+'). You are also given the entrance of the maze, where entrance = [entrancerow, entrancecol] denotes the row and column of the cell you are initially standing at.\n",
    "\n",
    "In one step, you can move one cell up, down, left, or right. You cannot step into a cell with a wall, and you cannot step outside the maze. Your goal is to find the nearest exit from the entrance. An exit is defined as an empty cell that is at the border of the maze. The entrance does not count as an exit.\n",
    "\n",
    "Return the number of steps in the shortest path from the entrance to the nearest exit, or -1 if no such path exists.\n",
    "\n",
    "<b>Example</b>\n",
    "\n",
    "Input: maze = [[\"+\", \"+\", \".\", \"+\"], [\".\", \".\", \".\", \"+\"], [\"+\", \"+\", \"+\", \".\"]], entrance = [1, 2] <br />\n",
    "Output: 1\n",
    "\n",
    "Explanation: There are 3 exits in this maze at [1, 0], [0, 2], and [2, 3]. <br />\n",
    "Initially, you are at the entrance cell [1, 2].\n",
    "\n",
    "- You can reach [1, 0] by moving 2 steps left.\n",
    "- You can reach [0, 2] by moving 1 step up.\n",
    "\n",
    "It is impossible to reach [2, 3] from the entrance. <br />\n",
    "Thus, the nearest exit is [0, 2], which is 1 step away.\n",
    "\n",
    "<b>Example</b>\n",
    "\n",
    "Input: maze = [[\"+\", \"+\", \"+\"], [\".\", \".\", \".\"], [\"+\", \"+\", \"+\"]], entrance = [1, 0] <br />\n",
    "Output: 2\n",
    "\n",
    "Explanation: There is 1 exit in this maze at [1, 2]. <br />\n",
    "[1,0] does not count as an exit since it is the entrance cell. <br />\n",
    "Initially, you are at the entrance cell [1, 0].\n",
    "\n",
    "- You can reach [1, 2] by moving 2 steps right.\n",
    "\n",
    "Thus, the nearest exit is [1, 2], which is 2 steps away.\n",
    "\n",
    "<b>Example</b>\n",
    "\n",
    "Input: maze = [[\".\", \"+\"]], entrance = [0, 0] <br />\n",
    "Output: -1\n",
    "\n",
    "Explanation: There are no exits in this maze."
   ]
  },
  {
   "cell_type": "code",
   "execution_count": 69,
   "id": "9f66deb6",
   "metadata": {},
   "outputs": [],
   "source": [
    "from collections import defaultdict\n",
    "from typing import List, Set"
   ]
  },
  {
   "cell_type": "code",
   "execution_count": 109,
   "id": "0a1aaf17",
   "metadata": {},
   "outputs": [],
   "source": [
    "def nearestExit(maze: List[List[str]], entrance: List[int]) -> int:\n",
    "    \n",
    "    rows, cols = len(maze), len(maze[0])\n",
    "    dirs = ((1, 0), (-1, 0), (0, 1), (0, -1))\n",
    "    \n",
    "    start_row, start_col = entrance\n",
    "    maze[start_row][start_col] = '+'\n",
    "    \n",
    "    queue = []\n",
    "    queue.append([start_row, start_col, 0])\n",
    "    \n",
    "    while queue:\n",
    "        curr_row, curr_col, curr_distance = queue.pop(0)\n",
    "        \n",
    "        for d in dirs:\n",
    "            next_row = curr_row + d[0]\n",
    "            next_col = curr_col + d[1]\n",
    "            \n",
    "            if 0 <= next_row < rows and 0 <= next_col < cols and maze[next_row][next_col] != '+':\n",
    "                if next_row == 0 or next_row == rows-1 or next_col == 0 or next_col == cols-1:\n",
    "                    return curr_distance + 1\n",
    "                \n",
    "                maze[next_row][next_col] = '+'\n",
    "                queue.append([next_row, next_col, curr_distance + 1])\n",
    "    \n",
    "    return -1"
   ]
  },
  {
   "cell_type": "code",
   "execution_count": 110,
   "id": "d121cda8",
   "metadata": {},
   "outputs": [
    {
     "data": {
      "text/plain": [
       "1"
      ]
     },
     "execution_count": 110,
     "metadata": {},
     "output_type": "execute_result"
    }
   ],
   "source": [
    "maze = [[\"+\", \"+\", \".\", \"+\"], [\".\", \".\", \".\", \"+\"], [\"+\", \"+\", \"+\", \".\"]]\n",
    "entrance = [1, 2]\n",
    "nearestExit(maze, entrance)"
   ]
  },
  {
   "cell_type": "code",
   "execution_count": 111,
   "id": "8312f6f5",
   "metadata": {},
   "outputs": [
    {
     "data": {
      "text/plain": [
       "2"
      ]
     },
     "execution_count": 111,
     "metadata": {},
     "output_type": "execute_result"
    }
   ],
   "source": [
    "maze = [[\"+\", \"+\", \"+\"], [\".\", \".\", \".\"], [\"+\", \"+\", \"+\"]]\n",
    "entrance = [1, 0]\n",
    "nearestExit(maze, entrance)"
   ]
  },
  {
   "cell_type": "code",
   "execution_count": 112,
   "id": "e3dc4a67",
   "metadata": {},
   "outputs": [
    {
     "data": {
      "text/plain": [
       "-1"
      ]
     },
     "execution_count": 112,
     "metadata": {},
     "output_type": "execute_result"
    }
   ],
   "source": [
    "maze = [[\".\", \"+\"]]\n",
    "entrance = [0, 0]\n",
    "nearestExit(maze, entrance)"
   ]
  },
  {
   "cell_type": "code",
   "execution_count": null,
   "id": "79854c4a",
   "metadata": {},
   "outputs": [],
   "source": []
  }
 ],
 "metadata": {
  "kernelspec": {
   "display_name": "Python 3 (ipykernel)",
   "language": "python",
   "name": "python3"
  },
  "language_info": {
   "codemirror_mode": {
    "name": "ipython",
    "version": 3
   },
   "file_extension": ".py",
   "mimetype": "text/x-python",
   "name": "python",
   "nbconvert_exporter": "python",
   "pygments_lexer": "ipython3",
   "version": "3.8.16"
  }
 },
 "nbformat": 4,
 "nbformat_minor": 5
}
