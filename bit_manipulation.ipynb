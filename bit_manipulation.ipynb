{
 "cells": [
  {
   "cell_type": "markdown",
   "id": "89742d7a",
   "metadata": {},
   "source": [
    "# Bit Manipulation"
   ]
  },
  {
   "cell_type": "markdown",
   "id": "3cc4d689",
   "metadata": {},
   "source": [
    "## 1) Counting Bits\n",
    "\n",
    "Given an integer n, return an array ans of length n + 1 such that for each i (0 <= i <= n), ans[i] is the number of 1's in the binary representation of i.\n",
    "\n",
    " \n",
    "\n",
    "<b>Example</b>\n",
    "\n",
    "Input: n = 2 <br />\n",
    "Output: [0, 1, 1]\n",
    "\n",
    "Explanation: <br />\n",
    "0 --> 0 <br />\n",
    "1 --> 1 <br />\n",
    "2 --> 10 <br />\n",
    "\n",
    "<b>Example</b>\n",
    "\n",
    "Input: n = 5 <br />\n",
    "Output: [0, 1, 1, 2, 1, 2]\n",
    "\n",
    "Explanation: <br />\n",
    "0 --> 0 <br />\n",
    "1 --> 1 <br />\n",
    "2 --> 10 <br />\n",
    "3 --> 11 <br />\n",
    "4 --> 100 <br />\n",
    "5 --> 101"
   ]
  },
  {
   "cell_type": "code",
   "execution_count": 1,
   "id": "741ffbb2",
   "metadata": {},
   "outputs": [],
   "source": [
    "from typing import List"
   ]
  },
  {
   "cell_type": "code",
   "execution_count": 2,
   "id": "f103f67e",
   "metadata": {},
   "outputs": [],
   "source": [
    "def countBits(n: int) -> List[int]:\n",
    "    \n",
    "    def pop_count(x: int) -> int:\n",
    "        count = 0\n",
    "        while x != 0:\n",
    "            x &= x - 1\n",
    "            count += 1\n",
    "        return count\n",
    "    \n",
    "    ans = [0] * (n + 1)\n",
    "    for x in range(n + 1):\n",
    "        ans[x] = pop_count(x)\n",
    "    \n",
    "    return ans  "
   ]
  },
  {
   "cell_type": "code",
   "execution_count": 3,
   "id": "8c2a5f87",
   "metadata": {},
   "outputs": [],
   "source": [
    "# P(x) = P(x/2) + (x mod 2)\n",
    "\n",
    "def countBits(n: int) -> List[int]:\n",
    "    \n",
    "    ans = [0] * (n + 1)\n",
    "    \n",
    "    for x in range(1, n + 1):\n",
    "        # x // 2 is x >> 1 and x % 2 is x & 1\n",
    "        ans[x] = ans[x >> 1] + (x & 1)\n",
    "    \n",
    "    return ans"
   ]
  },
  {
   "cell_type": "code",
   "execution_count": 4,
   "id": "319874d5",
   "metadata": {},
   "outputs": [],
   "source": [
    "# P(x) = P(x & (x−1)) + 1\n",
    "\n",
    "def countBits(n: int) -> List[int]:\n",
    "    \n",
    "    ans = [0] * (n + 1)\n",
    "    \n",
    "    for x in range(1, n + 1):\n",
    "        ans[x] = ans[x & (x - 1)] + 1\n",
    "    \n",
    "    return ans"
   ]
  },
  {
   "cell_type": "code",
   "execution_count": 5,
   "id": "08e04ece",
   "metadata": {},
   "outputs": [
    {
     "data": {
      "text/plain": [
       "[0, 1, 1]"
      ]
     },
     "execution_count": 5,
     "metadata": {},
     "output_type": "execute_result"
    }
   ],
   "source": [
    "n = 2\n",
    "countBits(n)"
   ]
  },
  {
   "cell_type": "code",
   "execution_count": 6,
   "id": "07d171b5",
   "metadata": {},
   "outputs": [
    {
     "data": {
      "text/plain": [
       "[0, 1, 1, 2, 1, 2]"
      ]
     },
     "execution_count": 6,
     "metadata": {},
     "output_type": "execute_result"
    }
   ],
   "source": [
    "n = 5\n",
    "countBits(n)"
   ]
  },
  {
   "cell_type": "markdown",
   "id": "f4c943af",
   "metadata": {},
   "source": [
    "## 2) Single Number\n",
    "\n",
    "Given a non-empty array of integers nums, every element appears twice except for one. Find that single one.\n",
    "\n",
    "You must implement a solution with a linear runtime complexity and use only constant extra space.\n",
    "\n",
    "<b>Example</b>\n",
    "\n",
    "Input: nums = [2, 2, 1] <br />\n",
    "Output: 1\n",
    "\n",
    "<b>Example</b>\n",
    "\n",
    "Input: nums = [4, 1, 2, 1, 2] <br />\n",
    "Output: 4\n",
    "\n",
    "<b>Example</b>\n",
    "\n",
    "Input: nums = [1] <br />\n",
    "Output: 1"
   ]
  },
  {
   "cell_type": "markdown",
   "id": "6934a3e3",
   "metadata": {},
   "source": [
    "* If we take XOR of zero and some bit, it will return that bit\n",
    "    * a ⊕ 0 = a\n",
    "* If we take XOR of two same bits, it will return 0\n",
    "    * a ⊕ a = 0\n",
    "* a ⊕ b ⊕ a = (a ⊕ a) ⊕ b = 0 ⊕ b = b\n",
    "* So we can XOR all bits together to find the unique number."
   ]
  },
  {
   "cell_type": "code",
   "execution_count": 7,
   "id": "098a6338",
   "metadata": {},
   "outputs": [],
   "source": [
    "def singleNumber(nums: List[int]) -> int:\n",
    "    a = 0\n",
    "    for i in nums:\n",
    "        a ^= i\n",
    "    return a"
   ]
  },
  {
   "cell_type": "code",
   "execution_count": 8,
   "id": "2aea5aa3",
   "metadata": {},
   "outputs": [
    {
     "data": {
      "text/plain": [
       "1"
      ]
     },
     "execution_count": 8,
     "metadata": {},
     "output_type": "execute_result"
    }
   ],
   "source": [
    "nums = [2, 2, 1]\n",
    "singleNumber(nums)"
   ]
  },
  {
   "cell_type": "code",
   "execution_count": 9,
   "id": "040fac6e",
   "metadata": {},
   "outputs": [
    {
     "data": {
      "text/plain": [
       "4"
      ]
     },
     "execution_count": 9,
     "metadata": {},
     "output_type": "execute_result"
    }
   ],
   "source": [
    "nums = [4, 1, 2, 1, 2]\n",
    "singleNumber(nums)"
   ]
  },
  {
   "cell_type": "code",
   "execution_count": 10,
   "id": "b3142913",
   "metadata": {},
   "outputs": [
    {
     "data": {
      "text/plain": [
       "1"
      ]
     },
     "execution_count": 10,
     "metadata": {},
     "output_type": "execute_result"
    }
   ],
   "source": [
    "nums = [1]\n",
    "singleNumber(nums)"
   ]
  },
  {
   "cell_type": "markdown",
   "id": "91808284",
   "metadata": {},
   "source": [
    "## 3) Minimum Flips to Make a OR b Equal to c\n",
    "\n",
    "Given 3 positives numbers a, b and c. Return the minimum flips required in some bits of a and b to make ( a OR b == c ). (bitwise OR operation).\n",
    "Flip operation consists of change any single bit 1 to 0 or change the bit 0 to 1 in their binary representation.\n",
    "\n",
    "<b>Example</b>\n",
    "\n",
    "Input: a = 2, b = 6, c = 5 <br />\n",
    "Output: 3\n",
    "\n",
    "Explanation: After flips a = 1 , b = 4 , c = 5 such that (a OR b == c)\n",
    "\n",
    "<b>Example</b>\n",
    "\n",
    "Input: a = 4, b = 2, c = 7 <br />\n",
    "Output: 1\n",
    "\n",
    "<b>Example</b>\n",
    "\n",
    "Input: a = 1, b = 2, c = 3 <br />\n",
    "Output: 0"
   ]
  },
  {
   "cell_type": "code",
   "execution_count": 11,
   "id": "05d2600a",
   "metadata": {},
   "outputs": [],
   "source": [
    "def minFlips(a: int, b: int, c: int) -> int:\n",
    "    \n",
    "    answer = 0\n",
    "    while a or b or c:\n",
    "        if c & 1:\n",
    "            answer += 0 if ((a & 1) or (b & 1)) else 1\n",
    "        else:\n",
    "            answer += (a & 1) + (b & 1)\n",
    "        a >>= 1\n",
    "        b >>= 1\n",
    "        c >>= 1\n",
    "    return answer"
   ]
  },
  {
   "cell_type": "code",
   "execution_count": 12,
   "id": "ff77f1c4",
   "metadata": {},
   "outputs": [
    {
     "data": {
      "text/plain": [
       "3"
      ]
     },
     "execution_count": 12,
     "metadata": {},
     "output_type": "execute_result"
    }
   ],
   "source": [
    "a = 2\n",
    "b = 6\n",
    "c = 5\n",
    "minFlips(a, b, c)"
   ]
  },
  {
   "cell_type": "code",
   "execution_count": 13,
   "id": "f9074da7",
   "metadata": {},
   "outputs": [
    {
     "data": {
      "text/plain": [
       "1"
      ]
     },
     "execution_count": 13,
     "metadata": {},
     "output_type": "execute_result"
    }
   ],
   "source": [
    "a = 4\n",
    "b = 2\n",
    "c = 7\n",
    "minFlips(a, b, c)"
   ]
  },
  {
   "cell_type": "code",
   "execution_count": 14,
   "id": "6b3200ee",
   "metadata": {},
   "outputs": [
    {
     "data": {
      "text/plain": [
       "0"
      ]
     },
     "execution_count": 14,
     "metadata": {},
     "output_type": "execute_result"
    }
   ],
   "source": [
    "a = 1\n",
    "b = 2\n",
    "c = 3\n",
    "minFlips(a, b, c)"
   ]
  },
  {
   "cell_type": "code",
   "execution_count": null,
   "id": "74860347",
   "metadata": {},
   "outputs": [],
   "source": []
  }
 ],
 "metadata": {
  "kernelspec": {
   "display_name": "Python 3 (ipykernel)",
   "language": "python",
   "name": "python3"
  },
  "language_info": {
   "codemirror_mode": {
    "name": "ipython",
    "version": 3
   },
   "file_extension": ".py",
   "mimetype": "text/x-python",
   "name": "python",
   "nbconvert_exporter": "python",
   "pygments_lexer": "ipython3",
   "version": "3.8.16"
  }
 },
 "nbformat": 4,
 "nbformat_minor": 5
}
