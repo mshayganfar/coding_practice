{
 "cells": [
  {
   "cell_type": "markdown",
   "id": "7c5443d3",
   "metadata": {},
   "source": [
    "# Trees"
   ]
  },
  {
   "cell_type": "markdown",
   "id": "3240139e",
   "metadata": {},
   "source": [
    "## Binary Search Tree"
   ]
  },
  {
   "cell_type": "code",
   "execution_count": 1,
   "id": "50ac5133",
   "metadata": {},
   "outputs": [],
   "source": [
    "class Node:\n",
    "    def __init__(self, value):\n",
    "        self.value = value\n",
    "        self.left = None\n",
    "        self.right = None\n",
    "        \n",
    "    def insert(self, value):\n",
    "        if value <= self.value:\n",
    "            if self.left:\n",
    "                self.left.insert(value)\n",
    "            else:\n",
    "                self.left = Node(value)\n",
    "        else:\n",
    "            if self.right:\n",
    "                self.right.insert(value)\n",
    "            else:\n",
    "                self.right = Node(value)\n",
    "    \n",
    "    def print_inorder(self):\n",
    "        if self.left:\n",
    "            self.left.print_inorder()\n",
    "        print(self.value)\n",
    "        if self.right:\n",
    "            self.right.print_inorder()\n",
    "    \n",
    "    def contains(self, value):\n",
    "        \n",
    "        if value == self.value:\n",
    "            return True\n",
    "        elif value < self.value:\n",
    "            if self.left:\n",
    "                return self.left.contains(value)\n",
    "            else:\n",
    "                return False\n",
    "        else:\n",
    "            if self.right:\n",
    "                return self.right.contains(value)\n",
    "            else:\n",
    "                return False\n",
    "        \n",
    "class BinarySearchTree:\n",
    "    def __init__(self):\n",
    "        self.root = None\n",
    "        \n",
    "    def insert(self, value):\n",
    "        if self.root:\n",
    "            self.root.insert(value)\n",
    "        else:\n",
    "            self.root = Node(value)\n",
    "    \n",
    "    def print_inorder(self):\n",
    "        if self.root:\n",
    "            self.root.print_inorder()\n",
    "    \n",
    "    def contains(self, value):\n",
    "        if self.root:\n",
    "            return self.root.contains(value)\n",
    "        return False"
   ]
  },
  {
   "cell_type": "code",
   "execution_count": 2,
   "id": "e180f875",
   "metadata": {},
   "outputs": [
    {
     "name": "stdout",
     "output_type": "stream",
     "text": [
      "3\n",
      "5\n",
      "7\n",
      "8\n",
      "10\n",
      "11\n",
      "15\n",
      "False\n"
     ]
    }
   ],
   "source": [
    "arr = [3, 8, 7, 5, 15, 11, 10]\n",
    "\n",
    "bst = BinarySearchTree()\n",
    "\n",
    "for num in arr:\n",
    "    bst.insert(num)\n",
    "\n",
    "bst.print_inorder()\n",
    "\n",
    "print(bst.contains(88))"
   ]
  },
  {
   "cell_type": "markdown",
   "id": "f85c5b3d",
   "metadata": {},
   "source": [
    "## Trie"
   ]
  },
  {
   "cell_type": "code",
   "execution_count": 3,
   "id": "63273fa2",
   "metadata": {},
   "outputs": [],
   "source": [
    "class TrieNode:\n",
    "    def __init__(self):\n",
    "        self.children = {}\n",
    "        self.end_of_word = False"
   ]
  },
  {
   "cell_type": "code",
   "execution_count": 4,
   "id": "4ccd7681",
   "metadata": {},
   "outputs": [],
   "source": [
    "class Trie:\n",
    "    def __init__(self):\n",
    "        self.root = TrieNode()\n",
    "        \n",
    "    def insert(self, word: str) -> None:\n",
    "        cur = self.root\n",
    "        \n",
    "        for c in word:\n",
    "            if c not in cur.children:\n",
    "                cur.children[c] = TrieNode()\n",
    "            cur = cur.children[c]\n",
    "        cur.end_of_word = True\n",
    "        \n",
    "    def search(self, word: str) -> bool:\n",
    "        cur = self.root\n",
    "        \n",
    "        for c in word:\n",
    "            if c not in cur.children:\n",
    "                return False\n",
    "            cur = cur.children[c]\n",
    "        return cur.end_of_word\n",
    "    \n",
    "    def startsWith(self, prefix: str) -> bool:\n",
    "        cur = self.root\n",
    "        \n",
    "        for p in prefix:\n",
    "            if p not in cur.children:\n",
    "                return False\n",
    "            cur = cur.children[p]\n",
    "        return True"
   ]
  },
  {
   "cell_type": "code",
   "execution_count": 5,
   "id": "1d27a811",
   "metadata": {},
   "outputs": [
    {
     "name": "stdout",
     "output_type": "stream",
     "text": [
      "True\n",
      "False\n",
      "True\n",
      "True\n",
      "False\n"
     ]
    }
   ],
   "source": [
    "trie_obj = Trie()\n",
    "\n",
    "trie_obj.insert('apple')\n",
    "trie_obj.insert('banana')\n",
    "trie_obj.insert('application')\n",
    "\n",
    "print(trie_obj.search('apple'))\n",
    "print(trie_obj.search('absent'))\n",
    "\n",
    "print(trie_obj.startsWith('app'))\n",
    "print(trie_obj.startsWith('appli'))\n",
    "print(trie_obj.startsWith('applie'))"
   ]
  },
  {
   "cell_type": "code",
   "execution_count": null,
   "id": "61da62dd",
   "metadata": {},
   "outputs": [],
   "source": []
  }
 ],
 "metadata": {
  "kernelspec": {
   "display_name": "Python 3 (ipykernel)",
   "language": "python",
   "name": "python3"
  },
  "language_info": {
   "codemirror_mode": {
    "name": "ipython",
    "version": 3
   },
   "file_extension": ".py",
   "mimetype": "text/x-python",
   "name": "python",
   "nbconvert_exporter": "python",
   "pygments_lexer": "ipython3",
   "version": "3.8.16"
  }
 },
 "nbformat": 4,
 "nbformat_minor": 5
}
