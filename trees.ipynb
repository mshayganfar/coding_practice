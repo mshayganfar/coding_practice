{
 "cells": [
  {
   "cell_type": "markdown",
   "id": "2d73d152",
   "metadata": {},
   "source": [
    "# Trees"
   ]
  },
  {
   "cell_type": "markdown",
   "id": "448544d7",
   "metadata": {},
   "source": [
    "## Binary Search Tree"
   ]
  },
  {
   "cell_type": "code",
   "execution_count": 1,
   "id": "35743fcd",
   "metadata": {},
   "outputs": [],
   "source": [
    "class Node:\n",
    "    def __init__(self, value):\n",
    "        self.value = value\n",
    "        self.left = None\n",
    "        self.right = None\n",
    "        \n",
    "    def insert(self, value):\n",
    "        if value <= self.value:\n",
    "            if self.left:\n",
    "                self.left.insert(value)\n",
    "            else:\n",
    "                self.left = Node(value)\n",
    "        else:\n",
    "            if self.right:\n",
    "                self.right.insert(value)\n",
    "            else:\n",
    "                self.right = Node(value)\n",
    "    \n",
    "    def print_inorder(self):\n",
    "        if self.left:\n",
    "            self.left.print_inorder()\n",
    "        print(self.value)\n",
    "        if self.right:\n",
    "            self.right.print_inorder()\n",
    "    \n",
    "    def contains(self, value):\n",
    "        \n",
    "        if value == self.value:\n",
    "            return True\n",
    "        elif value < self.value:\n",
    "            if self.left:\n",
    "                return self.left.contains(value)\n",
    "            else:\n",
    "                return False\n",
    "        else:\n",
    "            if self.right:\n",
    "                return self.right.contains(value)\n",
    "            else:\n",
    "                return False\n",
    "        \n",
    "class BinarySearchTree:\n",
    "    def __init__(self):\n",
    "        self.root = None\n",
    "        \n",
    "    def insert(self, value):\n",
    "        if self.root:\n",
    "            self.root.insert(value)\n",
    "        else:\n",
    "            self.root = Node(value)\n",
    "    \n",
    "    def print_inorder(self):\n",
    "        if self.root:\n",
    "            self.root.print_inorder()\n",
    "    \n",
    "    def contains(self, value):\n",
    "        if self.root:\n",
    "            return self.root.contains(value)\n",
    "        return False"
   ]
  },
  {
   "cell_type": "code",
   "execution_count": 2,
   "id": "af25e52d",
   "metadata": {},
   "outputs": [
    {
     "name": "stdout",
     "output_type": "stream",
     "text": [
      "3\n",
      "5\n",
      "7\n",
      "8\n",
      "10\n",
      "11\n",
      "15\n",
      "False\n"
     ]
    }
   ],
   "source": [
    "arr = [3, 8, 7, 5, 15, 11, 10]\n",
    "\n",
    "bst = BinarySearchTree()\n",
    "\n",
    "for num in arr:\n",
    "    bst.insert(num)\n",
    "\n",
    "bst.print_inorder()\n",
    "\n",
    "print(bst.contains(88))"
   ]
  },
  {
   "cell_type": "markdown",
   "id": "1751b96a",
   "metadata": {},
   "source": [
    "## Trie"
   ]
  },
  {
   "cell_type": "code",
   "execution_count": 3,
   "id": "60744772",
   "metadata": {},
   "outputs": [],
   "source": [
    "class TrieNode:\n",
    "    def __init__(self):\n",
    "        self.children = {}\n",
    "        self.end_of_word = False"
   ]
  },
  {
   "cell_type": "code",
   "execution_count": 4,
   "id": "5eb1cd70",
   "metadata": {},
   "outputs": [],
   "source": [
    "class Trie:\n",
    "    def __init__(self):\n",
    "        self.root = TrieNode()\n",
    "        \n",
    "    def insert(self, word: str) -> None:\n",
    "        cur = self.root\n",
    "        \n",
    "        for c in word:\n",
    "            if c not in cur.children:\n",
    "                cur.children[c] = TrieNode()\n",
    "            cur = cur.children[c]\n",
    "        cur.end_of_word = True\n",
    "        \n",
    "    def search(self, word: str) -> bool:\n",
    "        cur = self.root\n",
    "        \n",
    "        for c in word:\n",
    "            if c not in cur.children:\n",
    "                return False\n",
    "            cur = cur.children[c]\n",
    "        return cur.end_of_word\n",
    "    \n",
    "    def startsWith(self, prefix: str) -> bool:\n",
    "        cur = self.root\n",
    "        \n",
    "        for p in prefix:\n",
    "            if p not in cur.children:\n",
    "                return False\n",
    "            cur = cur.children[p]\n",
    "        return True"
   ]
  },
  {
   "cell_type": "code",
   "execution_count": 5,
   "id": "955c9271",
   "metadata": {},
   "outputs": [
    {
     "name": "stdout",
     "output_type": "stream",
     "text": [
      "True\n",
      "False\n",
      "True\n",
      "True\n",
      "False\n"
     ]
    }
   ],
   "source": [
    "trie_obj = Trie()\n",
    "\n",
    "trie_obj.insert('apple')\n",
    "trie_obj.insert('banana')\n",
    "trie_obj.insert('application')\n",
    "\n",
    "print(trie_obj.search('apple'))\n",
    "print(trie_obj.search('absent'))\n",
    "\n",
    "print(trie_obj.startsWith('app'))\n",
    "print(trie_obj.startsWith('appli'))\n",
    "print(trie_obj.startsWith('applie'))"
   ]
  },
  {
   "cell_type": "markdown",
   "id": "59a75eb6",
   "metadata": {},
   "source": [
    "## Number of Visible Nodes\n",
    "\n",
    "There is a binary tree with N nodes. You are viewing the tree from its left side and can see only the leftmost nodes at each level. Return the number of visible nodes.\n",
    "\n",
    "Note: You can see only the leftmost nodes, but that doesn't mean they have to be left nodes. The leftmost node at a level could be a right node.\n",
    "\n",
    "<b>Example</b>\n",
    "\n",
    "            8  <------ root\n",
    "           / \\\n",
    "         3    10\n",
    "        / \\     \\\n",
    "       1   6     14\n",
    "          / \\    /\n",
    "         4   7  13            \n",
    "\n",
    "output = 4"
   ]
  },
  {
   "cell_type": "code",
   "execution_count": 7,
   "id": "56742ff6",
   "metadata": {},
   "outputs": [],
   "source": [
    "from collections import deque"
   ]
  },
  {
   "cell_type": "code",
   "execution_count": 6,
   "id": "384409cc",
   "metadata": {},
   "outputs": [],
   "source": [
    "class TreeNode: \n",
    "    def __init__(self, key): \n",
    "        self.left = None\n",
    "        self.right = None\n",
    "        self.val = key "
   ]
  },
  {
   "cell_type": "code",
   "execution_count": 8,
   "id": "3f6dfae1",
   "metadata": {},
   "outputs": [],
   "source": [
    "def visible_nodes(root):\n",
    "    \n",
    "    q = deque()\n",
    "    q.append(root)\n",
    "    \n",
    "    visible_nodes = []\n",
    "    \n",
    "    while q:\n",
    "        q_len = len(q)\n",
    "        level_nodes = []\n",
    "        \n",
    "        for i in range(q_len):\n",
    "            node = q.popleft()\n",
    "            if node:\n",
    "                level_nodes.append(node.val)\n",
    "                q.append(node.left)\n",
    "                q.append(node.right)\n",
    "                \n",
    "        if level_nodes:\n",
    "            visible_nodes.append(level_nodes[0])\n",
    "    \n",
    "    return len(visible_nodes)"
   ]
  },
  {
   "cell_type": "code",
   "execution_count": 9,
   "id": "0e072b50",
   "metadata": {},
   "outputs": [
    {
     "data": {
      "text/plain": [
       "4"
      ]
     },
     "execution_count": 9,
     "metadata": {},
     "output_type": "execute_result"
    }
   ],
   "source": [
    "root_1 = TreeNode(8)\n",
    "root_1.left = TreeNode(3)\n",
    "root_1.right = TreeNode(10)\n",
    "root_1.left.left = TreeNode(1)\n",
    "root_1.left.right = TreeNode(6)\n",
    "root_1.left.right.left = TreeNode(4)\n",
    "root_1.left.right.right = TreeNode(7)\n",
    "root_1.right.right = TreeNode(14)\n",
    "root_1.right.right.left = TreeNode(13)\n",
    "\n",
    "visible_nodes(root_1)"
   ]
  },
  {
   "cell_type": "code",
   "execution_count": 11,
   "id": "538b502e",
   "metadata": {},
   "outputs": [
    {
     "data": {
      "text/plain": [
       "5"
      ]
     },
     "execution_count": 11,
     "metadata": {},
     "output_type": "execute_result"
    }
   ],
   "source": [
    "root_2 = TreeNode(10)\n",
    "root_2.left = TreeNode(8)\n",
    "root_2.right = TreeNode(15)\n",
    "root_2.left.left = TreeNode(4)\n",
    "root_2.left.left.right = TreeNode(5)\n",
    "root_2.left.left.right.right = TreeNode(6)\n",
    "root_2.right.left =TreeNode(14)\n",
    "root_2.right.right = TreeNode(16)\n",
    "\n",
    "visible_nodes(root_2)"
   ]
  },
  {
   "cell_type": "markdown",
   "id": "0ccf75a9",
   "metadata": {},
   "source": [
    "## Nodes in a Subtree\n",
    "\n",
    "You are given a tree that contains N nodes, each containing an integer u which corresponds to a lowercase character c in the string s using 1-based indexing.\n",
    "\n",
    "You are required to answer Q queries of type [u, c], where u is an integer and c is a lowercase letter. The query result is the number of nodes in the subtree of node u containing c.\n",
    "\n",
    "<b>Example</b>\n",
    "\n",
    "        1(a)\n",
    "        /   \\\n",
    "      2(b)  3(a)\n",
    "\n",
    "s = \"aba\" <br />\n",
    "RootNode = 1 <br />\n",
    "queries = [[1, 'a']]\n",
    "\n",
    "Note: Node 1 corresponds to first letter 'a', Node 2 corresponds to second letter of the string 'b', Node 3 corresponds to third letter of the string 'a'.\n",
    "\n",
    "output = [2]\n",
    "\n",
    "Both Node 1 and Node 3 contain 'a', so the number of nodes within the subtree of Node 1 containing 'a' is 2."
   ]
  },
  {
   "cell_type": "code",
   "execution_count": 12,
   "id": "642bbc5c",
   "metadata": {},
   "outputs": [],
   "source": [
    "class Node: \n",
    "    def __init__(self, data): \n",
    "        self.val = data \n",
    "        self.children = []"
   ]
  },
  {
   "cell_type": "code",
   "execution_count": 28,
   "id": "fff7e9ed",
   "metadata": {},
   "outputs": [],
   "source": [
    "def count_of_nodes(root, queries, s):\n",
    "    \n",
    "    output = []\n",
    "    \n",
    "    for query in queries:\n",
    "        q = deque()\n",
    "        q.append(root)\n",
    "        \n",
    "        value_count = 0\n",
    "        while q:\n",
    "            node = q.popleft()\n",
    "            if node:\n",
    "                if node.val == query[0] and s[node.val-1] == query[1]:\n",
    "                    query_root = node\n",
    "                    value_count += 1\n",
    "                    break\n",
    "                for child in node.children:\n",
    "                    q.append(child)\n",
    "        \n",
    "        q.clear()\n",
    "        \n",
    "        for child in query_root.children:\n",
    "            q.append(child)\n",
    "        \n",
    "        while q:\n",
    "            node = q.popleft()\n",
    "            if node:\n",
    "                if s[node.val-1] == query[1]:\n",
    "                    value_count += 1\n",
    "            for child in node.children:\n",
    "                    q.append(child)\n",
    "        \n",
    "        output.append(value_count)\n",
    "        \n",
    "    return output"
   ]
  },
  {
   "cell_type": "code",
   "execution_count": 29,
   "id": "0e39070c",
   "metadata": {},
   "outputs": [
    {
     "data": {
      "text/plain": [
       "[2]"
      ]
     },
     "execution_count": 29,
     "metadata": {},
     "output_type": "execute_result"
    }
   ],
   "source": [
    "s_1 = \"aba\"\n",
    "\n",
    "root_1 = Node(1)\n",
    "root_1.children.append(Node(2)) \n",
    "root_1.children.append(Node(3)) \n",
    "\n",
    "queries_1 = [(1, 'a')]\n",
    "\n",
    "count_of_nodes(root_1, queries_1, s_1)"
   ]
  },
  {
   "cell_type": "code",
   "execution_count": 30,
   "id": "b0ef5845",
   "metadata": {},
   "outputs": [
    {
     "data": {
      "text/plain": [
       "[4, 1, 2]"
      ]
     },
     "execution_count": 30,
     "metadata": {},
     "output_type": "execute_result"
    }
   ],
   "source": [
    "s_2 = \"abaacab\"\n",
    "  \n",
    "root_2 = Node(1)\n",
    "root_2.children.append(Node(2))\n",
    "root_2.children.append(Node(3))\n",
    "root_2.children.append(Node(7))\n",
    "root_2.children[0].children.append(Node(4))\n",
    "root_2.children[0].children.append(Node(5))\n",
    "root_2.children[1].children.append(Node(6))\n",
    "\n",
    "queries_2 = [[1, 'a'],[2, 'b'],[3, 'a']]\n",
    "\n",
    "count_of_nodes(root_2, queries_2, s_2)"
   ]
  },
  {
   "cell_type": "code",
   "execution_count": null,
   "id": "d3dda983",
   "metadata": {},
   "outputs": [],
   "source": []
  }
 ],
 "metadata": {
  "kernelspec": {
   "display_name": "Python 3 (ipykernel)",
   "language": "python",
   "name": "python3"
  },
  "language_info": {
   "codemirror_mode": {
    "name": "ipython",
    "version": 3
   },
   "file_extension": ".py",
   "mimetype": "text/x-python",
   "name": "python",
   "nbconvert_exporter": "python",
   "pygments_lexer": "ipython3",
   "version": "3.8.16"
  }
 },
 "nbformat": 4,
 "nbformat_minor": 5
}
