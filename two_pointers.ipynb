{
 "cells": [
  {
   "cell_type": "markdown",
   "id": "a04a38ea",
   "metadata": {},
   "source": [
    "# Two Pointers"
   ]
  },
  {
   "cell_type": "markdown",
   "id": "05ee7be5",
   "metadata": {},
   "source": [
    "## 1) Move Zeros\n",
    "\n",
    "Given an integer array nums, move all 0's to the end of it while maintaining the relative order of the non-zero elements.\n",
    "\n",
    "Note that you must do this in-place without making a copy of the array.\n",
    "\n",
    "<b>Example</b>\n",
    "\n",
    "Input: nums = [0, 1, 0, 3, 12] <br />\n",
    "Output: [1, 3, 12, 0, 0]\n",
    "\n",
    "<b>Example</b>\n",
    "\n",
    "Input: nums = [0] <br />\n",
    "Output: [0]"
   ]
  },
  {
   "cell_type": "code",
   "execution_count": 11,
   "id": "4a05006c",
   "metadata": {},
   "outputs": [],
   "source": [
    "from typing import List"
   ]
  },
  {
   "cell_type": "code",
   "execution_count": 55,
   "id": "22b8e6b6",
   "metadata": {},
   "outputs": [],
   "source": [
    "def moveZeroes(nums: List[int]) -> None:\n",
    "    \n",
    "    right = len(nums)\n",
    "    left = 0\n",
    "    while left < right:\n",
    "        if nums[left] == 0:\n",
    "            nums.pop(left)\n",
    "            nums.insert(len(nums), 0)\n",
    "            right -= 1\n",
    "        else:\n",
    "            left += 1"
   ]
  },
  {
   "cell_type": "code",
   "execution_count": 60,
   "id": "5dfed882",
   "metadata": {},
   "outputs": [
    {
     "name": "stdout",
     "output_type": "stream",
     "text": [
      "[1, 3, 12, 0, 0]\n"
     ]
    }
   ],
   "source": [
    "nums = [0, 1, 0, 3, 12]\n",
    "moveZeroes(nums)\n",
    "print(nums)"
   ]
  },
  {
   "cell_type": "code",
   "execution_count": 57,
   "id": "5fd40a90",
   "metadata": {},
   "outputs": [
    {
     "data": {
      "text/plain": [
       "[0]"
      ]
     },
     "execution_count": 57,
     "metadata": {},
     "output_type": "execute_result"
    }
   ],
   "source": [
    "nums = [0]\n",
    "moveZeroes(nums)\n",
    "print(nums)"
   ]
  },
  {
   "cell_type": "code",
   "execution_count": 58,
   "id": "1e1351dd",
   "metadata": {},
   "outputs": [
    {
     "data": {
      "text/plain": [
       "[1, 0, 0]"
      ]
     },
     "execution_count": 58,
     "metadata": {},
     "output_type": "execute_result"
    }
   ],
   "source": [
    "nums = [0, 0, 1]\n",
    "moveZeroes(nums)\n",
    "print(nums)"
   ]
  },
  {
   "cell_type": "code",
   "execution_count": 59,
   "id": "4aa3374a",
   "metadata": {},
   "outputs": [],
   "source": [
    "# Another Solution (faster)\n",
    "\n",
    "def moveZeroes(nums: List[int]) -> None:\n",
    "    left = 0\n",
    "\n",
    "    for right in range(len(nums)):\n",
    "        if nums[right] != 0:\n",
    "            nums[right], nums[left] = nums[left], nums[right]\n",
    "            left += 1"
   ]
  },
  {
   "cell_type": "code",
   "execution_count": 61,
   "id": "c3adf0d5",
   "metadata": {},
   "outputs": [
    {
     "name": "stdout",
     "output_type": "stream",
     "text": [
      "[1, 3, 12, 0, 0]\n"
     ]
    }
   ],
   "source": [
    "nums = [0, 1, 0, 3, 12]\n",
    "moveZeroes(nums)\n",
    "print(nums)"
   ]
  },
  {
   "cell_type": "code",
   "execution_count": 62,
   "id": "6e28bfd3",
   "metadata": {},
   "outputs": [
    {
     "name": "stdout",
     "output_type": "stream",
     "text": [
      "[0]\n"
     ]
    }
   ],
   "source": [
    "nums = [0]\n",
    "moveZeroes(nums)\n",
    "print(nums)"
   ]
  },
  {
   "cell_type": "markdown",
   "id": "8836a765",
   "metadata": {},
   "source": [
    "## 2) Is Subsequence\n",
    "\n",
    "Given two strings s and t, return true if s is a subsequence of t, or false otherwise.\n",
    "\n",
    "A subsequence of a string is a new string that is formed from the original string by deleting some (can be none) of the characters without disturbing the relative positions of the remaining characters. (i.e., \"ace\" is a subsequence of \"abcde\" while \"aec\" is not).\n",
    "\n",
    "<b>Example</b>\n",
    "\n",
    "Input: s = \"abc\", t = \"ahbgdc\" <br />\n",
    "Output: true\n",
    "\n",
    "<b>Example</b>\n",
    "\n",
    "Input: s = \"axc\", t = \"ahbgdc\" <br />\n",
    "Output: false"
   ]
  },
  {
   "cell_type": "code",
   "execution_count": 86,
   "id": "960162de",
   "metadata": {},
   "outputs": [],
   "source": [
    "def isSubsequence(s: str, t: str) -> bool:\n",
    "    \n",
    "    i, j = 0, 0\n",
    "    while i < len(s) and j < len(t):\n",
    "        if s[i] == t[j]:\n",
    "            i += 1\n",
    "        j += 1\n",
    "    \n",
    "    return i == len(s)"
   ]
  },
  {
   "cell_type": "code",
   "execution_count": 87,
   "id": "54b9b6c5",
   "metadata": {},
   "outputs": [
    {
     "data": {
      "text/plain": [
       "True"
      ]
     },
     "execution_count": 87,
     "metadata": {},
     "output_type": "execute_result"
    }
   ],
   "source": [
    "s = \"abc\"\n",
    "t = \"ahbgdc\"\n",
    "isSubsequence(s, t)"
   ]
  },
  {
   "cell_type": "code",
   "execution_count": 88,
   "id": "2071dd76",
   "metadata": {},
   "outputs": [
    {
     "data": {
      "text/plain": [
       "False"
      ]
     },
     "execution_count": 88,
     "metadata": {},
     "output_type": "execute_result"
    }
   ],
   "source": [
    "s = \"axc\"\n",
    "t = \"ahbgdc\"\n",
    "isSubsequence(s, t)"
   ]
  },
  {
   "cell_type": "code",
   "execution_count": 89,
   "id": "5ee439ac",
   "metadata": {},
   "outputs": [
    {
     "data": {
      "text/plain": [
       "False"
      ]
     },
     "execution_count": 89,
     "metadata": {},
     "output_type": "execute_result"
    }
   ],
   "source": [
    "s = \"acb\"\n",
    "t = \"ahbgdc\"\n",
    "isSubsequence(s, t)"
   ]
  },
  {
   "cell_type": "code",
   "execution_count": 90,
   "id": "ee862825",
   "metadata": {},
   "outputs": [
    {
     "data": {
      "text/plain": [
       "True"
      ]
     },
     "execution_count": 90,
     "metadata": {},
     "output_type": "execute_result"
    }
   ],
   "source": [
    "s = \"b\"\n",
    "t = \"abc\"\n",
    "isSubsequence(s, t)"
   ]
  },
  {
   "cell_type": "markdown",
   "id": "2e276dd8",
   "metadata": {},
   "source": [
    "## 3) Container With Most Water\n",
    "\n",
    "You are given an integer array height of length n. There are n vertical lines drawn such that the two endpoints of the ith line are (i, 0) and (i, height[i]).\n",
    "\n",
    "Find two lines that together with the x-axis form a container, such that the container contains the most water.\n",
    "\n",
    "Return the maximum amount of water a container can store.\n",
    "\n",
    "Notice that you may not slant the container.\n",
    "\n",
    "<b>Example</b>\n",
    "\n",
    "Input: height = [1, 8, 6, 2, 5, 4, 8, 3, 7] <br />\n",
    "Output: 49\n",
    "\n",
    "<b>Example</b>\n",
    "\n",
    "Input: height = [1,1] <br />\n",
    "Output: 1"
   ]
  },
  {
   "cell_type": "code",
   "execution_count": 129,
   "id": "11a772b6",
   "metadata": {},
   "outputs": [],
   "source": [
    "def maxArea(height: List[int]) -> int:\n",
    "    \n",
    "    max_area = 0\n",
    "    left = 0\n",
    "    right = len(height) - 1\n",
    "\n",
    "    while left < right:\n",
    "        max_area = max(max_area, (right - left) * min(height[left], height[right]))\n",
    "\n",
    "        if height[left] < height[right]:\n",
    "            left += 1\n",
    "        else:\n",
    "            right -= 1\n",
    "        \n",
    "    return max_area"
   ]
  },
  {
   "cell_type": "code",
   "execution_count": 130,
   "id": "6db4b208",
   "metadata": {},
   "outputs": [
    {
     "data": {
      "text/plain": [
       "49"
      ]
     },
     "execution_count": 130,
     "metadata": {},
     "output_type": "execute_result"
    }
   ],
   "source": [
    "height = [1, 8, 6, 2, 5, 4, 8, 3, 7]\n",
    "maxArea(height)"
   ]
  },
  {
   "cell_type": "code",
   "execution_count": 131,
   "id": "89e6e5f3",
   "metadata": {},
   "outputs": [
    {
     "data": {
      "text/plain": [
       "1"
      ]
     },
     "execution_count": 131,
     "metadata": {},
     "output_type": "execute_result"
    }
   ],
   "source": [
    "height = [1, 1]\n",
    "maxArea(height)"
   ]
  },
  {
   "cell_type": "code",
   "execution_count": 132,
   "id": "3c507fe8",
   "metadata": {},
   "outputs": [
    {
     "data": {
      "text/plain": [
       "2"
      ]
     },
     "execution_count": 132,
     "metadata": {},
     "output_type": "execute_result"
    }
   ],
   "source": [
    "height = [1, 2, 1]\n",
    "maxArea(height)"
   ]
  },
  {
   "cell_type": "markdown",
   "id": "9a443fa5",
   "metadata": {},
   "source": [
    "## 4) Max Number of K-Sum Pairs\n",
    "\n",
    "You are given an integer array nums and an integer k.\n",
    "\n",
    "In one operation, you can pick two numbers from the array whose sum equals k and remove them from the array.\n",
    "\n",
    "Return the maximum number of operations you can perform on the array.\n",
    "\n",
    "<b>Example</b>\n",
    "\n",
    "Input: nums = [1,2,3,4], k = 5 <br />\n",
    "Output: 2 <br />\n",
    "Explanation: Starting with nums = [1,2,3,4]: <br />\n",
    "- Remove numbers 1 and 4, then nums = [2,3] <br />\n",
    "- Remove numbers 2 and 3, then nums = []\n",
    "\n",
    "There are no more pairs that sum up to 5, hence a total of 2 operations.\n",
    "\n",
    "<b>Example</b>\n",
    "\n",
    "Input: nums = [3,1,3,4,3], k = 6 <br />\n",
    "Output: 1 <br />\n",
    "Explanation: Starting with nums = [3,1,3,4,3]: <br />\n",
    "- Remove the first two 3's, then nums = [1,4,3]\n",
    "\n",
    "There are no more pairs that sum up to 6, hence a total of 1 operation."
   ]
  },
  {
   "cell_type": "code",
   "execution_count": 156,
   "id": "888dfd57",
   "metadata": {},
   "outputs": [],
   "source": [
    "def maxOperations(nums: List[int], k: int) -> int:\n",
    "    \n",
    "    nums.sort()\n",
    "    \n",
    "    op_count = 0\n",
    "    left = 0\n",
    "    right = len(nums) - 1\n",
    "    \n",
    "    while left < right:\n",
    "        if (nums[left] + nums[right]) < k:\n",
    "            left += 1\n",
    "        elif (nums[left] + nums[right]) > k:\n",
    "            right -= 1\n",
    "        else:\n",
    "            op_count += 1\n",
    "            left += 1\n",
    "            right -= 1\n",
    "            \n",
    "    return op_count"
   ]
  },
  {
   "cell_type": "code",
   "execution_count": 157,
   "id": "2565ff5c",
   "metadata": {},
   "outputs": [
    {
     "data": {
      "text/plain": [
       "2"
      ]
     },
     "execution_count": 157,
     "metadata": {},
     "output_type": "execute_result"
    }
   ],
   "source": [
    "nums = [1, 2, 3, 4]\n",
    "k = 5\n",
    "maxOperations(nums, k)"
   ]
  },
  {
   "cell_type": "code",
   "execution_count": 158,
   "id": "2b83eb05",
   "metadata": {},
   "outputs": [
    {
     "data": {
      "text/plain": [
       "1"
      ]
     },
     "execution_count": 158,
     "metadata": {},
     "output_type": "execute_result"
    }
   ],
   "source": [
    "nums = [3, 1, 3, 4, 3]\n",
    "k = 6 \n",
    "maxOperations(nums, k)"
   ]
  },
  {
   "cell_type": "code",
   "execution_count": 159,
   "id": "acaf33e2",
   "metadata": {},
   "outputs": [
    {
     "data": {
      "text/plain": [
       "[1, 3, 3, 3, 4]"
      ]
     },
     "execution_count": 159,
     "metadata": {},
     "output_type": "execute_result"
    }
   ],
   "source": [
    "nums = [3, 1, 3, 4, 3]\n",
    "nums.sort()\n",
    "nums"
   ]
  },
  {
   "cell_type": "code",
   "execution_count": null,
   "id": "9377856c",
   "metadata": {},
   "outputs": [],
   "source": []
  }
 ],
 "metadata": {
  "kernelspec": {
   "display_name": "Python 3 (ipykernel)",
   "language": "python",
   "name": "python3"
  },
  "language_info": {
   "codemirror_mode": {
    "name": "ipython",
    "version": 3
   },
   "file_extension": ".py",
   "mimetype": "text/x-python",
   "name": "python",
   "nbconvert_exporter": "python",
   "pygments_lexer": "ipython3",
   "version": "3.8.16"
  }
 },
 "nbformat": 4,
 "nbformat_minor": 5
}
