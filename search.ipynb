{
 "cells": [
  {
   "cell_type": "markdown",
   "id": "90191ccc",
   "metadata": {},
   "source": [
    "# Search"
   ]
  },
  {
   "cell_type": "markdown",
   "id": "e48242bb",
   "metadata": {},
   "source": [
    "## Binary Search\n",
    "### Recursive Implementation\n",
    "\n",
    "Time complexity: O(log N)\n",
    "\n",
    "Space complexity (if recursive): O(log N)"
   ]
  },
  {
   "cell_type": "code",
   "execution_count": 2,
   "id": "7234b93f",
   "metadata": {},
   "outputs": [],
   "source": [
    "def binary_search_helper(target, array, left, right):\n",
    "    if left > right:\n",
    "        return -1\n",
    "    \n",
    "    middle = (left + right) // 2\n",
    "    \n",
    "    if array[middle] == target:\n",
    "        return middle\n",
    "    elif target < array[middle]:\n",
    "        return binary_search_helper(target, array, left, middle - 1)\n",
    "    elif target > array[middle]:\n",
    "        return binary_search_helper(target, array, middle + 1, right)"
   ]
  },
  {
   "cell_type": "code",
   "execution_count": 3,
   "id": "7dd9c733",
   "metadata": {},
   "outputs": [],
   "source": [
    "def binary_search(target, array):\n",
    "    return binary_search_helper(target, array, 0, len(array)-1)"
   ]
  },
  {
   "cell_type": "code",
   "execution_count": 7,
   "id": "c59070d2",
   "metadata": {},
   "outputs": [
    {
     "data": {
      "text/plain": [
       "9"
      ]
     },
     "execution_count": 7,
     "metadata": {},
     "output_type": "execute_result"
    }
   ],
   "source": [
    "arr = [1, 3, 6, 8, 11, 15, 22, 34, 55, 78]\n",
    "binary_search(78, arr)"
   ]
  },
  {
   "cell_type": "markdown",
   "id": "6fc7ec29",
   "metadata": {},
   "source": [
    "### Iterative Implementation\n",
    "\n",
    "Time complexity: O(log N)\n",
    "\n",
    "Space complexity (if iterative): O(1)"
   ]
  },
  {
   "cell_type": "code",
   "execution_count": 8,
   "id": "a33e3689",
   "metadata": {},
   "outputs": [],
   "source": [
    "def binary_search_iter(target, array):\n",
    "    left = 0\n",
    "    right = len(array) - 1\n",
    "    \n",
    "    while left <= right:    \n",
    "\n",
    "        middle = (left + right) // 2\n",
    "\n",
    "        if array[middle] == target:\n",
    "            return middle\n",
    "        elif target < array[middle]:\n",
    "            right = middle - 1\n",
    "        elif target > array[middle]:\n",
    "            left = middle + 1\n",
    "\n",
    "    return -1"
   ]
  },
  {
   "cell_type": "code",
   "execution_count": 11,
   "id": "38e343f4",
   "metadata": {},
   "outputs": [
    {
     "data": {
      "text/plain": [
       "1"
      ]
     },
     "execution_count": 11,
     "metadata": {},
     "output_type": "execute_result"
    }
   ],
   "source": [
    "arr = [1, 3, 6, 8, 11, 15, 22, 34, 55, 78]\n",
    "binary_search(3, arr)"
   ]
  },
  {
   "cell_type": "markdown",
   "id": "6811f145",
   "metadata": {},
   "source": [
    "## Revenue Milestones\n",
    "\n",
    "We keep track of the revenue Facebook makes every day, and we want to know on what days Facebook hits certain revenue milestones. Given an array of the revenue on each day, and an array of milestones Facebook wants to reach, return an array containing the days on which Facebook reached every milestone.\n",
    "\n",
    "<b>Example</b>\n",
    "\n",
    "revenues = [10, 20, 30, 40, 50, 60, 70, 80, 90, 100] <br />\n",
    "milestones = [100, 200, 500] <br />\n",
    "output = [4, 6, 10] <br />\n",
    "\n",
    "<b>Explanation</b>\n",
    "On days 4, 5, and 6, FB has total revenue of <span>&dollar;</span>100, <span>&dollar;</span>150, and <span>&dollar;</span>210 respectively. Day 6 is the first time that FB has >= <span>&dollar;</span>200 of total revenue."
   ]
  },
  {
   "cell_type": "code",
   "execution_count": 48,
   "id": "0b4d45e4",
   "metadata": {},
   "outputs": [],
   "source": [
    "def getMilestoneDays(revenues, milestones):\n",
    "    output = []\n",
    "    \n",
    "    rev_acc = [sum(revenues[0:x:1]) for x in range(len(revenues)+1)][1:]\n",
    "    # Note - We can also use: \n",
    "    # from itertools import accumulate\n",
    "    # rev_acc = list(accumulate(revenues))\n",
    "    \n",
    "    for milestone in milestones:\n",
    "        left = 0\n",
    "        right = len(rev_acc) - 1\n",
    "\n",
    "        while left <= right:    \n",
    "\n",
    "            middle = (left + right) // 2\n",
    "\n",
    "            if rev_acc[middle] == milestone:\n",
    "                output.append(middle + 1)\n",
    "                break            \n",
    "            elif rev_acc[middle] < milestone and rev_acc[middle+1] > milestone:\n",
    "                output.append(middle + 2)\n",
    "                break\n",
    "            elif milestone < rev_acc[middle]:\n",
    "                right = middle - 1\n",
    "            elif milestone > rev_acc[middle]:\n",
    "                left = middle + 1\n",
    "    \n",
    "    if len(output) ==0:\n",
    "        return -1\n",
    "    \n",
    "    return output"
   ]
  },
  {
   "cell_type": "code",
   "execution_count": 49,
   "id": "9437cc93",
   "metadata": {},
   "outputs": [
    {
     "data": {
      "text/plain": [
       "[4, 6, 10]"
      ]
     },
     "execution_count": 49,
     "metadata": {},
     "output_type": "execute_result"
    }
   ],
   "source": [
    "revenues_1 = [10, 20, 30, 40, 50, 60, 70, 80, 90, 100] \n",
    "milestones_1 = [100, 200, 500] \n",
    "getMilestoneDays(revenues_1, milestones_1)"
   ]
  },
  {
   "cell_type": "code",
   "execution_count": 50,
   "id": "6c6d329a",
   "metadata": {},
   "outputs": [
    {
     "data": {
      "text/plain": [
       "[2, 4, 4, 5]"
      ]
     },
     "execution_count": 50,
     "metadata": {},
     "output_type": "execute_result"
    }
   ],
   "source": [
    "revenues_2 = [100, 200, 300, 400, 500]\n",
    "milestones_2 = [300, 800, 1000, 1400]\n",
    "getMilestoneDays(revenues_2, milestones_2)"
   ]
  },
  {
   "cell_type": "code",
   "execution_count": 51,
   "id": "1c96bb87",
   "metadata": {},
   "outputs": [
    {
     "data": {
      "text/plain": [
       "[5, 4, 2, 3, 2]"
      ]
     },
     "execution_count": 51,
     "metadata": {},
     "output_type": "execute_result"
    }
   ],
   "source": [
    "revenues_3 = [700, 800, 600, 400, 600, 700]\n",
    "milestones_3 = [3100, 2200, 800, 2100, 1000]\n",
    "getMilestoneDays(revenues_3, milestones_3)"
   ]
  },
  {
   "cell_type": "markdown",
   "id": "a4c2455b",
   "metadata": {},
   "source": [
    "## 1 Billion Users\n",
    "\n",
    "We have N different apps with different user growth rates. At a given time t, measured in days, the number of users using an app is g^t (for simplicity we'll allow fractional users), where g is the growth rate for that app. These apps will all be launched at the same time and no user ever uses more than one of the apps. We want to know how many total users there are when you add together the number of users from each app.\n",
    "\n",
    "After how many full days will we have 1 billion total users across the N apps?\n",
    "\n",
    "<b>Example 1</b>\n",
    "growthRates = [1.5] <br />\n",
    "output = 52\n",
    "\n",
    "<b>Example 2</b>\n",
    "growthRates = [1.1, 1.2, 1.3] <br />\n",
    "output = 79\n",
    "\n",
    "<b>Example 3</b>\n",
    "growthRates = [1.01, 1.02] <br />\n",
    "output = 1047"
   ]
  },
  {
   "cell_type": "code",
   "execution_count": 52,
   "id": "b10289f9",
   "metadata": {},
   "outputs": [],
   "source": [
    "import math"
   ]
  },
  {
   "cell_type": "code",
   "execution_count": null,
   "id": "ff7dae09",
   "metadata": {},
   "outputs": [],
   "source": [
    "# Older Solution\n",
    "\n",
    "# def get_users_count(growthRates, t):\n",
    "#     total_users = 0\n",
    "#     for growth_rate in growthRates:\n",
    "#         total_users += (growth_rate ** t)\n",
    "\n",
    "#     return total_users\n",
    "\n",
    "# def getBillionUsersDay(growthRates):\n",
    "#     # Write your code here\n",
    "#     total_user_count = 1000000000\n",
    "    \n",
    "#     t = [d for d in range(1500)]\n",
    "\n",
    "#     left = 0\n",
    "#     right = len(t) - 1\n",
    "#     while left <= right:\n",
    "#         middle = (left + right) // 2\n",
    "\n",
    "#         num_users = get_users_count(growthRates, middle)\n",
    "#         if (get_users_count(growthRates, middle - 1) < total_user_count) and (num_users >= total_user_count):\n",
    "#             return middle\n",
    "#         elif num_users > total_user_count:\n",
    "#             right = middle - 1\n",
    "#         elif num_users < total_user_count:\n",
    "#             left = middle + 1\n",
    "\n",
    "#     return -1"
   ]
  },
  {
   "cell_type": "code",
   "execution_count": 55,
   "id": "8046acda",
   "metadata": {},
   "outputs": [],
   "source": [
    "def getBillionUsersDay(growthRates):\n",
    "    \n",
    "    billion_users = 10 ** 9\n",
    "    \n",
    "    max_days = math.ceil(math.log(billion_users, max(growthRates)))\n",
    "    \n",
    "    left = 0\n",
    "    right = max_days\n",
    "    \n",
    "    while left <= right:    \n",
    "\n",
    "        middle = (left + right) // 2\n",
    "        \n",
    "        users = 0\n",
    "        for g in growthRates:\n",
    "            users += g ** middle\n",
    "            \n",
    "            if users >= billion_users:\n",
    "                break\n",
    "            \n",
    "        if users > billion_users:\n",
    "            right = middle - 1\n",
    "        elif users < billion_users:\n",
    "            left = middle + 1\n",
    "            \n",
    "    return middle"
   ]
  },
  {
   "cell_type": "code",
   "execution_count": 56,
   "id": "f700c68b",
   "metadata": {},
   "outputs": [
    {
     "data": {
      "text/plain": [
       "52"
      ]
     },
     "execution_count": 56,
     "metadata": {},
     "output_type": "execute_result"
    }
   ],
   "source": [
    "growthRates = [1.5]\n",
    "getBillionUsersDay(growthRates)"
   ]
  },
  {
   "cell_type": "code",
   "execution_count": 57,
   "id": "eecf6190",
   "metadata": {},
   "outputs": [
    {
     "data": {
      "text/plain": [
       "79"
      ]
     },
     "execution_count": 57,
     "metadata": {},
     "output_type": "execute_result"
    }
   ],
   "source": [
    "growthRates = [1.1, 1.2, 1.3]\n",
    "getBillionUsersDay(growthRates)"
   ]
  },
  {
   "cell_type": "code",
   "execution_count": 58,
   "id": "37be85e3",
   "metadata": {},
   "outputs": [
    {
     "data": {
      "text/plain": [
       "1047"
      ]
     },
     "execution_count": 58,
     "metadata": {},
     "output_type": "execute_result"
    }
   ],
   "source": [
    "growthRates = [1.01, 1.02]\n",
    "getBillionUsersDay(growthRates)"
   ]
  },
  {
   "cell_type": "code",
   "execution_count": null,
   "id": "25f6a830",
   "metadata": {},
   "outputs": [],
   "source": []
  }
 ],
 "metadata": {
  "kernelspec": {
   "display_name": "Python 3 (ipykernel)",
   "language": "python",
   "name": "python3"
  },
  "language_info": {
   "codemirror_mode": {
    "name": "ipython",
    "version": 3
   },
   "file_extension": ".py",
   "mimetype": "text/x-python",
   "name": "python",
   "nbconvert_exporter": "python",
   "pygments_lexer": "ipython3",
   "version": "3.8.16"
  }
 },
 "nbformat": 4,
 "nbformat_minor": 5
}
