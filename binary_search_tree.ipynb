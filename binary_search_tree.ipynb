{
 "cells": [
  {
   "cell_type": "markdown",
   "id": "a1be5b92",
   "metadata": {},
   "source": [
    "# Binary Search Tree"
   ]
  },
  {
   "cell_type": "markdown",
   "id": "06bf617b",
   "metadata": {},
   "source": [
    "## 1) Search in a Binary Search Tree\n",
    "\n",
    "You are given the root of a binary search tree (BST) and an integer val.\n",
    "\n",
    "Find the node in the BST that the node's value equals val and return the subtree rooted with that node. If such a node does not exist, return null.\n",
    "\n",
    "<b>Example</b>\n",
    "\n",
    "Input: root = [4, 2, 7, 1, 3], val = 2 <br />\n",
    "Output: [2, 1, 3]\n",
    "\n",
    "<b>Example</b>\n",
    "\n",
    "Input: root = [4, 2, 7, 1, 3], val = 5 <br />\n",
    "Output: []"
   ]
  },
  {
   "cell_type": "code",
   "execution_count": 3,
   "id": "b950b6a1",
   "metadata": {},
   "outputs": [],
   "source": [
    "from typing import Optional"
   ]
  },
  {
   "cell_type": "code",
   "execution_count": 4,
   "id": "2a1330da",
   "metadata": {},
   "outputs": [],
   "source": [
    "class TreeNode:\n",
    "    def __init__(self, val = 0, left = None, right = None):\n",
    "        self.val = val\n",
    "        self.left = left\n",
    "        self.right = right"
   ]
  },
  {
   "cell_type": "code",
   "execution_count": 94,
   "id": "3c215188",
   "metadata": {},
   "outputs": [],
   "source": [
    "def searchBST(root: Optional[TreeNode], val: int) -> Optional[TreeNode]:\n",
    "    \n",
    "    while root and root.val != val:\n",
    "        root = root.left if val < root.val else root.right\n",
    "    \n",
    "    return root"
   ]
  },
  {
   "cell_type": "code",
   "execution_count": 95,
   "id": "1a7f2468",
   "metadata": {},
   "outputs": [],
   "source": [
    "# Recursive Solution\n",
    "\n",
    "def searchBST(root: Optional[TreeNode], val: int) -> Optional[TreeNode]:\n",
    "    \n",
    "    if not root or val == root.val:\n",
    "        return root\n",
    "        \n",
    "    return searchBST(root.left, val) if val < root.val else searchBST(root.right, val)"
   ]
  },
  {
   "cell_type": "code",
   "execution_count": 96,
   "id": "2239ade3",
   "metadata": {},
   "outputs": [
    {
     "data": {
      "text/plain": [
       "<__main__.TreeNode at 0x7f92e134d5e0>"
      ]
     },
     "execution_count": 96,
     "metadata": {},
     "output_type": "execute_result"
    }
   ],
   "source": [
    "root = TreeNode(4)\n",
    "root.left = TreeNode(2)\n",
    "root.right = TreeNode(7)\n",
    "root.left.left = TreeNode(1)\n",
    "root.left.right = TreeNode(3)\n",
    "\n",
    "searchBST(root, 2)"
   ]
  },
  {
   "cell_type": "code",
   "execution_count": 97,
   "id": "517340f0",
   "metadata": {},
   "outputs": [],
   "source": [
    "root = TreeNode(4)\n",
    "root.left = TreeNode(2)\n",
    "root.right = TreeNode(7)\n",
    "root.left.left = TreeNode(1)\n",
    "root.left.right = TreeNode(3)\n",
    "\n",
    "searchBST(root, 5)"
   ]
  },
  {
   "cell_type": "markdown",
   "id": "345e7d59",
   "metadata": {},
   "source": [
    "## 2) Delete Node in a BST\n",
    "\n",
    "Given a root node reference of a BST and a key, delete the node with the given key in the BST. Return the root node reference (possibly updated) of the BST.\n",
    "\n",
    "Basically, the deletion can be divided into two stages:\n",
    "\n",
    "1) Search for a node to remove.\n",
    "2) If the node is found, delete the node.\n",
    "\n",
    "<b>Example</b>\n",
    "\n",
    "Input: root = [5, 3, 6, 2, 4, null, 7], key = 3 <br />\n",
    "Output: [5,4,6,2,null,null,7]\n",
    "\n",
    "Explanation: Given key to delete is 3. So we find the node with value 3 and delete it. <br />\n",
    "One valid answer is [5,4,6,2,null,null,7], shown in the above BST. <br />\n",
    "Please notice that another valid answer is [5,2,6,null,4,null,7] and it's also accepted.\n",
    "\n",
    "<b>Example</b>\n",
    "\n",
    "Input: root = [5, 3, 6, 2, 4, null, 7], key = 0 <br />\n",
    "Output: [5, 3, 6, 2, 4, null, 7] <br />\n",
    "\n",
    "Explanation: The tree does not contain a node with value = 0.\n",
    "\n",
    "<b>Example</b>\n",
    "\n",
    "Input: root = [], key = 0 <br />\n",
    "Output: []"
   ]
  },
  {
   "cell_type": "code",
   "execution_count": 98,
   "id": "c512f25e",
   "metadata": {},
   "outputs": [],
   "source": [
    "class TreeNode:\n",
    "    def __init__(self, val = 0, left = None, right = None):\n",
    "        self.val = val\n",
    "        self.left = left\n",
    "        self.right = right"
   ]
  },
  {
   "cell_type": "code",
   "execution_count": 105,
   "id": "b7a9ecf3",
   "metadata": {},
   "outputs": [],
   "source": [
    "def deleteNode(root: Optional[TreeNode], key: int) -> Optional[TreeNode]:\n",
    "    \n",
    "    if not root:\n",
    "        return root\n",
    "    \n",
    "    if root.val > key:\n",
    "        root.left = deleteNode(root.left, key)\n",
    "        return root\n",
    "    elif root.val < key:\n",
    "        root.right = deleteNode(root.right, key)\n",
    "        return root\n",
    "    \n",
    "    # If one of the children is empty\n",
    "    if not root.left:\n",
    "        temp = root.right\n",
    "        del root\n",
    "        return temp\n",
    "    elif not root.right:\n",
    "        temp = root.left\n",
    "        del root\n",
    "        return temp\n",
    "    else: # If both children exist\n",
    "        succParent = root\n",
    "        \n",
    "        succ = root.right\n",
    "        while succ.left:\n",
    "            succParent = succ\n",
    "            succ = succ.left\n",
    "        \n",
    "        # Delete successor.  Since successor\n",
    "        # is always left child of its parent\n",
    "        # we can safely make successor's right\n",
    "        # right child as left of its parent.\n",
    "        # If there is no succ, then assign\n",
    "        # succ.right to succParent.right\n",
    "        \n",
    "        if succParent != root:\n",
    "            succParent.left = succ.right\n",
    "        else:\n",
    "            succParent.right = succ.right\n",
    "        \n",
    "        root.val = succ.val\n",
    "        \n",
    "        del succ\n",
    "        return root"
   ]
  },
  {
   "cell_type": "code",
   "execution_count": 110,
   "id": "bd437879",
   "metadata": {},
   "outputs": [],
   "source": [
    "# More Readable Solution\n",
    "\n",
    "# One step right and then always left\n",
    "def successor(root: TreeNode) -> int:\n",
    "    root = root.right\n",
    "    while root.left:\n",
    "        root = root.left\n",
    "    return root.val\n",
    "        \n",
    "# One step left and then always right\n",
    "def predecessor(root: TreeNode) -> int:\n",
    "    root = root.left\n",
    "    while root.right:\n",
    "        root = root.right\n",
    "    return root.val\n",
    "\n",
    "def deleteNode(root: Optional[TreeNode], key: int) -> Optional[TreeNode]:\n",
    "        \n",
    "    if not root:\n",
    "        return None\n",
    "\n",
    "    # delete from the right subtree\n",
    "    if key > root.val:\n",
    "        root.right = deleteNode(root.right, key)\n",
    "    # delete from the left subtree\n",
    "    elif key < root.val:\n",
    "        root.left = deleteNode(root.left, key)\n",
    "    # delete the current node\n",
    "    else:\n",
    "        # the node is a leaf\n",
    "        if not (root.left or root.right):\n",
    "            root = None\n",
    "        # The node is not a leaf and has a right child\n",
    "        elif root.right:\n",
    "            root.val = successor(root)\n",
    "            root.right = deleteNode(root.right, root.val)\n",
    "        # the node is not a leaf, has no right child, and has a left child    \n",
    "        else:\n",
    "            root.val = predecessor(root)\n",
    "            root.left = deleteNode(root.left, root.val)\n",
    "                        \n",
    "    return root"
   ]
  },
  {
   "cell_type": "code",
   "execution_count": 111,
   "id": "dedee13d",
   "metadata": {},
   "outputs": [
    {
     "data": {
      "text/plain": [
       "5"
      ]
     },
     "execution_count": 111,
     "metadata": {},
     "output_type": "execute_result"
    }
   ],
   "source": [
    "root = TreeNode(5)\n",
    "root.left = TreeNode(3)\n",
    "root.right = TreeNode(6)\n",
    "root.left.left = TreeNode(2)\n",
    "root.left.right = TreeNode(4)\n",
    "root.right.right = TreeNode(7)\n",
    "\n",
    "deleteNode(root, 3).val"
   ]
  },
  {
   "cell_type": "code",
   "execution_count": null,
   "id": "28418a25",
   "metadata": {},
   "outputs": [],
   "source": []
  }
 ],
 "metadata": {
  "kernelspec": {
   "display_name": "Python 3 (ipykernel)",
   "language": "python",
   "name": "python3"
  },
  "language_info": {
   "codemirror_mode": {
    "name": "ipython",
    "version": 3
   },
   "file_extension": ".py",
   "mimetype": "text/x-python",
   "name": "python",
   "nbconvert_exporter": "python",
   "pygments_lexer": "ipython3",
   "version": "3.8.16"
  }
 },
 "nbformat": 4,
 "nbformat_minor": 5
}
