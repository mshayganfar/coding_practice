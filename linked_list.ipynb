{
 "cells": [
  {
   "cell_type": "markdown",
   "id": "a824072a",
   "metadata": {},
   "source": [
    "# Linked List"
   ]
  },
  {
   "cell_type": "markdown",
   "id": "281c2d39",
   "metadata": {},
   "source": [
    "## 1) Reverse Linked List\n",
    "\n",
    "Given the head of a singly linked list, reverse the list, and return the reversed list.\n",
    "\n",
    "<b>Example</b>\n",
    "\n",
    "Input: head = [1, 2, 3, 4, 5] <br />\n",
    "Output: [5, 4, 3, 2, 1]\n",
    "\n",
    "<b>Example</b>\n",
    "\n",
    "Input: head = [1, 2] <br />\n",
    "Output: [2, 1]\n",
    "\n",
    "<b>Example</b>\n",
    "\n",
    "Input: head = [] <br />\n",
    "Output: []"
   ]
  },
  {
   "cell_type": "code",
   "execution_count": 1,
   "id": "33665f7c",
   "metadata": {},
   "outputs": [],
   "source": [
    "from typing import Optional"
   ]
  },
  {
   "cell_type": "code",
   "execution_count": 2,
   "id": "e9ba55f0",
   "metadata": {},
   "outputs": [],
   "source": [
    "class ListNode:\n",
    "    def __init__(self, val = 0, next = None):\n",
    "        self.val = val\n",
    "        self.next = next"
   ]
  },
  {
   "cell_type": "code",
   "execution_count": 3,
   "id": "cd7dd432",
   "metadata": {},
   "outputs": [],
   "source": [
    "def reverseList(head: Optional[ListNode]) -> Optional[ListNode]:\n",
    "    \n",
    "    if not head:\n",
    "        return None\n",
    "    \n",
    "    prev, curr = None, head\n",
    "    \n",
    "    while curr:\n",
    "        reverse_next = curr.next\n",
    "        curr.next = prev\n",
    "        prev = curr\n",
    "        curr = reverse_next\n",
    "        \n",
    "    return prev"
   ]
  },
  {
   "cell_type": "code",
   "execution_count": 4,
   "id": "b8d3d02a",
   "metadata": {},
   "outputs": [
    {
     "name": "stdout",
     "output_type": "stream",
     "text": [
      "5\n",
      "4\n",
      "3\n",
      "2\n",
      "1\n"
     ]
    }
   ],
   "source": [
    "n4 = ListNode(5, None)\n",
    "n3 = ListNode(4, n4)\n",
    "n2 = ListNode(3, n3)\n",
    "n1 = ListNode(2, n2)\n",
    "head = ListNode(1, n1)\n",
    "\n",
    "prev = reverseList(head)\n",
    "\n",
    "print(prev.val)\n",
    "print(prev.next.val)\n",
    "print(prev.next.next.val)\n",
    "print(prev.next.next.next.val)\n",
    "print(prev.next.next.next.next.val)"
   ]
  },
  {
   "cell_type": "markdown",
   "id": "c12d2940",
   "metadata": {},
   "source": [
    "## 2) Odd Even Linked List\n",
    "\n",
    "Given the head of a singly linked list, group all the nodes with odd indices together followed by the nodes with even indices, and return the reordered list.\n",
    "\n",
    "The first node is considered odd, and the second node is even, and so on.\n",
    "\n",
    "Note that the relative order inside both the even and odd groups should remain as it was in the input.\n",
    "\n",
    "You must solve the problem in O(1) extra space complexity and O(n) time complexity.\n",
    "\n",
    "<b>Example</b>\n",
    "\n",
    "Input: head = [1, 2, 3, 4, 5] <br />\n",
    "Output: [1, 3, 5, 2, 4]\n",
    "\n",
    "<b>Example</b>\n",
    "\n",
    "Input: head = [2, 1, 3, 5, 6, 4, 7] <br />\n",
    "Output: [2, 3, 6, 7, 1, 5, 4]"
   ]
  },
  {
   "cell_type": "code",
   "execution_count": 5,
   "id": "c3d1bfa9",
   "metadata": {},
   "outputs": [],
   "source": [
    "class ListNode:\n",
    "    def __init__(self, val = 0, next = None):\n",
    "        self.val = val\n",
    "        self.next = next"
   ]
  },
  {
   "cell_type": "code",
   "execution_count": 6,
   "id": "82875b3f",
   "metadata": {},
   "outputs": [],
   "source": [
    "def oddEvenList(head: Optional[ListNode]) -> Optional[ListNode]:\n",
    "    \n",
    "    if not head:\n",
    "        return None\n",
    "    \n",
    "    odd = head\n",
    "    even = head.next\n",
    "    even_head = even\n",
    "    \n",
    "    while even and even.next:\n",
    "        odd.next = even.next\n",
    "        odd = odd.next\n",
    "        even.next = odd.next\n",
    "        even = even.next\n",
    "    \n",
    "    odd.next = even_head\n",
    "    \n",
    "    return head"
   ]
  },
  {
   "cell_type": "code",
   "execution_count": 7,
   "id": "49f41a35",
   "metadata": {},
   "outputs": [
    {
     "name": "stdout",
     "output_type": "stream",
     "text": [
      "1\n",
      "3\n",
      "5\n",
      "2\n",
      "4\n"
     ]
    }
   ],
   "source": [
    "n4 = ListNode(5, None)\n",
    "n3 = ListNode(4, n4)\n",
    "n2 = ListNode(3, n3)\n",
    "n1 = ListNode(2, n2)\n",
    "head = ListNode(1, n1)\n",
    "\n",
    "h = oddEvenList(head)\n",
    "\n",
    "print(h.val)\n",
    "print(h.next.val)\n",
    "print(h.next.next.val)\n",
    "print(h.next.next.next.val)\n",
    "print(h.next.next.next.next.val)"
   ]
  },
  {
   "cell_type": "code",
   "execution_count": 8,
   "id": "4b45fbb6",
   "metadata": {},
   "outputs": [
    {
     "name": "stdout",
     "output_type": "stream",
     "text": [
      "2\n",
      "3\n",
      "6\n",
      "7\n",
      "1\n",
      "5\n",
      "4\n"
     ]
    }
   ],
   "source": [
    "n6 = ListNode(7, None)\n",
    "n5 = ListNode(4, n6)\n",
    "n4 = ListNode(6, n5)\n",
    "n3 = ListNode(5, n4)\n",
    "n2 = ListNode(3, n3)\n",
    "n1 = ListNode(1, n2)\n",
    "head = ListNode(2, n1)\n",
    "\n",
    "h = oddEvenList(head)\n",
    "\n",
    "print(h.val)\n",
    "print(h.next.val)\n",
    "print(h.next.next.val)\n",
    "print(h.next.next.next.val)\n",
    "print(h.next.next.next.next.val)\n",
    "print(h.next.next.next.next.next.val)\n",
    "print(h.next.next.next.next.next.next.val)"
   ]
  },
  {
   "cell_type": "markdown",
   "id": "1cee7f7a",
   "metadata": {},
   "source": [
    "## 3) Delete the Middle Node of a Linked List\n",
    "\n",
    "You are given the head of a linked list. Delete the middle node, and return the head of the modified linked list.\n",
    "\n",
    "The middle node of a linked list of size n is the ⌊n / 2⌋th node from the start using 0-based indexing, where ⌊x⌋ denotes the largest integer less than or equal to x.\n",
    "\n",
    "For n = 1, 2, 3, 4, and 5, the middle nodes are 0, 1, 1, 2, and 2, respectively.\n",
    "\n",
    "<b>Example</b>\n",
    "\n",
    "Input: head = [1, 3, 4, 7, 1, 2, 6] <br />\n",
    "Output: [1, 3, 4, 1, 2, 6]\n",
    "\n",
    "Explanation: <br />\n",
    "The above figure represents the given linked list. The indices of the nodes are written below.\n",
    "Since n = 7, node 3 with value 7 is the middle node. <br />\n",
    "We return the new list after removing this node.\n",
    "\n",
    "<b>Example</b>\n",
    "\n",
    "Input: head = [1, 2, 3, 4] <br />\n",
    "Output: [1, 2, 4]\n",
    "\n",
    "Explanation: <br />\n",
    "The above figure represents the given linked list. <br />\n",
    "For n = 4, node 2 with value 3 is the middle node.\n",
    "\n",
    "<b>Example</b>\n",
    "\n",
    "Input: head = [2, 1] <br />\n",
    "Output: [2]\n",
    "\n",
    "Explanation: <br />\n",
    "The above figure represents the given linked list. <br />\n",
    "For n = 2, node 1 with value 1 is the middle node. <br />\n",
    "Node 0 with value 2 is the only node remaining after removing node 1."
   ]
  },
  {
   "cell_type": "code",
   "execution_count": 9,
   "id": "22dc184e",
   "metadata": {},
   "outputs": [],
   "source": [
    "class ListNode:\n",
    "    def __init__(self, val = 0, next = None):\n",
    "        self.val = val\n",
    "        self.next = next"
   ]
  },
  {
   "cell_type": "code",
   "execution_count": 10,
   "id": "74dfa15d",
   "metadata": {},
   "outputs": [],
   "source": [
    "def deleteMiddle(head: Optional[ListNode]) -> Optional[ListNode]:\n",
    "    \n",
    "    if not head.next:\n",
    "        return None\n",
    "    \n",
    "    curr = head\n",
    "    count = 0\n",
    "    while curr:\n",
    "        curr = curr.next\n",
    "        count += 1\n",
    "    \n",
    "    curr = head\n",
    "    mid_index = count // 2\n",
    "    for _ in range(mid_index - 1):\n",
    "        curr = curr.next\n",
    "    \n",
    "    curr.next = curr.next.next\n",
    "    \n",
    "    return head"
   ]
  },
  {
   "cell_type": "code",
   "execution_count": 11,
   "id": "aec46dda",
   "metadata": {},
   "outputs": [],
   "source": [
    "# Faster Solution\n",
    "\n",
    "def deleteMiddle(head: Optional[ListNode]) -> Optional[ListNode]:\n",
    "\n",
    "    if not head.next:\n",
    "        return None\n",
    "    \n",
    "    slow, fast = head, head.next.next\n",
    "    \n",
    "    while fast and fast.next:\n",
    "        slow = slow.next\n",
    "        fast = fast.next.next\n",
    "    \n",
    "    slow.next = slow.next.next\n",
    "    \n",
    "    return head"
   ]
  },
  {
   "cell_type": "code",
   "execution_count": 12,
   "id": "b7f99f34",
   "metadata": {},
   "outputs": [
    {
     "name": "stdout",
     "output_type": "stream",
     "text": [
      "1\n",
      "3\n",
      "4\n",
      "1\n",
      "2\n",
      "6\n"
     ]
    }
   ],
   "source": [
    "n6 = ListNode(6, None)\n",
    "n5 = ListNode(2, n6)\n",
    "n4 = ListNode(1, n5)\n",
    "n3 = ListNode(7, n4)\n",
    "n2 = ListNode(4, n3)\n",
    "n1 = ListNode(3, n2)\n",
    "head = ListNode(1, n1)\n",
    "\n",
    "h = deleteMiddle(head)\n",
    "\n",
    "print(h.val)\n",
    "print(h.next.val)\n",
    "print(h.next.next.val)\n",
    "print(h.next.next.next.val)\n",
    "print(h.next.next.next.next.val)\n",
    "print(h.next.next.next.next.next.val)"
   ]
  },
  {
   "cell_type": "code",
   "execution_count": 13,
   "id": "033e2278",
   "metadata": {},
   "outputs": [
    {
     "name": "stdout",
     "output_type": "stream",
     "text": [
      "1\n",
      "2\n",
      "4\n"
     ]
    }
   ],
   "source": [
    "n3 = ListNode(4, None)\n",
    "n2 = ListNode(3, n3)\n",
    "n1 = ListNode(2, n2)\n",
    "head = ListNode(1, n1)\n",
    "\n",
    "h = deleteMiddle(head)\n",
    "\n",
    "print(h.val)\n",
    "print(h.next.val)\n",
    "print(h.next.next.val)"
   ]
  },
  {
   "cell_type": "code",
   "execution_count": 14,
   "id": "f8468341",
   "metadata": {},
   "outputs": [
    {
     "name": "stdout",
     "output_type": "stream",
     "text": [
      "2\n"
     ]
    }
   ],
   "source": [
    "n1 = ListNode(1, None)\n",
    "head = ListNode(2, n1)\n",
    "\n",
    "h = deleteMiddle(head)\n",
    "\n",
    "print(h.val)"
   ]
  },
  {
   "cell_type": "markdown",
   "id": "ca9e8e0c",
   "metadata": {},
   "source": [
    "## 4) Maximum Twin Sum of a Linked List\n",
    "\n",
    "In a linked list of size n, where n is even, the ith node (0-indexed) of the linked list is known as the twin of the (n-1-i)th node, if 0 <= i <= (n / 2) - 1.\n",
    "\n",
    "For example, if n = 4, then node 0 is the twin of node 3, and node 1 is the twin of node 2. These are the only nodes with twins for n = 4.\n",
    "The twin sum is defined as the sum of a node and its twin.\n",
    "\n",
    "Given the head of a linked list with even length, return the maximum twin sum of the linked list.\n",
    "\n",
    "<b>Example</b>\n",
    "\n",
    "Input: head = [5, 4, 2, 1] <br />\n",
    "Output: 6\n",
    "\n",
    "Explanation: <br />\n",
    "Nodes 0 and 1 are the twins of nodes 3 and 2, respectively. All have twin sum = 6. <br />\n",
    "There are no other nodes with twins in the linked list. <br />\n",
    "Thus, the maximum twin sum of the linked list is 6.\n",
    "\n",
    "<b>Example</b>\n",
    "\n",
    "Input: head = [4, 2, 2, 3] <br />\n",
    "Output: 7\n",
    "\n",
    "Explanation: <br />\n",
    "The nodes with twins present in this linked list are: <br />\n",
    "- Node 0 is the twin of node 3 having a twin sum of 4 + 3 = 7. <br />\n",
    "- Node 1 is the twin of node 2 having a twin sum of 2 + 2 = 4. <br />\n",
    "Thus, the maximum twin sum of the linked list is max(7, 4) = 7.\n",
    "\n",
    "<b>Example</b>\n",
    "\n",
    "Input: head = [1, 100000] <br />\n",
    "Output: 100001\n",
    "\n",
    "Explanation: <br />\n",
    "There is only one node with a twin in the linked list having twin sum of 1 + 100000 = 100001."
   ]
  },
  {
   "cell_type": "code",
   "execution_count": 15,
   "id": "50e81a49",
   "metadata": {},
   "outputs": [],
   "source": [
    "class ListNode:\n",
    "    def __init__(self, val = 0, next = None):\n",
    "        self.val = val\n",
    "        self.next = next"
   ]
  },
  {
   "cell_type": "code",
   "execution_count": 26,
   "id": "f1ad16ef",
   "metadata": {},
   "outputs": [],
   "source": [
    "def pairSum(head: Optional[ListNode]) -> int:\n",
    "    \n",
    "    first_half = []\n",
    "    \n",
    "    curr = head\n",
    "    count = 0\n",
    "    while curr:\n",
    "        count += 1\n",
    "        curr = curr.next\n",
    "    \n",
    "    mid_index = count // 2\n",
    "    \n",
    "    curr = head\n",
    "    count = 0\n",
    "    while count < mid_index:\n",
    "        first_half.append(curr.val)\n",
    "        curr = curr.next\n",
    "        count += 1\n",
    "    \n",
    "    max_sum = 0\n",
    "    i = mid_index - 1\n",
    "    while curr:\n",
    "        max_sum = max(max_sum, curr.val + first_half[i])\n",
    "        curr = curr.next\n",
    "        i -= 1\n",
    "    \n",
    "    return max_sum"
   ]
  },
  {
   "cell_type": "code",
   "execution_count": 30,
   "id": "44a0abe9",
   "metadata": {},
   "outputs": [],
   "source": [
    "def pairSum(head: Optional[ListNode]) -> int:\n",
    "    \n",
    "    curr = head\n",
    "    values = []\n",
    "\n",
    "    while curr:\n",
    "        values.append(curr.val)\n",
    "        curr = curr.next\n",
    "        \n",
    "    i = 0\n",
    "    j = len(values) - 1\n",
    "    max_sum = 0\n",
    "    while(i < j):\n",
    "        max_sum = max(max_sum, values[i] + values[j])\n",
    "        i += 1\n",
    "        j -= 1\n",
    "        \n",
    "    return max_sum"
   ]
  },
  {
   "cell_type": "code",
   "execution_count": 31,
   "id": "bd2c48e5",
   "metadata": {},
   "outputs": [
    {
     "data": {
      "text/plain": [
       "6"
      ]
     },
     "execution_count": 31,
     "metadata": {},
     "output_type": "execute_result"
    }
   ],
   "source": [
    "n3 = ListNode(1, None)\n",
    "n2 = ListNode(2, n3)\n",
    "n1 = ListNode(4, n2)\n",
    "head = ListNode(5, n1)\n",
    "\n",
    "pairSum(head)"
   ]
  },
  {
   "cell_type": "code",
   "execution_count": 32,
   "id": "8dcd8592",
   "metadata": {},
   "outputs": [
    {
     "data": {
      "text/plain": [
       "7"
      ]
     },
     "execution_count": 32,
     "metadata": {},
     "output_type": "execute_result"
    }
   ],
   "source": [
    "n3 = ListNode(3, None)\n",
    "n2 = ListNode(2, n3)\n",
    "n1 = ListNode(2, n2)\n",
    "head = ListNode(4, n1)\n",
    "\n",
    "pairSum(head)"
   ]
  },
  {
   "cell_type": "code",
   "execution_count": 33,
   "id": "620b4fdd",
   "metadata": {},
   "outputs": [
    {
     "data": {
      "text/plain": [
       "100001"
      ]
     },
     "execution_count": 33,
     "metadata": {},
     "output_type": "execute_result"
    }
   ],
   "source": [
    "n1 = ListNode(100000, None)\n",
    "head = ListNode(1, n1)\n",
    "\n",
    "pairSum(head)"
   ]
  },
  {
   "cell_type": "code",
   "execution_count": null,
   "id": "ecc36f35",
   "metadata": {},
   "outputs": [],
   "source": []
  }
 ],
 "metadata": {
  "kernelspec": {
   "display_name": "Python 3 (ipykernel)",
   "language": "python",
   "name": "python3"
  },
  "language_info": {
   "codemirror_mode": {
    "name": "ipython",
    "version": 3
   },
   "file_extension": ".py",
   "mimetype": "text/x-python",
   "name": "python",
   "nbconvert_exporter": "python",
   "pygments_lexer": "ipython3",
   "version": "3.8.16"
  }
 },
 "nbformat": 4,
 "nbformat_minor": 5
}
