{
 "cells": [
  {
   "cell_type": "markdown",
   "id": "aa7698a0",
   "metadata": {},
   "source": [
    "# Linked List"
   ]
  },
  {
   "cell_type": "markdown",
   "id": "addc295e",
   "metadata": {},
   "source": [
    "## 1) Reverse Linked List\n",
    "\n",
    "Given the head of a singly linked list, reverse the list, and return the reversed list.\n",
    "\n",
    "<b>Example</b>\n",
    "\n",
    "Input: head = [1, 2, 3, 4, 5] <br />\n",
    "Output: [5, 4, 3, 2, 1]\n",
    "\n",
    "<b>Example</b>\n",
    "\n",
    "Input: head = [1, 2] <br />\n",
    "Output: [2, 1]\n",
    "\n",
    "<b>Example</b>\n",
    "\n",
    "Input: head = [] <br />\n",
    "Output: []"
   ]
  },
  {
   "cell_type": "code",
   "execution_count": 4,
   "id": "214a94e3",
   "metadata": {},
   "outputs": [],
   "source": [
    "from typing import Optional"
   ]
  },
  {
   "cell_type": "code",
   "execution_count": 16,
   "id": "39768463",
   "metadata": {},
   "outputs": [],
   "source": [
    "class ListNode:\n",
    "    def __init__(self, val = 0, next = None):\n",
    "        self.val = val\n",
    "        self.next = next"
   ]
  },
  {
   "cell_type": "code",
   "execution_count": 6,
   "id": "d74a1c10",
   "metadata": {},
   "outputs": [],
   "source": [
    "def reverseList(head: Optional[ListNode]) -> Optional[ListNode]:\n",
    "    \n",
    "    if not head:\n",
    "        return None\n",
    "    \n",
    "    prev, curr = None, head\n",
    "    \n",
    "    while curr:\n",
    "        reverse_next = curr.next\n",
    "        curr.next = prev\n",
    "        prev = curr\n",
    "        curr = reverse_next\n",
    "        \n",
    "    return prev"
   ]
  },
  {
   "cell_type": "code",
   "execution_count": 14,
   "id": "5a960544",
   "metadata": {},
   "outputs": [
    {
     "name": "stdout",
     "output_type": "stream",
     "text": [
      "5\n",
      "4\n",
      "3\n",
      "2\n",
      "1\n"
     ]
    }
   ],
   "source": [
    "n4 = ListNode(5, None)\n",
    "n3 = ListNode(4, n4)\n",
    "n2 = ListNode(3, n3)\n",
    "n1 = ListNode(2, n2)\n",
    "head = ListNode(1, n1)\n",
    "\n",
    "prev = reverseList(head)\n",
    "\n",
    "print(prev.val)\n",
    "print(prev.next.val)\n",
    "print(prev.next.next.val)\n",
    "print(prev.next.next.next.val)\n",
    "print(prev.next.next.next.next.val)"
   ]
  },
  {
   "cell_type": "markdown",
   "id": "d1f9bd2b",
   "metadata": {},
   "source": [
    "## 2) Odd Even Linked List\n",
    "\n",
    "Given the head of a singly linked list, group all the nodes with odd indices together followed by the nodes with even indices, and return the reordered list.\n",
    "\n",
    "The first node is considered odd, and the second node is even, and so on.\n",
    "\n",
    "Note that the relative order inside both the even and odd groups should remain as it was in the input.\n",
    "\n",
    "You must solve the problem in O(1) extra space complexity and O(n) time complexity.\n",
    "\n",
    "<b>Example</b>\n",
    "\n",
    "Input: head = [1, 2, 3, 4, 5] <br />\n",
    "Output: [1, 3, 5, 2, 4]\n",
    "\n",
    "<b>Example</b>\n",
    "\n",
    "Input: head = [2, 1, 3, 5, 6, 4, 7] <br />\n",
    "Output: [2, 3, 6, 7, 1, 5, 4]"
   ]
  },
  {
   "cell_type": "code",
   "execution_count": 15,
   "id": "5183200f",
   "metadata": {},
   "outputs": [],
   "source": [
    "class ListNode:\n",
    "    def __init__(self, val = 0, next = None):\n",
    "        self.val = val\n",
    "        self.next = next"
   ]
  },
  {
   "cell_type": "code",
   "execution_count": 17,
   "id": "f3eff2cc",
   "metadata": {},
   "outputs": [],
   "source": [
    "def oddEvenList(head: Optional[ListNode]) -> Optional[ListNode]:\n",
    "    \n",
    "    if not head:\n",
    "        return None\n",
    "    \n",
    "    odd = head\n",
    "    even = head.next\n",
    "    even_head = even\n",
    "    \n",
    "    while even and even.next:\n",
    "        odd.next = even.next\n",
    "        odd = odd.next\n",
    "        even.next = odd.next\n",
    "        even = even.next\n",
    "    \n",
    "    odd.next = even_head\n",
    "    \n",
    "    return head"
   ]
  },
  {
   "cell_type": "code",
   "execution_count": 20,
   "id": "92e027cc",
   "metadata": {},
   "outputs": [
    {
     "name": "stdout",
     "output_type": "stream",
     "text": [
      "1\n",
      "3\n",
      "5\n",
      "2\n",
      "4\n"
     ]
    }
   ],
   "source": [
    "n4 = ListNode(5, None)\n",
    "n3 = ListNode(4, n4)\n",
    "n2 = ListNode(3, n3)\n",
    "n1 = ListNode(2, n2)\n",
    "head = ListNode(1, n1)\n",
    "\n",
    "h = oddEvenList(head)\n",
    "\n",
    "print(h.val)\n",
    "print(h.next.val)\n",
    "print(h.next.next.val)\n",
    "print(h.next.next.next.val)\n",
    "print(h.next.next.next.next.val)"
   ]
  },
  {
   "cell_type": "code",
   "execution_count": 21,
   "id": "e6ed8e54",
   "metadata": {},
   "outputs": [
    {
     "name": "stdout",
     "output_type": "stream",
     "text": [
      "2\n",
      "3\n",
      "6\n",
      "7\n",
      "1\n",
      "5\n",
      "4\n"
     ]
    }
   ],
   "source": [
    "n6 = ListNode(7, None)\n",
    "n5 = ListNode(4, n6)\n",
    "n4 = ListNode(6, n5)\n",
    "n3 = ListNode(5, n4)\n",
    "n2 = ListNode(3, n3)\n",
    "n1 = ListNode(1, n2)\n",
    "head = ListNode(2, n1)\n",
    "\n",
    "h = oddEvenList(head)\n",
    "\n",
    "print(h.val)\n",
    "print(h.next.val)\n",
    "print(h.next.next.val)\n",
    "print(h.next.next.next.val)\n",
    "print(h.next.next.next.next.val)\n",
    "print(h.next.next.next.next.next.val)\n",
    "print(h.next.next.next.next.next.next.val)"
   ]
  },
  {
   "cell_type": "code",
   "execution_count": null,
   "id": "32c3f292",
   "metadata": {},
   "outputs": [],
   "source": []
  }
 ],
 "metadata": {
  "kernelspec": {
   "display_name": "Python 3 (ipykernel)",
   "language": "python",
   "name": "python3"
  },
  "language_info": {
   "codemirror_mode": {
    "name": "ipython",
    "version": 3
   },
   "file_extension": ".py",
   "mimetype": "text/x-python",
   "name": "python",
   "nbconvert_exporter": "python",
   "pygments_lexer": "ipython3",
   "version": "3.8.16"
  }
 },
 "nbformat": 4,
 "nbformat_minor": 5
}
