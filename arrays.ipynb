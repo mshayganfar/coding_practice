{
 "cells": [
  {
   "cell_type": "markdown",
   "id": "ca2fa658",
   "metadata": {},
   "source": [
    "# Arrays"
   ]
  },
  {
   "cell_type": "markdown",
   "id": "62a53743",
   "metadata": {},
   "source": [
    "## 1) Reverse to Make Equal\n",
    "Given two arrays A and B of length N, determine if there is a way to make A equal to B by reversing any subarrays from array B any number of times."
   ]
  },
  {
   "cell_type": "code",
   "execution_count": 6,
   "id": "2b6ea1cd",
   "metadata": {},
   "outputs": [],
   "source": [
    "def are_they_equal(array_a, array_b):\n",
    "    return sorted(array_a) == sorted(array_b)"
   ]
  },
  {
   "cell_type": "code",
   "execution_count": 8,
   "id": "be281465",
   "metadata": {},
   "outputs": [
    {
     "data": {
      "text/plain": [
       "True"
      ]
     },
     "execution_count": 8,
     "metadata": {},
     "output_type": "execute_result"
    }
   ],
   "source": [
    "a_1 = [1, 2, 3, 4]\n",
    "b_1 = [1, 4, 3, 2]\n",
    "are_they_equal(a_1, b_1)"
   ]
  },
  {
   "cell_type": "code",
   "execution_count": 9,
   "id": "edc4fbbd",
   "metadata": {},
   "outputs": [
    {
     "data": {
      "text/plain": [
       "False"
      ]
     },
     "execution_count": 9,
     "metadata": {},
     "output_type": "execute_result"
    }
   ],
   "source": [
    "a_2 = [1, 2, 3, 4]\n",
    "b_2 = [1, 2, 3, 5]\n",
    "are_they_equal(a_2, b_2)"
   ]
  },
  {
   "cell_type": "markdown",
   "id": "e03b7bab",
   "metadata": {},
   "source": [
    "## 2) Passing Yearbooks\n",
    "There are n students, numbered from 1 to n, each with their own yearbook. They would like to pass their yearbooks around and get them signed by other students.\n",
    "\n",
    "You're given a list of n integers arr[1..n], which is guaranteed to be a permutation of 1..n (in other words, it includes the integers from 1 to n exactly once each, in some order). The meaning of this list is described below.\n",
    "\n",
    "Initially, each student is holding their own yearbook. The students will then repeat the following two steps each minute: Each student i will first sign the yearbook that they're currently holding (which may either belong to themselves or to another student), and then they'll pass it to student arr[i-1]. It's possible that arr[i-1] = i for any given i, in which case student i will pass their yearbook back to themselves. Once a student has received their own yearbook back, they will hold on to it and no longer participate in the passing process.\n",
    "\n",
    "It's guaranteed that, for any possible valid input, each student will eventually receive their own yearbook back and will never end up holding more than one yearbook at a time.\n",
    "\n",
    "You must compute a list of n integers output, whose element at i-1 is equal to the number of signatures that will be present in student i's yearbook once they receive it back.\n",
    "\n",
    "#### Example 1\n",
    "n = 2 <br />\n",
    "arr = [2, 1] <br />\n",
    "output = [2, 2]\n",
    "\n",
    "<b>Pass 1:</b>\n",
    "* Student 1 signs their own yearbook. Then they pass the book to the student at arr[0], which is Student 2.\n",
    "* Student 2 signs their own yearbook. Then they pass the book to the student at arr[1], which is Student 1.\n",
    "\n",
    "<b>Pass 2:</b>\n",
    "* Student 1 signs Student 2's yearbook. Then they pass it to the student at arr[0], which is Student 2.\n",
    "* Student 2 signs Student 1's yearbook. Then they pass it to the student at arr[1], which is Student 1.\n",
    "\n",
    "<b>Pass 3:</b>\n",
    "* Both students now hold their own yearbook, so the process is complete.\n",
    "\n",
    "Each student received 2 signatures.\n",
    "\n",
    "#### Example 2\n",
    "n = 2 <br />\n",
    "arr = [1, 2] <br />\n",
    "output = [1, 1]\n",
    "\n",
    "<b>Pass 1:</b>\n",
    "* Student 1 signs their own yearbook. Then they pass the book to the student at arr[0], which is themself, Student 1.\n",
    "* Student 2 signs their own yearbook. Then they pass the book to the student at arr[1], which is themself, Student 2.\n",
    "\n",
    "<b>Pass 2:</b>\n",
    "* Both students now hold their own yearbook, so the process is complete.\n",
    "\n",
    "Each student received 1 signature."
   ]
  },
  {
   "cell_type": "code",
   "execution_count": 10,
   "id": "4d7c00cd",
   "metadata": {},
   "outputs": [],
   "source": [
    "def findSignatureCounts(arr):\n",
    "    \n",
    "    visited_students = set()\n",
    "    signatures = [0] * len(arr)\n",
    "    student_group = []\n",
    "    \n",
    "    for i in range(len(arr)):\n",
    "        student = arr[i]\n",
    "        if student in visited_students:\n",
    "            continue\n",
    "        \n",
    "        visited_students.add(student)\n",
    "        student_group.append(student)\n",
    "        \n",
    "        next_index = student - 1\n",
    "        while next_index != i:\n",
    "            next_student = arr[next_index]\n",
    "            student_group.append(next_student)\n",
    "            visited_students.add(next_student)\n",
    "            next_index = next_student - 1\n",
    "        \n",
    "        for sg_index in student_group:\n",
    "            signatures[sg_index-1] = len(student_group)\n",
    "        \n",
    "        student_group.clear()\n",
    "            \n",
    "    return signatures"
   ]
  },
  {
   "cell_type": "code",
   "execution_count": 11,
   "id": "d6a5aa52",
   "metadata": {},
   "outputs": [
    {
     "data": {
      "text/plain": [
       "[2, 2]"
      ]
     },
     "execution_count": 11,
     "metadata": {},
     "output_type": "execute_result"
    }
   ],
   "source": [
    "arr_1 = [2, 1]\n",
    "findSignatureCounts(arr_1)"
   ]
  },
  {
   "cell_type": "code",
   "execution_count": 12,
   "id": "a3da1c4e",
   "metadata": {},
   "outputs": [
    {
     "data": {
      "text/plain": [
       "[1, 1]"
      ]
     },
     "execution_count": 12,
     "metadata": {},
     "output_type": "execute_result"
    }
   ],
   "source": [
    "arr_2 = [1, 2]\n",
    "findSignatureCounts(arr_2)"
   ]
  },
  {
   "cell_type": "markdown",
   "id": "02ffc087",
   "metadata": {},
   "source": [
    "## Contiguous Subarrays\n",
    "\n",
    "You are given an array arr of N integers. For each index i, you are required to determine the number of contiguous subarrays that fulfill the following conditions:\n",
    "\n",
    "* The value at index i must be the maximum element in the contiguous subarrays, and\n",
    "* These contiguous subarrays must either start from or end on index i."
   ]
  },
  {
   "cell_type": "code",
   "execution_count": 3,
   "id": "b682ba77",
   "metadata": {},
   "outputs": [],
   "source": [
    "def count_subarrays(arr):\n",
    "    output = [1] * len(arr)\n",
    "    \n",
    "    for i in range(len(arr)):\n",
    "        sub_cnt = 0\n",
    "        left_index = i - 1\n",
    "        while left_index >= 0:\n",
    "            if arr[left_index] < arr[i]:\n",
    "                sub_cnt += 1\n",
    "                left_index -= 1\n",
    "            else:\n",
    "                break\n",
    "        \n",
    "        right_index = i + 1\n",
    "        while right_index < len(arr):\n",
    "            if arr[right_index] < arr[i]:\n",
    "                sub_cnt += 1\n",
    "                right_index += 1\n",
    "            else:\n",
    "                break\n",
    "        \n",
    "        output[i] += sub_cnt\n",
    "    \n",
    "    return output"
   ]
  },
  {
   "cell_type": "code",
   "execution_count": 4,
   "id": "2159284e",
   "metadata": {},
   "outputs": [
    {
     "data": {
      "text/plain": [
       "[1, 3, 1, 5, 1]"
      ]
     },
     "execution_count": 4,
     "metadata": {},
     "output_type": "execute_result"
    }
   ],
   "source": [
    "test_1 = [3, 4, 1, 6, 2]\n",
    "count_subarrays(test_1)"
   ]
  },
  {
   "cell_type": "code",
   "execution_count": 5,
   "id": "564b0980",
   "metadata": {},
   "outputs": [
    {
     "data": {
      "text/plain": [
       "[1, 2, 6, 1, 3, 1]"
      ]
     },
     "execution_count": 5,
     "metadata": {},
     "output_type": "execute_result"
    }
   ],
   "source": [
    "test_2 = [2, 4, 7, 1, 5, 3]\n",
    "count_subarrays(test_2)"
   ]
  },
  {
   "cell_type": "code",
   "execution_count": null,
   "id": "afc27eb8",
   "metadata": {},
   "outputs": [],
   "source": []
  }
 ],
 "metadata": {
  "kernelspec": {
   "display_name": "Python 3 (ipykernel)",
   "language": "python",
   "name": "python3"
  },
  "language_info": {
   "codemirror_mode": {
    "name": "ipython",
    "version": 3
   },
   "file_extension": ".py",
   "mimetype": "text/x-python",
   "name": "python",
   "nbconvert_exporter": "python",
   "pygments_lexer": "ipython3",
   "version": "3.8.16"
  }
 },
 "nbformat": 4,
 "nbformat_minor": 5
}
