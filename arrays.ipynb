{
 "cells": [
  {
   "cell_type": "markdown",
   "id": "ca2fa658",
   "metadata": {},
   "source": [
    "# Arrays"
   ]
  },
  {
   "cell_type": "markdown",
   "id": "62a53743",
   "metadata": {},
   "source": [
    "## 1) Reverse to Make Equal\n",
    "Given two arrays A and B of length N, determine if there is a way to make A equal to B by reversing any subarrays from array B any number of times."
   ]
  },
  {
   "cell_type": "code",
   "execution_count": 6,
   "id": "2b6ea1cd",
   "metadata": {},
   "outputs": [],
   "source": [
    "def are_they_equal(array_a, array_b):\n",
    "    return sorted(array_a) == sorted(array_b)"
   ]
  },
  {
   "cell_type": "code",
   "execution_count": 8,
   "id": "be281465",
   "metadata": {},
   "outputs": [
    {
     "data": {
      "text/plain": [
       "True"
      ]
     },
     "execution_count": 8,
     "metadata": {},
     "output_type": "execute_result"
    }
   ],
   "source": [
    "a_1 = [1, 2, 3, 4]\n",
    "b_1 = [1, 4, 3, 2]\n",
    "are_they_equal(a_1, b_1)"
   ]
  },
  {
   "cell_type": "code",
   "execution_count": 9,
   "id": "edc4fbbd",
   "metadata": {},
   "outputs": [
    {
     "data": {
      "text/plain": [
       "False"
      ]
     },
     "execution_count": 9,
     "metadata": {},
     "output_type": "execute_result"
    }
   ],
   "source": [
    "a_2 = [1, 2, 3, 4]\n",
    "b_2 = [1, 2, 3, 5]\n",
    "are_they_equal(a_2, b_2)"
   ]
  },
  {
   "cell_type": "markdown",
   "id": "e03b7bab",
   "metadata": {},
   "source": [
    "## 2) Passing Yearbooks\n",
    "There are n students, numbered from 1 to n, each with their own yearbook. They would like to pass their yearbooks around and get them signed by other students.\n",
    "\n",
    "You're given a list of n integers arr[1..n], which is guaranteed to be a permutation of 1..n (in other words, it includes the integers from 1 to n exactly once each, in some order). The meaning of this list is described below.\n",
    "\n",
    "Initially, each student is holding their own yearbook. The students will then repeat the following two steps each minute: Each student i will first sign the yearbook that they're currently holding (which may either belong to themselves or to another student), and then they'll pass it to student arr[i-1]. It's possible that arr[i-1] = i for any given i, in which case student i will pass their yearbook back to themselves. Once a student has received their own yearbook back, they will hold on to it and no longer participate in the passing process.\n",
    "\n",
    "It's guaranteed that, for any possible valid input, each student will eventually receive their own yearbook back and will never end up holding more than one yearbook at a time.\n",
    "\n",
    "You must compute a list of n integers output, whose element at i-1 is equal to the number of signatures that will be present in student i's yearbook once they receive it back.\n",
    "\n",
    "#### Example 1\n",
    "n = 2 <br />\n",
    "arr = [2, 1] <br />\n",
    "output = [2, 2]\n",
    "\n",
    "<b>Pass 1:</b>\n",
    "* Student 1 signs their own yearbook. Then they pass the book to the student at arr[0], which is Student 2.\n",
    "* Student 2 signs their own yearbook. Then they pass the book to the student at arr[1], which is Student 1.\n",
    "\n",
    "<b>Pass 2:</b>\n",
    "* Student 1 signs Student 2's yearbook. Then they pass it to the student at arr[0], which is Student 2.\n",
    "* Student 2 signs Student 1's yearbook. Then they pass it to the student at arr[1], which is Student 1.\n",
    "\n",
    "<b>Pass 3:</b>\n",
    "* Both students now hold their own yearbook, so the process is complete.\n",
    "\n",
    "Each student received 2 signatures.\n",
    "\n",
    "#### Example 2\n",
    "n = 2 <br />\n",
    "arr = [1, 2] <br />\n",
    "output = [1, 1]\n",
    "\n",
    "<b>Pass 1:</b>\n",
    "* Student 1 signs their own yearbook. Then they pass the book to the student at arr[0], which is themself, Student 1.\n",
    "* Student 2 signs their own yearbook. Then they pass the book to the student at arr[1], which is themself, Student 2.\n",
    "\n",
    "<b>Pass 2:</b>\n",
    "* Both students now hold their own yearbook, so the process is complete.\n",
    "\n",
    "Each student received 1 signature."
   ]
  },
  {
   "cell_type": "code",
   "execution_count": 10,
   "id": "4d7c00cd",
   "metadata": {},
   "outputs": [],
   "source": [
    "def findSignatureCounts(arr):\n",
    "    \n",
    "    visited_students = set()\n",
    "    signatures = [0] * len(arr)\n",
    "    student_group = []\n",
    "    \n",
    "    for i in range(len(arr)):\n",
    "        student = arr[i]\n",
    "        if student in visited_students:\n",
    "            continue\n",
    "        \n",
    "        visited_students.add(student)\n",
    "        student_group.append(student)\n",
    "        \n",
    "        next_index = student - 1\n",
    "        while next_index != i:\n",
    "            next_student = arr[next_index]\n",
    "            student_group.append(next_student)\n",
    "            visited_students.add(next_student)\n",
    "            next_index = next_student - 1\n",
    "        \n",
    "        for sg_index in student_group:\n",
    "            signatures[sg_index-1] = len(student_group)\n",
    "        \n",
    "        student_group.clear()\n",
    "            \n",
    "    return signatures"
   ]
  },
  {
   "cell_type": "code",
   "execution_count": 11,
   "id": "d6a5aa52",
   "metadata": {},
   "outputs": [
    {
     "data": {
      "text/plain": [
       "[2, 2]"
      ]
     },
     "execution_count": 11,
     "metadata": {},
     "output_type": "execute_result"
    }
   ],
   "source": [
    "arr_1 = [2, 1]\n",
    "findSignatureCounts(arr_1)"
   ]
  },
  {
   "cell_type": "code",
   "execution_count": 12,
   "id": "a3da1c4e",
   "metadata": {},
   "outputs": [
    {
     "data": {
      "text/plain": [
       "[1, 1]"
      ]
     },
     "execution_count": 12,
     "metadata": {},
     "output_type": "execute_result"
    }
   ],
   "source": [
    "arr_2 = [1, 2]\n",
    "findSignatureCounts(arr_2)"
   ]
  },
  {
   "cell_type": "markdown",
   "id": "02ffc087",
   "metadata": {},
   "source": [
    "## Contiguous Subarrays\n",
    "\n",
    "You are given an array arr of N integers. For each index i, you are required to determine the number of contiguous subarrays that fulfill the following conditions:\n",
    "\n",
    "* The value at index i must be the maximum element in the contiguous subarrays, and\n",
    "* These contiguous subarrays must either start from or end on index i."
   ]
  },
  {
   "cell_type": "code",
   "execution_count": 3,
   "id": "b682ba77",
   "metadata": {},
   "outputs": [],
   "source": [
    "def count_subarrays(arr):\n",
    "    output = [1] * len(arr)\n",
    "    \n",
    "    for i in range(len(arr)):\n",
    "        sub_cnt = 0\n",
    "        left_index = i - 1\n",
    "        while left_index >= 0:\n",
    "            if arr[left_index] < arr[i]:\n",
    "                sub_cnt += 1\n",
    "                left_index -= 1\n",
    "            else:\n",
    "                break\n",
    "        \n",
    "        right_index = i + 1\n",
    "        while right_index < len(arr):\n",
    "            if arr[right_index] < arr[i]:\n",
    "                sub_cnt += 1\n",
    "                right_index += 1\n",
    "            else:\n",
    "                break\n",
    "        \n",
    "        output[i] += sub_cnt\n",
    "    \n",
    "    return output"
   ]
  },
  {
   "cell_type": "code",
   "execution_count": 4,
   "id": "2159284e",
   "metadata": {},
   "outputs": [
    {
     "data": {
      "text/plain": [
       "[1, 3, 1, 5, 1]"
      ]
     },
     "execution_count": 4,
     "metadata": {},
     "output_type": "execute_result"
    }
   ],
   "source": [
    "test_1 = [3, 4, 1, 6, 2]\n",
    "count_subarrays(test_1)"
   ]
  },
  {
   "cell_type": "code",
   "execution_count": 5,
   "id": "564b0980",
   "metadata": {},
   "outputs": [
    {
     "data": {
      "text/plain": [
       "[1, 2, 6, 1, 3, 1]"
      ]
     },
     "execution_count": 5,
     "metadata": {},
     "output_type": "execute_result"
    }
   ],
   "source": [
    "test_2 = [2, 4, 7, 1, 5, 3]\n",
    "count_subarrays(test_2)"
   ]
  },
  {
   "cell_type": "markdown",
   "id": "fa25ac80",
   "metadata": {},
   "source": [
    "# LeetCode"
   ]
  },
  {
   "cell_type": "markdown",
   "id": "0337c70e",
   "metadata": {},
   "source": [
    "## 1768. Merge Strings Alternately\n",
    "\n",
    "You are given two strings word1 and word2. Merge the strings by adding letters in alternating order, starting with word1. If a string is longer than the other, append the additional letters onto the end of the merged string.\n",
    "\n",
    "Return the merged string.\n",
    "\n",
    "<b>Example</b>\n",
    "\n",
    "Input: word1 = \"abc\", word2 = \"pqr\" <br />\n",
    "Output: \"apbqcr\"\n",
    "\n",
    "<b>Example</b>\n",
    "\n",
    "Input: word1 = \"ab\", word2 = \"pqrs\" <br />\n",
    "Output: \"apbqrs\"\n",
    "\n",
    "<b>Example</b>\n",
    "\n",
    "Input: word1 = \"abcd\", word2 = \"pq\" <br />\n",
    "Output: \"apbqcd\""
   ]
  },
  {
   "cell_type": "code",
   "execution_count": 7,
   "id": "cbf5bfcc",
   "metadata": {},
   "outputs": [],
   "source": [
    "def mergeAlternately(word1: str, word2: str) -> str:\n",
    "    \n",
    "    list_word1 = list(word1)\n",
    "    list_word2 = list(word2)\n",
    "    \n",
    "    merged_str = \"\"\n",
    "    for i in range(min(len(list_word1), len(list_word2))):\n",
    "        merged_str += list_word1.pop(0) + list_word2.pop(0)\n",
    "    \n",
    "    if len(list_word1) > 0:\n",
    "        merged_str += ''.join(list_word1)\n",
    "    elif len(list_word2) > 0:\n",
    "        merged_str += ''.join(list_word2)\n",
    "        \n",
    "    return merged_str"
   ]
  },
  {
   "cell_type": "code",
   "execution_count": 8,
   "id": "0953d1f7",
   "metadata": {},
   "outputs": [
    {
     "data": {
      "text/plain": [
       "'apbqcr'"
      ]
     },
     "execution_count": 8,
     "metadata": {},
     "output_type": "execute_result"
    }
   ],
   "source": [
    "mergeAlternately(\"abc\", \"pqr\")"
   ]
  },
  {
   "cell_type": "code",
   "execution_count": 9,
   "id": "70fca6de",
   "metadata": {},
   "outputs": [
    {
     "data": {
      "text/plain": [
       "'apbqrs'"
      ]
     },
     "execution_count": 9,
     "metadata": {},
     "output_type": "execute_result"
    }
   ],
   "source": [
    "mergeAlternately(\"ab\", \"pqrs\")"
   ]
  },
  {
   "cell_type": "code",
   "execution_count": 10,
   "id": "49f811b1",
   "metadata": {},
   "outputs": [
    {
     "data": {
      "text/plain": [
       "'apbqcd'"
      ]
     },
     "execution_count": 10,
     "metadata": {},
     "output_type": "execute_result"
    }
   ],
   "source": [
    "mergeAlternately(\"abcd\", \"pq\")"
   ]
  },
  {
   "cell_type": "markdown",
   "id": "eed267c7",
   "metadata": {},
   "source": [
    "## 1071. Greatest Common Divisor of Strings\n",
    "\n",
    "For two strings s and t, we say \"t divides s\" if and only if s = t + t + t + ... + t + t (i.e., t is concatenated with itself one or more times).\n",
    "\n",
    "Given two strings str1 and str2, return the largest string x such that x divides both str1 and str2.\n",
    "\n",
    "<b>Example</b>\n",
    "\n",
    "Input: str1 = \"ABCABC\", str2 = \"ABC\" <br />\n",
    "Output: \"ABC\"\n",
    "\n",
    "<b>Example</b>\n",
    "\n",
    "Input: str1 = \"ABABAB\", str2 = \"ABAB\" <br />\n",
    "Output: \"AB\"\n",
    "\n",
    "<b>Example</b>\n",
    "\n",
    "Input: str1 = \"LEET\", str2 = \"CODE\" <br />\n",
    "Output: \"\""
   ]
  },
  {
   "cell_type": "markdown",
   "id": "01429b44",
   "metadata": {},
   "source": [
    "### Recursive Solution"
   ]
  },
  {
   "cell_type": "code",
   "execution_count": 29,
   "id": "02127614",
   "metadata": {},
   "outputs": [],
   "source": [
    "def gcdOfStrings_recur(str1: str, str2: str) -> str:\n",
    "    \n",
    "    if str1 + str2 != str2 + str1:\n",
    "        return \"\"\n",
    "    \n",
    "    if len(str1) == len(str2):\n",
    "        return str1\n",
    "    \n",
    "    if len(str1) > len(str2):\n",
    "        return gcdOfStrings(str1[len(str2):], str2)\n",
    "    \n",
    "    return gcdOfStrings(str1, str2[len(str1):])"
   ]
  },
  {
   "cell_type": "code",
   "execution_count": 30,
   "id": "eeca67f5",
   "metadata": {},
   "outputs": [
    {
     "data": {
      "text/plain": [
       "'ABC'"
      ]
     },
     "execution_count": 30,
     "metadata": {},
     "output_type": "execute_result"
    }
   ],
   "source": [
    "gcdOfStrings_recur(\"ABCABC\", \"ABC\")"
   ]
  },
  {
   "cell_type": "code",
   "execution_count": 31,
   "id": "5d3d6609",
   "metadata": {},
   "outputs": [
    {
     "data": {
      "text/plain": [
       "'AB'"
      ]
     },
     "execution_count": 31,
     "metadata": {},
     "output_type": "execute_result"
    }
   ],
   "source": [
    "gcdOfStrings_recur(\"ABABAB\", \"ABAB\")"
   ]
  },
  {
   "cell_type": "code",
   "execution_count": 32,
   "id": "4f90d516",
   "metadata": {},
   "outputs": [
    {
     "data": {
      "text/plain": [
       "''"
      ]
     },
     "execution_count": 32,
     "metadata": {},
     "output_type": "execute_result"
    }
   ],
   "source": [
    "gcdOfStrings_recur(\"LEET\", \"CODE\")"
   ]
  },
  {
   "cell_type": "markdown",
   "id": "914b8897",
   "metadata": {},
   "source": [
    "### Iterative Solution"
   ]
  },
  {
   "cell_type": "code",
   "execution_count": 23,
   "id": "8b7f1bd5",
   "metadata": {},
   "outputs": [],
   "source": [
    "from math import gcd"
   ]
  },
  {
   "cell_type": "code",
   "execution_count": 33,
   "id": "33900ee0",
   "metadata": {},
   "outputs": [],
   "source": [
    "def gcdOfStrings_iter(str1: str, str2: str) -> str:\n",
    "\n",
    "    if str1 + str2 != str2 + str1:\n",
    "        return \"\"\n",
    "\n",
    "    # Get the GCD of the two lengths.\n",
    "    gcd_length = gcd(len(str1), len(str2))\n",
    "    \n",
    "    return str1[:gcd_length]"
   ]
  },
  {
   "cell_type": "code",
   "execution_count": 34,
   "id": "8ba42cc7",
   "metadata": {},
   "outputs": [
    {
     "data": {
      "text/plain": [
       "'ABC'"
      ]
     },
     "execution_count": 34,
     "metadata": {},
     "output_type": "execute_result"
    }
   ],
   "source": [
    "gcdOfStrings_iter(\"ABCABC\", \"ABC\")"
   ]
  },
  {
   "cell_type": "code",
   "execution_count": 35,
   "id": "73a0d8f8",
   "metadata": {},
   "outputs": [
    {
     "data": {
      "text/plain": [
       "'AB'"
      ]
     },
     "execution_count": 35,
     "metadata": {},
     "output_type": "execute_result"
    }
   ],
   "source": [
    "gcdOfStrings_iter(\"ABABAB\", \"ABAB\")"
   ]
  },
  {
   "cell_type": "code",
   "execution_count": 36,
   "id": "d8ee944b",
   "metadata": {},
   "outputs": [
    {
     "data": {
      "text/plain": [
       "''"
      ]
     },
     "execution_count": 36,
     "metadata": {},
     "output_type": "execute_result"
    }
   ],
   "source": [
    "gcdOfStrings_iter(\"LEET\", \"CODE\")"
   ]
  },
  {
   "cell_type": "markdown",
   "id": "cc1977ba",
   "metadata": {},
   "source": [
    "## 1431. Kids With the Greatest Number of Candies\n",
    "\n",
    "There are n kids with candies. You are given an integer array candies, where each candies[i] represents the number of candies the ith kid has, and an integer extraCandies, denoting the number of extra candies that you have.\n",
    "\n",
    "Return a boolean array result of length n, where result[i] is true if, after giving the ith kid all the extraCandies, they will have the greatest number of candies among all the kids, or false otherwise.\n",
    "\n",
    "Note that multiple kids can have the greatest number of candies.\n",
    "\n",
    "<b>Example</b>\n",
    "\n",
    "Input: candies = [2,3,5,1,3], extraCandies = 3 <br />\n",
    "Output: [true,true,true,false,true] <br />\n",
    "Explanation: If you give all extraCandies to: <br />\n",
    "- Kid 1, they will have 2 + 3 = 5 candies, which is the greatest among the kids. <br />\n",
    "- Kid 2, they will have 3 + 3 = 6 candies, which is the greatest among the kids. <br />\n",
    "- Kid 3, they will have 5 + 3 = 8 candies, which is the greatest among the kids. <br />\n",
    "- Kid 4, they will have 1 + 3 = 4 candies, which is not the greatest among the kids. <br />\n",
    "- Kid 5, they will have 3 + 3 = 6 candies, which is the greatest among the kids.\n",
    "\n",
    "<b>Example</b>\n",
    "\n",
    "Input: candies = [4,2,1,1,2], extraCandies = 1 <br />\n",
    "Output: [true,false,false,false,false] <br />\n",
    "Explanation: There is only 1 extra candy. <br />\n",
    "Kid 1 will always have the greatest number of candies, even if a different kid is given the extra candy.\n",
    "\n",
    "<b>Example</b>\n",
    "\n",
    "Input: candies = [12,1,12], extraCandies = 10 <br />\n",
    "Output: [true,false,true]"
   ]
  },
  {
   "cell_type": "code",
   "execution_count": 38,
   "id": "27f99dbb",
   "metadata": {},
   "outputs": [],
   "source": [
    "from typing import List"
   ]
  },
  {
   "cell_type": "code",
   "execution_count": 45,
   "id": "f28daf09",
   "metadata": {},
   "outputs": [],
   "source": [
    "def kidsWithCandies(candies: List[int], extraCandies: int) -> List[bool]:\n",
    "    \n",
    "    greatest = max(candies)\n",
    "    \n",
    "    return list(map(lambda x: (x + extraCandies) >= greatest, candies))"
   ]
  },
  {
   "cell_type": "code",
   "execution_count": 46,
   "id": "8fff4b74",
   "metadata": {},
   "outputs": [
    {
     "data": {
      "text/plain": [
       "[True, True, True, False, True]"
      ]
     },
     "execution_count": 46,
     "metadata": {},
     "output_type": "execute_result"
    }
   ],
   "source": [
    "candies = [2, 3, 5, 1, 3]\n",
    "extraCandies = 3\n",
    "\n",
    "kidsWithCandies(candies, extraCandies)"
   ]
  },
  {
   "cell_type": "code",
   "execution_count": 47,
   "id": "2881b26e",
   "metadata": {},
   "outputs": [
    {
     "data": {
      "text/plain": [
       "[True, False, False, False, False]"
      ]
     },
     "execution_count": 47,
     "metadata": {},
     "output_type": "execute_result"
    }
   ],
   "source": [
    "candies = [4, 2, 1, 1, 2]\n",
    "extraCandies = 1\n",
    "\n",
    "kidsWithCandies(candies, extraCandies)"
   ]
  },
  {
   "cell_type": "code",
   "execution_count": 48,
   "id": "337298dc",
   "metadata": {},
   "outputs": [
    {
     "data": {
      "text/plain": [
       "[True, False, True]"
      ]
     },
     "execution_count": 48,
     "metadata": {},
     "output_type": "execute_result"
    }
   ],
   "source": [
    "candies = [12, 1, 12]\n",
    "extraCandies = 10\n",
    "\n",
    "kidsWithCandies(candies, extraCandies)"
   ]
  },
  {
   "cell_type": "markdown",
   "id": "91509f6e",
   "metadata": {},
   "source": [
    "## 605. Can Place Flowers\n",
    "\n",
    "You have a long flowerbed in which some of the plots are planted, and some are not. However, flowers cannot be planted in adjacent plots.\n",
    "\n",
    "Given an integer array flowerbed containing 0's and 1's, where 0 means empty and 1 means not empty, and an integer n, return true if n new flowers can be planted in the flowerbed without violating the no-adjacent-flowers rule and false otherwise.\n",
    "\n",
    "<b>Example</b>\n",
    "\n",
    "Input: flowerbed = [1,0,0,0,1], n = 1 <br />\n",
    "Output: true\n",
    "\n",
    "<b>Example</b>\n",
    "\n",
    "Input: flowerbed = [1,0,0,0,1], n = 2 <br />\n",
    "Output: false"
   ]
  },
  {
   "cell_type": "code",
   "execution_count": 49,
   "id": "854ba6e1",
   "metadata": {},
   "outputs": [],
   "source": [
    "from typing import List"
   ]
  },
  {
   "cell_type": "code",
   "execution_count": 128,
   "id": "b45b6e62",
   "metadata": {},
   "outputs": [],
   "source": [
    "# Older Solution\n",
    "\n",
    "# def canPlaceFlowers(flowerbed: List[int], n: int) -> bool:\n",
    "    \n",
    "#     if len(flowerbed) == 1 and flowerbed[0] == 0:\n",
    "#         return True\n",
    "    \n",
    "#     prev_zero = True\n",
    "#     for i in range(len(flowerbed) - 1):\n",
    "#         if flowerbed[i] == 0:\n",
    "#             if prev_zero == True and flowerbed[i + 1] == 0:\n",
    "#                 prev_zero = False\n",
    "#                 n -= 1\n",
    "#             else:\n",
    "#                 prev_zero = True\n",
    "#         else:\n",
    "#             prev_zero = False\n",
    "    \n",
    "#     if prev_zero == True and flowerbed[len(flowerbed) - 1] == 0:\n",
    "#         n -= 1\n",
    "    \n",
    "#     if n <= 0:\n",
    "#         return True\n",
    "    \n",
    "#     return False"
   ]
  },
  {
   "cell_type": "code",
   "execution_count": 159,
   "id": "2c074658",
   "metadata": {},
   "outputs": [],
   "source": [
    "def canPlaceFlowers(flowerbed: List[int], n: int) -> bool:\n",
    "    \n",
    "    count = 0\n",
    "    for i in range(len(flowerbed)):\n",
    "        if flowerbed[i] == 0:\n",
    "            # Check if the left and right plots are empty.\n",
    "            empty_left_plot = (i == 0) or (flowerbed[i - 1] == 0)\n",
    "            empty_right_lot = (i == len(flowerbed) - 1) or (flowerbed[i + 1] == 0)\n",
    "                \n",
    "            # If both plots are empty, we can plant a flower here.\n",
    "            if empty_left_plot and empty_right_lot:\n",
    "                flowerbed[i] = 1\n",
    "                count += 1\n",
    "        if count >= n:\n",
    "            return True\n",
    "    \n",
    "    return False"
   ]
  },
  {
   "cell_type": "code",
   "execution_count": 160,
   "id": "3a12bc5d",
   "metadata": {},
   "outputs": [
    {
     "data": {
      "text/plain": [
       "True"
      ]
     },
     "execution_count": 160,
     "metadata": {},
     "output_type": "execute_result"
    }
   ],
   "source": [
    "flowerbed = [1, 0, 0, 0, 1]\n",
    "n = 1\n",
    "\n",
    "canPlaceFlowers(flowerbed, n)"
   ]
  },
  {
   "cell_type": "code",
   "execution_count": 161,
   "id": "0b8eaa9f",
   "metadata": {},
   "outputs": [
    {
     "data": {
      "text/plain": [
       "False"
      ]
     },
     "execution_count": 161,
     "metadata": {},
     "output_type": "execute_result"
    }
   ],
   "source": [
    "flowerbed = [1, 0, 0, 0, 1]\n",
    "n = 2\n",
    "\n",
    "canPlaceFlowers(flowerbed, n)"
   ]
  },
  {
   "cell_type": "code",
   "execution_count": 162,
   "id": "a7c5219d",
   "metadata": {},
   "outputs": [
    {
     "data": {
      "text/plain": [
       "True"
      ]
     },
     "execution_count": 162,
     "metadata": {},
     "output_type": "execute_result"
    }
   ],
   "source": [
    "flowerbed = [0, 0, 1, 0, 1]\n",
    "n = 1\n",
    "\n",
    "canPlaceFlowers(flowerbed, n)"
   ]
  },
  {
   "cell_type": "code",
   "execution_count": 163,
   "id": "736c848a",
   "metadata": {},
   "outputs": [
    {
     "data": {
      "text/plain": [
       "True"
      ]
     },
     "execution_count": 163,
     "metadata": {},
     "output_type": "execute_result"
    }
   ],
   "source": [
    "flowerbed = [0]\n",
    "n = 1\n",
    "\n",
    "canPlaceFlowers(flowerbed, n)"
   ]
  },
  {
   "cell_type": "code",
   "execution_count": 164,
   "id": "3b54d276",
   "metadata": {},
   "outputs": [
    {
     "data": {
      "text/plain": [
       "True"
      ]
     },
     "execution_count": 164,
     "metadata": {},
     "output_type": "execute_result"
    }
   ],
   "source": [
    "flowerbed = [0, 0, 1, 0, 0]\n",
    "n = 1\n",
    "\n",
    "canPlaceFlowers(flowerbed, n)"
   ]
  },
  {
   "cell_type": "code",
   "execution_count": 165,
   "id": "b750849c",
   "metadata": {},
   "outputs": [
    {
     "data": {
      "text/plain": [
       "True"
      ]
     },
     "execution_count": 165,
     "metadata": {},
     "output_type": "execute_result"
    }
   ],
   "source": [
    "flowerbed = [0, 0, 0, 0, 1]\n",
    "n = 2\n",
    "\n",
    "canPlaceFlowers(flowerbed, n)"
   ]
  },
  {
   "cell_type": "code",
   "execution_count": 166,
   "id": "77341a17",
   "metadata": {},
   "outputs": [
    {
     "data": {
      "text/plain": [
       "False"
      ]
     },
     "execution_count": 166,
     "metadata": {},
     "output_type": "execute_result"
    }
   ],
   "source": [
    "flowerbed = [1, 0, 0, 0, 0, 1]\n",
    "n = 2\n",
    "\n",
    "canPlaceFlowers(flowerbed, n)"
   ]
  },
  {
   "cell_type": "code",
   "execution_count": null,
   "id": "a23088f3",
   "metadata": {},
   "outputs": [],
   "source": []
  }
 ],
 "metadata": {
  "kernelspec": {
   "display_name": "Python 3 (ipykernel)",
   "language": "python",
   "name": "python3"
  },
  "language_info": {
   "codemirror_mode": {
    "name": "ipython",
    "version": 3
   },
   "file_extension": ".py",
   "mimetype": "text/x-python",
   "name": "python",
   "nbconvert_exporter": "python",
   "pygments_lexer": "ipython3",
   "version": "3.8.16"
  }
 },
 "nbformat": 4,
 "nbformat_minor": 5
}
