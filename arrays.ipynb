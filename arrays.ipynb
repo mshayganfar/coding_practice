{
 "cells": [
  {
   "cell_type": "markdown",
   "id": "ca2fa658",
   "metadata": {},
   "source": [
    "# Arrays"
   ]
  },
  {
   "cell_type": "markdown",
   "id": "62a53743",
   "metadata": {},
   "source": [
    "## 1) Reverse to Make Equal\n",
    "Given two arrays A and B of length N, determine if there is a way to make A equal to B by reversing any subarrays from array B any number of times."
   ]
  },
  {
   "cell_type": "code",
   "execution_count": 6,
   "id": "2b6ea1cd",
   "metadata": {},
   "outputs": [],
   "source": [
    "def are_they_equal(array_a, array_b):\n",
    "    return sorted(array_a) == sorted(array_b)"
   ]
  },
  {
   "cell_type": "code",
   "execution_count": 8,
   "id": "be281465",
   "metadata": {},
   "outputs": [
    {
     "data": {
      "text/plain": [
       "True"
      ]
     },
     "execution_count": 8,
     "metadata": {},
     "output_type": "execute_result"
    }
   ],
   "source": [
    "a_1 = [1, 2, 3, 4]\n",
    "b_1 = [1, 4, 3, 2]\n",
    "are_they_equal(a_1, b_1)"
   ]
  },
  {
   "cell_type": "code",
   "execution_count": 9,
   "id": "edc4fbbd",
   "metadata": {},
   "outputs": [
    {
     "data": {
      "text/plain": [
       "False"
      ]
     },
     "execution_count": 9,
     "metadata": {},
     "output_type": "execute_result"
    }
   ],
   "source": [
    "a_2 = [1, 2, 3, 4]\n",
    "b_2 = [1, 2, 3, 5]\n",
    "are_they_equal(a_2, b_2)"
   ]
  },
  {
   "cell_type": "markdown",
   "id": "e03b7bab",
   "metadata": {},
   "source": [
    "## 2) Passing Yearbooks\n",
    "There are n students, numbered from 1 to n, each with their own yearbook. They would like to pass their yearbooks around and get them signed by other students.\n",
    "\n",
    "You're given a list of n integers arr[1..n], which is guaranteed to be a permutation of 1..n (in other words, it includes the integers from 1 to n exactly once each, in some order). The meaning of this list is described below.\n",
    "\n",
    "Initially, each student is holding their own yearbook. The students will then repeat the following two steps each minute: Each student i will first sign the yearbook that they're currently holding (which may either belong to themselves or to another student), and then they'll pass it to student arr[i-1]. It's possible that arr[i-1] = i for any given i, in which case student i will pass their yearbook back to themselves. Once a student has received their own yearbook back, they will hold on to it and no longer participate in the passing process.\n",
    "\n",
    "It's guaranteed that, for any possible valid input, each student will eventually receive their own yearbook back and will never end up holding more than one yearbook at a time.\n",
    "\n",
    "You must compute a list of n integers output, whose element at i-1 is equal to the number of signatures that will be present in student i's yearbook once they receive it back.\n",
    "\n",
    "#### Example 1\n",
    "n = 2 <br />\n",
    "arr = [2, 1] <br />\n",
    "output = [2, 2]\n",
    "\n",
    "<b>Pass 1:</b>\n",
    "* Student 1 signs their own yearbook. Then they pass the book to the student at arr[0], which is Student 2.\n",
    "* Student 2 signs their own yearbook. Then they pass the book to the student at arr[1], which is Student 1.\n",
    "\n",
    "<b>Pass 2:</b>\n",
    "* Student 1 signs Student 2's yearbook. Then they pass it to the student at arr[0], which is Student 2.\n",
    "* Student 2 signs Student 1's yearbook. Then they pass it to the student at arr[1], which is Student 1.\n",
    "\n",
    "<b>Pass 3:</b>\n",
    "* Both students now hold their own yearbook, so the process is complete.\n",
    "\n",
    "Each student received 2 signatures.\n",
    "\n",
    "#### Example 2\n",
    "n = 2 <br />\n",
    "arr = [1, 2] <br />\n",
    "output = [1, 1]\n",
    "\n",
    "<b>Pass 1:</b>\n",
    "* Student 1 signs their own yearbook. Then they pass the book to the student at arr[0], which is themself, Student 1.\n",
    "* Student 2 signs their own yearbook. Then they pass the book to the student at arr[1], which is themself, Student 2.\n",
    "\n",
    "<b>Pass 2:</b>\n",
    "* Both students now hold their own yearbook, so the process is complete.\n",
    "\n",
    "Each student received 1 signature."
   ]
  },
  {
   "cell_type": "code",
   "execution_count": 10,
   "id": "4d7c00cd",
   "metadata": {},
   "outputs": [],
   "source": [
    "def findSignatureCounts(arr):\n",
    "    \n",
    "    visited_students = set()\n",
    "    signatures = [0] * len(arr)\n",
    "    student_group = []\n",
    "    \n",
    "    for i in range(len(arr)):\n",
    "        student = arr[i]\n",
    "        if student in visited_students:\n",
    "            continue\n",
    "        \n",
    "        visited_students.add(student)\n",
    "        student_group.append(student)\n",
    "        \n",
    "        next_index = student - 1\n",
    "        while next_index != i:\n",
    "            next_student = arr[next_index]\n",
    "            student_group.append(next_student)\n",
    "            visited_students.add(next_student)\n",
    "            next_index = next_student - 1\n",
    "        \n",
    "        for sg_index in student_group:\n",
    "            signatures[sg_index-1] = len(student_group)\n",
    "        \n",
    "        student_group.clear()\n",
    "            \n",
    "    return signatures"
   ]
  },
  {
   "cell_type": "code",
   "execution_count": 11,
   "id": "d6a5aa52",
   "metadata": {},
   "outputs": [
    {
     "data": {
      "text/plain": [
       "[2, 2]"
      ]
     },
     "execution_count": 11,
     "metadata": {},
     "output_type": "execute_result"
    }
   ],
   "source": [
    "arr_1 = [2, 1]\n",
    "findSignatureCounts(arr_1)"
   ]
  },
  {
   "cell_type": "code",
   "execution_count": 12,
   "id": "a3da1c4e",
   "metadata": {},
   "outputs": [
    {
     "data": {
      "text/plain": [
       "[1, 1]"
      ]
     },
     "execution_count": 12,
     "metadata": {},
     "output_type": "execute_result"
    }
   ],
   "source": [
    "arr_2 = [1, 2]\n",
    "findSignatureCounts(arr_2)"
   ]
  },
  {
   "cell_type": "markdown",
   "id": "02ffc087",
   "metadata": {},
   "source": [
    "## Contiguous Subarrays\n",
    "\n",
    "You are given an array arr of N integers. For each index i, you are required to determine the number of contiguous subarrays that fulfill the following conditions:\n",
    "\n",
    "* The value at index i must be the maximum element in the contiguous subarrays, and\n",
    "* These contiguous subarrays must either start from or end on index i."
   ]
  },
  {
   "cell_type": "code",
   "execution_count": 3,
   "id": "b682ba77",
   "metadata": {},
   "outputs": [],
   "source": [
    "def count_subarrays(arr):\n",
    "    output = [1] * len(arr)\n",
    "    \n",
    "    for i in range(len(arr)):\n",
    "        sub_cnt = 0\n",
    "        left_index = i - 1\n",
    "        while left_index >= 0:\n",
    "            if arr[left_index] < arr[i]:\n",
    "                sub_cnt += 1\n",
    "                left_index -= 1\n",
    "            else:\n",
    "                break\n",
    "        \n",
    "        right_index = i + 1\n",
    "        while right_index < len(arr):\n",
    "            if arr[right_index] < arr[i]:\n",
    "                sub_cnt += 1\n",
    "                right_index += 1\n",
    "            else:\n",
    "                break\n",
    "        \n",
    "        output[i] += sub_cnt\n",
    "    \n",
    "    return output"
   ]
  },
  {
   "cell_type": "code",
   "execution_count": 4,
   "id": "2159284e",
   "metadata": {},
   "outputs": [
    {
     "data": {
      "text/plain": [
       "[1, 3, 1, 5, 1]"
      ]
     },
     "execution_count": 4,
     "metadata": {},
     "output_type": "execute_result"
    }
   ],
   "source": [
    "test_1 = [3, 4, 1, 6, 2]\n",
    "count_subarrays(test_1)"
   ]
  },
  {
   "cell_type": "code",
   "execution_count": 5,
   "id": "564b0980",
   "metadata": {},
   "outputs": [
    {
     "data": {
      "text/plain": [
       "[1, 2, 6, 1, 3, 1]"
      ]
     },
     "execution_count": 5,
     "metadata": {},
     "output_type": "execute_result"
    }
   ],
   "source": [
    "test_2 = [2, 4, 7, 1, 5, 3]\n",
    "count_subarrays(test_2)"
   ]
  },
  {
   "cell_type": "markdown",
   "id": "43fec77f",
   "metadata": {},
   "source": [
    "# LeetCode"
   ]
  },
  {
   "cell_type": "markdown",
   "id": "8eba474f",
   "metadata": {},
   "source": [
    "## 1768. Merge Strings Alternately\n",
    "\n",
    "You are given two strings word1 and word2. Merge the strings by adding letters in alternating order, starting with word1. If a string is longer than the other, append the additional letters onto the end of the merged string.\n",
    "\n",
    "Return the merged string.\n",
    "\n",
    "<b>Example</b>\n",
    "\n",
    "Input: word1 = \"abc\", word2 = \"pqr\" <br />\n",
    "Output: \"apbqcr\"\n",
    "\n",
    "<b>Example</b>\n",
    "\n",
    "Input: word1 = \"ab\", word2 = \"pqrs\" <br />\n",
    "Output: \"apbqrs\"\n",
    "\n",
    "<b>Example</b>\n",
    "\n",
    "Input: word1 = \"abcd\", word2 = \"pq\" <br />\n",
    "Output: \"apbqcd\""
   ]
  },
  {
   "cell_type": "code",
   "execution_count": 7,
   "id": "4b93508e",
   "metadata": {},
   "outputs": [],
   "source": [
    "def mergeAlternately(word1: str, word2: str) -> str:\n",
    "    \n",
    "    list_word1 = list(word1)\n",
    "    list_word2 = list(word2)\n",
    "    \n",
    "    merged_str = \"\"\n",
    "    for i in range(min(len(list_word1), len(list_word2))):\n",
    "        merged_str += list_word1.pop(0) + list_word2.pop(0)\n",
    "    \n",
    "    if len(list_word1) > 0:\n",
    "        merged_str += ''.join(list_word1)\n",
    "    elif len(list_word2) > 0:\n",
    "        merged_str += ''.join(list_word2)\n",
    "        \n",
    "    return merged_str"
   ]
  },
  {
   "cell_type": "code",
   "execution_count": 8,
   "id": "4b37b913",
   "metadata": {},
   "outputs": [
    {
     "data": {
      "text/plain": [
       "'apbqcr'"
      ]
     },
     "execution_count": 8,
     "metadata": {},
     "output_type": "execute_result"
    }
   ],
   "source": [
    "mergeAlternately(\"abc\", \"pqr\")"
   ]
  },
  {
   "cell_type": "code",
   "execution_count": 9,
   "id": "5f0abfc1",
   "metadata": {},
   "outputs": [
    {
     "data": {
      "text/plain": [
       "'apbqrs'"
      ]
     },
     "execution_count": 9,
     "metadata": {},
     "output_type": "execute_result"
    }
   ],
   "source": [
    "mergeAlternately(\"ab\", \"pqrs\")"
   ]
  },
  {
   "cell_type": "code",
   "execution_count": 10,
   "id": "a69dd4d1",
   "metadata": {},
   "outputs": [
    {
     "data": {
      "text/plain": [
       "'apbqcd'"
      ]
     },
     "execution_count": 10,
     "metadata": {},
     "output_type": "execute_result"
    }
   ],
   "source": [
    "mergeAlternately(\"abcd\", \"pq\")"
   ]
  },
  {
   "cell_type": "markdown",
   "id": "13933f86",
   "metadata": {},
   "source": [
    "## 1071. Greatest Common Divisor of Strings\n",
    "\n",
    "For two strings s and t, we say \"t divides s\" if and only if s = t + t + t + ... + t + t (i.e., t is concatenated with itself one or more times).\n",
    "\n",
    "Given two strings str1 and str2, return the largest string x such that x divides both str1 and str2.\n",
    "\n",
    "<b>Example</b>\n",
    "\n",
    "Input: str1 = \"ABCABC\", str2 = \"ABC\" <br />\n",
    "Output: \"ABC\"\n",
    "\n",
    "<b>Example</b>\n",
    "\n",
    "Input: str1 = \"ABABAB\", str2 = \"ABAB\" <br />\n",
    "Output: \"AB\"\n",
    "\n",
    "<b>Example</b>\n",
    "\n",
    "Input: str1 = \"LEET\", str2 = \"CODE\" <br />\n",
    "Output: \"\""
   ]
  },
  {
   "cell_type": "markdown",
   "id": "49949ea6",
   "metadata": {},
   "source": [
    "### Recursive Solution"
   ]
  },
  {
   "cell_type": "code",
   "execution_count": 29,
   "id": "e3638c4a",
   "metadata": {},
   "outputs": [],
   "source": [
    "def gcdOfStrings_recur(str1: str, str2: str) -> str:\n",
    "    \n",
    "    if str1 + str2 != str2 + str1:\n",
    "        return \"\"\n",
    "    \n",
    "    if len(str1) == len(str2):\n",
    "        return str1\n",
    "    \n",
    "    if len(str1) > len(str2):\n",
    "        return gcdOfStrings(str1[len(str2):], str2)\n",
    "    \n",
    "    return gcdOfStrings(str1, str2[len(str1):])"
   ]
  },
  {
   "cell_type": "code",
   "execution_count": 30,
   "id": "05b25a6b",
   "metadata": {},
   "outputs": [
    {
     "data": {
      "text/plain": [
       "'ABC'"
      ]
     },
     "execution_count": 30,
     "metadata": {},
     "output_type": "execute_result"
    }
   ],
   "source": [
    "gcdOfStrings_recur(\"ABCABC\", \"ABC\")"
   ]
  },
  {
   "cell_type": "code",
   "execution_count": 31,
   "id": "163fd613",
   "metadata": {},
   "outputs": [
    {
     "data": {
      "text/plain": [
       "'AB'"
      ]
     },
     "execution_count": 31,
     "metadata": {},
     "output_type": "execute_result"
    }
   ],
   "source": [
    "gcdOfStrings_recur(\"ABABAB\", \"ABAB\")"
   ]
  },
  {
   "cell_type": "code",
   "execution_count": 32,
   "id": "7b9179d2",
   "metadata": {},
   "outputs": [
    {
     "data": {
      "text/plain": [
       "''"
      ]
     },
     "execution_count": 32,
     "metadata": {},
     "output_type": "execute_result"
    }
   ],
   "source": [
    "gcdOfStrings_recur(\"LEET\", \"CODE\")"
   ]
  },
  {
   "cell_type": "markdown",
   "id": "5631881e",
   "metadata": {},
   "source": [
    "### Iterative Solution"
   ]
  },
  {
   "cell_type": "code",
   "execution_count": 23,
   "id": "fe5ce897",
   "metadata": {},
   "outputs": [],
   "source": [
    "from math import gcd"
   ]
  },
  {
   "cell_type": "code",
   "execution_count": 33,
   "id": "0ba2e93e",
   "metadata": {},
   "outputs": [],
   "source": [
    "def gcdOfStrings_iter(str1: str, str2: str) -> str:\n",
    "\n",
    "    if str1 + str2 != str2 + str1:\n",
    "        return \"\"\n",
    "\n",
    "    # Get the GCD of the two lengths.\n",
    "    gcd_length = gcd(len(str1), len(str2))\n",
    "    \n",
    "    return str1[:gcd_length]"
   ]
  },
  {
   "cell_type": "code",
   "execution_count": 34,
   "id": "c04e0194",
   "metadata": {},
   "outputs": [
    {
     "data": {
      "text/plain": [
       "'ABC'"
      ]
     },
     "execution_count": 34,
     "metadata": {},
     "output_type": "execute_result"
    }
   ],
   "source": [
    "gcdOfStrings_iter(\"ABCABC\", \"ABC\")"
   ]
  },
  {
   "cell_type": "code",
   "execution_count": 35,
   "id": "9baae4bf",
   "metadata": {},
   "outputs": [
    {
     "data": {
      "text/plain": [
       "'AB'"
      ]
     },
     "execution_count": 35,
     "metadata": {},
     "output_type": "execute_result"
    }
   ],
   "source": [
    "gcdOfStrings_iter(\"ABABAB\", \"ABAB\")"
   ]
  },
  {
   "cell_type": "code",
   "execution_count": 36,
   "id": "0f1afe35",
   "metadata": {},
   "outputs": [
    {
     "data": {
      "text/plain": [
       "''"
      ]
     },
     "execution_count": 36,
     "metadata": {},
     "output_type": "execute_result"
    }
   ],
   "source": [
    "gcdOfStrings_iter(\"LEET\", \"CODE\")"
   ]
  },
  {
   "cell_type": "markdown",
   "id": "2b546086",
   "metadata": {},
   "source": [
    "## 1431. Kids With the Greatest Number of Candies\n",
    "\n",
    "There are n kids with candies. You are given an integer array candies, where each candies[i] represents the number of candies the ith kid has, and an integer extraCandies, denoting the number of extra candies that you have.\n",
    "\n",
    "Return a boolean array result of length n, where result[i] is true if, after giving the ith kid all the extraCandies, they will have the greatest number of candies among all the kids, or false otherwise.\n",
    "\n",
    "Note that multiple kids can have the greatest number of candies.\n",
    "\n",
    "<b>Example</b>\n",
    "\n",
    "Input: candies = [2,3,5,1,3], extraCandies = 3 <br />\n",
    "Output: [true,true,true,false,true] <br />\n",
    "Explanation: If you give all extraCandies to: <br />\n",
    "- Kid 1, they will have 2 + 3 = 5 candies, which is the greatest among the kids. <br />\n",
    "- Kid 2, they will have 3 + 3 = 6 candies, which is the greatest among the kids. <br />\n",
    "- Kid 3, they will have 5 + 3 = 8 candies, which is the greatest among the kids. <br />\n",
    "- Kid 4, they will have 1 + 3 = 4 candies, which is not the greatest among the kids. <br />\n",
    "- Kid 5, they will have 3 + 3 = 6 candies, which is the greatest among the kids.\n",
    "\n",
    "<b>Example</b>\n",
    "\n",
    "Input: candies = [4,2,1,1,2], extraCandies = 1 <br />\n",
    "Output: [true,false,false,false,false] <br />\n",
    "Explanation: There is only 1 extra candy. <br />\n",
    "Kid 1 will always have the greatest number of candies, even if a different kid is given the extra candy.\n",
    "\n",
    "<b>Example</b>\n",
    "\n",
    "Input: candies = [12,1,12], extraCandies = 10 <br />\n",
    "Output: [true,false,true]"
   ]
  },
  {
   "cell_type": "code",
   "execution_count": 38,
   "id": "09d45bac",
   "metadata": {},
   "outputs": [],
   "source": [
    "from typing import List"
   ]
  },
  {
   "cell_type": "code",
   "execution_count": 45,
   "id": "27b02ad7",
   "metadata": {},
   "outputs": [],
   "source": [
    "def kidsWithCandies(candies: List[int], extraCandies: int) -> List[bool]:\n",
    "    \n",
    "    greatest = max(candies)\n",
    "    \n",
    "    return list(map(lambda x: (x + extraCandies) >= greatest, candies))"
   ]
  },
  {
   "cell_type": "code",
   "execution_count": 46,
   "id": "a7504bab",
   "metadata": {},
   "outputs": [
    {
     "data": {
      "text/plain": [
       "[True, True, True, False, True]"
      ]
     },
     "execution_count": 46,
     "metadata": {},
     "output_type": "execute_result"
    }
   ],
   "source": [
    "candies = [2, 3, 5, 1, 3]\n",
    "extraCandies = 3\n",
    "\n",
    "kidsWithCandies(candies, extraCandies)"
   ]
  },
  {
   "cell_type": "code",
   "execution_count": 47,
   "id": "317e4283",
   "metadata": {},
   "outputs": [
    {
     "data": {
      "text/plain": [
       "[True, False, False, False, False]"
      ]
     },
     "execution_count": 47,
     "metadata": {},
     "output_type": "execute_result"
    }
   ],
   "source": [
    "candies = [4, 2, 1, 1, 2]\n",
    "extraCandies = 1\n",
    "\n",
    "kidsWithCandies(candies, extraCandies)"
   ]
  },
  {
   "cell_type": "code",
   "execution_count": 48,
   "id": "3bb2be22",
   "metadata": {},
   "outputs": [
    {
     "data": {
      "text/plain": [
       "[True, False, True]"
      ]
     },
     "execution_count": 48,
     "metadata": {},
     "output_type": "execute_result"
    }
   ],
   "source": [
    "candies = [12, 1, 12]\n",
    "extraCandies = 10\n",
    "\n",
    "kidsWithCandies(candies, extraCandies)"
   ]
  },
  {
   "cell_type": "markdown",
   "id": "17a27ab8",
   "metadata": {},
   "source": [
    "## 605. Can Place Flowers\n",
    "\n",
    "You have a long flowerbed in which some of the plots are planted, and some are not. However, flowers cannot be planted in adjacent plots.\n",
    "\n",
    "Given an integer array flowerbed containing 0's and 1's, where 0 means empty and 1 means not empty, and an integer n, return true if n new flowers can be planted in the flowerbed without violating the no-adjacent-flowers rule and false otherwise.\n",
    "\n",
    "<b>Example</b>\n",
    "\n",
    "Input: flowerbed = [1,0,0,0,1], n = 1 <br />\n",
    "Output: true\n",
    "\n",
    "<b>Example</b>\n",
    "\n",
    "Input: flowerbed = [1,0,0,0,1], n = 2 <br />\n",
    "Output: false"
   ]
  },
  {
   "cell_type": "code",
   "execution_count": 49,
   "id": "b5472d30",
   "metadata": {},
   "outputs": [],
   "source": [
    "from typing import List"
   ]
  },
  {
   "cell_type": "code",
   "execution_count": 128,
   "id": "bded5ae9",
   "metadata": {},
   "outputs": [],
   "source": [
    "# Older Solution\n",
    "\n",
    "# def canPlaceFlowers(flowerbed: List[int], n: int) -> bool:\n",
    "    \n",
    "#     if len(flowerbed) == 1 and flowerbed[0] == 0:\n",
    "#         return True\n",
    "    \n",
    "#     prev_zero = True\n",
    "#     for i in range(len(flowerbed) - 1):\n",
    "#         if flowerbed[i] == 0:\n",
    "#             if prev_zero == True and flowerbed[i + 1] == 0:\n",
    "#                 prev_zero = False\n",
    "#                 n -= 1\n",
    "#             else:\n",
    "#                 prev_zero = True\n",
    "#         else:\n",
    "#             prev_zero = False\n",
    "    \n",
    "#     if prev_zero == True and flowerbed[len(flowerbed) - 1] == 0:\n",
    "#         n -= 1\n",
    "    \n",
    "#     if n <= 0:\n",
    "#         return True\n",
    "    \n",
    "#     return False"
   ]
  },
  {
   "cell_type": "code",
   "execution_count": 159,
   "id": "0f6bf45a",
   "metadata": {},
   "outputs": [],
   "source": [
    "def canPlaceFlowers(flowerbed: List[int], n: int) -> bool:\n",
    "    \n",
    "    count = 0\n",
    "    for i in range(len(flowerbed)):\n",
    "        if flowerbed[i] == 0:\n",
    "            # Check if the left and right plots are empty.\n",
    "            empty_left_plot = (i == 0) or (flowerbed[i - 1] == 0)\n",
    "            empty_right_lot = (i == len(flowerbed) - 1) or (flowerbed[i + 1] == 0)\n",
    "                \n",
    "            # If both plots are empty, we can plant a flower here.\n",
    "            if empty_left_plot and empty_right_lot:\n",
    "                flowerbed[i] = 1\n",
    "                count += 1\n",
    "        if count >= n:\n",
    "            return True\n",
    "    \n",
    "    return False"
   ]
  },
  {
   "cell_type": "code",
   "execution_count": 160,
   "id": "43df29eb",
   "metadata": {},
   "outputs": [
    {
     "data": {
      "text/plain": [
       "True"
      ]
     },
     "execution_count": 160,
     "metadata": {},
     "output_type": "execute_result"
    }
   ],
   "source": [
    "flowerbed = [1, 0, 0, 0, 1]\n",
    "n = 1\n",
    "\n",
    "canPlaceFlowers(flowerbed, n)"
   ]
  },
  {
   "cell_type": "code",
   "execution_count": 161,
   "id": "36ca5fc9",
   "metadata": {},
   "outputs": [
    {
     "data": {
      "text/plain": [
       "False"
      ]
     },
     "execution_count": 161,
     "metadata": {},
     "output_type": "execute_result"
    }
   ],
   "source": [
    "flowerbed = [1, 0, 0, 0, 1]\n",
    "n = 2\n",
    "\n",
    "canPlaceFlowers(flowerbed, n)"
   ]
  },
  {
   "cell_type": "code",
   "execution_count": 162,
   "id": "611b7d9e",
   "metadata": {},
   "outputs": [
    {
     "data": {
      "text/plain": [
       "True"
      ]
     },
     "execution_count": 162,
     "metadata": {},
     "output_type": "execute_result"
    }
   ],
   "source": [
    "flowerbed = [0, 0, 1, 0, 1]\n",
    "n = 1\n",
    "\n",
    "canPlaceFlowers(flowerbed, n)"
   ]
  },
  {
   "cell_type": "code",
   "execution_count": 163,
   "id": "2943f45d",
   "metadata": {},
   "outputs": [
    {
     "data": {
      "text/plain": [
       "True"
      ]
     },
     "execution_count": 163,
     "metadata": {},
     "output_type": "execute_result"
    }
   ],
   "source": [
    "flowerbed = [0]\n",
    "n = 1\n",
    "\n",
    "canPlaceFlowers(flowerbed, n)"
   ]
  },
  {
   "cell_type": "code",
   "execution_count": 164,
   "id": "e36dd158",
   "metadata": {},
   "outputs": [
    {
     "data": {
      "text/plain": [
       "True"
      ]
     },
     "execution_count": 164,
     "metadata": {},
     "output_type": "execute_result"
    }
   ],
   "source": [
    "flowerbed = [0, 0, 1, 0, 0]\n",
    "n = 1\n",
    "\n",
    "canPlaceFlowers(flowerbed, n)"
   ]
  },
  {
   "cell_type": "code",
   "execution_count": 165,
   "id": "7dee3e1f",
   "metadata": {},
   "outputs": [
    {
     "data": {
      "text/plain": [
       "True"
      ]
     },
     "execution_count": 165,
     "metadata": {},
     "output_type": "execute_result"
    }
   ],
   "source": [
    "flowerbed = [0, 0, 0, 0, 1]\n",
    "n = 2\n",
    "\n",
    "canPlaceFlowers(flowerbed, n)"
   ]
  },
  {
   "cell_type": "code",
   "execution_count": 166,
   "id": "28e0dc10",
   "metadata": {},
   "outputs": [
    {
     "data": {
      "text/plain": [
       "False"
      ]
     },
     "execution_count": 166,
     "metadata": {},
     "output_type": "execute_result"
    }
   ],
   "source": [
    "flowerbed = [1, 0, 0, 0, 0, 1]\n",
    "n = 2\n",
    "\n",
    "canPlaceFlowers(flowerbed, n)"
   ]
  },
  {
   "cell_type": "markdown",
   "id": "1e919a82",
   "metadata": {},
   "source": [
    "## 345. Reverse Vowels of a String\n",
    "\n",
    "Given a string s, reverse only all the vowels in the string and return it.\n",
    "\n",
    "The vowels are 'a', 'e', 'i', 'o', and 'u', and they can appear in both lower and upper cases, more than once.\n",
    "\n",
    "<b>Example</b>\n",
    "\n",
    "Input: s = \"hello\"\n",
    "Output: \"holle\"\n",
    "\n",
    "<b>Example</b>\n",
    "\n",
    "Input: s = \"leetcode\"\n",
    "Output: \"leotcede\""
   ]
  },
  {
   "cell_type": "code",
   "execution_count": 213,
   "id": "8c3adf36",
   "metadata": {},
   "outputs": [],
   "source": [
    "# Older Solution\n",
    "\n",
    "# def reverseVowels(s: str) -> str:\n",
    "    \n",
    "#     result = []\n",
    "#     found_vowels = []\n",
    "#     vowels = set(\"aeiouAEIOU\")\n",
    "    \n",
    "#     for ch in s:\n",
    "#         if ch in vowels:\n",
    "#             found_vowels.append(ch)\n",
    "#             result.append('*')\n",
    "#         else:\n",
    "#             result.append(ch)\n",
    "    \n",
    "#     for i in range(len(result)):\n",
    "#         if result[i] == '*':\n",
    "#             result[i] = found_vowels.pop(-1)\n",
    "    \n",
    "#     return ''.join(result)"
   ]
  },
  {
   "cell_type": "code",
   "execution_count": 216,
   "id": "88498018",
   "metadata": {},
   "outputs": [],
   "source": [
    "def reverseVowels(s: str) -> str:\n",
    "    \n",
    "    start = 0\n",
    "    end = len(s) - 1\n",
    "    \n",
    "    s = list(s)\n",
    "    vowels = set(\"aeiouAEIOU\")\n",
    "    \n",
    "    while start < end:\n",
    "        \n",
    "        while start < len(s) and s[start] not in vowels:\n",
    "            start += 1\n",
    "            \n",
    "        while end >= 0 and s[end] not in vowels:\n",
    "            end -= 1\n",
    "        \n",
    "        if start < end:\n",
    "            s[start], s[end] = s[end], s[start]\n",
    "            start += 1\n",
    "            end -= 1\n",
    "    \n",
    "    return ''.join(s)"
   ]
  },
  {
   "cell_type": "code",
   "execution_count": 217,
   "id": "f751a082",
   "metadata": {},
   "outputs": [
    {
     "data": {
      "text/plain": [
       "'holle'"
      ]
     },
     "execution_count": 217,
     "metadata": {},
     "output_type": "execute_result"
    }
   ],
   "source": [
    "s = \"hello\"\n",
    "reverseVowels(s)"
   ]
  },
  {
   "cell_type": "code",
   "execution_count": 218,
   "id": "e6c70432",
   "metadata": {},
   "outputs": [
    {
     "data": {
      "text/plain": [
       "'leotcede'"
      ]
     },
     "execution_count": 218,
     "metadata": {},
     "output_type": "execute_result"
    }
   ],
   "source": [
    "s = \"leetcode\"\n",
    "reverseVowels(s)"
   ]
  },
  {
   "cell_type": "markdown",
   "id": "358bf73d",
   "metadata": {},
   "source": [
    "## 151. Reverse Words in a String\n",
    "\n",
    "Given an input string s, reverse the order of the words.\n",
    "\n",
    "A word is defined as a sequence of non-space characters. The words in s will be separated by at least one space.\n",
    "\n",
    "Return a string of the words in reverse order concatenated by a single space.\n",
    "\n",
    "Note that s may contain leading or trailing spaces or multiple spaces between two words. The returned string should only have a single space separating the words. Do not include any extra spaces.\n",
    "\n",
    "<b>Example</b>\n",
    "\n",
    "Input: s = \"the sky is blue\" <br />\n",
    "Output: \"blue is sky the\"\n",
    "\n",
    "<b>Example</b>\n",
    "\n",
    "Input: s = \"  hello world  \" <br />\n",
    "Output: \"world hello\"\n",
    "\n",
    "Explanation: Your reversed string should not contain leading or trailing spaces.\n",
    "\n",
    "<b>Example</b>\n",
    "\n",
    "Input: s = \"a good   example\" <br />\n",
    "Output: \"example good a\"\n",
    "\n",
    "Explanation: You need to reduce multiple spaces between two words to a single space in the reversed string."
   ]
  },
  {
   "cell_type": "code",
   "execution_count": 244,
   "id": "54ab0707",
   "metadata": {},
   "outputs": [],
   "source": [
    "def reverseWords(s: str) -> str:\n",
    "    s_list = [word for word in s.strip().split(' ') if word != '']\n",
    "    return ' '.join(s_list[::-1])"
   ]
  },
  {
   "cell_type": "code",
   "execution_count": 245,
   "id": "550ba7f3",
   "metadata": {},
   "outputs": [
    {
     "data": {
      "text/plain": [
       "'blue is sky the'"
      ]
     },
     "execution_count": 245,
     "metadata": {},
     "output_type": "execute_result"
    }
   ],
   "source": [
    "s = \"the sky is blue\"\n",
    "reverseWords(s)"
   ]
  },
  {
   "cell_type": "code",
   "execution_count": 248,
   "id": "87a60728",
   "metadata": {},
   "outputs": [
    {
     "data": {
      "text/plain": [
       "'world hello'"
      ]
     },
     "execution_count": 248,
     "metadata": {},
     "output_type": "execute_result"
    }
   ],
   "source": [
    "s = \" hello   world \"\n",
    "reverseWords(s)"
   ]
  },
  {
   "cell_type": "code",
   "execution_count": 247,
   "id": "c33b4eca",
   "metadata": {},
   "outputs": [
    {
     "data": {
      "text/plain": [
       "'example good a'"
      ]
     },
     "execution_count": 247,
     "metadata": {},
     "output_type": "execute_result"
    }
   ],
   "source": [
    "s = \"a good example\"\n",
    "reverseWords(s)"
   ]
  },
  {
   "cell_type": "markdown",
   "id": "3293ddc5",
   "metadata": {},
   "source": [
    "## 238. Product of Array Except Self\n",
    "\n",
    "Given an integer array nums, return an array answer such that answer[i] is equal to the product of all the elements of nums except nums[i].\n",
    "\n",
    "The product of any prefix or suffix of nums is guaranteed to fit in a 32-bit integer.\n",
    "\n",
    "You must write an algorithm that runs in O(n) time and without using the division operation.\n",
    "\n",
    "<b>Example</b>\n",
    "\n",
    "Input: nums = [1,2,3,4] <br />\n",
    "Output: [24,12,8,6]\n",
    "\n",
    "<b>Example</b>\n",
    "\n",
    "Input: nums = [-1,1,0,-3,3] <br />\n",
    "Output: [0,0,9,0,0]"
   ]
  },
  {
   "cell_type": "code",
   "execution_count": 255,
   "id": "ab1aa073",
   "metadata": {},
   "outputs": [],
   "source": [
    "from typing import List\n",
    "import math"
   ]
  },
  {
   "cell_type": "code",
   "execution_count": 259,
   "id": "ecb99c90",
   "metadata": {},
   "outputs": [],
   "source": [
    "# Older Solution\n",
    "\n",
    "# def productExceptSelf(nums: List[int]) -> List[int]:\n",
    "#     prod_list = []\n",
    "#     for i in range(len(nums)):\n",
    "#         sub_list = nums[:i] + nums[i+1:]\n",
    "#         prod_list.append(math.prod(sub_list))\n",
    "#     return prod_list"
   ]
  },
  {
   "cell_type": "code",
   "execution_count": 256,
   "id": "56a9ac0a",
   "metadata": {},
   "outputs": [],
   "source": [
    "# Older Solution\n",
    "\n",
    "# def productExceptSelf(nums: List[int]) -> List[int]:\n",
    "    \n",
    "#     products = []\n",
    "#     for i in range(len(nums)):\n",
    "#         num = nums.pop(i)\n",
    "#         products.append(math.prod(nums))\n",
    "#         nums.insert(i, num)\n",
    "#     return products"
   ]
  },
  {
   "cell_type": "code",
   "execution_count": 308,
   "id": "aa7b5c58",
   "metadata": {},
   "outputs": [],
   "source": [
    "def productExceptSelf(nums: List[int]) -> List[int]:\n",
    "    \n",
    "    length = len(nums)\n",
    "    \n",
    "    right = [0] * length\n",
    "    left = [0] * length\n",
    "    answer = [0] * length\n",
    "    \n",
    "    left[0] = 1\n",
    "    for i in range(1, length):\n",
    "        left[i] = nums[i - 1] * left[i - 1]\n",
    "    \n",
    "    right[length - 1] = 1\n",
    "    for i in reversed(range(length - 1)):\n",
    "        right[i] = nums[i + 1] * right[i + 1]\n",
    "    \n",
    "    for i in range(length):\n",
    "        answer[i] = left[i] * right[i]\n",
    "    \n",
    "    return answer"
   ]
  },
  {
   "cell_type": "code",
   "execution_count": 300,
   "id": "741a228c",
   "metadata": {},
   "outputs": [],
   "source": [
    "# Optimized for Space\n",
    "\n",
    "def productExceptSelfOpt(nums: List[int]) -> List[int]:\n",
    "    \n",
    "    length = len(nums)\n",
    "    \n",
    "    answer = [0] * length\n",
    "    \n",
    "    answer[0] = 1\n",
    "    for i in range(1, length):\n",
    "        answer[i] = nums[i - 1] * answer[i - 1]\n",
    "    \n",
    "    right = 1\n",
    "    for i in reversed(range(length)):\n",
    "        answer[i] = right * answer[i]\n",
    "        right *= nums[i]\n",
    "    \n",
    "    return answer"
   ]
  },
  {
   "cell_type": "code",
   "execution_count": 309,
   "id": "c350bbed",
   "metadata": {},
   "outputs": [
    {
     "data": {
      "text/plain": [
       "[24, 12, 8, 6]"
      ]
     },
     "execution_count": 309,
     "metadata": {},
     "output_type": "execute_result"
    }
   ],
   "source": [
    "nums = [1, 2, 3, 4]\n",
    "productExceptSelf(nums)"
   ]
  },
  {
   "cell_type": "code",
   "execution_count": 310,
   "id": "203d8bee",
   "metadata": {},
   "outputs": [
    {
     "data": {
      "text/plain": [
       "[0, 0, 9, 0, 0]"
      ]
     },
     "execution_count": 310,
     "metadata": {},
     "output_type": "execute_result"
    }
   ],
   "source": [
    "nums = [-1, 1, 0, -3, 3]\n",
    "productExceptSelf(nums)"
   ]
  },
  {
   "cell_type": "code",
   "execution_count": 311,
   "id": "ac4090e8",
   "metadata": {},
   "outputs": [
    {
     "data": {
      "text/plain": [
       "[24, 12, 8, 6]"
      ]
     },
     "execution_count": 311,
     "metadata": {},
     "output_type": "execute_result"
    }
   ],
   "source": [
    "nums = [1, 2, 3, 4]\n",
    "productExceptSelfOpt(nums)"
   ]
  },
  {
   "cell_type": "code",
   "execution_count": 312,
   "id": "236728cb",
   "metadata": {},
   "outputs": [
    {
     "data": {
      "text/plain": [
       "[0, 0, 9, 0, 0]"
      ]
     },
     "execution_count": 312,
     "metadata": {},
     "output_type": "execute_result"
    }
   ],
   "source": [
    "nums = [-1, 1, 0, -3, 3]\n",
    "productExceptSelfOpt(nums)"
   ]
  },
  {
   "cell_type": "code",
   "execution_count": 313,
   "id": "3e295811",
   "metadata": {},
   "outputs": [
    {
     "data": {
      "text/plain": [
       "[4800, 3840, 19200, 2400, 9600, 1920, 3200]"
      ]
     },
     "execution_count": 313,
     "metadata": {},
     "output_type": "execute_result"
    }
   ],
   "source": [
    "nums = [4, 5, 1, 8, 2, 10, 6]\n",
    "productExceptSelfOpt(nums)"
   ]
  },
  {
   "cell_type": "markdown",
   "id": "0039c74d",
   "metadata": {},
   "source": [
    "## 334. Increasing Triplet Subsequence\n",
    "\n",
    "Given an integer array nums, return true if there exists a triple of indices (i, j, k) such that i < j < k and nums[i] < nums[j] < nums[k]. If no such indices exists, return false.\n",
    "\n",
    "<b>Example</b>\n",
    "\n",
    "Input: nums = [1,2,3,4,5] <br />\n",
    "Output: true\n",
    "\n",
    "Explanation: Any triplet where i < j < k is valid.\n",
    "\n",
    "<b>Example</b>\n",
    "\n",
    "Input: nums = [5,4,3,2,1] <br />\n",
    "Output: false\n",
    "\n",
    "Explanation: No triplet exists.\n",
    "\n",
    "<b>Example</b>\n",
    "\n",
    "Input: nums = [2,1,5,0,4,6] <br />\n",
    "Output: true\n",
    "\n",
    "Explanation: The triplet (3, 4, 5) is valid because nums[3] == 0 < nums[4] == 4 < nums[5] == 6."
   ]
  },
  {
   "cell_type": "code",
   "execution_count": 397,
   "id": "fb202506",
   "metadata": {},
   "outputs": [],
   "source": [
    "# def increasingTriplet(nums: List[int]) -> bool:\n",
    "    \n",
    "#     first_num = float(\"inf\")\n",
    "#     second_num = float(\"inf\")\n",
    "    \n",
    "#     for num in nums:\n",
    "#         if num <= first_num:\n",
    "#             first_num = num\n",
    "#         elif num <= second_num:\n",
    "#             second_num = num\n",
    "#         else:\n",
    "#             return True\n",
    "    \n",
    "#     return False"
   ]
  },
  {
   "cell_type": "code",
   "execution_count": 415,
   "id": "d7929da0",
   "metadata": {},
   "outputs": [],
   "source": [
    "# More readable version\n",
    "\n",
    "def increasingTriplet(nums: List[int]) -> bool:\n",
    "    \n",
    "    first = float(\"inf\")\n",
    "    second = float(\"inf\")\n",
    "        \n",
    "    for third in nums:        \n",
    "        if second < third: \n",
    "            return True\n",
    "        if third <= first: \n",
    "            first= third    \n",
    "        else:\n",
    "            second = third \n",
    "                \n",
    "    return False"
   ]
  },
  {
   "cell_type": "code",
   "execution_count": 407,
   "id": "b700890b",
   "metadata": {},
   "outputs": [
    {
     "data": {
      "text/plain": [
       "True"
      ]
     },
     "execution_count": 407,
     "metadata": {},
     "output_type": "execute_result"
    }
   ],
   "source": [
    "nums = [1, 2, 3, 4, 5]\n",
    "increasingTriplet(nums)"
   ]
  },
  {
   "cell_type": "code",
   "execution_count": 408,
   "id": "6f5bb554",
   "metadata": {},
   "outputs": [
    {
     "data": {
      "text/plain": [
       "False"
      ]
     },
     "execution_count": 408,
     "metadata": {},
     "output_type": "execute_result"
    }
   ],
   "source": [
    "nums = [5, 4, 3, 2, 1]\n",
    "increasingTriplet(nums)"
   ]
  },
  {
   "cell_type": "code",
   "execution_count": 409,
   "id": "9d8c6e49",
   "metadata": {},
   "outputs": [
    {
     "data": {
      "text/plain": [
       "True"
      ]
     },
     "execution_count": 409,
     "metadata": {},
     "output_type": "execute_result"
    }
   ],
   "source": [
    "nums = [2, 1, 5, 0, 4, 6]\n",
    "increasingTriplet(nums)"
   ]
  },
  {
   "cell_type": "code",
   "execution_count": 410,
   "id": "ca8b2ec9",
   "metadata": {},
   "outputs": [
    {
     "data": {
      "text/plain": [
       "False"
      ]
     },
     "execution_count": 410,
     "metadata": {},
     "output_type": "execute_result"
    }
   ],
   "source": [
    "nums = [0, 4, 2, 1, 0, -1, -3]\n",
    "increasingTriplet(nums)"
   ]
  },
  {
   "cell_type": "code",
   "execution_count": 411,
   "id": "0e2d0f02",
   "metadata": {},
   "outputs": [
    {
     "data": {
      "text/plain": [
       "True"
      ]
     },
     "execution_count": 411,
     "metadata": {},
     "output_type": "execute_result"
    }
   ],
   "source": [
    "nums = [20, 100, 10, 12, 5, 13]\n",
    "increasingTriplet(nums)"
   ]
  },
  {
   "cell_type": "code",
   "execution_count": 412,
   "id": "91653f36",
   "metadata": {},
   "outputs": [
    {
     "data": {
      "text/plain": [
       "False"
      ]
     },
     "execution_count": 412,
     "metadata": {},
     "output_type": "execute_result"
    }
   ],
   "source": [
    "nums = [1, 1, 1]\n",
    "increasingTriplet(nums)"
   ]
  },
  {
   "cell_type": "code",
   "execution_count": 413,
   "id": "7ed0c4e6",
   "metadata": {},
   "outputs": [
    {
     "data": {
      "text/plain": [
       "True"
      ]
     },
     "execution_count": 413,
     "metadata": {},
     "output_type": "execute_result"
    }
   ],
   "source": [
    "nums = [1, 5, 0, 4, 1, 3]\n",
    "increasingTriplet(nums)"
   ]
  },
  {
   "cell_type": "code",
   "execution_count": 414,
   "id": "2decf16f",
   "metadata": {},
   "outputs": [
    {
     "data": {
      "text/plain": [
       "True"
      ]
     },
     "execution_count": 414,
     "metadata": {},
     "output_type": "execute_result"
    }
   ],
   "source": [
    "nums = [4, 5, 2147483647, 1, 2]\n",
    "increasingTriplet(nums)"
   ]
  },
  {
   "cell_type": "markdown",
   "id": "a33d0114",
   "metadata": {},
   "source": [
    "## 443. String Compression\n",
    "\n",
    "Given an array of characters chars, compress it using the following algorithm:\n",
    "\n",
    "Begin with an empty string s. For each group of consecutive repeating characters in chars:\n",
    "\n",
    "If the group's length is 1, append the character to s.\n",
    "Otherwise, append the character followed by the group's length.\n",
    "The compressed string s should not be returned separately, but instead, be stored in the input character array chars. Note that group lengths that are 10 or longer will be split into multiple characters in chars.\n",
    "\n",
    "After you are done modifying the input array, return the new length of the array.\n",
    "\n",
    "You must write an algorithm that uses only constant extra space.\n",
    "\n",
    "<b>Example</b>\n",
    "\n",
    "Input: chars = [\"a\",\"a\",\"b\",\"b\",\"c\",\"c\",\"c\"] <br />\n",
    "Output: Return 6, and the first 6 characters of the input array should be: [\"a\",\"2\",\"b\",\"2\",\"c\",\"3\"]\n",
    "\n",
    "Explanation: The groups are \"aa\", \"bb\", and \"ccc\". This compresses to \"a2b2c3\".\n",
    "\n",
    "<b>Example</b>\n",
    "\n",
    "Input: chars = [\"a\"] <br />\n",
    "Output: Return 1, and the first character of the input array should be: [\"a\"]\n",
    "\n",
    "Explanation: The only group is \"a\", which remains uncompressed since it's a single character.\n",
    "\n",
    "<b>Example</b>\n",
    "\n",
    "Input: chars = [\"a\",\"b\",\"b\",\"b\",\"b\",\"b\",\"b\",\"b\",\"b\",\"b\",\"b\",\"b\",\"b\"] <br />\n",
    "Output: Return 4, and the first 4 characters of the input array should be: [\"a\",\"b\",\"1\",\"2\"].\n",
    "\n",
    "Explanation: The groups are \"a\" and \"bbbbbbbbbbbb\". This compresses to \"ab12\"."
   ]
  },
  {
   "cell_type": "code",
   "execution_count": 544,
   "id": "744d9eeb",
   "metadata": {},
   "outputs": [],
   "source": [
    "def compress(chars: List[str]) -> int:\n",
    "    \n",
    "    i = 0\n",
    "    result = 0\n",
    "    while i < len(chars):\n",
    "        group_length = 1\n",
    "        while (i + group_length < len(chars) and chars[i + group_length] == chars[i]):\n",
    "            group_length += 1\n",
    "            \n",
    "        chars[result] = chars[i]\n",
    "        result += 1\n",
    "            \n",
    "        if group_length > 1:\n",
    "            gl_str = str(group_length)\n",
    "            chars[result:result+len(gl_str)] = list(gl_str)\n",
    "            result += len(gl_str)\n",
    "            \n",
    "        i += group_length\n",
    "        \n",
    "    return result"
   ]
  },
  {
   "cell_type": "code",
   "execution_count": 545,
   "id": "013b81db",
   "metadata": {},
   "outputs": [
    {
     "data": {
      "text/plain": [
       "6"
      ]
     },
     "execution_count": 545,
     "metadata": {},
     "output_type": "execute_result"
    }
   ],
   "source": [
    "chars = [\"a\", \"a\", \"b\", \"b\", \"c\", \"c\", \"c\"]\n",
    "compress(chars)"
   ]
  },
  {
   "cell_type": "code",
   "execution_count": 546,
   "id": "5b688629",
   "metadata": {},
   "outputs": [
    {
     "data": {
      "text/plain": [
       "1"
      ]
     },
     "execution_count": 546,
     "metadata": {},
     "output_type": "execute_result"
    }
   ],
   "source": [
    "chars = [\"a\"]\n",
    "compress(chars)"
   ]
  },
  {
   "cell_type": "code",
   "execution_count": 547,
   "id": "793444a6",
   "metadata": {},
   "outputs": [
    {
     "data": {
      "text/plain": [
       "4"
      ]
     },
     "execution_count": 547,
     "metadata": {},
     "output_type": "execute_result"
    }
   ],
   "source": [
    "chars = [\"a\", \"b\", \"b\", \"b\", \"b\", \"b\", \"b\", \"b\", \"b\", \"b\", \"b\", \"b\", \"b\"]\n",
    "compress(chars)"
   ]
  },
  {
   "cell_type": "code",
   "execution_count": null,
   "id": "f42f4728",
   "metadata": {},
   "outputs": [],
   "source": []
  }
 ],
 "metadata": {
  "kernelspec": {
   "display_name": "Python 3 (ipykernel)",
   "language": "python",
   "name": "python3"
  },
  "language_info": {
   "codemirror_mode": {
    "name": "ipython",
    "version": 3
   },
   "file_extension": ".py",
   "mimetype": "text/x-python",
   "name": "python",
   "nbconvert_exporter": "python",
   "pygments_lexer": "ipython3",
   "version": "3.8.16"
  }
 },
 "nbformat": 4,
 "nbformat_minor": 5
}
