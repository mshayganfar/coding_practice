{
 "cells": [
  {
   "cell_type": "markdown",
   "id": "db4a8417",
   "metadata": {},
   "source": [
    "# Intervals"
   ]
  },
  {
   "cell_type": "markdown",
   "id": "82f2f913",
   "metadata": {},
   "source": [
    "## 1) Non-overlapping Intervals\n",
    "\n",
    "Given an array of intervals intervals where intervals[i] = [starti, endi], return the minimum number of intervals you need to remove to make the rest of the intervals non-overlapping.\n",
    "\n",
    "<b>Example</b>\n",
    "\n",
    "Input: <br />\n",
    "intervals = [[1, 2], [2, 3], [3, 4], [1, 3]] <br />\n",
    "Output: 1\n",
    "\n",
    "Explanation: <br />\n",
    "[1, 3] can be removed and the rest of the intervals are non-overlapping.\n",
    "\n",
    "<b>Example</b>\n",
    "\n",
    "Input: <br />\n",
    "intervals = [[1, 2], [1, 2], [1, 2]] <br />\n",
    "Output: 2\n",
    "\n",
    "Explanation: <br />\n",
    "You need to remove two [1, 2] to make the rest of the intervals non-overlapping.\n",
    "\n",
    "<b>Example</b>\n",
    "\n",
    "Input: <br />\n",
    "intervals = [[1, 2], [2, 3]] <br />\n",
    "Output: 0\n",
    "\n",
    "Explanation: <br />\n",
    "You don't need to remove any of the intervals since they're already non-overlapping."
   ]
  },
  {
   "cell_type": "code",
   "execution_count": 2,
   "id": "5ed1e9f8",
   "metadata": {},
   "outputs": [],
   "source": [
    "from typing import List"
   ]
  },
  {
   "cell_type": "code",
   "execution_count": 22,
   "id": "983b97ae",
   "metadata": {},
   "outputs": [],
   "source": [
    "def eraseOverlapIntervals(intervals: List[List[int]]) -> int:\n",
    "    \n",
    "    intervals.sort(key = lambda t: t[1])\n",
    "    count = 0\n",
    "    k = float('-inf')\n",
    "    \n",
    "    for x, y in intervals:\n",
    "        if k <= x:\n",
    "            k = y\n",
    "        else:\n",
    "            count += 1\n",
    "    \n",
    "    return count"
   ]
  },
  {
   "cell_type": "code",
   "execution_count": 23,
   "id": "0d88f953",
   "metadata": {},
   "outputs": [
    {
     "data": {
      "text/plain": [
       "1"
      ]
     },
     "execution_count": 23,
     "metadata": {},
     "output_type": "execute_result"
    }
   ],
   "source": [
    "intervals = [[1, 2], [2, 3], [3, 4], [1, 3]]\n",
    "eraseOverlapIntervals(intervals)"
   ]
  },
  {
   "cell_type": "code",
   "execution_count": 24,
   "id": "c3212263",
   "metadata": {},
   "outputs": [
    {
     "data": {
      "text/plain": [
       "2"
      ]
     },
     "execution_count": 24,
     "metadata": {},
     "output_type": "execute_result"
    }
   ],
   "source": [
    "intervals = [[1, 2], [1, 2], [1, 2]]\n",
    "eraseOverlapIntervals(intervals)"
   ]
  },
  {
   "cell_type": "code",
   "execution_count": 25,
   "id": "f8dd4c90",
   "metadata": {},
   "outputs": [
    {
     "data": {
      "text/plain": [
       "0"
      ]
     },
     "execution_count": 25,
     "metadata": {},
     "output_type": "execute_result"
    }
   ],
   "source": [
    "intervals = [[1, 2], [2, 3]]\n",
    "eraseOverlapIntervals(intervals)"
   ]
  },
  {
   "cell_type": "markdown",
   "id": "4fb12153",
   "metadata": {},
   "source": [
    "## 2) Minimum Number of Arrows to Burst Balloons\n",
    "\n",
    "There are some spherical balloons taped onto a flat wall that represents the XY-plane. The balloons are represented as a 2D integer array points where points[i] = [xstart, xend] denotes a balloon whose horizontal diameter stretches between xstart and xend. You do not know the exact y-coordinates of the balloons.\n",
    "\n",
    "Arrows can be shot up directly vertically (in the positive y-direction) from different points along the x-axis. A balloon with xstart and xend is burst by an arrow shot at x if xstart <= x <= xend. There is no limit to the number of arrows that can be shot. A shot arrow keeps traveling up infinitely, bursting any balloons in its path.\n",
    "\n",
    "Given the array points, return the minimum number of arrows that must be shot to burst all balloons.\n",
    "\n",
    "<b>Example</b>\n",
    "\n",
    "Input: <br />\n",
    "points = [[10, 16], [2, 8], [1, 6], [7, 12]] <br />\n",
    "Output: 2\n",
    "\n",
    "Explanation: <br />\n",
    "The balloons can be burst by 2 arrows: <br />\n",
    "- Shoot an arrow at x = 6, bursting the balloons [2, 8] and [1, 6].\n",
    "- Shoot an arrow at x = 11, bursting the balloons [10, 16] and [7, 12].\n",
    "\n",
    "<b>Example</b>\n",
    "\n",
    "Input: <br />\n",
    "points = [[1, 2], [3, 4], [5, 6], [7, 8]] <br />\n",
    "Output: 4\n",
    "\n",
    "Explanation: <br />\n",
    "One arrow needs to be shot for each balloon for a total of 4 arrows.\n",
    "\n",
    "<b>Example</b>\n",
    "\n",
    "Input: <br />\n",
    "points = [[1, 2], [2, 3], [3, 4], [4, 5]] <br />\n",
    "Output: 2\n",
    "\n",
    "Explanation: <br />\n",
    "The balloons can be burst by 2 arrows: <br />\n",
    "- Shoot an arrow at x = 2, bursting the balloons [1,2] and [2,3].\n",
    "- Shoot an arrow at x = 4, bursting the balloons [3,4] and [4,5]."
   ]
  },
  {
   "cell_type": "code",
   "execution_count": 41,
   "id": "d0bcd3ed",
   "metadata": {},
   "outputs": [],
   "source": [
    "def findMinArrowShots(points: List[List[int]]) -> int:\n",
    "    points.sort(key = lambda t: t[1])\n",
    "    count = 1\n",
    "    first_end = points[0][1]\n",
    "        \n",
    "    for x_start, x_end in points:\n",
    "        if first_end < x_start:\n",
    "            count += 1\n",
    "            first_end = x_end\n",
    "        \n",
    "    return count"
   ]
  },
  {
   "cell_type": "code",
   "execution_count": 42,
   "id": "a05b9331",
   "metadata": {},
   "outputs": [
    {
     "data": {
      "text/plain": [
       "2"
      ]
     },
     "execution_count": 42,
     "metadata": {},
     "output_type": "execute_result"
    }
   ],
   "source": [
    "points = [[10, 16], [2, 8], [1, 6], [7, 12]]\n",
    "findMinArrowShots(points)"
   ]
  },
  {
   "cell_type": "code",
   "execution_count": 43,
   "id": "cc1ecaf7",
   "metadata": {},
   "outputs": [
    {
     "data": {
      "text/plain": [
       "4"
      ]
     },
     "execution_count": 43,
     "metadata": {},
     "output_type": "execute_result"
    }
   ],
   "source": [
    "points = [[1, 2], [3, 4], [5, 6], [7, 8]]\n",
    "findMinArrowShots(points)"
   ]
  },
  {
   "cell_type": "code",
   "execution_count": 44,
   "id": "892e4e59",
   "metadata": {},
   "outputs": [
    {
     "data": {
      "text/plain": [
       "2"
      ]
     },
     "execution_count": 44,
     "metadata": {},
     "output_type": "execute_result"
    }
   ],
   "source": [
    "points = [[1, 2], [2, 3], [3, 4], [4, 5]]\n",
    "findMinArrowShots(points)"
   ]
  },
  {
   "cell_type": "code",
   "execution_count": null,
   "id": "0ff50929",
   "metadata": {},
   "outputs": [],
   "source": []
  }
 ],
 "metadata": {
  "kernelspec": {
   "display_name": "Python 3 (ipykernel)",
   "language": "python",
   "name": "python3"
  },
  "language_info": {
   "codemirror_mode": {
    "name": "ipython",
    "version": 3
   },
   "file_extension": ".py",
   "mimetype": "text/x-python",
   "name": "python",
   "nbconvert_exporter": "python",
   "pygments_lexer": "ipython3",
   "version": "3.8.16"
  }
 },
 "nbformat": 4,
 "nbformat_minor": 5
}
