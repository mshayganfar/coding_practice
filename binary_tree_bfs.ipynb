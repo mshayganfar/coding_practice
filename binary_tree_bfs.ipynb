{
 "cells": [
  {
   "cell_type": "markdown",
   "id": "1d12f1ec",
   "metadata": {},
   "source": [
    "# Binary Tree - BFS"
   ]
  },
  {
   "cell_type": "markdown",
   "id": "8887db95",
   "metadata": {},
   "source": [
    "## 1) Binary Tree Right Side View\n",
    "\n",
    "Given the root of a binary tree, imagine yourself standing on the right side of it, return the values of the nodes you can see ordered from top to bottom.\n",
    "\n",
    "<b>Example</b>\n",
    "\n",
    "Input: root = [1, 2, 3, null, 5, null, 4] <br />\n",
    "Output: [1, 3, 4]\n",
    "\n",
    "<b>Example</b>\n",
    "\n",
    "Input: root = [1, null, 3] <br />\n",
    "Output: [1, 3]\n",
    "\n",
    "<b>Example</b>\n",
    "\n",
    "Input: root = [] <br />\n",
    "Output: []"
   ]
  },
  {
   "cell_type": "code",
   "execution_count": 1,
   "id": "1792c99b",
   "metadata": {},
   "outputs": [],
   "source": [
    "from typing import Optional, List"
   ]
  },
  {
   "cell_type": "code",
   "execution_count": 2,
   "id": "8ede661b",
   "metadata": {},
   "outputs": [],
   "source": [
    "class TreeNode:\n",
    "    def __init__(self, val = 0, left = None, right = None):\n",
    "        self.val = val\n",
    "        self.left = left\n",
    "        self.right = right"
   ]
  },
  {
   "cell_type": "code",
   "execution_count": 3,
   "id": "5edc79e0",
   "metadata": {},
   "outputs": [],
   "source": [
    "def rightSideView(root: Optional[TreeNode]) -> List[int]:\n",
    "    \n",
    "    if not root:\n",
    "        return []\n",
    "    \n",
    "    nodes = {}\n",
    "    queue = [(root, 0)]\n",
    "    while queue:\n",
    "        \n",
    "        node, level = queue.pop(0)\n",
    "        nodes[level] = node.val\n",
    "        \n",
    "        if node.left:\n",
    "            queue.append((node.left, level + 1))\n",
    "        if node.right:\n",
    "            queue.append((node.right, level + 1))\n",
    "    \n",
    "    right_view_nodes = []\n",
    "    for val in nodes.values():\n",
    "        right_view_nodes.append(val)\n",
    "    \n",
    "    return right_view_nodes"
   ]
  },
  {
   "cell_type": "code",
   "execution_count": 4,
   "id": "679d160d",
   "metadata": {},
   "outputs": [
    {
     "data": {
      "text/plain": [
       "[1, 3, 4]"
      ]
     },
     "execution_count": 4,
     "metadata": {},
     "output_type": "execute_result"
    }
   ],
   "source": [
    "root = TreeNode(1)\n",
    "root.left = TreeNode(2)\n",
    "root.right = TreeNode(3)\n",
    "root.left.right = TreeNode(5)\n",
    "root.right.right = TreeNode(4)\n",
    "\n",
    "rightSideView(root)"
   ]
  },
  {
   "cell_type": "code",
   "execution_count": 5,
   "id": "25a02827",
   "metadata": {},
   "outputs": [
    {
     "data": {
      "text/plain": [
       "[1, 3]"
      ]
     },
     "execution_count": 5,
     "metadata": {},
     "output_type": "execute_result"
    }
   ],
   "source": [
    "root = TreeNode(1)\n",
    "root.right = TreeNode(3)\n",
    "\n",
    "rightSideView(root)"
   ]
  },
  {
   "cell_type": "code",
   "execution_count": 6,
   "id": "9363d842",
   "metadata": {},
   "outputs": [
    {
     "data": {
      "text/plain": [
       "[1, 3, 4, 14]"
      ]
     },
     "execution_count": 6,
     "metadata": {},
     "output_type": "execute_result"
    }
   ],
   "source": [
    "root = TreeNode(1)\n",
    "root.left = TreeNode(2)\n",
    "root.right = TreeNode(3)\n",
    "root.left.right = TreeNode(5)\n",
    "root.right.right = TreeNode(4)\n",
    "root.left.right.left = TreeNode(-5)\n",
    "root.left.right.right = TreeNode(15)\n",
    "root.right.right.left = TreeNode(41)\n",
    "root.right.right.right = TreeNode(14)\n",
    "\n",
    "rightSideView(root)"
   ]
  },
  {
   "cell_type": "markdown",
   "id": "7eb5b43d",
   "metadata": {},
   "source": [
    "## 2) Maximum Level Sum of a Binary Tree\n",
    "\n",
    "Given the root of a binary tree, the level of its root is 1, the level of its children is 2, and so on.\n",
    "\n",
    "Return the smallest level x such that the sum of all the values of nodes at level x is maximal.\n",
    "\n",
    "<b>Example</b>\n",
    "\n",
    "Input: root = [1, 7, 0, 7, -8, null, null] <br />\n",
    "Output: 2\n",
    "\n",
    "Explanation: <br />\n",
    "Level 1 sum = 1. <br />\n",
    "Level 2 sum = 7 + 0 = 7. <br />\n",
    "Level 3 sum = 7 + -8 = -1. <br />\n",
    "\n",
    "So we return the level with the maximum sum which is level 2.\n",
    "\n",
    "<b>Example</b>\n",
    "\n",
    "Input: root = [989, null, 10250, 98693, -89388, null, null, null, -32127] <br />\n",
    "Output: 2"
   ]
  },
  {
   "cell_type": "code",
   "execution_count": 7,
   "id": "76ef1092",
   "metadata": {},
   "outputs": [],
   "source": [
    "class TreeNode:\n",
    "    def __init__(self, val = 0, left = None, right = None):\n",
    "        self.val = val\n",
    "        self.left = left\n",
    "        self.right = right"
   ]
  },
  {
   "cell_type": "code",
   "execution_count": 14,
   "id": "0a35f2c1",
   "metadata": {},
   "outputs": [],
   "source": [
    "def maxLevelSum(root: Optional[TreeNode]) -> int:\n",
    "    \n",
    "    queue = [(root, 1)]\n",
    "    nodes = {}\n",
    "    \n",
    "    while queue:\n",
    "        node, level = queue.pop(0)\n",
    "        if level not in nodes:\n",
    "            nodes[level] = [node.val]\n",
    "        else:\n",
    "            nodes[level].append(node.val)\n",
    "        \n",
    "        if node.left:\n",
    "            queue.append((node.left, level + 1))\n",
    "        if node.right:\n",
    "            queue.append((node.right, level + 1))\n",
    "    \n",
    "    max_val = float('-inf')\n",
    "    max_level = 1\n",
    "    for k, v in nodes.items():\n",
    "        nodes[k] = [sum(v)]\n",
    "        if max_val < sum(v):\n",
    "            max_val = sum(v)\n",
    "            max_level = k\n",
    "    \n",
    "    return max_level"
   ]
  },
  {
   "cell_type": "code",
   "execution_count": 18,
   "id": "a99eba2f",
   "metadata": {},
   "outputs": [],
   "source": [
    "# Better Time and Space complexity Solution\n",
    "\n",
    "def maxLevelSum(root: Optional[TreeNode]) -> int:\n",
    "    \n",
    "    max_sum, level, max_sum_level = float('-inf'), 0, 0\n",
    "    queue = [root]\n",
    "    \n",
    "    while queue:\n",
    "        level += 1\n",
    "        curr_level_sum = 0\n",
    "        \n",
    "        for _ in range(len(queue)):\n",
    "            node = queue.pop(0)\n",
    "            curr_level_sum += node.val\n",
    "        \n",
    "            if node.left:\n",
    "                queue.append(node.left)\n",
    "            if node.right:\n",
    "                queue.append(node.right)\n",
    "    \n",
    "        if max_sum < curr_level_sum:\n",
    "            max_sum = curr_level_sum\n",
    "            max_sum_level = level\n",
    "    \n",
    "    return max_sum_level"
   ]
  },
  {
   "cell_type": "code",
   "execution_count": 19,
   "id": "35e745bb",
   "metadata": {},
   "outputs": [
    {
     "data": {
      "text/plain": [
       "2"
      ]
     },
     "execution_count": 19,
     "metadata": {},
     "output_type": "execute_result"
    }
   ],
   "source": [
    "root = TreeNode(1)\n",
    "root.left = TreeNode(7)\n",
    "root.right = TreeNode(0)\n",
    "root.left.left = TreeNode(7)\n",
    "root.left.right = TreeNode(-8)\n",
    "\n",
    "maxLevelSum(root)"
   ]
  },
  {
   "cell_type": "code",
   "execution_count": 20,
   "id": "7700e945",
   "metadata": {},
   "outputs": [
    {
     "data": {
      "text/plain": [
       "2"
      ]
     },
     "execution_count": 20,
     "metadata": {},
     "output_type": "execute_result"
    }
   ],
   "source": [
    "root = TreeNode(989)\n",
    "root.right = TreeNode(10250)\n",
    "root.right.left = TreeNode(98693)\n",
    "root.right.right = TreeNode(-89388)\n",
    "root.right.right.right = TreeNode(-32127)\n",
    "\n",
    "maxLevelSum(root)"
   ]
  },
  {
   "cell_type": "code",
   "execution_count": 21,
   "id": "35c11d28",
   "metadata": {},
   "outputs": [
    {
     "data": {
      "text/plain": [
       "3"
      ]
     },
     "execution_count": 21,
     "metadata": {},
     "output_type": "execute_result"
    }
   ],
   "source": [
    "root = TreeNode(1)\n",
    "root.left = TreeNode(2)\n",
    "root.right = TreeNode(3)\n",
    "root.left.right = TreeNode(5)\n",
    "root.right.right = TreeNode(4)\n",
    "\n",
    "maxLevelSum(root)"
   ]
  },
  {
   "cell_type": "code",
   "execution_count": null,
   "id": "a46382af",
   "metadata": {},
   "outputs": [],
   "source": []
  }
 ],
 "metadata": {
  "kernelspec": {
   "display_name": "Python 3 (ipykernel)",
   "language": "python",
   "name": "python3"
  },
  "language_info": {
   "codemirror_mode": {
    "name": "ipython",
    "version": 3
   },
   "file_extension": ".py",
   "mimetype": "text/x-python",
   "name": "python",
   "nbconvert_exporter": "python",
   "pygments_lexer": "ipython3",
   "version": "3.8.16"
  }
 },
 "nbformat": 4,
 "nbformat_minor": 5
}
