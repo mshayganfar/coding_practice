{
 "cells": [
  {
   "cell_type": "markdown",
   "id": "1921bd31",
   "metadata": {},
   "source": [
    "# Greedy Algorithms"
   ]
  },
  {
   "cell_type": "markdown",
   "id": "00841253",
   "metadata": {},
   "source": [
    "## Slow Sums\n",
    "\n",
    "Suppose we have a list of N numbers, and repeat the following operation until we're left with only a single number: Choose any two numbers and replace them with their sum. Moreover, we associate a penalty with each operation equal to the value of the new number, and call the penalty for the entire list as the sum of the penalties of each operation.\n",
    "\n",
    "For example, given the list [1, 2, 3, 4, 5], we could choose 2 and 3 for the first operation, which would transform the list into [1, 5, 4, 5] and incur a penalty of 5. The goal in this problem is to find the highest possible penalty for a given input.\n",
    "\n",
    "<b>Example</b>\n",
    "\n",
    "arr = [4, 2, 1, 3] <br />\n",
    "output = 26\n",
    "\n",
    "First, add 4 + 3 for a penalty of 7. Now the array is [7, 2, 1] <br />\n",
    "Add 7 + 2 for a penalty of 9. Now the array is [9, 1] <br />\n",
    "Add 9 + 1 for a penalty of 10. The penalties sum to 26."
   ]
  },
  {
   "cell_type": "code",
   "execution_count": 45,
   "id": "01116f10",
   "metadata": {},
   "outputs": [],
   "source": [
    "# Older Solution\n",
    "\n",
    "# def getTotalTime(arr):\n",
    "#     arr.sort(reverse=True)\n",
    "\n",
    "#     total_time = 0\n",
    "#     for i in range(len(arr)-1):\n",
    "#         sum_time = arr.pop(0) + arr.pop(0)\n",
    "#         total_time += sum_time\n",
    "#         arr.insert(0, sum_time)\n",
    "\n",
    "#     return total_time"
   ]
  },
  {
   "cell_type": "code",
   "execution_count": 55,
   "id": "617f6740",
   "metadata": {},
   "outputs": [],
   "source": [
    "def getTotalTime(arr):\n",
    "    arr.sort(reverse=True)\n",
    "    \n",
    "    for i in range(1, len(arr)):\n",
    "        arr[i] += arr[i-1]\n",
    "    \n",
    "    return sum(arr[1:])"
   ]
  },
  {
   "cell_type": "code",
   "execution_count": 56,
   "id": "0b2ea694",
   "metadata": {},
   "outputs": [
    {
     "data": {
      "text/plain": [
       "26"
      ]
     },
     "execution_count": 56,
     "metadata": {},
     "output_type": "execute_result"
    }
   ],
   "source": [
    "arr_1 = [4, 2, 1, 3]\n",
    "getTotalTime(arr_1)"
   ]
  },
  {
   "cell_type": "code",
   "execution_count": 57,
   "id": "396df877",
   "metadata": {},
   "outputs": [
    {
     "data": {
      "text/plain": [
       "88"
      ]
     },
     "execution_count": 57,
     "metadata": {},
     "output_type": "execute_result"
    }
   ],
   "source": [
    "arr_2 = [2, 3, 9, 8, 4]\n",
    "getTotalTime(arr_2)"
   ]
  },
  {
   "cell_type": "markdown",
   "id": "387a8ede",
   "metadata": {},
   "source": [
    "## Element Swapping\n",
    "\n",
    "Given a sequence of n integers arr, determine the lexicographically smallest sequence which may be obtained from it after performing at most k element swaps, each involving a pair of consecutive elements in the sequence.\n",
    "\n",
    "Note: A list x is lexicographically smaller than a different equal-length list y if and only if, for the earliest index at which the two lists differ, x's element at that index is smaller than y's element at that index.\n",
    "\n",
    "<b>Example 1</b>\n",
    "\n",
    "n = 3 <br />\n",
    "k = 2 <br />\n",
    "arr = [5, 3, 1] <br />\n",
    "output = [1, 5, 3]\n",
    "\n",
    "We can swap the 2nd and 3rd elements, followed by the 1st and 2nd elements, to end up with the sequence [1, 5, 3]. This is the lexicographically smallest sequence achievable after at most 2 swaps.\n",
    "\n",
    "<b>Example 2</b>\n",
    "\n",
    "n = 5 <br />\n",
    "k = 3 <br />\n",
    "arr = [8, 9, 11, 2, 1] <br />\n",
    "output = [2, 8, 9, 11, 1]\n",
    "\n",
    "We can swap [11, 2], followed by [9, 2], then [8, 2]."
   ]
  },
  {
   "cell_type": "code",
   "execution_count": null,
   "id": "7a141078",
   "metadata": {},
   "outputs": [],
   "source": [
    "# Older Solution\n",
    "\n",
    "# def findMinArray(arr, k):\n",
    "#     result = []\n",
    "    \n",
    "#     while k > 0 and arr:\n",
    "#         min_index = 0\n",
    "#         for i in range(1, min(k + 1, len(arr))):\n",
    "#             if arr[i] < arr[min_index]:\n",
    "#                 min_index = i\n",
    "\n",
    "#         k -= min_index\n",
    "#         result.append(arr[min_index])\n",
    "#         arr = arr[0: min_index] + arr[min_index + 1:]\n",
    "\n",
    "#     return result + arr"
   ]
  },
  {
   "cell_type": "code",
   "execution_count": 66,
   "id": "ae696e71",
   "metadata": {},
   "outputs": [],
   "source": [
    "def findMinArray(arr, k):\n",
    "    \n",
    "    for i in range(k, 0, -1):\n",
    "        if arr[i-1] > arr[i]:\n",
    "            arr[i], arr[i-1] = arr[i-1], arr[i]\n",
    "    \n",
    "    return arr"
   ]
  },
  {
   "cell_type": "code",
   "execution_count": 67,
   "id": "6549a6c0",
   "metadata": {},
   "outputs": [
    {
     "data": {
      "text/plain": [
       "[1, 5, 3]"
      ]
     },
     "execution_count": 67,
     "metadata": {},
     "output_type": "execute_result"
    }
   ],
   "source": [
    "arr_1 = [5, 3, 1]\n",
    "k_1 = 2\n",
    "findMinArray(arr_1, k_1)"
   ]
  },
  {
   "cell_type": "code",
   "execution_count": 68,
   "id": "345dc206",
   "metadata": {},
   "outputs": [
    {
     "data": {
      "text/plain": [
       "[2, 8, 9, 11, 1]"
      ]
     },
     "execution_count": 68,
     "metadata": {},
     "output_type": "execute_result"
    }
   ],
   "source": [
    "arr_2 = [8, 9, 11, 2, 1]\n",
    "k_2 = 3\n",
    "findMinArray(arr_2, k_2)"
   ]
  },
  {
   "cell_type": "markdown",
   "id": "4f88f356",
   "metadata": {},
   "source": [
    "## Seating Arrangements\n",
    "\n",
    "There are n guests attending a dinner party, numbered from 1 to n. The ith guest has a height of arr[i-1] inches.\n",
    "\n",
    "The guests will sit down at a circular table which has n seats, numbered from 1 to n in clockwise order around the table. As the host, you will choose how to arrange the guests, one per seat. Note that there are n! possible permutations of seat assignments.\n",
    "\n",
    "Once the guests have sat down, the awkwardness between a pair of guests sitting in adjacent seats is defined as the absolute difference between their two heights. Note that, because the table is circular, seats 1 and n are considered to be adjacent to one another, and that there are therefore n pairs of adjacent guests.\n",
    "\n",
    "The overall awkwardness of the seating arrangement is then defined as the maximum awkwardness of any pair of adjacent guests. Determine the minimum possible overall awkwardness of any seating arrangement.\n",
    "\n",
    "<b>Example</b>\n",
    "\n",
    "n = 4 <br />\n",
    "arr = [5, 10, 6, 8] <br />\n",
    "output = 4\n",
    "\n",
    "If the guests sit down in the permutation [3, 1, 4, 2] in clockwise order around the table (having heights [6, 5, 8, 10], in that order), then the four awkwardnesses between pairs of adjacent guests will be |6-5| = 1, |5-8| = 3, |8-10| = 2, and |10-6| = 4, yielding an overall awkwardness of 4. It's impossible to achieve a smaller overall awkwardness."
   ]
  },
  {
   "cell_type": "code",
   "execution_count": 69,
   "id": "2e80e66d",
   "metadata": {},
   "outputs": [],
   "source": [
    "def minOverallAwkwardness(arr):\n",
    "    awkwardness = 0\n",
    "    arr.sort()\n",
    "    \n",
    "    last_right = last_left = arr.pop(-1)\n",
    "    \n",
    "    left = right = 0\n",
    "    while arr:\n",
    "        right = arr.pop(-1)\n",
    "        awkwardness = max(awkwardness, abs(last_right - right))\n",
    "        last_right = right\n",
    "        if arr:\n",
    "            left = arr.pop(-1)\n",
    "            awkwardness = max(awkwardness, abs(last_left - left))\n",
    "            last_left = left\n",
    "    \n",
    "    return awkwardness"
   ]
  },
  {
   "cell_type": "code",
   "execution_count": 70,
   "id": "41613833",
   "metadata": {},
   "outputs": [
    {
     "data": {
      "text/plain": [
       "4"
      ]
     },
     "execution_count": 70,
     "metadata": {},
     "output_type": "execute_result"
    }
   ],
   "source": [
    "arr_1 = [5, 10, 6, 8]\n",
    "minOverallAwkwardness(arr_1)"
   ]
  },
  {
   "cell_type": "code",
   "execution_count": 71,
   "id": "e417703e",
   "metadata": {},
   "outputs": [
    {
     "data": {
      "text/plain": [
       "4"
      ]
     },
     "execution_count": 71,
     "metadata": {},
     "output_type": "execute_result"
    }
   ],
   "source": [
    "arr_2 = [1, 2, 5, 3, 7]\n",
    "minOverallAwkwardness(arr_2)"
   ]
  },
  {
   "cell_type": "code",
   "execution_count": null,
   "id": "dee1d915",
   "metadata": {},
   "outputs": [],
   "source": []
  }
 ],
 "metadata": {
  "kernelspec": {
   "display_name": "Python 3 (ipykernel)",
   "language": "python",
   "name": "python3"
  },
  "language_info": {
   "codemirror_mode": {
    "name": "ipython",
    "version": 3
   },
   "file_extension": ".py",
   "mimetype": "text/x-python",
   "name": "python",
   "nbconvert_exporter": "python",
   "pygments_lexer": "ipython3",
   "version": "3.8.16"
  }
 },
 "nbformat": 4,
 "nbformat_minor": 5
}
