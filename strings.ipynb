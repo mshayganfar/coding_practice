{
 "cells": [
  {
   "cell_type": "markdown",
   "id": "29b27485",
   "metadata": {},
   "source": [
    "# Strings"
   ]
  },
  {
   "cell_type": "markdown",
   "id": "d0985bb1",
   "metadata": {},
   "source": [
    "## Rotational Cipher\n",
    "\n",
    "One simple way to encrypt a string is to \"rotate\" every alphanumeric character by a certain amount. Rotating a character means replacing it with another character that is a certain number of steps away in normal alphabetic or numerical order.\n",
    "\n",
    "For example, if the string \"Zebra-493?\" is rotated 3 places, the resulting string is \"Cheud-726?\". Every alphabetic character is replaced with the character 3 letters higher (wrapping around from Z to A), and every numeric character replaced with the character 3 digits higher (wrapping around from 9 to 0). Note that the non-alphanumeric characters remain unchanged.\n",
    "\n",
    "Given a string and a rotation factor, return an encrypted string.\n",
    "\n",
    "<b>Example 1</b>\n",
    "\n",
    "input = Zebra-493? <br />\n",
    "rotationFactor = 3 <br />\n",
    "output = Cheud-726?\n",
    "\n",
    "<b>Example 2</b>\n",
    "\n",
    "input = abcdefghijklmNOPQRSTUVWXYZ0123456789 <br />\n",
    "rotationFactor = 39 <br />\n",
    "output = nopqrstuvwxyzABCDEFGHIJKLM9012345678"
   ]
  },
  {
   "cell_type": "code",
   "execution_count": 7,
   "id": "c7da4cd4",
   "metadata": {},
   "outputs": [
    {
     "data": {
      "text/plain": [
       "56"
      ]
     },
     "execution_count": 7,
     "metadata": {},
     "output_type": "execute_result"
    }
   ],
   "source": [
    "ord('8')"
   ]
  },
  {
   "cell_type": "code",
   "execution_count": 30,
   "id": "794b27eb",
   "metadata": {},
   "outputs": [],
   "source": [
    "def rotationalCipher(input_str, rotation_factor):\n",
    "    output = []\n",
    "    for ch in input_str:\n",
    "        if ch.isdigit():\n",
    "            output.append(chr(((ord(ch) + rotation_factor - ord('0')) % 10) + ord('0')))\n",
    "        elif ch.islower():\n",
    "            output.append(chr(((ord(ch) + rotation_factor - ord('a')) % 26) + ord('a')))\n",
    "        elif ch.isupper():\n",
    "            output.append(chr(((ord(ch) + rotation_factor - ord('A')) % 26) + ord('A')))\n",
    "        else:\n",
    "            output.append(ch)\n",
    "            \n",
    "    return ''.join(output)"
   ]
  },
  {
   "cell_type": "code",
   "execution_count": 33,
   "id": "1a9b80dc",
   "metadata": {},
   "outputs": [
    {
     "data": {
      "text/plain": [
       "'Cheud-726?'"
      ]
     },
     "execution_count": 33,
     "metadata": {},
     "output_type": "execute_result"
    }
   ],
   "source": [
    "test_1 = 'Zebra-493?'\n",
    "rotation_factor = 3\n",
    "rotationalCipher(test_1, rotation_factor)\n",
    "# Expected: Cheud-726?"
   ]
  },
  {
   "cell_type": "code",
   "execution_count": 35,
   "id": "b79dde08",
   "metadata": {},
   "outputs": [
    {
     "data": {
      "text/plain": [
       "'nopqrstuvwxyzABCDEFGHIJKLM9012345678'"
      ]
     },
     "execution_count": 35,
     "metadata": {},
     "output_type": "execute_result"
    }
   ],
   "source": [
    "test_2 = 'abcdefghijklmNOPQRSTUVWXYZ0123456789'\n",
    "rotation_factor = 39\n",
    "rotationalCipher(test_2, rotation_factor)\n",
    "# Expected: nopqrstuvwxyzABCDEFGHIJKLM9012345678"
   ]
  },
  {
   "cell_type": "markdown",
   "id": "56a89a79",
   "metadata": {},
   "source": [
    "## Matching Pairs\n",
    "\n",
    "Given two strings s and t of length N, find the maximum number of possible matching pairs in strings s and t after swapping exactly two characters within s.\n",
    "\n",
    "A swap is switching s[i] and s[j], where s[i] and s[j] denotes the character that is present at the ith and jth index of s, respectively. The matching pairs of the two strings are defined as the number of indices for which s[i] and t[i] are equal.\n",
    "\n",
    "Note: This means you must swap two characters at different indices."
   ]
  },
  {
   "cell_type": "code",
   "execution_count": null,
   "id": "87a90412",
   "metadata": {},
   "outputs": [],
   "source": [
    "# # Older Solution\n",
    "# output = 0\n",
    "# str_diff = []\n",
    "# for i in range(len(s)):\n",
    "#     str_diff.append(abs(ord(s[i])-ord(t[i])))\n",
    "\n",
    "# output = str_diff.count(0)\n",
    "    \n",
    "# s = list(s)\n",
    "# if len(str_diff) == output: # If both strings are identical\n",
    "#     s[0], s[1] = s[1], s[0]\n",
    "#     output -= 2\n",
    "# else: # Find and swap if there are descrepencies at list in two indices\n",
    "#     indices = [i for i in range(len(str_diff)) if str_diff[i] != 0]\n",
    "#     if len(indices) >= 2:\n",
    "#         s[indices[0]], s[indices[1]] = s[indices[1]], s[indices[0]]\n",
    "#           output += 2"
   ]
  },
  {
   "cell_type": "code",
   "execution_count": 173,
   "id": "f01e4920",
   "metadata": {},
   "outputs": [],
   "source": [
    "def matching_pairs(s, t):\n",
    "\n",
    "    output = 0\n",
    "    diff_list = []\n",
    "    for i in range(len(s)):\n",
    "        diff_list.append((abs(ord(s[i])-ord(t[i])), s[i], t[i]))\n",
    "    \n",
    "    output = [e for t in diff_list for e in t].count(0)\n",
    "    \n",
    "    s = list(s)\n",
    "    if len(s) == output:\n",
    "        s[0], s[1] = s[1], s[0]\n",
    "        output -= 2\n",
    "    else:\n",
    "        for i, t1 in enumerate(diff_list):\n",
    "            for j, t2 in enumerate(diff_list):\n",
    "                if t1[0] != 0:\n",
    "                    if t1[1] == t2[2] and t1[2] == t2[1]:\n",
    "                        s[i], s[j] = s[j], s[i]\n",
    "                        output += 2\n",
    "                        break\n",
    "            else:\n",
    "                continue\n",
    "            break\n",
    "    \n",
    "    return output"
   ]
  },
  {
   "cell_type": "code",
   "execution_count": 174,
   "id": "cb8063c7",
   "metadata": {},
   "outputs": [
    {
     "data": {
      "text/plain": [
       "5"
      ]
     },
     "execution_count": 174,
     "metadata": {},
     "output_type": "execute_result"
    }
   ],
   "source": [
    "s, t = \"abcde\", \"adcbe\"\n",
    "matching_pairs(s, t)"
   ]
  },
  {
   "cell_type": "markdown",
   "id": "00330f10",
   "metadata": {},
   "source": [
    "# Minimum Length Substrings\n",
    "\n",
    "You are given two strings s and t. You can select any substring of string s and rearrange the characters of the selected substring. Determine the minimum length of the substring of s such that string t is a substring of the selected substring.\n",
    "\n",
    "<b>Example</b>\n",
    "\n",
    "s = \"dcbefebce\" <br />\n",
    "t = \"fd\" <br />\n",
    "output = 5\n",
    "\n",
    "Explanation: <br />\n",
    "Substring \"dcbef\" can be rearranged to \"cfdeb\", \"cefdb\", and so on. String t is a substring of \"cfdeb\". Thus, the minimum length required is 5."
   ]
  },
  {
   "cell_type": "code",
   "execution_count": 197,
   "id": "d78e78b8",
   "metadata": {},
   "outputs": [],
   "source": [
    "def min_length_substring(s, t):\n",
    "    t_set = {c for c in t}\n",
    "    \n",
    "    t_dict = {}\n",
    "    for c in t_set:\n",
    "        t_dict[c] = t.count(c)\n",
    "    \n",
    "    for i in range(len(t), len(s)):\n",
    "        for k, v in t_dict.items():\n",
    "            if s[:i].count(k) != v:\n",
    "                break\n",
    "            return i\n",
    "    \n",
    "    return -1"
   ]
  },
  {
   "cell_type": "code",
   "execution_count": 198,
   "id": "f7650104",
   "metadata": {},
   "outputs": [
    {
     "data": {
      "text/plain": [
       "5"
      ]
     },
     "execution_count": 198,
     "metadata": {},
     "output_type": "execute_result"
    }
   ],
   "source": [
    "s1 = \"dcbefebce\"\n",
    "t1 = \"fd\"\n",
    "min_length_substring(s1, t1)"
   ]
  },
  {
   "cell_type": "code",
   "execution_count": 199,
   "id": "a94d9178",
   "metadata": {},
   "outputs": [
    {
     "data": {
      "text/plain": [
       "-1"
      ]
     },
     "execution_count": 199,
     "metadata": {},
     "output_type": "execute_result"
    }
   ],
   "source": [
    "s2 = \"bfbeadbcbcbfeaaeefcddcccbbbfaaafdbebedddf\"\n",
    "t2 = \"cbccfafebccdccebdd\"\n",
    "min_length_substring(s2, t2)"
   ]
  },
  {
   "cell_type": "code",
   "execution_count": null,
   "id": "9552ad03",
   "metadata": {},
   "outputs": [],
   "source": []
  }
 ],
 "metadata": {
  "kernelspec": {
   "display_name": "Python 3 (ipykernel)",
   "language": "python",
   "name": "python3"
  },
  "language_info": {
   "codemirror_mode": {
    "name": "ipython",
    "version": 3
   },
   "file_extension": ".py",
   "mimetype": "text/x-python",
   "name": "python",
   "nbconvert_exporter": "python",
   "pygments_lexer": "ipython3",
   "version": "3.8.16"
  }
 },
 "nbformat": 4,
 "nbformat_minor": 5
}
