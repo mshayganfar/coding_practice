{
 "cells": [
  {
   "cell_type": "markdown",
   "id": "acf5ee1f",
   "metadata": {},
   "source": [
    "# Stacks"
   ]
  },
  {
   "cell_type": "markdown",
   "id": "3bf4206b",
   "metadata": {},
   "source": [
    "## Stack Implementation"
   ]
  },
  {
   "cell_type": "code",
   "execution_count": 12,
   "id": "9c627906",
   "metadata": {},
   "outputs": [],
   "source": [
    "class Node:\n",
    "    def __init__(self, value):\n",
    "        self.value = value\n",
    "        self.next = None\n",
    "\n",
    "class Stack:\n",
    "    def __init__(self):\n",
    "        self.stack_size = 0\n",
    "        self.top = None\n",
    "        \n",
    "    def push(self, value):\n",
    "        node = Node(value)\n",
    "        node.next = self.top\n",
    "        self.top = node\n",
    "        self.stack_size += 1\n",
    "    \n",
    "    def pop(self):\n",
    "        if self.top:\n",
    "            value = self.top.value\n",
    "            self.top = self.top.next\n",
    "            self.stack_size -= 1\n",
    "            return value\n",
    "        raise Exception('Stack is empty!')\n",
    "    \n",
    "    def peek(self):\n",
    "        if self.top:\n",
    "            return self.top.value\n",
    "        raise Exception('Stack is empty!')\n",
    "        \n",
    "    def size(self):\n",
    "        return self.stack_size"
   ]
  },
  {
   "cell_type": "code",
   "execution_count": 15,
   "id": "bdbeae5e",
   "metadata": {},
   "outputs": [
    {
     "name": "stdout",
     "output_type": "stream",
     "text": [
      "5\n",
      "5\n",
      "4\n",
      "3\n"
     ]
    },
    {
     "data": {
      "text/plain": [
       "3"
      ]
     },
     "execution_count": 15,
     "metadata": {},
     "output_type": "execute_result"
    }
   ],
   "source": [
    "arr = [1, 2, 3, 4, 5]\n",
    "stack = Stack()\n",
    "\n",
    "for a in arr:\n",
    "    stack.push(a)\n",
    "\n",
    "print(stack.peek())\n",
    "print(stack.pop())\n",
    "print(stack.pop())\n",
    "print(stack.peek())\n",
    "stack.size()"
   ]
  },
  {
   "cell_type": "markdown",
   "id": "6a109693",
   "metadata": {},
   "source": [
    "## Queue Using Stacks"
   ]
  },
  {
   "cell_type": "code",
   "execution_count": 16,
   "id": "ff1eeb1d",
   "metadata": {},
   "outputs": [],
   "source": [
    "class Queue:\n",
    "    def __init__(self):\n",
    "        self.s1 = []\n",
    "        self.s2 = []\n",
    "        \n",
    "    def enQueue(self, value):\n",
    "        \n",
    "        while len(self.s1) != 0:\n",
    "            self.s2.append(self.s1[-1])\n",
    "            self.s1.pop()\n",
    "            \n",
    "        self.s1.append(value)\n",
    "        \n",
    "        while len(self.s2) != 0:\n",
    "            self.s1.append(self.s2[-1])\n",
    "            self.s2.pop()\n",
    "            \n",
    "    def deQueue(self):\n",
    "        \n",
    "        if len(self.s1) > 0:\n",
    "            value = self.s1[-1]\n",
    "            self.s1.pop()\n",
    "            return value\n",
    "        \n",
    "        raise Exception('Queue is empty!')"
   ]
  },
  {
   "cell_type": "code",
   "execution_count": 17,
   "id": "bc8e5fd6",
   "metadata": {},
   "outputs": [
    {
     "name": "stdout",
     "output_type": "stream",
     "text": [
      "1\n",
      "2\n",
      "3\n"
     ]
    }
   ],
   "source": [
    "q = Queue()\n",
    "q.enQueue(1) \n",
    "q.enQueue(2) \n",
    "q.enQueue(3) \n",
    " \n",
    "print(q.deQueue())\n",
    "print(q.deQueue())\n",
    "print(q.deQueue())"
   ]
  },
  {
   "cell_type": "markdown",
   "id": "f8bdefd2",
   "metadata": {},
   "source": [
    "## Balance Brackets\n",
    "\n",
    "A bracket is any of the following characters: (, ), {, }, [, or ].\n",
    "\n",
    "We consider two brackets to be matching if the first bracket is an open-bracket, e.g., (, {, or [, and the second bracket is a close-bracket of the same type. That means ( and ), [ and ], and { and } are the only pairs of matching brackets.\n",
    "\n",
    "Furthermore, a sequence of brackets is said to be balanced if the following conditions are met:\n",
    "1) The sequence is empty, or\n",
    "2) The sequence is composed of two or more non-empty sequences, all of which are balanced, or\n",
    "3) The first and last brackets of the sequence are matching, and the portion of the sequence without the first and last elements is balanced.\n",
    "\n",
    "You are given a string of brackets. Your task is to determine whether each sequence of brackets is balanced. If a string is balanced, return True, otherwise, return False\n",
    "\n",
    "<b>Example 1</b>\n",
    "\n",
    "s = {[()]} <br />\n",
    "output: True\n",
    "\n",
    "<b>Example 2</b>\n",
    "\n",
    "s = {}() <br />\n",
    "output: True\n",
    "\n",
    "<b>Example 3</b>\n",
    "\n",
    "s = {(}) <br />\n",
    "output: False\n",
    "\n",
    "<b>Example 4</b>\n",
    "\n",
    "s = ) <br />\n",
    "output: False"
   ]
  },
  {
   "cell_type": "code",
   "execution_count": 34,
   "id": "e99632f9",
   "metadata": {},
   "outputs": [],
   "source": [
    "def isBalanced(s):\n",
    "    \n",
    "    open_brackets = ['(', '[', '{']\n",
    "    close_brackets = [')', ']', '}']\n",
    "    \n",
    "    stack = []\n",
    "    for ch in s:\n",
    "        if ch in open_brackets:\n",
    "            stack.append(ch)\n",
    "        else:\n",
    "            if not stack:\n",
    "                return False\n",
    "            if open_brackets[close_brackets.index(ch)] == stack[len(stack)-1]:\n",
    "                stack.pop()\n",
    "            else:\n",
    "                return False\n",
    "            \n",
    "    if stack:\n",
    "        return False\n",
    "    \n",
    "    return True"
   ]
  },
  {
   "cell_type": "code",
   "execution_count": 35,
   "id": "d02ddde3",
   "metadata": {},
   "outputs": [
    {
     "data": {
      "text/plain": [
       "False"
      ]
     },
     "execution_count": 35,
     "metadata": {},
     "output_type": "execute_result"
    }
   ],
   "source": [
    "s1 = \"{[(])}\"\n",
    "isBalanced(s1)"
   ]
  },
  {
   "cell_type": "code",
   "execution_count": 36,
   "id": "8775dcf2",
   "metadata": {},
   "outputs": [
    {
     "data": {
      "text/plain": [
       "True"
      ]
     },
     "execution_count": 36,
     "metadata": {},
     "output_type": "execute_result"
    }
   ],
   "source": [
    "s2 = \"{{[[(())]]}}\"\n",
    "isBalanced(s2)"
   ]
  },
  {
   "cell_type": "code",
   "execution_count": 38,
   "id": "e7051df3",
   "metadata": {},
   "outputs": [
    {
     "data": {
      "text/plain": [
       "True"
      ]
     },
     "execution_count": 38,
     "metadata": {},
     "output_type": "execute_result"
    }
   ],
   "source": [
    "s3 = '{[()]}'\n",
    "isBalanced(s3)"
   ]
  },
  {
   "cell_type": "code",
   "execution_count": 39,
   "id": "3516d851",
   "metadata": {},
   "outputs": [
    {
     "data": {
      "text/plain": [
       "True"
      ]
     },
     "execution_count": 39,
     "metadata": {},
     "output_type": "execute_result"
    }
   ],
   "source": [
    "s4 = '{}()'\n",
    "isBalanced(s4)"
   ]
  },
  {
   "cell_type": "code",
   "execution_count": 42,
   "id": "b73dcea2",
   "metadata": {},
   "outputs": [
    {
     "data": {
      "text/plain": [
       "False"
      ]
     },
     "execution_count": 42,
     "metadata": {},
     "output_type": "execute_result"
    }
   ],
   "source": [
    "s5 = ')('\n",
    "isBalanced(s5)"
   ]
  },
  {
   "cell_type": "code",
   "execution_count": null,
   "id": "e2b913aa",
   "metadata": {},
   "outputs": [],
   "source": []
  }
 ],
 "metadata": {
  "kernelspec": {
   "display_name": "Python 3 (ipykernel)",
   "language": "python",
   "name": "python3"
  },
  "language_info": {
   "codemirror_mode": {
    "name": "ipython",
    "version": 3
   },
   "file_extension": ".py",
   "mimetype": "text/x-python",
   "name": "python",
   "nbconvert_exporter": "python",
   "pygments_lexer": "ipython3",
   "version": "3.8.16"
  }
 },
 "nbformat": 4,
 "nbformat_minor": 5
}
