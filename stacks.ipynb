{
 "cells": [
  {
   "cell_type": "markdown",
   "id": "acf5ee1f",
   "metadata": {},
   "source": [
    "# Stacks"
   ]
  },
  {
   "cell_type": "markdown",
   "id": "3bf4206b",
   "metadata": {},
   "source": [
    "## Stack Implementation"
   ]
  },
  {
   "cell_type": "code",
   "execution_count": 12,
   "id": "9c627906",
   "metadata": {},
   "outputs": [],
   "source": [
    "class Node:\n",
    "    def __init__(self, value):\n",
    "        self.value = value\n",
    "        self.next = None\n",
    "\n",
    "class Stack:\n",
    "    def __init__(self):\n",
    "        self.stack_size = 0\n",
    "        self.top = None\n",
    "        \n",
    "    def push(self, value):\n",
    "        node = Node(value)\n",
    "        node.next = self.top\n",
    "        self.top = node\n",
    "        self.stack_size += 1\n",
    "    \n",
    "    def pop(self):\n",
    "        if self.top:\n",
    "            value = self.top.value\n",
    "            self.top = self.top.next\n",
    "            self.stack_size -= 1\n",
    "            return value\n",
    "        raise Exception('Stack is empty!')\n",
    "    \n",
    "    def peek(self):\n",
    "        if self.top:\n",
    "            return self.top.value\n",
    "        raise Exception('Stack is empty!')\n",
    "        \n",
    "    def size(self):\n",
    "        return self.stack_size"
   ]
  },
  {
   "cell_type": "code",
   "execution_count": 15,
   "id": "bdbeae5e",
   "metadata": {},
   "outputs": [
    {
     "name": "stdout",
     "output_type": "stream",
     "text": [
      "5\n",
      "5\n",
      "4\n",
      "3\n"
     ]
    },
    {
     "data": {
      "text/plain": [
       "3"
      ]
     },
     "execution_count": 15,
     "metadata": {},
     "output_type": "execute_result"
    }
   ],
   "source": [
    "arr = [1, 2, 3, 4, 5]\n",
    "stack = Stack()\n",
    "\n",
    "for a in arr:\n",
    "    stack.push(a)\n",
    "\n",
    "print(stack.peek())\n",
    "print(stack.pop())\n",
    "print(stack.pop())\n",
    "print(stack.peek())\n",
    "stack.size()"
   ]
  },
  {
   "cell_type": "markdown",
   "id": "6a109693",
   "metadata": {},
   "source": [
    "## Queue Using Stacks"
   ]
  },
  {
   "cell_type": "code",
   "execution_count": 16,
   "id": "ff1eeb1d",
   "metadata": {},
   "outputs": [],
   "source": [
    "class Queue:\n",
    "    def __init__(self):\n",
    "        self.s1 = []\n",
    "        self.s2 = []\n",
    "        \n",
    "    def enQueue(self, value):\n",
    "        \n",
    "        while len(self.s1) != 0:\n",
    "            self.s2.append(self.s1[-1])\n",
    "            self.s1.pop()\n",
    "            \n",
    "        self.s1.append(value)\n",
    "        \n",
    "        while len(self.s2) != 0:\n",
    "            self.s1.append(self.s2[-1])\n",
    "            self.s2.pop()\n",
    "            \n",
    "    def deQueue(self):\n",
    "        \n",
    "        if len(self.s1) > 0:\n",
    "            value = self.s1[-1]\n",
    "            self.s1.pop()\n",
    "            return value\n",
    "        \n",
    "        raise Exception('Queue is empty!')"
   ]
  },
  {
   "cell_type": "code",
   "execution_count": 17,
   "id": "bc8e5fd6",
   "metadata": {},
   "outputs": [
    {
     "name": "stdout",
     "output_type": "stream",
     "text": [
      "1\n",
      "2\n",
      "3\n"
     ]
    }
   ],
   "source": [
    "q = Queue()\n",
    "q.enQueue(1) \n",
    "q.enQueue(2) \n",
    "q.enQueue(3) \n",
    " \n",
    "print(q.deQueue())\n",
    "print(q.deQueue())\n",
    "print(q.deQueue())"
   ]
  },
  {
   "cell_type": "markdown",
   "id": "f8bdefd2",
   "metadata": {},
   "source": [
    "## Balance Brackets\n",
    "\n",
    "A bracket is any of the following characters: (, ), {, }, [, or ].\n",
    "\n",
    "We consider two brackets to be matching if the first bracket is an open-bracket, e.g., (, {, or [, and the second bracket is a close-bracket of the same type. That means ( and ), [ and ], and { and } are the only pairs of matching brackets.\n",
    "\n",
    "Furthermore, a sequence of brackets is said to be balanced if the following conditions are met:\n",
    "1) The sequence is empty, or\n",
    "2) The sequence is composed of two or more non-empty sequences, all of which are balanced, or\n",
    "3) The first and last brackets of the sequence are matching, and the portion of the sequence without the first and last elements is balanced.\n",
    "\n",
    "You are given a string of brackets. Your task is to determine whether each sequence of brackets is balanced. If a string is balanced, return True, otherwise, return False\n",
    "\n",
    "<b>Example 1</b>\n",
    "\n",
    "s = {[()]} <br />\n",
    "output: True\n",
    "\n",
    "<b>Example 2</b>\n",
    "\n",
    "s = {}() <br />\n",
    "output: True\n",
    "\n",
    "<b>Example 3</b>\n",
    "\n",
    "s = {(}) <br />\n",
    "output: False\n",
    "\n",
    "<b>Example 4</b>\n",
    "\n",
    "s = ) <br />\n",
    "output: False"
   ]
  },
  {
   "cell_type": "code",
   "execution_count": 34,
   "id": "e99632f9",
   "metadata": {},
   "outputs": [],
   "source": [
    "def isBalanced(s):\n",
    "    \n",
    "    open_brackets = ['(', '[', '{']\n",
    "    close_brackets = [')', ']', '}']\n",
    "    \n",
    "    stack = []\n",
    "    for ch in s:\n",
    "        if ch in open_brackets:\n",
    "            stack.append(ch)\n",
    "        else:\n",
    "            if not stack:\n",
    "                return False\n",
    "            if open_brackets[close_brackets.index(ch)] == stack[len(stack)-1]:\n",
    "                stack.pop()\n",
    "            else:\n",
    "                return False\n",
    "            \n",
    "    if stack:\n",
    "        return False\n",
    "    \n",
    "    return True"
   ]
  },
  {
   "cell_type": "code",
   "execution_count": 35,
   "id": "d02ddde3",
   "metadata": {},
   "outputs": [
    {
     "data": {
      "text/plain": [
       "False"
      ]
     },
     "execution_count": 35,
     "metadata": {},
     "output_type": "execute_result"
    }
   ],
   "source": [
    "s1 = \"{[(])}\"\n",
    "isBalanced(s1)"
   ]
  },
  {
   "cell_type": "code",
   "execution_count": 36,
   "id": "8775dcf2",
   "metadata": {},
   "outputs": [
    {
     "data": {
      "text/plain": [
       "True"
      ]
     },
     "execution_count": 36,
     "metadata": {},
     "output_type": "execute_result"
    }
   ],
   "source": [
    "s2 = \"{{[[(())]]}}\"\n",
    "isBalanced(s2)"
   ]
  },
  {
   "cell_type": "code",
   "execution_count": 38,
   "id": "e7051df3",
   "metadata": {},
   "outputs": [
    {
     "data": {
      "text/plain": [
       "True"
      ]
     },
     "execution_count": 38,
     "metadata": {},
     "output_type": "execute_result"
    }
   ],
   "source": [
    "s3 = '{[()]}'\n",
    "isBalanced(s3)"
   ]
  },
  {
   "cell_type": "code",
   "execution_count": 39,
   "id": "3516d851",
   "metadata": {},
   "outputs": [
    {
     "data": {
      "text/plain": [
       "True"
      ]
     },
     "execution_count": 39,
     "metadata": {},
     "output_type": "execute_result"
    }
   ],
   "source": [
    "s4 = '{}()'\n",
    "isBalanced(s4)"
   ]
  },
  {
   "cell_type": "code",
   "execution_count": 42,
   "id": "b73dcea2",
   "metadata": {},
   "outputs": [
    {
     "data": {
      "text/plain": [
       "False"
      ]
     },
     "execution_count": 42,
     "metadata": {},
     "output_type": "execute_result"
    }
   ],
   "source": [
    "s5 = ')('\n",
    "isBalanced(s5)"
   ]
  },
  {
   "cell_type": "markdown",
   "id": "309035b0",
   "metadata": {},
   "source": [
    "## 1) Removing Stars From a String\n",
    "\n",
    "You are given a string s, which contains stars *.\n",
    "\n",
    "In one operation, you can:\n",
    "\n",
    "Choose a star in s. <br />\n",
    "Remove the closest non-star character to its left, as well as remove the star itself. <br />\n",
    "Return the string after all stars have been removed.\n",
    "\n",
    "Note:\n",
    "\n",
    "* The input will be generated such that the operation is always possible.\n",
    "* It can be shown that the resulting string will always be unique.\n",
    "\n",
    "<b>Example</b>\n",
    "\n",
    "Input: s = \"leet**cod*e\" <br />\n",
    "Output: \"lecoe\"\n",
    "\n",
    "Explanation: Performing the removals from left to right: <br />\n",
    "- The closest character to the 1st star is 't' in \"leet**cod*e\". s becomes \"lee*cod*e\".\n",
    "- The closest character to the 2nd star is 'e' in \"lee*cod*e\". s becomes \"lecod*e\".\n",
    "- The closest character to the 3rd star is 'd' in \"lecod*e\". s becomes \"lecoe\".\n",
    "\n",
    "There are no more stars, so we return \"lecoe\".\n",
    "\n",
    "<b>Example</b>\n",
    "\n",
    "Input: s = \"erase*****\" <br />\n",
    "Output: \"\"\n",
    "\n",
    "Explanation: The entire string is removed, so we return an empty string."
   ]
  },
  {
   "cell_type": "code",
   "execution_count": 10,
   "id": "4b7a5437",
   "metadata": {},
   "outputs": [],
   "source": [
    "def removeStars(s: str) -> str:\n",
    "    \n",
    "    s_stack = []\n",
    "    for ch in s:\n",
    "        if ch == '*':\n",
    "            s_stack.pop()\n",
    "        else:\n",
    "            s_stack.append(ch)\n",
    "    return ''.join(s_stack)"
   ]
  },
  {
   "cell_type": "code",
   "execution_count": 11,
   "id": "3445e2ea",
   "metadata": {},
   "outputs": [
    {
     "data": {
      "text/plain": [
       "'leecode'"
      ]
     },
     "execution_count": 11,
     "metadata": {},
     "output_type": "execute_result"
    }
   ],
   "source": [
    "s = \"leet*code\"\n",
    "removeStars(s)"
   ]
  },
  {
   "cell_type": "code",
   "execution_count": 12,
   "id": "c88ca90d",
   "metadata": {},
   "outputs": [
    {
     "data": {
      "text/plain": [
       "''"
      ]
     },
     "execution_count": 12,
     "metadata": {},
     "output_type": "execute_result"
    }
   ],
   "source": [
    "s = \"erase*****\"\n",
    "removeStars(s)"
   ]
  },
  {
   "cell_type": "markdown",
   "id": "69b983c2",
   "metadata": {},
   "source": [
    "## 2) Asteroid Collision\n",
    "\n",
    "We are given an array asteroids of integers representing asteroids in a row.\n",
    "\n",
    "For each asteroid, the absolute value represents its size, and the sign represents its direction (positive meaning right, negative meaning left). Each asteroid moves at the same speed.\n",
    "\n",
    "Find out the state of the asteroids after all collisions. If two asteroids meet, the smaller one will explode. If both are the same size, both will explode. Two asteroids moving in the same direction will never meet.\n",
    "\n",
    "<b>Example</b>\n",
    "\n",
    "Input: asteroids = [5, 10, -5] <br />\n",
    "Output: [5, 10]\n",
    "\n",
    "Explanation: The 10 and -5 collide resulting in 10. The 5 and 10 never collide.\n",
    "\n",
    "<b>Example</b>\n",
    "\n",
    "Input: asteroids = [8, -8] <br />\n",
    "Output: []\n",
    "\n",
    "Explanation: The 8 and -8 collide exploding each other.\n",
    "\n",
    "<b>Example</b>\n",
    "\n",
    "Input: asteroids = [10, 2, -5] <br />\n",
    "Output: [10]\n",
    "\n",
    "Explanation: The 2 and -5 collide resulting in -5. The 10 and -5 collide resulting in 10."
   ]
  },
  {
   "cell_type": "code",
   "execution_count": 13,
   "id": "224edfca",
   "metadata": {},
   "outputs": [],
   "source": [
    "from typing import List"
   ]
  },
  {
   "cell_type": "code",
   "execution_count": 189,
   "id": "db29eee9",
   "metadata": {},
   "outputs": [],
   "source": [
    "# Earlier Buggy Solution\n",
    "\n",
    "def asteroidCollision(asteroids: List[int]) -> List[int]:\n",
    "    \n",
    "    i = len(asteroids) - 1\n",
    "    while i > 0:\n",
    "        if (asteroids[i] * asteroids[i-1]) < 0:\n",
    "            print(asteroids[i], asteroids[i-1])\n",
    "            if asteroids[i] < 0:\n",
    "                if abs(asteroids[i]) < abs(asteroids[i-1]):\n",
    "                    asteroids.pop(i)\n",
    "                elif abs(asteroids[i]) > abs(asteroids[i-1]):\n",
    "                    asteroids.pop(i-1)\n",
    "                else:\n",
    "                    asteroids.pop(i)\n",
    "                    asteroids.pop(i-1)\n",
    "                    i -= 1\n",
    "        i -= 1\n",
    "    \n",
    "    return asteroids"
   ]
  },
  {
   "cell_type": "code",
   "execution_count": 229,
   "id": "9edfabba",
   "metadata": {},
   "outputs": [],
   "source": [
    "def asteroidCollision(asteroids: List[int]) -> List[int]:\n",
    "    \n",
    "    st = []\n",
    "    for ast in asteroids:\n",
    "        flag = True\n",
    "        while st and (st[-1] > 0 and ast < 0):\n",
    "            if abs(st[-1]) < abs(ast):\n",
    "                st.pop()\n",
    "                continue\n",
    "            elif abs(st[-1]) == abs(ast):\n",
    "                st.pop()\n",
    "            \n",
    "            flag = False\n",
    "            break\n",
    "            \n",
    "        if flag:\n",
    "            st.append(ast)\n",
    "    \n",
    "    remaining_ast = [None] * len(st)\n",
    "    for i in range(len(remaining_ast)-1, -1, -1):\n",
    "        remaining_ast[i] = st[-1]\n",
    "        st.pop()\n",
    "        \n",
    "    return remaining_ast"
   ]
  },
  {
   "cell_type": "code",
   "execution_count": 230,
   "id": "9cde41ac",
   "metadata": {},
   "outputs": [
    {
     "data": {
      "text/plain": [
       "[5, 10]"
      ]
     },
     "execution_count": 230,
     "metadata": {},
     "output_type": "execute_result"
    }
   ],
   "source": [
    "asteroids = [5, 10, -5]\n",
    "asteroidCollision(asteroids)"
   ]
  },
  {
   "cell_type": "code",
   "execution_count": 231,
   "id": "c9e628e0",
   "metadata": {},
   "outputs": [
    {
     "data": {
      "text/plain": [
       "[]"
      ]
     },
     "execution_count": 231,
     "metadata": {},
     "output_type": "execute_result"
    }
   ],
   "source": [
    "asteroids = [8, -8]\n",
    "asteroidCollision(asteroids)"
   ]
  },
  {
   "cell_type": "code",
   "execution_count": 232,
   "id": "ce42d3b6",
   "metadata": {},
   "outputs": [
    {
     "data": {
      "text/plain": [
       "[10]"
      ]
     },
     "execution_count": 232,
     "metadata": {},
     "output_type": "execute_result"
    }
   ],
   "source": [
    "asteroids = [10, 2, -5]\n",
    "asteroidCollision(asteroids)"
   ]
  },
  {
   "cell_type": "code",
   "execution_count": 233,
   "id": "5fbac65e",
   "metadata": {},
   "outputs": [
    {
     "data": {
      "text/plain": [
       "[-2, -1, 1, 2]"
      ]
     },
     "execution_count": 233,
     "metadata": {},
     "output_type": "execute_result"
    }
   ],
   "source": [
    "asteroids = [-2, -1, 1, 2]\n",
    "asteroidCollision(asteroids)"
   ]
  },
  {
   "cell_type": "code",
   "execution_count": 234,
   "id": "fc6ec4bf",
   "metadata": {},
   "outputs": [
    {
     "data": {
      "text/plain": [
       "[-2]"
      ]
     },
     "execution_count": 234,
     "metadata": {},
     "output_type": "execute_result"
    }
   ],
   "source": [
    "asteroids = [-2, 2, -1, -2]\n",
    "asteroidCollision(asteroids)"
   ]
  },
  {
   "cell_type": "markdown",
   "id": "a7257167",
   "metadata": {},
   "source": [
    "## 3) Decode String\n",
    "\n",
    "Given an encoded string, return its decoded string.\n",
    "\n",
    "The encoding rule is: k[encoded_string], where the encoded_string inside the square brackets is being repeated exactly k times. Note that k is guaranteed to be a positive integer.\n",
    "\n",
    "You may assume that the input string is always valid; there are no extra white spaces, square brackets are well-formed, etc. Furthermore, you may assume that the original data does not contain any digits and that digits are only for those repeat numbers, k. For example, there will not be input like 3a or 2[4].\n",
    "\n",
    "The test cases are generated so that the length of the output will never exceed 105.\n",
    "\n",
    "<b>Example</b>\n",
    "\n",
    "Input: s = \"3[a]2[bc]\" <br />\n",
    "Output: \"aaabcbc\"\n",
    "\n",
    "<b>Example</b>\n",
    "\n",
    "Input: s = \"3[a2[c]]\" <br />\n",
    "Output: \"accaccacc\"\n",
    "\n",
    "<b>Example</b>\n",
    "\n",
    "Input: s = \"2[abc]3[cd]ef\" <br />\n",
    "Output: \"abcabccdcdcdef\""
   ]
  },
  {
   "cell_type": "code",
   "execution_count": 396,
   "id": "3d63be4f",
   "metadata": {},
   "outputs": [],
   "source": [
    "def decodeString(s: str) -> str:\n",
    "    \n",
    "    st = []\n",
    "    for i in range(len(s)):\n",
    "        if s[i] == ']':\n",
    "            decoded_str = ''\n",
    "            while st[-1] != '[':\n",
    "                decoded_str += st[-1]\n",
    "                st.pop()\n",
    "            st.pop()\n",
    "            base = 1\n",
    "            k = 0\n",
    "            while st and st[-1].isdigit():\n",
    "                k += (ord(st[-1]) - ord('0')) * base\n",
    "                st.pop()\n",
    "                base *= 10\n",
    "            cur_len = len(decoded_str)\n",
    "            while k != 0:\n",
    "                for j in range(len(decoded_str)-1, -1, -1):\n",
    "                    st.append(decoded_str[j])\n",
    "                k -= 1\n",
    "        else:\n",
    "            st.append(s[i])\n",
    "    \n",
    "    result = ''\n",
    "    for i in range(len(st)-1, -1, -1):\n",
    "        result = st[-1] + result\n",
    "        st.pop()\n",
    "    \n",
    "    return result"
   ]
  },
  {
   "cell_type": "code",
   "execution_count": 397,
   "id": "d50ee058",
   "metadata": {},
   "outputs": [
    {
     "data": {
      "text/plain": [
       "'aaabcbc'"
      ]
     },
     "execution_count": 397,
     "metadata": {},
     "output_type": "execute_result"
    }
   ],
   "source": [
    "s = \"3[a]2[bc]\"\n",
    "decodeString(s)"
   ]
  },
  {
   "cell_type": "code",
   "execution_count": 398,
   "id": "d419b536",
   "metadata": {},
   "outputs": [
    {
     "data": {
      "text/plain": [
       "'accaccacc'"
      ]
     },
     "execution_count": 398,
     "metadata": {},
     "output_type": "execute_result"
    }
   ],
   "source": [
    "s = \"3[a2[c]]\"\n",
    "decodeString(s)"
   ]
  },
  {
   "cell_type": "code",
   "execution_count": 399,
   "id": "25711b35",
   "metadata": {},
   "outputs": [
    {
     "data": {
      "text/plain": [
       "'abcabccdcdcdef'"
      ]
     },
     "execution_count": 399,
     "metadata": {},
     "output_type": "execute_result"
    }
   ],
   "source": [
    "s = \"2[abc]3[cd]ef\"\n",
    "decodeString(s)"
   ]
  },
  {
   "cell_type": "code",
   "execution_count": null,
   "id": "d018f039",
   "metadata": {},
   "outputs": [],
   "source": []
  }
 ],
 "metadata": {
  "kernelspec": {
   "display_name": "Python 3 (ipykernel)",
   "language": "python",
   "name": "python3"
  },
  "language_info": {
   "codemirror_mode": {
    "name": "ipython",
    "version": 3
   },
   "file_extension": ".py",
   "mimetype": "text/x-python",
   "name": "python",
   "nbconvert_exporter": "python",
   "pygments_lexer": "ipython3",
   "version": "3.8.16"
  }
 },
 "nbformat": 4,
 "nbformat_minor": 5
}
