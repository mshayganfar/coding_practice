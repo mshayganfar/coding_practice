{
 "cells": [
  {
   "cell_type": "markdown",
   "id": "308e9a68",
   "metadata": {},
   "source": [
    "# Backtracking"
   ]
  },
  {
   "cell_type": "markdown",
   "id": "102418c8",
   "metadata": {},
   "source": [
    "## Backtracking Template"
   ]
  },
  {
   "cell_type": "code",
   "execution_count": null,
   "id": "ffabe329",
   "metadata": {},
   "outputs": [],
   "source": [
    "# def backtrack(candidate):\n",
    "#     if find_solution(candidate):\n",
    "#         output(candidate)\n",
    "#         return\n",
    "    \n",
    "#     # iterate all possible candidates.\n",
    "#     for next_candidate in list_of_candidates:\n",
    "#         if is_valid(next_candidate):\n",
    "#             # try this partial candidate solution\n",
    "#             place(next_candidate)\n",
    "#             # given the candidate, explore further.\n",
    "#             backtrack(next_candidate)\n",
    "#             # backtrack\n",
    "#             remove(next_candidate)"
   ]
  },
  {
   "cell_type": "markdown",
   "id": "3cd51af7",
   "metadata": {},
   "source": [
    "Here are a few notes about the above pseudocode.\n",
    "\n",
    "* Overall, the enumeration of candidates is done in two levels: 1). at the first level, the function is implemented as recursion. At each occurrence of recursion, the function is one step further to the final solution.  2). as the second level, within the recursion, we have an iteration that allows us to explore all the candidates that are of the same progress to the final solution.\n",
    "\n",
    "* The backtracking should happen at the level of the iteration within the recursion. \n",
    "\n",
    "* Unlike brute-force search, in backtracking algorithms we are often able to determine if a partial solution candidate is worth exploring further (i.e. is_valid(next_candidate)), which allows us to prune the search zones. This is also known as the constraint, e.g. the attacking zone of queen in N-queen game. \n",
    "\n",
    "* There are two symmetric functions that allow us to mark the decision (place(candidate)) and revert the decision (remove(candidate)).  "
   ]
  },
  {
   "cell_type": "markdown",
   "id": "4df80731",
   "metadata": {},
   "source": [
    "## 1) Letter Combinations of a Phone Number\n",
    "\n",
    "Given a string containing digits from 2-9 inclusive, return all possible letter combinations that the number could represent. Return the answer in any order.\n",
    "\n",
    "Note that 1 does not map to any letters.\n",
    "\n",
    "<b>Example</b>\n",
    "\n",
    "Input: digits = \"23\" <br />\n",
    "Output: [\"ad\", \"ae\", \"af\", \"bd\", \"be\", \"bf\", \"cd\", \"ce\", \"cf\"]\n",
    "\n",
    "<b>Example</b>\n",
    "\n",
    "Input: digits = \"\" <br />\n",
    "Output: []\n",
    "\n",
    "<b>Example</b>\n",
    "\n",
    "Input: digits = \"2\" <br />\n",
    "Output: [\"a\",\"b\",\"c\"]"
   ]
  },
  {
   "cell_type": "code",
   "execution_count": 1,
   "id": "72f5ee9b",
   "metadata": {},
   "outputs": [],
   "source": [
    "from typing import List"
   ]
  },
  {
   "cell_type": "code",
   "execution_count": 2,
   "id": "01ccee99",
   "metadata": {},
   "outputs": [],
   "source": [
    "def letterCombinations(digits: str) -> List[str]:\n",
    "    \n",
    "    if len(digits) == 0:\n",
    "        return []\n",
    "    \n",
    "    keypad = {'2': ['a', 'b', 'c'], '3': ['d', 'e', 'f'], '4': ['g', 'h', 'i'], '5': ['j', 'k', 'l'], \\\n",
    "              '6': ['m', 'n', 'o'], '7': ['p', 'q', 'r', 's'], '8': ['t', 'u', 'v'], '9': ['w', 'x', 'y', 'z']}\n",
    "    \n",
    "    def backtrack(index: int, path: List[str]) -> None:\n",
    "        \n",
    "        if len(path) == len(digits):\n",
    "            answer.append(''.join(path))\n",
    "            return # Backtrack\n",
    "        \n",
    "        letters = keypad[digits[index]]\n",
    "        \n",
    "        for letter in letters:\n",
    "            path.append(letter)\n",
    "            backtrack(index + 1, path)\n",
    "            path.pop()\n",
    "    \n",
    "    answer = []\n",
    "    backtrack(0, [])\n",
    "    \n",
    "    return answer"
   ]
  },
  {
   "cell_type": "code",
   "execution_count": 3,
   "id": "b21f4a71",
   "metadata": {},
   "outputs": [],
   "source": [
    "# Similar Solution\n",
    "\n",
    "def letterCombinations(digits: str) -> List[str]:\n",
    "    \n",
    "    if not digits:\n",
    "        return []\n",
    "        \n",
    "    keypad = {\"2\": \"abc\", \"3\": \"def\", \"4\": \"ghi\", \"5\": \"jkl\", \"6\": \"mno\", \"7\": \"pqrs\", \"8\": \"tuv\", \"9\": \"wxyz\"}\n",
    "    answer = []\n",
    "        \n",
    "    def backtrack(combination: str, next_digits: str) -> None:\n",
    "        if not next_digits:\n",
    "            answer.append(combination)\n",
    "            return\n",
    "        \n",
    "        for letter in keypad[next_digits[0]]:\n",
    "            backtrack(combination + letter, next_digits[1:])\n",
    "        \n",
    "    backtrack(\"\", digits)\n",
    "    \n",
    "    return answer"
   ]
  },
  {
   "cell_type": "code",
   "execution_count": 4,
   "id": "5bce2fa3",
   "metadata": {},
   "outputs": [
    {
     "data": {
      "text/plain": [
       "['ad', 'ae', 'af', 'bd', 'be', 'bf', 'cd', 'ce', 'cf']"
      ]
     },
     "execution_count": 4,
     "metadata": {},
     "output_type": "execute_result"
    }
   ],
   "source": [
    "digits = \"23\"\n",
    "letterCombinations(digits)"
   ]
  },
  {
   "cell_type": "code",
   "execution_count": 5,
   "id": "d567945c",
   "metadata": {},
   "outputs": [
    {
     "data": {
      "text/plain": [
       "[]"
      ]
     },
     "execution_count": 5,
     "metadata": {},
     "output_type": "execute_result"
    }
   ],
   "source": [
    "digits = \"\"\n",
    "letterCombinations(digits)"
   ]
  },
  {
   "cell_type": "code",
   "execution_count": 6,
   "id": "074f4911",
   "metadata": {},
   "outputs": [
    {
     "data": {
      "text/plain": [
       "['a', 'b', 'c']"
      ]
     },
     "execution_count": 6,
     "metadata": {},
     "output_type": "execute_result"
    }
   ],
   "source": [
    "digits = \"2\"\n",
    "letterCombinations(digits)"
   ]
  },
  {
   "cell_type": "markdown",
   "id": "91075955",
   "metadata": {},
   "source": [
    "## 2) Combination Sum III\n",
    "\n",
    "Find all valid combinations of k numbers that sum up to n such that the following conditions are true:\n",
    "\n",
    "* Only numbers 1 through 9 are used.\n",
    "* Each number is used at most once.\n",
    "\n",
    "Return a list of all possible valid combinations. The list must not contain the same combination twice, and the combinations may be returned in any order.\n",
    "\n",
    "<b>Example</b>\n",
    "\n",
    "Input: k = 3, n = 7 <br />\n",
    "Output: [[1, 2, 4]]\n",
    "\n",
    "Explanation: <br />\n",
    "1 + 2 + 4 = 7\n",
    "\n",
    "There are no other valid combinations.\n",
    "\n",
    "<b>Example</b>\n",
    "\n",
    "Input: k = 3, n = 9 <br />\n",
    "Output: [[1,2,6],[1,3,5],[2,3,4]] <br />\n",
    "\n",
    "Explanation: <br />\n",
    "1 + 2 + 6 = 9 <br />\n",
    "1 + 3 + 5 = 9 <br />\n",
    "2 + 3 + 4 = 9 <br />\n",
    "\n",
    "There are no other valid combinations.\n",
    "\n",
    "<b>Example</b>\n",
    "\n",
    "Input: k = 4, n = 1 <br />\n",
    "Output: [] <br />\n",
    "\n",
    "Explanation: There are no valid combinations.\n",
    "\n",
    "Using 4 different numbers in the range [1,9], the smallest sum we can get is 1+2+3+4 = 10 and since 10 > 1, there are no valid combination."
   ]
  },
  {
   "cell_type": "code",
   "execution_count": 7,
   "id": "93680dc7",
   "metadata": {},
   "outputs": [],
   "source": [
    "def combinationSum3(k: int, n: int) -> List[List[int]]:\n",
    "    \n",
    "    def backtrack(remain: int, comb: List[int], next_start: int) -> None:\n",
    "        \n",
    "        if remain == 0 and len(comb) == k:\n",
    "            answer.append(list(comb))\n",
    "            return\n",
    "        elif remain < 0 or len(comb) == k:\n",
    "            return\n",
    "        \n",
    "        for num in range(next_start, 10):\n",
    "            comb.append(num + 1)\n",
    "            backtrack(remain - num - 1, comb, num + 1)\n",
    "            comb.pop()\n",
    "    \n",
    "    answer = []\n",
    "    backtrack(n, [], 0)\n",
    "    \n",
    "    return answer"
   ]
  },
  {
   "cell_type": "code",
   "execution_count": 8,
   "id": "24b0074f",
   "metadata": {},
   "outputs": [],
   "source": [
    "# Similar & More Readable Solution\n",
    "\n",
    "def combinationSum3(k: int, n: int) -> List[List[int]]:\n",
    "    \n",
    "    def backtrack(num, stack, target):\n",
    "        if len(stack) == k:\n",
    "            if target == 0:\n",
    "                answer.append(stack)\n",
    "            return\n",
    "            \n",
    "        for x in range(num + 1, 10):\n",
    "            if x <= target:\n",
    "                backtrack(x, stack + [x], target - x)\n",
    "            else:\n",
    "                return\n",
    "    \n",
    "    answer = []\n",
    "    backtrack(0, [], n)\n",
    "    \n",
    "    return answer"
   ]
  },
  {
   "cell_type": "code",
   "execution_count": 9,
   "id": "b7b7edbd",
   "metadata": {},
   "outputs": [
    {
     "data": {
      "text/plain": [
       "[[1, 2, 4]]"
      ]
     },
     "execution_count": 9,
     "metadata": {},
     "output_type": "execute_result"
    }
   ],
   "source": [
    "k = 3\n",
    "n = 7\n",
    "combinationSum3(k, n)"
   ]
  },
  {
   "cell_type": "code",
   "execution_count": 10,
   "id": "0fe835c7",
   "metadata": {},
   "outputs": [
    {
     "data": {
      "text/plain": [
       "[[1, 2, 6], [1, 3, 5], [2, 3, 4]]"
      ]
     },
     "execution_count": 10,
     "metadata": {},
     "output_type": "execute_result"
    }
   ],
   "source": [
    "k = 3\n",
    "n = 9\n",
    "combinationSum3(k, n)"
   ]
  },
  {
   "cell_type": "code",
   "execution_count": 11,
   "id": "4a6d1877",
   "metadata": {},
   "outputs": [
    {
     "data": {
      "text/plain": [
       "[]"
      ]
     },
     "execution_count": 11,
     "metadata": {},
     "output_type": "execute_result"
    }
   ],
   "source": [
    "k = 4\n",
    "n = 1\n",
    "combinationSum3(k, n)"
   ]
  },
  {
   "cell_type": "code",
   "execution_count": null,
   "id": "f105b877",
   "metadata": {},
   "outputs": [],
   "source": []
  }
 ],
 "metadata": {
  "kernelspec": {
   "display_name": "Python 3 (ipykernel)",
   "language": "python",
   "name": "python3"
  },
  "language_info": {
   "codemirror_mode": {
    "name": "ipython",
    "version": 3
   },
   "file_extension": ".py",
   "mimetype": "text/x-python",
   "name": "python",
   "nbconvert_exporter": "python",
   "pygments_lexer": "ipython3",
   "version": "3.8.16"
  }
 },
 "nbformat": 4,
 "nbformat_minor": 5
}
