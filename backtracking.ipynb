{
 "cells": [
  {
   "cell_type": "markdown",
   "id": "bbe0f3fa",
   "metadata": {},
   "source": [
    "# Backtracking"
   ]
  },
  {
   "cell_type": "markdown",
   "id": "45440ad7",
   "metadata": {},
   "source": [
    "## 1) Letter Combinations of a Phone Number\n",
    "\n",
    "Given a string containing digits from 2-9 inclusive, return all possible letter combinations that the number could represent. Return the answer in any order.\n",
    "\n",
    "Note that 1 does not map to any letters.\n",
    "\n",
    "<b>Example</b>\n",
    "\n",
    "Input: digits = \"23\" <br />\n",
    "Output: [\"ad\", \"ae\", \"af\", \"bd\", \"be\", \"bf\", \"cd\", \"ce\", \"cf\"]\n",
    "\n",
    "<b>Example</b>\n",
    "\n",
    "Input: digits = \"\" <br />\n",
    "Output: []\n",
    "\n",
    "<b>Example</b>\n",
    "\n",
    "Input: digits = \"2\" <br />\n",
    "Output: [\"a\",\"b\",\"c\"]"
   ]
  },
  {
   "cell_type": "code",
   "execution_count": 1,
   "id": "79a3e9d0",
   "metadata": {},
   "outputs": [],
   "source": [
    "from typing import List"
   ]
  },
  {
   "cell_type": "code",
   "execution_count": 2,
   "id": "724a7001",
   "metadata": {},
   "outputs": [],
   "source": [
    "def letterCombinations(digits: str) -> List[str]:\n",
    "    \n",
    "    if len(digits) == 0:\n",
    "        return []\n",
    "    \n",
    "    keypad = {'2': ['a', 'b', 'c'], '3': ['d', 'e', 'f'], '4': ['g', 'h', 'i'], '5': ['j', 'k', 'l'], \\\n",
    "              '6': ['m', 'n', 'o'], '7': ['p', 'q', 'r', 's'], '8': ['t', 'u', 'v'], '9': ['w', 'x', 'y', 'z']}\n",
    "    \n",
    "    def backtrack(index: int, path: List[str]) -> None:\n",
    "        \n",
    "        if len(path) == len(digits):\n",
    "            answer.append(''.join(path))\n",
    "            return # Backtrack\n",
    "        \n",
    "        letters = keypad[digits[index]]\n",
    "        \n",
    "        for letter in letters:\n",
    "            path.append(letter)\n",
    "            backtrack(index + 1, path)\n",
    "            path.pop()\n",
    "    \n",
    "    answer = []\n",
    "    backtrack(0, [])\n",
    "    \n",
    "    return answer"
   ]
  },
  {
   "cell_type": "code",
   "execution_count": 3,
   "id": "e5406263",
   "metadata": {},
   "outputs": [],
   "source": [
    "# Similar Solution\n",
    "\n",
    "def letterCombinations(digits: str) -> List[str]:\n",
    "    \n",
    "    if not digits:\n",
    "        return []\n",
    "        \n",
    "    keypad = {\"2\": \"abc\", \"3\": \"def\", \"4\": \"ghi\", \"5\": \"jkl\", \"6\": \"mno\", \"7\": \"pqrs\", \"8\": \"tuv\", \"9\": \"wxyz\"}\n",
    "    answer = []\n",
    "        \n",
    "    def backtrack(combination: str, next_digits: str) -> None:\n",
    "        if not next_digits:\n",
    "            answer.append(combination)\n",
    "            return\n",
    "        \n",
    "        for letter in keypad[next_digits[0]]:\n",
    "            backtrack(combination + letter, next_digits[1:])\n",
    "        \n",
    "    backtrack(\"\", digits)\n",
    "    \n",
    "    return answer"
   ]
  },
  {
   "cell_type": "code",
   "execution_count": 4,
   "id": "e09e5483",
   "metadata": {},
   "outputs": [
    {
     "data": {
      "text/plain": [
       "['ad', 'ae', 'af', 'bd', 'be', 'bf', 'cd', 'ce', 'cf']"
      ]
     },
     "execution_count": 4,
     "metadata": {},
     "output_type": "execute_result"
    }
   ],
   "source": [
    "digits = \"23\"\n",
    "letterCombinations(digits)"
   ]
  },
  {
   "cell_type": "code",
   "execution_count": 5,
   "id": "8e6e3719",
   "metadata": {},
   "outputs": [
    {
     "data": {
      "text/plain": [
       "[]"
      ]
     },
     "execution_count": 5,
     "metadata": {},
     "output_type": "execute_result"
    }
   ],
   "source": [
    "digits = \"\"\n",
    "letterCombinations(digits)"
   ]
  },
  {
   "cell_type": "code",
   "execution_count": 6,
   "id": "3039faf5",
   "metadata": {},
   "outputs": [
    {
     "data": {
      "text/plain": [
       "['a', 'b', 'c']"
      ]
     },
     "execution_count": 6,
     "metadata": {},
     "output_type": "execute_result"
    }
   ],
   "source": [
    "digits = \"2\"\n",
    "letterCombinations(digits)"
   ]
  },
  {
   "cell_type": "markdown",
   "id": "e8c957d2",
   "metadata": {},
   "source": [
    "## 2) Combination Sum III\n",
    "\n",
    "Find all valid combinations of k numbers that sum up to n such that the following conditions are true:\n",
    "\n",
    "* Only numbers 1 through 9 are used.\n",
    "* Each number is used at most once.\n",
    "\n",
    "Return a list of all possible valid combinations. The list must not contain the same combination twice, and the combinations may be returned in any order.\n",
    "\n",
    "<b>Example</b>\n",
    "\n",
    "Input: k = 3, n = 7 <br />\n",
    "Output: [[1, 2, 4]]\n",
    "\n",
    "Explanation: <br />\n",
    "1 + 2 + 4 = 7\n",
    "\n",
    "There are no other valid combinations.\n",
    "\n",
    "<b>Example</b>\n",
    "\n",
    "Input: k = 3, n = 9 <br />\n",
    "Output: [[1,2,6],[1,3,5],[2,3,4]] <br />\n",
    "\n",
    "Explanation: <br />\n",
    "1 + 2 + 6 = 9 <br />\n",
    "1 + 3 + 5 = 9 <br />\n",
    "2 + 3 + 4 = 9 <br />\n",
    "\n",
    "There are no other valid combinations.\n",
    "\n",
    "<b>Example</b>\n",
    "\n",
    "Input: k = 4, n = 1 <br />\n",
    "Output: [] <br />\n",
    "\n",
    "Explanation: There are no valid combinations.\n",
    "\n",
    "Using 4 different numbers in the range [1,9], the smallest sum we can get is 1+2+3+4 = 10 and since 10 > 1, there are no valid combination."
   ]
  },
  {
   "cell_type": "code",
   "execution_count": 7,
   "id": "15e0aac7",
   "metadata": {},
   "outputs": [],
   "source": [
    "def combinationSum3(k: int, n: int) -> List[List[int]]:\n",
    "    \n",
    "    def backtrack(remain: int, comb: List[int], next_start: int) -> None:\n",
    "        \n",
    "        if remain == 0 and len(comb) == k:\n",
    "            answer.append(list(comb))\n",
    "            return\n",
    "        elif remain < 0 or len(comb) == k:\n",
    "            return\n",
    "        \n",
    "        for num in range(next_start, 10):\n",
    "            comb.append(num + 1)\n",
    "            backtrack(remain - num - 1, comb, num + 1)\n",
    "            comb.pop()\n",
    "    \n",
    "    answer = []\n",
    "    backtrack(n, [], 0)\n",
    "    \n",
    "    return answer"
   ]
  },
  {
   "cell_type": "code",
   "execution_count": 8,
   "id": "a8d1aad8",
   "metadata": {},
   "outputs": [],
   "source": [
    "# Similar & More Readable Solution\n",
    "\n",
    "def combinationSum3(k: int, n: int) -> List[List[int]]:\n",
    "    \n",
    "    def backtrack(num, stack, target):\n",
    "        if len(stack) == k:\n",
    "            if target == 0:\n",
    "                answer.append(stack)\n",
    "            return\n",
    "            \n",
    "        for x in range(num + 1, 10):\n",
    "            if x <= target:\n",
    "                backtrack(x, stack + [x], target - x)\n",
    "            else:\n",
    "                return\n",
    "    \n",
    "    answer = []\n",
    "    backtrack(0, [], n)\n",
    "    \n",
    "    return answer"
   ]
  },
  {
   "cell_type": "code",
   "execution_count": 9,
   "id": "69e6af43",
   "metadata": {},
   "outputs": [
    {
     "data": {
      "text/plain": [
       "[[1, 2, 4]]"
      ]
     },
     "execution_count": 9,
     "metadata": {},
     "output_type": "execute_result"
    }
   ],
   "source": [
    "k = 3\n",
    "n = 7\n",
    "combinationSum3(k, n)"
   ]
  },
  {
   "cell_type": "code",
   "execution_count": 10,
   "id": "4e5104ed",
   "metadata": {},
   "outputs": [
    {
     "data": {
      "text/plain": [
       "[[1, 2, 6], [1, 3, 5], [2, 3, 4]]"
      ]
     },
     "execution_count": 10,
     "metadata": {},
     "output_type": "execute_result"
    }
   ],
   "source": [
    "k = 3\n",
    "n = 9\n",
    "combinationSum3(k, n)"
   ]
  },
  {
   "cell_type": "code",
   "execution_count": 11,
   "id": "66c2a58f",
   "metadata": {},
   "outputs": [
    {
     "data": {
      "text/plain": [
       "[]"
      ]
     },
     "execution_count": 11,
     "metadata": {},
     "output_type": "execute_result"
    }
   ],
   "source": [
    "k = 4\n",
    "n = 1\n",
    "combinationSum3(k, n)"
   ]
  },
  {
   "cell_type": "code",
   "execution_count": null,
   "id": "295204a9",
   "metadata": {},
   "outputs": [],
   "source": []
  }
 ],
 "metadata": {
  "kernelspec": {
   "display_name": "Python 3 (ipykernel)",
   "language": "python",
   "name": "python3"
  },
  "language_info": {
   "codemirror_mode": {
    "name": "ipython",
    "version": 3
   },
   "file_extension": ".py",
   "mimetype": "text/x-python",
   "name": "python",
   "nbconvert_exporter": "python",
   "pygments_lexer": "ipython3",
   "version": "3.8.16"
  }
 },
 "nbformat": 4,
 "nbformat_minor": 5
}
