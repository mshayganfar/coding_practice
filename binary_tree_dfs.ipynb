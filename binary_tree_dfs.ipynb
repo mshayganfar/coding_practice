{
 "cells": [
  {
   "cell_type": "markdown",
   "id": "a05fef23",
   "metadata": {},
   "source": [
    "# Binary Tree - DFS"
   ]
  },
  {
   "cell_type": "markdown",
   "id": "3483c5d2",
   "metadata": {},
   "source": [
    "## 1) Maximum Depth of Binary Tree\n",
    "\n",
    "Given the root of a binary tree, return its maximum depth.\n",
    "\n",
    "A binary tree's maximum depth is the number of nodes along the longest path from the root node down to the farthest leaf node.\n",
    "\n",
    "<b>Example</b>\n",
    "\n",
    "Input: root = [3, 9, 20, null, null, 15, 7] <br />\n",
    "Output: 3\n",
    "\n",
    "<b>Example</b>\n",
    "\n",
    "Input: root = [1, null, 2] <br />\n",
    "Output: 2"
   ]
  },
  {
   "cell_type": "code",
   "execution_count": 1,
   "id": "3f4310e0",
   "metadata": {},
   "outputs": [],
   "source": [
    "from typing import Optional"
   ]
  },
  {
   "cell_type": "code",
   "execution_count": 2,
   "id": "84375870",
   "metadata": {},
   "outputs": [],
   "source": [
    "class TreeNode:\n",
    "    def __init__(self, val = 0, left = None, right = None):\n",
    "        self.val = val\n",
    "        self.left = left\n",
    "        self.right = right"
   ]
  },
  {
   "cell_type": "code",
   "execution_count": 3,
   "id": "760b2296",
   "metadata": {},
   "outputs": [],
   "source": [
    "# Recursive Approach\n",
    "\n",
    "def maxDepth(root: Optional[TreeNode]) -> int:\n",
    "    \n",
    "    if not root:\n",
    "        return 0\n",
    "    \n",
    "    return max(maxDepth(root.left), maxDepth(root.right)) + 1"
   ]
  },
  {
   "cell_type": "code",
   "execution_count": 4,
   "id": "22544358",
   "metadata": {},
   "outputs": [],
   "source": [
    "# Iterative Approach\n",
    "\n",
    "def maxDepth_iter(root: Optional[TreeNode]) -> int:\n",
    "    \n",
    "    stack = []\n",
    "    if root:\n",
    "        stack.append((1, root))\n",
    "    \n",
    "    depth = 0\n",
    "    while stack:\n",
    "        cur_depth, root = stack.pop()\n",
    "        if root:\n",
    "            depth = max(cur_depth, depth)\n",
    "            stack.append((cur_depth + 1, root.left))\n",
    "            stack.append((cur_depth + 1, root.right))\n",
    "    \n",
    "    return depth"
   ]
  },
  {
   "cell_type": "code",
   "execution_count": 5,
   "id": "0316ac2a",
   "metadata": {},
   "outputs": [
    {
     "data": {
      "text/plain": [
       "3"
      ]
     },
     "execution_count": 5,
     "metadata": {},
     "output_type": "execute_result"
    }
   ],
   "source": [
    "root_1 = TreeNode(3)\n",
    "root_1.left = TreeNode(9)\n",
    "root_1.right = TreeNode(20)\n",
    "root_1.right.left = TreeNode(15)\n",
    "root_1.right.right = TreeNode(7)\n",
    "\n",
    "maxDepth(root_1)"
   ]
  },
  {
   "cell_type": "code",
   "execution_count": 6,
   "id": "866288fc",
   "metadata": {},
   "outputs": [
    {
     "data": {
      "text/plain": [
       "2"
      ]
     },
     "execution_count": 6,
     "metadata": {},
     "output_type": "execute_result"
    }
   ],
   "source": [
    "root_2 = TreeNode(1)\n",
    "root_2.right = TreeNode(2)\n",
    "\n",
    "maxDepth(root_2)"
   ]
  },
  {
   "cell_type": "code",
   "execution_count": 7,
   "id": "e2dae8dc",
   "metadata": {},
   "outputs": [
    {
     "data": {
      "text/plain": [
       "3"
      ]
     },
     "execution_count": 7,
     "metadata": {},
     "output_type": "execute_result"
    }
   ],
   "source": [
    "root_1 = TreeNode(3)\n",
    "root_1.left = TreeNode(9)\n",
    "root_1.right = TreeNode(20)\n",
    "root_1.right.left = TreeNode(15)\n",
    "root_1.right.right = TreeNode(7)\n",
    "\n",
    "maxDepth_iter(root_1)"
   ]
  },
  {
   "cell_type": "code",
   "execution_count": 8,
   "id": "fce12b31",
   "metadata": {},
   "outputs": [
    {
     "data": {
      "text/plain": [
       "2"
      ]
     },
     "execution_count": 8,
     "metadata": {},
     "output_type": "execute_result"
    }
   ],
   "source": [
    "root_2 = TreeNode(1)\n",
    "root_2.right = TreeNode(2)\n",
    "\n",
    "maxDepth_iter(root_2)"
   ]
  },
  {
   "cell_type": "markdown",
   "id": "f4c379e1",
   "metadata": {},
   "source": [
    "## 2) Leaf-Similar Trees\n",
    "\n",
    "Consider all the leaves of a binary tree, from left to right order, the values of those leaves form a leaf value sequence.\n",
    "\n",
    "Two binary trees are considered leaf-similar if their leaf value sequence is the same.\n",
    "\n",
    "Return true if and only if the two given trees with head nodes root1 and root2 are leaf-similar.\n",
    "\n",
    "<b>Example</b>\n",
    "\n",
    "Input: root1 = [3, 5, 1, 6, 2, 9, 8, null, null, 7, 4], root2 = [3, 5, 1, 6, 7, 4, 2, null, null, null, null, null, null, 9, 8] <br />\n",
    "Output: true\n",
    "\n",
    "<b>Example</b>\n",
    "\n",
    "Input: root1 = [1, 2, 3], root2 = [1, 3, 2] <br />\n",
    "Output: false"
   ]
  },
  {
   "cell_type": "code",
   "execution_count": 9,
   "id": "68363998",
   "metadata": {},
   "outputs": [],
   "source": [
    "from typing import Optional"
   ]
  },
  {
   "cell_type": "code",
   "execution_count": 10,
   "id": "a16ab875",
   "metadata": {},
   "outputs": [],
   "source": [
    "class TreeNode:\n",
    "    def __init__(self, val = 0, left = None, right = None):\n",
    "        self.val = val\n",
    "        self.left = left\n",
    "        self.right = right"
   ]
  },
  {
   "cell_type": "code",
   "execution_count": 11,
   "id": "10ee15ea",
   "metadata": {},
   "outputs": [],
   "source": [
    "def leafSimilar(root1: Optional[TreeNode], root2: Optional[TreeNode]) -> bool:\n",
    "    \n",
    "    leaf_seq1 = []\n",
    "    leaf_seq2 = []\n",
    "    \n",
    "    stack1 = []\n",
    "    stack1.append(root1)\n",
    "    \n",
    "    while stack1:\n",
    "        node = stack1.pop()\n",
    "        if node:\n",
    "            if not node.left and not node.right:\n",
    "                leaf_seq1.append(node.val)\n",
    "            stack1.append(node.left)\n",
    "            stack1.append(node.right)\n",
    "    \n",
    "    stack2 = []\n",
    "    stack2.append(root2)\n",
    "    \n",
    "    while stack2:\n",
    "        node = stack2.pop()\n",
    "        if node:\n",
    "            if not node.left and not node.right:\n",
    "                leaf_seq2.append(node.val)\n",
    "            stack2.append(node.left)\n",
    "            stack2.append(node.right)\n",
    "    \n",
    "    return leaf_seq1[::-1] == leaf_seq2[::-1]"
   ]
  },
  {
   "cell_type": "code",
   "execution_count": 12,
   "id": "cdcd2407",
   "metadata": {},
   "outputs": [],
   "source": [
    "def leafSimilar_rec(root1: Optional[TreeNode], root2: Optional[TreeNode]) -> bool:\n",
    "    def dfs(node):\n",
    "        if node:\n",
    "            if not node.left and not node.right:\n",
    "                yield node.val\n",
    "            yield from dfs(node.left)\n",
    "            yield from dfs(node.right)\n",
    "\n",
    "    return list(dfs(root1)) == list(dfs(root2))"
   ]
  },
  {
   "cell_type": "code",
   "execution_count": 13,
   "id": "49e21258",
   "metadata": {},
   "outputs": [],
   "source": [
    "def leafSimilar_rec(root1: Optional[TreeNode], root2: Optional[TreeNode]) -> bool:\n",
    "    def dfs(node):\n",
    "        if not node:\n",
    "            return []\n",
    "\n",
    "        if not node.left and not node.right:\n",
    "            return [node.val]\n",
    "\n",
    "        return dfs(node.left) + dfs(node.right)\n",
    "\n",
    "    return dfs(root1) == dfs(root2)"
   ]
  },
  {
   "cell_type": "code",
   "execution_count": 14,
   "id": "6e5b895f",
   "metadata": {},
   "outputs": [
    {
     "data": {
      "text/plain": [
       "True"
      ]
     },
     "execution_count": 14,
     "metadata": {},
     "output_type": "execute_result"
    }
   ],
   "source": [
    "root_1 = TreeNode(3)\n",
    "root_1.left = TreeNode(5)\n",
    "root_1.right = TreeNode(1)\n",
    "root_1.left.left = TreeNode(6)\n",
    "root_1.left.right = TreeNode(2)\n",
    "root_1.left.right.left = TreeNode(7)\n",
    "root_1.left.right.right = TreeNode(4)\n",
    "root_1.right.left = TreeNode(9)\n",
    "root_1.right.right = TreeNode(8)\n",
    "\n",
    "root_2 = TreeNode(3)\n",
    "root_2.left = TreeNode(5)\n",
    "root_2.right = TreeNode(1)\n",
    "root_2.left.left = TreeNode(6)\n",
    "root_2.left.right = TreeNode(7)\n",
    "root_2.right.left = TreeNode(4)\n",
    "root_2.right.right = TreeNode(2)\n",
    "root_2.right.right.left = TreeNode(9)\n",
    "root_2.right.right.right = TreeNode(8)\n",
    "\n",
    "leafSimilar(root_1, root_2)"
   ]
  },
  {
   "cell_type": "code",
   "execution_count": 15,
   "id": "8a9b5a8c",
   "metadata": {},
   "outputs": [
    {
     "data": {
      "text/plain": [
       "False"
      ]
     },
     "execution_count": 15,
     "metadata": {},
     "output_type": "execute_result"
    }
   ],
   "source": [
    "root_1 = TreeNode(1)\n",
    "root_1.left = TreeNode(2)\n",
    "root_1.right = TreeNode(3)\n",
    "\n",
    "root_2 = TreeNode(1)\n",
    "root_2.left = TreeNode(3)\n",
    "root_2.right = TreeNode(2)\n",
    "\n",
    "leafSimilar(root_1, root_2)"
   ]
  },
  {
   "cell_type": "code",
   "execution_count": 16,
   "id": "e8e589de",
   "metadata": {},
   "outputs": [
    {
     "data": {
      "text/plain": [
       "True"
      ]
     },
     "execution_count": 16,
     "metadata": {},
     "output_type": "execute_result"
    }
   ],
   "source": [
    "root_1 = TreeNode(3)\n",
    "root_1.left = TreeNode(5)\n",
    "root_1.right = TreeNode(1)\n",
    "root_1.left.left = TreeNode(6)\n",
    "root_1.left.right = TreeNode(2)\n",
    "root_1.left.right.left = TreeNode(7)\n",
    "root_1.left.right.right = TreeNode(4)\n",
    "root_1.right.left = TreeNode(9)\n",
    "root_1.right.right = TreeNode(8)\n",
    "\n",
    "root_2 = TreeNode(3)\n",
    "root_2.left = TreeNode(5)\n",
    "root_2.right = TreeNode(1)\n",
    "root_2.left.left = TreeNode(6)\n",
    "root_2.left.right = TreeNode(7)\n",
    "root_2.right.left = TreeNode(4)\n",
    "root_2.right.right = TreeNode(2)\n",
    "root_2.right.right.left = TreeNode(9)\n",
    "root_2.right.right.right = TreeNode(8)\n",
    "\n",
    "leafSimilar_rec(root_1, root_2)"
   ]
  },
  {
   "cell_type": "code",
   "execution_count": 17,
   "id": "8dcc6e0e",
   "metadata": {},
   "outputs": [
    {
     "data": {
      "text/plain": [
       "False"
      ]
     },
     "execution_count": 17,
     "metadata": {},
     "output_type": "execute_result"
    }
   ],
   "source": [
    "root_1 = TreeNode(1)\n",
    "root_1.left = TreeNode(2)\n",
    "root_1.right = TreeNode(3)\n",
    "\n",
    "root_2 = TreeNode(1)\n",
    "root_2.left = TreeNode(3)\n",
    "root_2.right = TreeNode(2)\n",
    "\n",
    "leafSimilar_rec(root_1, root_2)"
   ]
  },
  {
   "cell_type": "markdown",
   "id": "3b6a1bf8",
   "metadata": {},
   "source": [
    "## 3) Count Good Nodes in Binary Tree\n",
    "\n",
    "Given a binary tree root, a node X in the tree is named good if in the path from root to X there are no nodes with a value greater than X.\n",
    "\n",
    "Return the number of good nodes in the binary tree.\n",
    "\n",
    "<b>Example</b>\n",
    "\n",
    "Input: root = [3, 1, 4, 3, null, 1, 5] <br />\n",
    "Output: 4\n",
    "\n",
    "Explanation: Nodes in blue are good. <br />\n",
    "Root Node (3) is always a good node. <br />\n",
    "Node 4 -> (3,4) is the maximum value in the path starting from the root. <br />\n",
    "Node 5 -> (3,4,5) is the maximum value in the path <br />\n",
    "Node 3 -> (3,1,3) is the maximum value in the path.\n",
    "\n",
    "<b>Example</b>\n",
    "\n",
    "Input: root = [3, 3, null, 4, 2] <br />\n",
    "Output: 3\n",
    "\n",
    "Explanation: \n",
    "Node 2 -> (3, 3, 2) is not good, because \"3\" is higher than it.\n",
    "\n",
    "<b>Example</b>\n",
    "\n",
    "Input: root = [1] <br />\n",
    "Output: 1\n",
    "\n",
    "Explanation: Root is considered as good."
   ]
  },
  {
   "cell_type": "code",
   "execution_count": 18,
   "id": "6e42b8fd",
   "metadata": {},
   "outputs": [],
   "source": [
    "from typing import Optional"
   ]
  },
  {
   "cell_type": "code",
   "execution_count": 19,
   "id": "d26097a4",
   "metadata": {},
   "outputs": [],
   "source": [
    "class TreeNode:\n",
    "    def __init__(self, val = 0, left = None, right = None):\n",
    "        self.val = val\n",
    "        self.left = left\n",
    "        self.right = right"
   ]
  },
  {
   "cell_type": "code",
   "execution_count": 20,
   "id": "af003ebb",
   "metadata": {},
   "outputs": [],
   "source": [
    "def goodNodes_iter(root: TreeNode) -> int:\n",
    "    \n",
    "    stack = [(float('-inf'), root)]\n",
    "    \n",
    "    good_nodes_num = 0\n",
    "    while stack:\n",
    "        max_so_far, node = stack.pop()\n",
    "        if max_so_far <= node.val:\n",
    "            good_nodes_num += 1\n",
    "        if node.left:\n",
    "            stack.append((max(max_so_far, node.val), node.left))\n",
    "        if node.right:\n",
    "            stack.append((max(max_so_far, node.val), node.right))\n",
    "    \n",
    "    return good_nodes_num"
   ]
  },
  {
   "cell_type": "code",
   "execution_count": 21,
   "id": "24e5153b",
   "metadata": {},
   "outputs": [
    {
     "data": {
      "text/plain": [
       "4"
      ]
     },
     "execution_count": 21,
     "metadata": {},
     "output_type": "execute_result"
    }
   ],
   "source": [
    "root_1 = TreeNode(3)\n",
    "root_1.left = TreeNode(1)\n",
    "root_1.right = TreeNode(4)\n",
    "root_1.left.left = TreeNode(3)\n",
    "root_1.right.left = TreeNode(1)\n",
    "root_1.right.right = TreeNode(5)\n",
    "\n",
    "goodNodes_iter(root_1)"
   ]
  },
  {
   "cell_type": "code",
   "execution_count": 22,
   "id": "210380f5",
   "metadata": {},
   "outputs": [
    {
     "data": {
      "text/plain": [
       "3"
      ]
     },
     "execution_count": 22,
     "metadata": {},
     "output_type": "execute_result"
    }
   ],
   "source": [
    "root_1 = TreeNode(3)\n",
    "root_1.left = TreeNode(3)\n",
    "root_1.left.left = TreeNode(4)\n",
    "root_1.left.right = TreeNode(2)\n",
    "\n",
    "goodNodes_iter(root_1)"
   ]
  },
  {
   "cell_type": "code",
   "execution_count": 23,
   "id": "8b068bcb",
   "metadata": {},
   "outputs": [
    {
     "data": {
      "text/plain": [
       "1"
      ]
     },
     "execution_count": 23,
     "metadata": {},
     "output_type": "execute_result"
    }
   ],
   "source": [
    "root_1 = TreeNode(1)\n",
    "\n",
    "goodNodes_iter(root_1)"
   ]
  },
  {
   "cell_type": "code",
   "execution_count": 24,
   "id": "80ae3ccc",
   "metadata": {},
   "outputs": [],
   "source": [
    "def goodNodes(root: TreeNode) -> int:\n",
    "    def dfs(node, max_so_far):\n",
    "        nonlocal num_good_nodes\n",
    "        if max_so_far <= node.val:\n",
    "            num_good_nodes += 1\n",
    "        if node.right:\n",
    "            dfs(node.right, max(node.val, max_so_far))\n",
    "        if node.left:\n",
    "            dfs(node.left, max(node.val, max_so_far))\n",
    "        \n",
    "    num_good_nodes = 0\n",
    "    dfs(root, float(\"-inf\"))\n",
    "    \n",
    "    return num_good_nodes"
   ]
  },
  {
   "cell_type": "code",
   "execution_count": 25,
   "id": "4a657b80",
   "metadata": {},
   "outputs": [
    {
     "data": {
      "text/plain": [
       "4"
      ]
     },
     "execution_count": 25,
     "metadata": {},
     "output_type": "execute_result"
    }
   ],
   "source": [
    "root_1 = TreeNode(3)\n",
    "root_1.left = TreeNode(1)\n",
    "root_1.right = TreeNode(4)\n",
    "root_1.left.left = TreeNode(3)\n",
    "root_1.right.left = TreeNode(1)\n",
    "root_1.right.right = TreeNode(5)\n",
    "\n",
    "goodNodes(root_1)"
   ]
  },
  {
   "cell_type": "code",
   "execution_count": 26,
   "id": "fbbffdbe",
   "metadata": {},
   "outputs": [
    {
     "data": {
      "text/plain": [
       "3"
      ]
     },
     "execution_count": 26,
     "metadata": {},
     "output_type": "execute_result"
    }
   ],
   "source": [
    "root_1 = TreeNode(3)\n",
    "root_1.left = TreeNode(3)\n",
    "root_1.left.left = TreeNode(4)\n",
    "root_1.left.right = TreeNode(2)\n",
    "\n",
    "goodNodes_iter(root_1)"
   ]
  },
  {
   "cell_type": "code",
   "execution_count": 27,
   "id": "b60503ca",
   "metadata": {},
   "outputs": [
    {
     "data": {
      "text/plain": [
       "1"
      ]
     },
     "execution_count": 27,
     "metadata": {},
     "output_type": "execute_result"
    }
   ],
   "source": [
    "root_1 = TreeNode(1)\n",
    "\n",
    "goodNodes_iter(root_1)"
   ]
  },
  {
   "cell_type": "markdown",
   "id": "db8db6af",
   "metadata": {},
   "source": [
    "## 4) Path Sum III\n",
    "\n",
    "Given the root of a binary tree and an integer targetSum, return the number of paths where the sum of the values along the path equals targetSum.\n",
    "\n",
    "The path does not need to start or end at the root or a leaf, but it must go downwards (i.e., traveling only from parent nodes to child nodes).\n",
    "\n",
    "<b>Example</b>\n",
    "\n",
    "Input: root = [10, 5, -3, 3, 2, null, 11, 3, -2, null, 1], targetSum = 8 <br />\n",
    "Output: 3 <br />\n",
    "\n",
    "Explanation: The paths that sum to 8 are shown.\n",
    "\n",
    "<b>Example</b>\n",
    "\n",
    "Input: root = [5, 4, 8, 11, null, 13, 4, 7, 2, null, null, 5, 1], targetSum = 22 <br />\n",
    "Output: 3"
   ]
  },
  {
   "cell_type": "code",
   "execution_count": 28,
   "id": "1b788006",
   "metadata": {},
   "outputs": [],
   "source": [
    "from typing import Optional\n",
    "from collections import defaultdict"
   ]
  },
  {
   "cell_type": "code",
   "execution_count": 29,
   "id": "93d8d96a",
   "metadata": {},
   "outputs": [],
   "source": [
    "class TreeNode:\n",
    "    def __init__(self, val = 0, left = None, right = None):\n",
    "        self.val = val\n",
    "        self.left = left\n",
    "        self.right = right"
   ]
  },
  {
   "cell_type": "code",
   "execution_count": 30,
   "id": "0be92413",
   "metadata": {},
   "outputs": [],
   "source": [
    "def pathSum(root: Optional[TreeNode], targetSum: int) -> int:\n",
    "    \n",
    "    def preorder(node: TreeNode, curr_sum) -> None:\n",
    "        nonlocal count\n",
    "        if not node:\n",
    "            return \n",
    "            \n",
    "        # The current prefix sum\n",
    "        curr_sum += node.val\n",
    "        \n",
    "        if curr_sum == k:\n",
    "            count += 1\n",
    "            \n",
    "        # The number of times the curr_sum − k has occurred already, \n",
    "        # determines the number of times a path with sum k \n",
    "        # has occurred up to the current node\n",
    "        # THE KEY PART OF THE SOLUTION:\n",
    "        count += h[curr_sum - k]\n",
    "            \n",
    "        # Add the current sum into a hashmap\n",
    "        # to use it during the child nodes' processing\n",
    "        h[curr_sum] += 1\n",
    "            \n",
    "        # Process the left subtree\n",
    "        preorder(node.left, curr_sum)\n",
    "        # Process the right subtree\n",
    "        preorder(node.right, curr_sum)\n",
    "            \n",
    "        # Remove the current sum from the hashmap\n",
    "        # in order not to use it during \n",
    "        # the parallel subtree processing\n",
    "        h[curr_sum] -= 1\n",
    "            \n",
    "    count, k = 0, targetSum\n",
    "    h = defaultdict(int)\n",
    "    preorder(root, 0)\n",
    "    \n",
    "    return count"
   ]
  },
  {
   "cell_type": "code",
   "execution_count": 31,
   "id": "36ed74cb",
   "metadata": {},
   "outputs": [],
   "source": [
    "# Same Solution (probably easier to understand)\n",
    "\n",
    "def pathSum(root: Optional[TreeNode], targetSum: int) -> int:\n",
    "    sums = defaultdict(int)\n",
    "    sums[0] = 1\n",
    "        \n",
    "    def dfs(root, total):\n",
    "        count = 0\n",
    "        if root:\n",
    "            total += root.val\n",
    "\n",
    "            count = sums[total - targetSum]\n",
    "\n",
    "            # THE KEY PART OF THE SOLUTION: \n",
    "            sums[total] += 1\n",
    "            count += dfs(root.left, total) + dfs(root.right, total)\n",
    "            sums[total] -= 1\n",
    "        return count\n",
    "    \n",
    "    return dfs(root, 0)"
   ]
  },
  {
   "cell_type": "code",
   "execution_count": 32,
   "id": "63156d40",
   "metadata": {},
   "outputs": [],
   "source": [
    "def pathSum_iter(root: Optional[TreeNode], targetSum: int) -> int:\n",
    "    \n",
    "    if not root:\n",
    "        return 0\n",
    "    \n",
    "    count = 0\n",
    "    \n",
    "    # To track all the prefix sums\n",
    "    prefix_sums = defaultdict(int)\n",
    "    \n",
    "    prefix_nodes = []\n",
    "    prefix_sum = 0\n",
    "    \n",
    "    next_nodes = [(root, 1)]\n",
    "    \n",
    "    while next_nodes:\n",
    "        node, depth = next_nodes.pop()\n",
    "        \n",
    "        # Correct the prefix_sum by subtracting the values of nodes\n",
    "        # that are not a part of the this node's path to the root.\n",
    "        while len(prefix_nodes) >= depth:\n",
    "            prefix_sums[prefix_sum] -= 1\n",
    "            prefix_sum -= prefix_nodes.pop()\n",
    "        \n",
    "        prefix_sum += node.val\n",
    "        \n",
    "        if prefix_sum == targetSum:\n",
    "            count += 1\n",
    "        \n",
    "        count += prefix_sums[prefix_sum - targetSum]\n",
    "        \n",
    "        prefix_nodes.append(node.val)\n",
    "        prefix_sums[prefix_sum] += 1\n",
    "        \n",
    "        if node.right:\n",
    "            next_nodes.append((node.right, depth + 1))\n",
    "\n",
    "        if node.left:\n",
    "            next_nodes.append((node.left, depth + 1))\n",
    "        \n",
    "    return count"
   ]
  },
  {
   "cell_type": "code",
   "execution_count": 33,
   "id": "79d29049",
   "metadata": {},
   "outputs": [
    {
     "data": {
      "text/plain": [
       "3"
      ]
     },
     "execution_count": 33,
     "metadata": {},
     "output_type": "execute_result"
    }
   ],
   "source": [
    "root_1 = TreeNode(10)\n",
    "root_1.left = TreeNode(5)\n",
    "root_1.right = TreeNode(-3)\n",
    "root_1.left.left = TreeNode(3)\n",
    "root_1.left.right = TreeNode(2)\n",
    "root_1.right.right = TreeNode(11)\n",
    "root_1.left.left.left = TreeNode(3)\n",
    "root_1.left.left.right = TreeNode(-2)\n",
    "root_1.left.right.right = TreeNode(1)\n",
    "\n",
    "pathSum(root_1, 8)"
   ]
  },
  {
   "cell_type": "code",
   "execution_count": 34,
   "id": "22fc5589",
   "metadata": {},
   "outputs": [
    {
     "data": {
      "text/plain": [
       "3"
      ]
     },
     "execution_count": 34,
     "metadata": {},
     "output_type": "execute_result"
    }
   ],
   "source": [
    "root_2 = TreeNode(5)\n",
    "root_2.left = TreeNode(4)\n",
    "root_2.right = TreeNode(8)\n",
    "root_2.left.left = TreeNode(11)\n",
    "root_2.left.left.left = TreeNode(7)\n",
    "root_2.left.left.right = TreeNode(2)\n",
    "root_2.right.left = TreeNode(13)\n",
    "root_2.right.right = TreeNode(4)\n",
    "root_2.right.right.left = TreeNode(5)\n",
    "root_2.right.right.right = TreeNode(1)\n",
    "\n",
    "pathSum(root_2, 22)"
   ]
  },
  {
   "cell_type": "code",
   "execution_count": 35,
   "id": "779a0029",
   "metadata": {},
   "outputs": [
    {
     "data": {
      "text/plain": [
       "3"
      ]
     },
     "execution_count": 35,
     "metadata": {},
     "output_type": "execute_result"
    }
   ],
   "source": [
    "root_1 = TreeNode(10)\n",
    "root_1.left = TreeNode(5)\n",
    "root_1.right = TreeNode(-3)\n",
    "root_1.left.left = TreeNode(3)\n",
    "root_1.left.right = TreeNode(2)\n",
    "root_1.right.right = TreeNode(11)\n",
    "root_1.left.left.left = TreeNode(3)\n",
    "root_1.left.left.right = TreeNode(-2)\n",
    "root_1.left.right.right = TreeNode(1)\n",
    "\n",
    "pathSum_iter(root_1, 8)"
   ]
  },
  {
   "cell_type": "code",
   "execution_count": 36,
   "id": "9be6d5db",
   "metadata": {},
   "outputs": [
    {
     "data": {
      "text/plain": [
       "3"
      ]
     },
     "execution_count": 36,
     "metadata": {},
     "output_type": "execute_result"
    }
   ],
   "source": [
    "root_2 = TreeNode(5)\n",
    "root_2.left = TreeNode(4)\n",
    "root_2.right = TreeNode(8)\n",
    "root_2.left.left = TreeNode(11)\n",
    "root_2.left.left.left = TreeNode(7)\n",
    "root_2.left.left.right = TreeNode(2)\n",
    "root_2.right.left = TreeNode(13)\n",
    "root_2.right.right = TreeNode(4)\n",
    "root_2.right.right.left = TreeNode(5)\n",
    "root_2.right.right.right = TreeNode(1)\n",
    "\n",
    "pathSum_iter(root_2, 22)"
   ]
  },
  {
   "cell_type": "markdown",
   "id": "0d90f294",
   "metadata": {},
   "source": [
    "## 5) Longest ZigZag Path in a Binary Tree\n",
    "\n",
    "You are given the root of a binary tree.\n",
    "\n",
    "A ZigZag path for a binary tree is defined as follow:\n",
    "\n",
    "* Choose any node in the binary tree and a direction (right or left).\n",
    "* If the current direction is right, move to the right child of the current node; otherwise, move to the left child.\n",
    "* Change the direction from right to left or from left to right.\n",
    "* Repeat the second and third steps until you can't move in the tree.\n",
    "\n",
    "Zigzag length is defined as the number of nodes visited - 1. (A single node has a length of 0).\n",
    "\n",
    "Return the longest ZigZag path contained in that tree.\n",
    "\n",
    "<b>Example</b>\n",
    "\n",
    "Input: root = [1, null, 1, 1, 1, null, null, 1, 1, null, 1, null, null, null, 1] <br />\n",
    "Output: 3\n",
    "\n",
    "Explanation: Longest ZigZag path in blue nodes (right -> left -> right).\n",
    "\n",
    "<b>Example</b>\n",
    "\n",
    "Input: root = [1, 1, 1, null, 1, null, null, 1, 1, null, 1] <br />\n",
    "Output: 4\n",
    "\n",
    "Explanation: Longest ZigZag path in blue nodes (left -> right -> left -> right).\n",
    "\n",
    "<b>Example</b>\n",
    "\n",
    "Input: root = [1] <br />\n",
    "Output: 0"
   ]
  },
  {
   "cell_type": "code",
   "execution_count": 37,
   "id": "cbf70188",
   "metadata": {},
   "outputs": [],
   "source": [
    "class TreeNode:\n",
    "    def __init__(self, val = 0, left = None, right = None):\n",
    "        self.val = val\n",
    "        self.left = left\n",
    "        self.right = right"
   ]
  },
  {
   "cell_type": "code",
   "execution_count": 38,
   "id": "adfea761",
   "metadata": {},
   "outputs": [],
   "source": [
    "def longestZigZag(root: Optional[TreeNode]) -> int:\n",
    "    \n",
    "    stack = [(0, '_', root)]\n",
    "    \n",
    "    max_zig_zag = 0\n",
    "    while stack:\n",
    "        zig_zag_length, turn, node = stack.pop()\n",
    "        if node:\n",
    "            max_zig_zag = max(max_zig_zag, zig_zag_length)\n",
    "\n",
    "            if turn != 'right':\n",
    "                stack.append((zig_zag_length + 1, 'right', node.left))\n",
    "                stack.append((1, 'left', node.right))\n",
    "            if turn != 'left':\n",
    "                stack.append((1, 'right', node.left))\n",
    "                stack.append((zig_zag_length + 1, 'left', node.right))\n",
    "                \n",
    "    return max_zig_zag"
   ]
  },
  {
   "cell_type": "code",
   "execution_count": 39,
   "id": "e9f63b7b",
   "metadata": {},
   "outputs": [],
   "source": [
    "# Recursive Solution\n",
    "\n",
    "def longestZigZag(root: Optional[TreeNode]) -> int:\n",
    "    \n",
    "    max_zig_zag = 0\n",
    "    \n",
    "    def dfs(node, goLeft, zig_zag_length):\n",
    "        if node:\n",
    "            nonlocal max_zig_zag\n",
    "            max_zig_zag = max(max_zig_zag, zig_zag_length)\n",
    "            if goLeft:\n",
    "                dfs(node.left, False, zig_zag_length + 1)\n",
    "                dfs(node.right, True, 1)\n",
    "            else:\n",
    "                dfs(node.left, False, 1)\n",
    "                dfs(node.right, True, zig_zag_length + 1)\n",
    "    \n",
    "    dfs(root, False, 0)\n",
    "    dfs(root, True, 0)\n",
    "    \n",
    "    return max_zig_zag"
   ]
  },
  {
   "cell_type": "code",
   "execution_count": 40,
   "id": "808472fe",
   "metadata": {},
   "outputs": [],
   "source": [
    "def longestZigZag(root: Optional[TreeNode]) -> int:\n",
    "    maxi = 0\n",
    "\n",
    "    def dfs(node, left, right):\n",
    "        nonlocal maxi\n",
    "        maxi = max(maxi, left, right)\n",
    "\n",
    "        if node.left:\n",
    "            dfs(node.left, right + 1, 0)\n",
    "\n",
    "        if node.right:\n",
    "            dfs(node.right, 0, left + 1)\n",
    "\n",
    "    dfs(root, 0, 0)\n",
    "    return maxi"
   ]
  },
  {
   "cell_type": "code",
   "execution_count": 41,
   "id": "68aed3e4",
   "metadata": {},
   "outputs": [
    {
     "data": {
      "text/plain": [
       "3"
      ]
     },
     "execution_count": 41,
     "metadata": {},
     "output_type": "execute_result"
    }
   ],
   "source": [
    "root = TreeNode(1)\n",
    "root.right = TreeNode(1)\n",
    "root.right.left = TreeNode(1)\n",
    "root.right.right = TreeNode(1)\n",
    "root.right.right.left = TreeNode(1)\n",
    "root.right.right.right = TreeNode(1)\n",
    "root.right.right.left.right = TreeNode(1)\n",
    "root.right.right.left.right.right = TreeNode(1)\n",
    "\n",
    "longestZigZag(root)"
   ]
  },
  {
   "cell_type": "code",
   "execution_count": 42,
   "id": "b68b9159",
   "metadata": {},
   "outputs": [
    {
     "data": {
      "text/plain": [
       "4"
      ]
     },
     "execution_count": 42,
     "metadata": {},
     "output_type": "execute_result"
    }
   ],
   "source": [
    "root = TreeNode(1)\n",
    "root.left = TreeNode(1)\n",
    "root.right = TreeNode(1)\n",
    "root.left.right = TreeNode(1)\n",
    "root.left.right.left = TreeNode(1)\n",
    "root.left.right.right = TreeNode(1)\n",
    "root.left.right.left.right = TreeNode(1)\n",
    "\n",
    "longestZigZag(root)"
   ]
  },
  {
   "cell_type": "code",
   "execution_count": 43,
   "id": "6bfd172f",
   "metadata": {},
   "outputs": [
    {
     "data": {
      "text/plain": [
       "0"
      ]
     },
     "execution_count": 43,
     "metadata": {},
     "output_type": "execute_result"
    }
   ],
   "source": [
    "root = TreeNode(1)\n",
    "\n",
    "longestZigZag(root)"
   ]
  },
  {
   "cell_type": "markdown",
   "id": "24a949f5",
   "metadata": {},
   "source": [
    "## 6) Lowest Common Ancestor of a Binary Tree\n",
    "\n",
    "Given a binary tree, find the lowest common ancestor (LCA) of two given nodes in the tree.\n",
    "\n",
    "According to the definition of LCA on Wikipedia: “The lowest common ancestor is defined between two nodes p and q as the lowest node in T that has both p and q as descendants (where we allow a node to be a descendant of itself).”\n",
    "\n",
    "<b>Example</b>\n",
    "\n",
    "Input: root = [3, 5, 1, 6, 2, 0, 8, null, null, 7, 4], p = 5, q = 1 <br />\n",
    "Output: 3\n",
    "\n",
    "Explanation: The LCA of nodes 5 and 1 is 3.\n",
    "\n",
    "<b>Example</b>\n",
    "\n",
    "Input: root = [3, 5, 1, 6, 2, 0, 8, null, null, 7, 4], p = 5, q = 4 <br />\n",
    "Output: 5\n",
    "\n",
    "Explanation: The LCA of nodes 5 and 4 is 5, since a node can be a descendant of itself according to the LCA definition.\n",
    "\n",
    "<b>Example</b>\n",
    "\n",
    "Input: root = [1, 2], p = 1, q = 2 <br />\n",
    "Output: 1"
   ]
  },
  {
   "cell_type": "code",
   "execution_count": 44,
   "id": "70227784",
   "metadata": {},
   "outputs": [],
   "source": [
    "class TreeNode:\n",
    "    def __init__(self, val = 0, left = None, right = None):\n",
    "        self.val = val\n",
    "        self.left = left\n",
    "        self.right = right"
   ]
  },
  {
   "cell_type": "code",
   "execution_count": 45,
   "id": "c4283b7c",
   "metadata": {},
   "outputs": [],
   "source": [
    "def lowestCommonAncestor(root: 'TreeNode', p: 'TreeNode', q: 'TreeNode') -> 'TreeNode':\n",
    "    stack = [root]\n",
    "\n",
    "    parent = {root: None}\n",
    "\n",
    "    while p not in parent or q not in parent:\n",
    "\n",
    "        node = stack.pop()\n",
    "        if node.left:\n",
    "            parent[node.left] = node\n",
    "            stack.append(node.left)\n",
    "        if node.right:\n",
    "            parent[node.right] = node\n",
    "            stack.append(node.right)\n",
    "\n",
    "    ancestors = set()\n",
    "\n",
    "    while p:\n",
    "        ancestors.add(p)\n",
    "        p = parent[p]\n",
    "\n",
    "    # The first ancestor of q which appears in\n",
    "    # p's ancestor set() is their lowest common ancestor.\n",
    "    while q not in ancestors:\n",
    "        q = parent[q]\n",
    "        \n",
    "    return q"
   ]
  },
  {
   "cell_type": "code",
   "execution_count": 46,
   "id": "0b07fd95",
   "metadata": {},
   "outputs": [
    {
     "data": {
      "text/plain": [
       "3"
      ]
     },
     "execution_count": 46,
     "metadata": {},
     "output_type": "execute_result"
    }
   ],
   "source": [
    "root = TreeNode(3)\n",
    "root.left = TreeNode(5)\n",
    "root.right = TreeNode(1)\n",
    "root.left.left = TreeNode(6)\n",
    "root.left.right = TreeNode(2)\n",
    "root.left.right.left = TreeNode(7)\n",
    "root.left.right.right = TreeNode(4)\n",
    "root.right.left = TreeNode(0)\n",
    "root.right.right = TreeNode(8)\n",
    "\n",
    "p = root.left\n",
    "q = root.right\n",
    "\n",
    "lowestCommonAncestor(root, p, q).val"
   ]
  },
  {
   "cell_type": "code",
   "execution_count": 47,
   "id": "ed8d4690",
   "metadata": {},
   "outputs": [
    {
     "data": {
      "text/plain": [
       "5"
      ]
     },
     "execution_count": 47,
     "metadata": {},
     "output_type": "execute_result"
    }
   ],
   "source": [
    "root = TreeNode(3)\n",
    "root.left = TreeNode(5)\n",
    "root.right = TreeNode(1)\n",
    "root.left.left = TreeNode(6)\n",
    "root.left.right = TreeNode(2)\n",
    "root.left.right.left = TreeNode(7)\n",
    "root.left.right.right = TreeNode(4)\n",
    "root.right.left = TreeNode(0)\n",
    "root.right.right = TreeNode(8)\n",
    "\n",
    "p = root.left\n",
    "q = root.left.right.right\n",
    "\n",
    "lowestCommonAncestor(root, p, q).val"
   ]
  },
  {
   "cell_type": "code",
   "execution_count": 48,
   "id": "90096ec8",
   "metadata": {},
   "outputs": [
    {
     "data": {
      "text/plain": [
       "1"
      ]
     },
     "execution_count": 48,
     "metadata": {},
     "output_type": "execute_result"
    }
   ],
   "source": [
    "root = TreeNode(1)\n",
    "root.left = TreeNode(2)\n",
    "\n",
    "p = root\n",
    "q = root.left\n",
    "\n",
    "lowestCommonAncestor(root, p, q).val"
   ]
  },
  {
   "cell_type": "code",
   "execution_count": null,
   "id": "6fd72ca6",
   "metadata": {},
   "outputs": [],
   "source": []
  }
 ],
 "metadata": {
  "kernelspec": {
   "display_name": "Python 3 (ipykernel)",
   "language": "python",
   "name": "python3"
  },
  "language_info": {
   "codemirror_mode": {
    "name": "ipython",
    "version": 3
   },
   "file_extension": ".py",
   "mimetype": "text/x-python",
   "name": "python",
   "nbconvert_exporter": "python",
   "pygments_lexer": "ipython3",
   "version": "3.8.16"
  }
 },
 "nbformat": 4,
 "nbformat_minor": 5
}
