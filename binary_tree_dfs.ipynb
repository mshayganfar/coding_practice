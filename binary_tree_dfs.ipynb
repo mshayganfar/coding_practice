{
 "cells": [
  {
   "cell_type": "markdown",
   "id": "55405069",
   "metadata": {},
   "source": [
    "# Binary Tree - DFS"
   ]
  },
  {
   "cell_type": "markdown",
   "id": "7d9c4815",
   "metadata": {},
   "source": [
    "## 1) Maximum Depth of Binary Tree\n",
    "\n",
    "Given the root of a binary tree, return its maximum depth.\n",
    "\n",
    "A binary tree's maximum depth is the number of nodes along the longest path from the root node down to the farthest leaf node.\n",
    "\n",
    "<b>Example</b>\n",
    "\n",
    "Input: root = [3, 9, 20, null, null, 15, 7] <br />\n",
    "Output: 3\n",
    "\n",
    "<b>Example</b>\n",
    "\n",
    "Input: root = [1, null, 2] <br />\n",
    "Output: 2"
   ]
  },
  {
   "cell_type": "code",
   "execution_count": 3,
   "id": "53ca1f47",
   "metadata": {},
   "outputs": [],
   "source": [
    "from typing import Optional"
   ]
  },
  {
   "cell_type": "code",
   "execution_count": 4,
   "id": "0352f58c",
   "metadata": {},
   "outputs": [],
   "source": [
    "class TreeNode:\n",
    "    def __init__(self, val = 0, left = None, right = None):\n",
    "        self.val = val\n",
    "        self.left = left\n",
    "        self.right = right"
   ]
  },
  {
   "cell_type": "code",
   "execution_count": 21,
   "id": "edad4958",
   "metadata": {},
   "outputs": [],
   "source": [
    "# Recursive Approach\n",
    "\n",
    "def maxDepth(root: Optional[TreeNode]) -> int:\n",
    "    \n",
    "    if not root:\n",
    "        return 0\n",
    "    \n",
    "    return max(maxDepth(root.left), maxDepth(root.right)) + 1"
   ]
  },
  {
   "cell_type": "code",
   "execution_count": 24,
   "id": "8285e626",
   "metadata": {},
   "outputs": [],
   "source": [
    "# Iterative Approach\n",
    "\n",
    "def maxDepth_iter(root: Optional[TreeNode]) -> int:\n",
    "    \n",
    "    stack = []\n",
    "    if root:\n",
    "        stack.append((1, root))\n",
    "    \n",
    "    depth = 0\n",
    "    while stack:\n",
    "        cur_depth, root = stack.pop()\n",
    "        if root:\n",
    "            depth = max(cur_depth, depth)\n",
    "            stack.append((cur_depth + 1, root.left))\n",
    "            stack.append((cur_depth + 1, root.right))\n",
    "    \n",
    "    return depth"
   ]
  },
  {
   "cell_type": "code",
   "execution_count": 22,
   "id": "29964842",
   "metadata": {},
   "outputs": [
    {
     "data": {
      "text/plain": [
       "3"
      ]
     },
     "execution_count": 22,
     "metadata": {},
     "output_type": "execute_result"
    }
   ],
   "source": [
    "root_1 = TreeNode(3)\n",
    "root_1.left = TreeNode(9)\n",
    "root_1.right = TreeNode(20)\n",
    "root_1.right.left = TreeNode(15)\n",
    "root_1.right.right = TreeNode(7)\n",
    "\n",
    "maxDepth(root_1)"
   ]
  },
  {
   "cell_type": "code",
   "execution_count": 23,
   "id": "5c3b2458",
   "metadata": {},
   "outputs": [
    {
     "data": {
      "text/plain": [
       "2"
      ]
     },
     "execution_count": 23,
     "metadata": {},
     "output_type": "execute_result"
    }
   ],
   "source": [
    "root_2 = TreeNode(1)\n",
    "root_2.right = TreeNode(2)\n",
    "\n",
    "maxDepth(root_2)"
   ]
  },
  {
   "cell_type": "code",
   "execution_count": 25,
   "id": "e7e37984",
   "metadata": {},
   "outputs": [
    {
     "data": {
      "text/plain": [
       "3"
      ]
     },
     "execution_count": 25,
     "metadata": {},
     "output_type": "execute_result"
    }
   ],
   "source": [
    "root_1 = TreeNode(3)\n",
    "root_1.left = TreeNode(9)\n",
    "root_1.right = TreeNode(20)\n",
    "root_1.right.left = TreeNode(15)\n",
    "root_1.right.right = TreeNode(7)\n",
    "\n",
    "maxDepth_iter(root_1)"
   ]
  },
  {
   "cell_type": "code",
   "execution_count": 26,
   "id": "1c10e62d",
   "metadata": {},
   "outputs": [
    {
     "data": {
      "text/plain": [
       "2"
      ]
     },
     "execution_count": 26,
     "metadata": {},
     "output_type": "execute_result"
    }
   ],
   "source": [
    "root_2 = TreeNode(1)\n",
    "root_2.right = TreeNode(2)\n",
    "\n",
    "maxDepth_iter(root_2)"
   ]
  },
  {
   "cell_type": "markdown",
   "id": "931b89cf",
   "metadata": {},
   "source": [
    "## 2) Leaf-Similar Trees\n",
    "\n",
    "Consider all the leaves of a binary tree, from left to right order, the values of those leaves form a leaf value sequence.\n",
    "\n",
    "Two binary trees are considered leaf-similar if their leaf value sequence is the same.\n",
    "\n",
    "Return true if and only if the two given trees with head nodes root1 and root2 are leaf-similar.\n",
    "\n",
    "<b>Example</b>\n",
    "\n",
    "Input: root1 = [3, 5, 1, 6, 2, 9, 8, null, null, 7, 4], root2 = [3, 5, 1, 6, 7, 4, 2, null, null, null, null, null, null, 9, 8] <br />\n",
    "Output: true\n",
    "\n",
    "<b>Example</b>\n",
    "\n",
    "Input: root1 = [1, 2, 3], root2 = [1, 3, 2] <br />\n",
    "Output: false"
   ]
  },
  {
   "cell_type": "code",
   "execution_count": 28,
   "id": "b12ae225",
   "metadata": {},
   "outputs": [],
   "source": [
    "from typing import Optional"
   ]
  },
  {
   "cell_type": "code",
   "execution_count": 27,
   "id": "1abe5cb7",
   "metadata": {},
   "outputs": [],
   "source": [
    "class TreeNode:\n",
    "    def __init__(self, val = 0, left = None, right = None):\n",
    "        self.val = val\n",
    "        self.left = left\n",
    "        self.right = right"
   ]
  },
  {
   "cell_type": "code",
   "execution_count": 40,
   "id": "87117e2b",
   "metadata": {},
   "outputs": [],
   "source": [
    "def leafSimilar(root1: Optional[TreeNode], root2: Optional[TreeNode]) -> bool:\n",
    "    \n",
    "    leaf_seq1 = []\n",
    "    leaf_seq2 = []\n",
    "    \n",
    "    stack1 = []\n",
    "    stack1.append(root1)\n",
    "    \n",
    "    while stack1:\n",
    "        node = stack1.pop()\n",
    "        if node:\n",
    "            if not node.left and not node.right:\n",
    "                leaf_seq1.append(node.val)\n",
    "            stack1.append(node.left)\n",
    "            stack1.append(node.right)\n",
    "    \n",
    "    stack2 = []\n",
    "    stack2.append(root2)\n",
    "    \n",
    "    while stack2:\n",
    "        node = stack2.pop()\n",
    "        if node:\n",
    "            if not node.left and not node.right:\n",
    "                leaf_seq2.append(node.val)\n",
    "            stack2.append(node.left)\n",
    "            stack2.append(node.right)\n",
    "    \n",
    "    return leaf_seq1[::-1] == leaf_seq2[::-1]"
   ]
  },
  {
   "cell_type": "code",
   "execution_count": 43,
   "id": "65cf49df",
   "metadata": {},
   "outputs": [],
   "source": [
    "def leafSimilar_rec(root1: Optional[TreeNode], root2: Optional[TreeNode]) -> bool:\n",
    "    def dfs(node):\n",
    "        if node:\n",
    "            if not node.left and not node.right:\n",
    "                yield node.val\n",
    "            yield from dfs(node.left)\n",
    "            yield from dfs(node.right)\n",
    "\n",
    "    return list(dfs(root1)) == list(dfs(root2))"
   ]
  },
  {
   "cell_type": "code",
   "execution_count": 46,
   "id": "3d30cd79",
   "metadata": {},
   "outputs": [],
   "source": [
    "def leafSimilar_rec(root1: Optional[TreeNode], root2: Optional[TreeNode]) -> bool:\n",
    "    def dfs(node):\n",
    "        if not node:\n",
    "            return []\n",
    "\n",
    "        if not node.left and not node.right:\n",
    "            return [node.val]\n",
    "\n",
    "        return dfs(node.left) + dfs(node.right)\n",
    "\n",
    "    return dfs(root1) == dfs(root2)"
   ]
  },
  {
   "cell_type": "code",
   "execution_count": 41,
   "id": "79f1c1bb",
   "metadata": {},
   "outputs": [
    {
     "data": {
      "text/plain": [
       "True"
      ]
     },
     "execution_count": 41,
     "metadata": {},
     "output_type": "execute_result"
    }
   ],
   "source": [
    "root_1 = TreeNode(3)\n",
    "root_1.left = TreeNode(5)\n",
    "root_1.right = TreeNode(1)\n",
    "root_1.left.left = TreeNode(6)\n",
    "root_1.left.right = TreeNode(2)\n",
    "root_1.left.right.left = TreeNode(7)\n",
    "root_1.left.right.right = TreeNode(4)\n",
    "root_1.right.left = TreeNode(9)\n",
    "root_1.right.right = TreeNode(8)\n",
    "\n",
    "root_2 = TreeNode(3)\n",
    "root_2.left = TreeNode(5)\n",
    "root_2.right = TreeNode(1)\n",
    "root_2.left.left = TreeNode(6)\n",
    "root_2.left.right = TreeNode(7)\n",
    "root_2.right.left = TreeNode(4)\n",
    "root_2.right.right = TreeNode(2)\n",
    "root_2.right.right.left = TreeNode(9)\n",
    "root_2.right.right.right = TreeNode(8)\n",
    "\n",
    "leafSimilar(root_1, root_2)"
   ]
  },
  {
   "cell_type": "code",
   "execution_count": 42,
   "id": "cd03bf49",
   "metadata": {},
   "outputs": [
    {
     "data": {
      "text/plain": [
       "False"
      ]
     },
     "execution_count": 42,
     "metadata": {},
     "output_type": "execute_result"
    }
   ],
   "source": [
    "root_1 = TreeNode(1)\n",
    "root_1.left = TreeNode(2)\n",
    "root_1.right = TreeNode(3)\n",
    "\n",
    "root_2 = TreeNode(1)\n",
    "root_2.left = TreeNode(3)\n",
    "root_2.right = TreeNode(2)\n",
    "\n",
    "leafSimilar(root_1, root_2)"
   ]
  },
  {
   "cell_type": "code",
   "execution_count": 47,
   "id": "4eb0a288",
   "metadata": {},
   "outputs": [
    {
     "data": {
      "text/plain": [
       "True"
      ]
     },
     "execution_count": 47,
     "metadata": {},
     "output_type": "execute_result"
    }
   ],
   "source": [
    "root_1 = TreeNode(3)\n",
    "root_1.left = TreeNode(5)\n",
    "root_1.right = TreeNode(1)\n",
    "root_1.left.left = TreeNode(6)\n",
    "root_1.left.right = TreeNode(2)\n",
    "root_1.left.right.left = TreeNode(7)\n",
    "root_1.left.right.right = TreeNode(4)\n",
    "root_1.right.left = TreeNode(9)\n",
    "root_1.right.right = TreeNode(8)\n",
    "\n",
    "root_2 = TreeNode(3)\n",
    "root_2.left = TreeNode(5)\n",
    "root_2.right = TreeNode(1)\n",
    "root_2.left.left = TreeNode(6)\n",
    "root_2.left.right = TreeNode(7)\n",
    "root_2.right.left = TreeNode(4)\n",
    "root_2.right.right = TreeNode(2)\n",
    "root_2.right.right.left = TreeNode(9)\n",
    "root_2.right.right.right = TreeNode(8)\n",
    "\n",
    "leafSimilar_rec(root_1, root_2)"
   ]
  },
  {
   "cell_type": "code",
   "execution_count": 48,
   "id": "4aa25892",
   "metadata": {},
   "outputs": [
    {
     "data": {
      "text/plain": [
       "False"
      ]
     },
     "execution_count": 48,
     "metadata": {},
     "output_type": "execute_result"
    }
   ],
   "source": [
    "root_1 = TreeNode(1)\n",
    "root_1.left = TreeNode(2)\n",
    "root_1.right = TreeNode(3)\n",
    "\n",
    "root_2 = TreeNode(1)\n",
    "root_2.left = TreeNode(3)\n",
    "root_2.right = TreeNode(2)\n",
    "\n",
    "leafSimilar_rec(root_1, root_2)"
   ]
  },
  {
   "cell_type": "markdown",
   "id": "660a8c78",
   "metadata": {},
   "source": [
    "## 3) 1448. Count Good Nodes in Binary Tree\n",
    "\n",
    "Given a binary tree root, a node X in the tree is named good if in the path from root to X there are no nodes with a value greater than X.\n",
    "\n",
    "Return the number of good nodes in the binary tree.\n",
    "\n",
    "<b>Example</b>\n",
    "\n",
    "Input: root = [3, 1, 4, 3, null, 1, 5] <br />\n",
    "Output: 4\n",
    "\n",
    "Explanation: Nodes in blue are good. <br />\n",
    "Root Node (3) is always a good node. <br />\n",
    "Node 4 -> (3,4) is the maximum value in the path starting from the root. <br />\n",
    "Node 5 -> (3,4,5) is the maximum value in the path <br />\n",
    "Node 3 -> (3,1,3) is the maximum value in the path.\n",
    "\n",
    "<b>Example</b>\n",
    "\n",
    "Input: root = [3, 3, null, 4, 2] <br />\n",
    "Output: 3\n",
    "\n",
    "Explanation: \n",
    "Node 2 -> (3, 3, 2) is not good, because \"3\" is higher than it.\n",
    "\n",
    "<b>Example</b>\n",
    "\n",
    "Input: root = [1] <br />\n",
    "Output: 1\n",
    "\n",
    "Explanation: Root is considered as good."
   ]
  },
  {
   "cell_type": "code",
   "execution_count": 49,
   "id": "04060f69",
   "metadata": {},
   "outputs": [],
   "source": [
    "from typing import Optional"
   ]
  },
  {
   "cell_type": "code",
   "execution_count": 50,
   "id": "a026541c",
   "metadata": {},
   "outputs": [],
   "source": [
    "class TreeNode:\n",
    "    def __init__(self, val = 0, left = None, right = None):\n",
    "        self.val = val\n",
    "        self.left = left\n",
    "        self.right = right"
   ]
  },
  {
   "cell_type": "code",
   "execution_count": 80,
   "id": "f291ecae",
   "metadata": {},
   "outputs": [],
   "source": [
    "def goodNodes_iter(root: TreeNode) -> int:\n",
    "    \n",
    "    stack = [(float('-inf'), root)]\n",
    "    \n",
    "    good_nodes_num = 0\n",
    "    while stack:\n",
    "        max_so_far, node = stack.pop()\n",
    "        if max_so_far <= node.val:\n",
    "            good_nodes_num += 1\n",
    "        if node.left:\n",
    "            stack.append((max(max_so_far, node.val), node.left))\n",
    "        if node.right:\n",
    "            stack.append((max(max_so_far, node.val), node.right))\n",
    "    \n",
    "    return good_nodes_num"
   ]
  },
  {
   "cell_type": "code",
   "execution_count": 81,
   "id": "6cb3347a",
   "metadata": {},
   "outputs": [
    {
     "data": {
      "text/plain": [
       "4"
      ]
     },
     "execution_count": 81,
     "metadata": {},
     "output_type": "execute_result"
    }
   ],
   "source": [
    "root_1 = TreeNode(3)\n",
    "root_1.left = TreeNode(1)\n",
    "root_1.right = TreeNode(4)\n",
    "root_1.left.left = TreeNode(3)\n",
    "root_1.right.left = TreeNode(1)\n",
    "root_1.right.right = TreeNode(5)\n",
    "\n",
    "goodNodes_iter(root_1)"
   ]
  },
  {
   "cell_type": "code",
   "execution_count": 82,
   "id": "62ecefd5",
   "metadata": {},
   "outputs": [
    {
     "data": {
      "text/plain": [
       "3"
      ]
     },
     "execution_count": 82,
     "metadata": {},
     "output_type": "execute_result"
    }
   ],
   "source": [
    "root_1 = TreeNode(3)\n",
    "root_1.left = TreeNode(3)\n",
    "root_1.left.left = TreeNode(4)\n",
    "root_1.left.right = TreeNode(2)\n",
    "\n",
    "goodNodes_iter(root_1)"
   ]
  },
  {
   "cell_type": "code",
   "execution_count": 83,
   "id": "8d64fd97",
   "metadata": {},
   "outputs": [
    {
     "data": {
      "text/plain": [
       "1"
      ]
     },
     "execution_count": 83,
     "metadata": {},
     "output_type": "execute_result"
    }
   ],
   "source": [
    "root_1 = TreeNode(1)\n",
    "\n",
    "goodNodes_iter(root_1)"
   ]
  },
  {
   "cell_type": "code",
   "execution_count": 79,
   "id": "17d12eda",
   "metadata": {},
   "outputs": [],
   "source": [
    "def goodNodes(root: TreeNode) -> int:\n",
    "    def dfs(node, max_so_far):\n",
    "        nonlocal num_good_nodes\n",
    "        if max_so_far <= node.val:\n",
    "            num_good_nodes += 1\n",
    "        if node.right:\n",
    "            dfs(node.right, max(node.val, max_so_far))\n",
    "        if node.left:\n",
    "            dfs(node.left, max(node.val, max_so_far))\n",
    "        \n",
    "    num_good_nodes = 0\n",
    "    dfs(root, float(\"-inf\"))\n",
    "    \n",
    "    return num_good_nodes"
   ]
  },
  {
   "cell_type": "code",
   "execution_count": 84,
   "id": "5ae51d4d",
   "metadata": {},
   "outputs": [
    {
     "data": {
      "text/plain": [
       "4"
      ]
     },
     "execution_count": 84,
     "metadata": {},
     "output_type": "execute_result"
    }
   ],
   "source": [
    "root_1 = TreeNode(3)\n",
    "root_1.left = TreeNode(1)\n",
    "root_1.right = TreeNode(4)\n",
    "root_1.left.left = TreeNode(3)\n",
    "root_1.right.left = TreeNode(1)\n",
    "root_1.right.right = TreeNode(5)\n",
    "\n",
    "goodNodes(root_1)"
   ]
  },
  {
   "cell_type": "code",
   "execution_count": 85,
   "id": "8c7ac8fe",
   "metadata": {},
   "outputs": [
    {
     "data": {
      "text/plain": [
       "3"
      ]
     },
     "execution_count": 85,
     "metadata": {},
     "output_type": "execute_result"
    }
   ],
   "source": [
    "root_1 = TreeNode(3)\n",
    "root_1.left = TreeNode(3)\n",
    "root_1.left.left = TreeNode(4)\n",
    "root_1.left.right = TreeNode(2)\n",
    "\n",
    "goodNodes_iter(root_1)"
   ]
  },
  {
   "cell_type": "code",
   "execution_count": 86,
   "id": "81896654",
   "metadata": {},
   "outputs": [
    {
     "data": {
      "text/plain": [
       "1"
      ]
     },
     "execution_count": 86,
     "metadata": {},
     "output_type": "execute_result"
    }
   ],
   "source": [
    "root_1 = TreeNode(1)\n",
    "\n",
    "goodNodes_iter(root_1)"
   ]
  },
  {
   "cell_type": "markdown",
   "id": "57aabbc8",
   "metadata": {},
   "source": [
    "## 4) Path Sum III\n",
    "\n",
    "Given the root of a binary tree and an integer targetSum, return the number of paths where the sum of the values along the path equals targetSum.\n",
    "\n",
    "The path does not need to start or end at the root or a leaf, but it must go downwards (i.e., traveling only from parent nodes to child nodes).\n",
    "\n",
    "<b>Example</b>\n",
    "\n",
    "Input: root = [10, 5, -3, 3, 2, null, 11, 3, -2, null, 1], targetSum = 8 <br />\n",
    "Output: 3 <br />\n",
    "\n",
    "Explanation: The paths that sum to 8 are shown.\n",
    "\n",
    "<b>Example</b>\n",
    "\n",
    "Input: root = [5, 4, 8, 11, null, 13, 4, 7, 2, null, null, 5, 1], targetSum = 22 <br />\n",
    "Output: 3"
   ]
  },
  {
   "cell_type": "code",
   "execution_count": 99,
   "id": "eb869cac",
   "metadata": {},
   "outputs": [],
   "source": [
    "from typing import Optional\n",
    "from collections import defaultdict"
   ]
  },
  {
   "cell_type": "code",
   "execution_count": 100,
   "id": "6c9a1df6",
   "metadata": {},
   "outputs": [],
   "source": [
    "class TreeNode:\n",
    "    def __init__(self, val = 0, left = None, right = None):\n",
    "        self.val = val\n",
    "        self.left = left\n",
    "        self.right = right"
   ]
  },
  {
   "cell_type": "code",
   "execution_count": 107,
   "id": "3ed8a125",
   "metadata": {},
   "outputs": [],
   "source": [
    "def pathSum(root: Optional[TreeNode], targetSum: int) -> int:\n",
    "    \n",
    "    def preorder(node: TreeNode, curr_sum) -> None:\n",
    "        nonlocal count\n",
    "        if not node:\n",
    "            return \n",
    "            \n",
    "        # The current prefix sum\n",
    "        curr_sum += node.val\n",
    "        \n",
    "        if curr_sum == k:\n",
    "            count += 1\n",
    "            \n",
    "        # The number of times the curr_sum − k has occurred already, \n",
    "        # determines the number of times a path with sum k \n",
    "        # has occurred up to the current node\n",
    "        # THE KEY PART OF THE SOLUTION:\n",
    "        count += h[curr_sum - k]\n",
    "            \n",
    "        # Add the current sum into a hashmap\n",
    "        # to use it during the child nodes' processing\n",
    "        h[curr_sum] += 1\n",
    "            \n",
    "        # Process the left subtree\n",
    "        preorder(node.left, curr_sum)\n",
    "        # Process the right subtree\n",
    "        preorder(node.right, curr_sum)\n",
    "            \n",
    "        # Remove the current sum from the hashmap\n",
    "        # in order not to use it during \n",
    "        # the parallel subtree processing\n",
    "        h[curr_sum] -= 1\n",
    "            \n",
    "    count, k = 0, targetSum\n",
    "    h = defaultdict(int)\n",
    "    preorder(root, 0)\n",
    "    \n",
    "    return count"
   ]
  },
  {
   "cell_type": "code",
   "execution_count": 118,
   "id": "9562db25",
   "metadata": {},
   "outputs": [],
   "source": [
    "# Same Solution (probably easier to understand)\n",
    "\n",
    "def pathSum(root: Optional[TreeNode], targetSum: int) -> int:\n",
    "    sums = defaultdict(int)\n",
    "    sums[0] = 1\n",
    "        \n",
    "    def dfs(root, total):\n",
    "        count = 0\n",
    "        if root:\n",
    "            total += root.val\n",
    "\n",
    "            count = sums[total - targetSum]\n",
    "\n",
    "            # THE KEY PART OF THE SOLUTION: \n",
    "            sums[total] += 1\n",
    "            count += dfs(root.left, total) + dfs(root.right, total)\n",
    "            sums[total] -= 1\n",
    "        return count\n",
    "    \n",
    "    return dfs(root, 0)"
   ]
  },
  {
   "cell_type": "code",
   "execution_count": 125,
   "id": "c63e1405",
   "metadata": {},
   "outputs": [],
   "source": [
    "def pathSum_iter(root: Optional[TreeNode], targetSum: int) -> int:\n",
    "    \n",
    "    if not root:\n",
    "        return 0\n",
    "    \n",
    "    count = 0\n",
    "    \n",
    "    # To track all the prefix sums\n",
    "    prefix_sums = defaultdict(int)\n",
    "    \n",
    "    prefix_nodes = []\n",
    "    prefix_sum = 0\n",
    "    \n",
    "    next_nodes = [(root, 1)]\n",
    "    \n",
    "    while next_nodes:\n",
    "        node, depth = next_nodes.pop()\n",
    "        \n",
    "        # Correct the prefix_sum by subtracting the values of nodes\n",
    "        # that are not a part of the this node's path to the root.\n",
    "        while len(prefix_nodes) >= depth:\n",
    "            prefix_sums[prefix_sum] -= 1\n",
    "            prefix_sum -= prefix_nodes.pop()\n",
    "        \n",
    "        prefix_sum += node.val\n",
    "        \n",
    "        if prefix_sum == targetSum:\n",
    "            count += 1\n",
    "        \n",
    "        count += prefix_sums[prefix_sum - targetSum]\n",
    "        \n",
    "        prefix_nodes.append(node.val)\n",
    "        prefix_sums[prefix_sum] += 1\n",
    "        \n",
    "        if node.right:\n",
    "            next_nodes.append((node.right, depth + 1))\n",
    "\n",
    "        if node.left:\n",
    "            next_nodes.append((node.left, depth + 1))\n",
    "        \n",
    "    return count"
   ]
  },
  {
   "cell_type": "code",
   "execution_count": 126,
   "id": "46a15e0f",
   "metadata": {},
   "outputs": [
    {
     "data": {
      "text/plain": [
       "3"
      ]
     },
     "execution_count": 126,
     "metadata": {},
     "output_type": "execute_result"
    }
   ],
   "source": [
    "root_1 = TreeNode(10)\n",
    "root_1.left = TreeNode(5)\n",
    "root_1.right = TreeNode(-3)\n",
    "root_1.left.left = TreeNode(3)\n",
    "root_1.left.right = TreeNode(2)\n",
    "root_1.right.right = TreeNode(11)\n",
    "root_1.left.left.left = TreeNode(3)\n",
    "root_1.left.left.right = TreeNode(-2)\n",
    "root_1.left.right.right = TreeNode(1)\n",
    "\n",
    "pathSum(root_1, 8)"
   ]
  },
  {
   "cell_type": "code",
   "execution_count": 127,
   "id": "984e155c",
   "metadata": {},
   "outputs": [
    {
     "data": {
      "text/plain": [
       "3"
      ]
     },
     "execution_count": 127,
     "metadata": {},
     "output_type": "execute_result"
    }
   ],
   "source": [
    "root_2 = TreeNode(5)\n",
    "root_2.left = TreeNode(4)\n",
    "root_2.right = TreeNode(8)\n",
    "root_2.left.left = TreeNode(11)\n",
    "root_2.left.left.left = TreeNode(7)\n",
    "root_2.left.left.right = TreeNode(2)\n",
    "root_2.right.left = TreeNode(13)\n",
    "root_2.right.right = TreeNode(4)\n",
    "root_2.right.right.left = TreeNode(5)\n",
    "root_2.right.right.right = TreeNode(1)\n",
    "\n",
    "pathSum(root_2, 22)"
   ]
  },
  {
   "cell_type": "code",
   "execution_count": 128,
   "id": "58bf7d05",
   "metadata": {},
   "outputs": [
    {
     "data": {
      "text/plain": [
       "3"
      ]
     },
     "execution_count": 128,
     "metadata": {},
     "output_type": "execute_result"
    }
   ],
   "source": [
    "root_1 = TreeNode(10)\n",
    "root_1.left = TreeNode(5)\n",
    "root_1.right = TreeNode(-3)\n",
    "root_1.left.left = TreeNode(3)\n",
    "root_1.left.right = TreeNode(2)\n",
    "root_1.right.right = TreeNode(11)\n",
    "root_1.left.left.left = TreeNode(3)\n",
    "root_1.left.left.right = TreeNode(-2)\n",
    "root_1.left.right.right = TreeNode(1)\n",
    "\n",
    "pathSum_iter(root_1, 8)"
   ]
  },
  {
   "cell_type": "code",
   "execution_count": 129,
   "id": "6dc9a132",
   "metadata": {},
   "outputs": [
    {
     "data": {
      "text/plain": [
       "3"
      ]
     },
     "execution_count": 129,
     "metadata": {},
     "output_type": "execute_result"
    }
   ],
   "source": [
    "root_2 = TreeNode(5)\n",
    "root_2.left = TreeNode(4)\n",
    "root_2.right = TreeNode(8)\n",
    "root_2.left.left = TreeNode(11)\n",
    "root_2.left.left.left = TreeNode(7)\n",
    "root_2.left.left.right = TreeNode(2)\n",
    "root_2.right.left = TreeNode(13)\n",
    "root_2.right.right = TreeNode(4)\n",
    "root_2.right.right.left = TreeNode(5)\n",
    "root_2.right.right.right = TreeNode(1)\n",
    "\n",
    "pathSum_iter(root_2, 22)"
   ]
  },
  {
   "cell_type": "code",
   "execution_count": null,
   "id": "18d00bab",
   "metadata": {},
   "outputs": [],
   "source": []
  }
 ],
 "metadata": {
  "kernelspec": {
   "display_name": "Python 3 (ipykernel)",
   "language": "python",
   "name": "python3"
  },
  "language_info": {
   "codemirror_mode": {
    "name": "ipython",
    "version": 3
   },
   "file_extension": ".py",
   "mimetype": "text/x-python",
   "name": "python",
   "nbconvert_exporter": "python",
   "pygments_lexer": "ipython3",
   "version": "3.8.16"
  }
 },
 "nbformat": 4,
 "nbformat_minor": 5
}
