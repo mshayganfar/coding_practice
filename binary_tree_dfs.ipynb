{
 "cells": [
  {
   "cell_type": "markdown",
   "id": "20da9ef5",
   "metadata": {},
   "source": [
    "# Binary Tree - DFS"
   ]
  },
  {
   "cell_type": "markdown",
   "id": "e2ce3f7e",
   "metadata": {},
   "source": [
    "## 1) Maximum Depth of Binary Tree\n",
    "\n",
    "Given the root of a binary tree, return its maximum depth.\n",
    "\n",
    "A binary tree's maximum depth is the number of nodes along the longest path from the root node down to the farthest leaf node.\n",
    "\n",
    "<b>Example</b>\n",
    "\n",
    "Input: root = [3, 9, 20, null, null, 15, 7] <br />\n",
    "Output: 3\n",
    "\n",
    "<b>Example</b>\n",
    "\n",
    "Input: root = [1, null, 2] <br />\n",
    "Output: 2"
   ]
  },
  {
   "cell_type": "code",
   "execution_count": 3,
   "id": "51b098f2",
   "metadata": {},
   "outputs": [],
   "source": [
    "from typing import Optional"
   ]
  },
  {
   "cell_type": "code",
   "execution_count": 4,
   "id": "f5809ac3",
   "metadata": {},
   "outputs": [],
   "source": [
    "class TreeNode:\n",
    "    def __init__(self, val = 0, left = None, right = None):\n",
    "        self.val = val\n",
    "        self.left = left\n",
    "        self.right = right"
   ]
  },
  {
   "cell_type": "code",
   "execution_count": 21,
   "id": "ce74d71f",
   "metadata": {},
   "outputs": [],
   "source": [
    "# Recursive Approach\n",
    "\n",
    "def maxDepth(root: Optional[TreeNode]) -> int:\n",
    "    \n",
    "    if not root:\n",
    "        return 0\n",
    "    \n",
    "    return max(maxDepth(root.left), maxDepth(root.right)) + 1"
   ]
  },
  {
   "cell_type": "code",
   "execution_count": 24,
   "id": "4159b14d",
   "metadata": {},
   "outputs": [],
   "source": [
    "# Iterative Approach\n",
    "\n",
    "def maxDepth_iter(root: Optional[TreeNode]) -> int:\n",
    "    \n",
    "    stack = []\n",
    "    if root:\n",
    "        stack.append((1, root))\n",
    "    \n",
    "    depth = 0\n",
    "    while stack:\n",
    "        cur_depth, root = stack.pop()\n",
    "        if root:\n",
    "            depth = max(cur_depth, depth)\n",
    "            stack.append((cur_depth + 1, root.left))\n",
    "            stack.append((cur_depth + 1, root.right))\n",
    "    \n",
    "    return depth"
   ]
  },
  {
   "cell_type": "code",
   "execution_count": 22,
   "id": "a4a0de04",
   "metadata": {},
   "outputs": [
    {
     "data": {
      "text/plain": [
       "3"
      ]
     },
     "execution_count": 22,
     "metadata": {},
     "output_type": "execute_result"
    }
   ],
   "source": [
    "root_1 = TreeNode(3)\n",
    "root_1.left = TreeNode(9)\n",
    "root_1.right = TreeNode(20)\n",
    "root_1.right.left = TreeNode(15)\n",
    "root_1.right.right = TreeNode(7)\n",
    "\n",
    "maxDepth(root_1)"
   ]
  },
  {
   "cell_type": "code",
   "execution_count": 23,
   "id": "d3b98440",
   "metadata": {},
   "outputs": [
    {
     "data": {
      "text/plain": [
       "2"
      ]
     },
     "execution_count": 23,
     "metadata": {},
     "output_type": "execute_result"
    }
   ],
   "source": [
    "root_2 = TreeNode(1)\n",
    "root_2.right = TreeNode(2)\n",
    "\n",
    "maxDepth(root_2)"
   ]
  },
  {
   "cell_type": "code",
   "execution_count": 25,
   "id": "64fdfef0",
   "metadata": {},
   "outputs": [
    {
     "data": {
      "text/plain": [
       "3"
      ]
     },
     "execution_count": 25,
     "metadata": {},
     "output_type": "execute_result"
    }
   ],
   "source": [
    "root_1 = TreeNode(3)\n",
    "root_1.left = TreeNode(9)\n",
    "root_1.right = TreeNode(20)\n",
    "root_1.right.left = TreeNode(15)\n",
    "root_1.right.right = TreeNode(7)\n",
    "\n",
    "maxDepth_iter(root_1)"
   ]
  },
  {
   "cell_type": "code",
   "execution_count": 26,
   "id": "802e9376",
   "metadata": {},
   "outputs": [
    {
     "data": {
      "text/plain": [
       "2"
      ]
     },
     "execution_count": 26,
     "metadata": {},
     "output_type": "execute_result"
    }
   ],
   "source": [
    "root_2 = TreeNode(1)\n",
    "root_2.right = TreeNode(2)\n",
    "\n",
    "maxDepth_iter(root_2)"
   ]
  },
  {
   "cell_type": "markdown",
   "id": "a36a7259",
   "metadata": {},
   "source": [
    "## 2) Leaf-Similar Trees\n",
    "\n",
    "Consider all the leaves of a binary tree, from left to right order, the values of those leaves form a leaf value sequence.\n",
    "\n",
    "Two binary trees are considered leaf-similar if their leaf value sequence is the same.\n",
    "\n",
    "Return true if and only if the two given trees with head nodes root1 and root2 are leaf-similar.\n",
    "\n",
    "<b>Example</b>\n",
    "\n",
    "Input: root1 = [3, 5, 1, 6, 2, 9, 8, null, null, 7, 4], root2 = [3, 5, 1, 6, 7, 4, 2, null, null, null, null, null, null, 9, 8] <br />\n",
    "Output: true\n",
    "\n",
    "<b>Example</b>\n",
    "\n",
    "Input: root1 = [1, 2, 3], root2 = [1, 3, 2] <br />\n",
    "Output: false"
   ]
  },
  {
   "cell_type": "code",
   "execution_count": 28,
   "id": "7bc2ed55",
   "metadata": {},
   "outputs": [],
   "source": [
    "from typing import Optional"
   ]
  },
  {
   "cell_type": "code",
   "execution_count": 27,
   "id": "e09ba441",
   "metadata": {},
   "outputs": [],
   "source": [
    "class TreeNode:\n",
    "    def __init__(self, val = 0, left = None, right = None):\n",
    "        self.val = val\n",
    "        self.left = left\n",
    "        self.right = right"
   ]
  },
  {
   "cell_type": "code",
   "execution_count": 40,
   "id": "d4819528",
   "metadata": {},
   "outputs": [],
   "source": [
    "def leafSimilar(root1: Optional[TreeNode], root2: Optional[TreeNode]) -> bool:\n",
    "    \n",
    "    leaf_seq1 = []\n",
    "    leaf_seq2 = []\n",
    "    \n",
    "    stack1 = []\n",
    "    stack1.append(root1)\n",
    "    \n",
    "    while stack1:\n",
    "        node = stack1.pop()\n",
    "        if node:\n",
    "            if not node.left and not node.right:\n",
    "                leaf_seq1.append(node.val)\n",
    "            stack1.append(node.left)\n",
    "            stack1.append(node.right)\n",
    "    \n",
    "    stack2 = []\n",
    "    stack2.append(root2)\n",
    "    \n",
    "    while stack2:\n",
    "        node = stack2.pop()\n",
    "        if node:\n",
    "            if not node.left and not node.right:\n",
    "                leaf_seq2.append(node.val)\n",
    "            stack2.append(node.left)\n",
    "            stack2.append(node.right)\n",
    "    \n",
    "    return leaf_seq1[::-1] == leaf_seq2[::-1]"
   ]
  },
  {
   "cell_type": "code",
   "execution_count": 43,
   "id": "b31f1d6c",
   "metadata": {},
   "outputs": [],
   "source": [
    "def leafSimilar_rec(root1: Optional[TreeNode], root2: Optional[TreeNode]) -> bool:\n",
    "    def dfs(node):\n",
    "        if node:\n",
    "            if not node.left and not node.right:\n",
    "                yield node.val\n",
    "            yield from dfs(node.left)\n",
    "            yield from dfs(node.right)\n",
    "\n",
    "    return list(dfs(root1)) == list(dfs(root2))"
   ]
  },
  {
   "cell_type": "code",
   "execution_count": 46,
   "id": "9848a8c9",
   "metadata": {},
   "outputs": [],
   "source": [
    "def leafSimilar_rec(root1: Optional[TreeNode], root2: Optional[TreeNode]) -> bool:\n",
    "    def dfs(node):\n",
    "        if not node:\n",
    "            return []\n",
    "\n",
    "        if not node.left and not node.right:\n",
    "            return [node.val]\n",
    "\n",
    "        return dfs(node.left) + dfs(node.right)\n",
    "\n",
    "    return dfs(root1) == dfs(root2)"
   ]
  },
  {
   "cell_type": "code",
   "execution_count": 41,
   "id": "e532fdef",
   "metadata": {},
   "outputs": [
    {
     "data": {
      "text/plain": [
       "True"
      ]
     },
     "execution_count": 41,
     "metadata": {},
     "output_type": "execute_result"
    }
   ],
   "source": [
    "root_1 = TreeNode(3)\n",
    "root_1.left = TreeNode(5)\n",
    "root_1.right = TreeNode(1)\n",
    "root_1.left.left = TreeNode(6)\n",
    "root_1.left.right = TreeNode(2)\n",
    "root_1.left.right.left = TreeNode(7)\n",
    "root_1.left.right.right = TreeNode(4)\n",
    "root_1.right.left = TreeNode(9)\n",
    "root_1.right.right = TreeNode(8)\n",
    "\n",
    "root_2 = TreeNode(3)\n",
    "root_2.left = TreeNode(5)\n",
    "root_2.right = TreeNode(1)\n",
    "root_2.left.left = TreeNode(6)\n",
    "root_2.left.right = TreeNode(7)\n",
    "root_2.right.left = TreeNode(4)\n",
    "root_2.right.right = TreeNode(2)\n",
    "root_2.right.right.left = TreeNode(9)\n",
    "root_2.right.right.right = TreeNode(8)\n",
    "\n",
    "leafSimilar(root_1, root_2)"
   ]
  },
  {
   "cell_type": "code",
   "execution_count": 42,
   "id": "a57b0000",
   "metadata": {},
   "outputs": [
    {
     "data": {
      "text/plain": [
       "False"
      ]
     },
     "execution_count": 42,
     "metadata": {},
     "output_type": "execute_result"
    }
   ],
   "source": [
    "root_1 = TreeNode(1)\n",
    "root_1.left = TreeNode(2)\n",
    "root_1.right = TreeNode(3)\n",
    "\n",
    "root_2 = TreeNode(1)\n",
    "root_2.left = TreeNode(3)\n",
    "root_2.right = TreeNode(2)\n",
    "\n",
    "leafSimilar(root_1, root_2)"
   ]
  },
  {
   "cell_type": "code",
   "execution_count": 47,
   "id": "ab223c51",
   "metadata": {},
   "outputs": [
    {
     "data": {
      "text/plain": [
       "True"
      ]
     },
     "execution_count": 47,
     "metadata": {},
     "output_type": "execute_result"
    }
   ],
   "source": [
    "root_1 = TreeNode(3)\n",
    "root_1.left = TreeNode(5)\n",
    "root_1.right = TreeNode(1)\n",
    "root_1.left.left = TreeNode(6)\n",
    "root_1.left.right = TreeNode(2)\n",
    "root_1.left.right.left = TreeNode(7)\n",
    "root_1.left.right.right = TreeNode(4)\n",
    "root_1.right.left = TreeNode(9)\n",
    "root_1.right.right = TreeNode(8)\n",
    "\n",
    "root_2 = TreeNode(3)\n",
    "root_2.left = TreeNode(5)\n",
    "root_2.right = TreeNode(1)\n",
    "root_2.left.left = TreeNode(6)\n",
    "root_2.left.right = TreeNode(7)\n",
    "root_2.right.left = TreeNode(4)\n",
    "root_2.right.right = TreeNode(2)\n",
    "root_2.right.right.left = TreeNode(9)\n",
    "root_2.right.right.right = TreeNode(8)\n",
    "\n",
    "leafSimilar_rec(root_1, root_2)"
   ]
  },
  {
   "cell_type": "code",
   "execution_count": 48,
   "id": "448b10d5",
   "metadata": {},
   "outputs": [
    {
     "data": {
      "text/plain": [
       "False"
      ]
     },
     "execution_count": 48,
     "metadata": {},
     "output_type": "execute_result"
    }
   ],
   "source": [
    "root_1 = TreeNode(1)\n",
    "root_1.left = TreeNode(2)\n",
    "root_1.right = TreeNode(3)\n",
    "\n",
    "root_2 = TreeNode(1)\n",
    "root_2.left = TreeNode(3)\n",
    "root_2.right = TreeNode(2)\n",
    "\n",
    "leafSimilar_rec(root_1, root_2)"
   ]
  },
  {
   "cell_type": "markdown",
   "id": "f9810b05",
   "metadata": {},
   "source": [
    "## 3) 1448. Count Good Nodes in Binary Tree\n",
    "\n",
    "Given a binary tree root, a node X in the tree is named good if in the path from root to X there are no nodes with a value greater than X.\n",
    "\n",
    "Return the number of good nodes in the binary tree.\n",
    "\n",
    "<b>Example</b>\n",
    "\n",
    "Input: root = [3, 1, 4, 3, null, 1, 5] <br />\n",
    "Output: 4\n",
    "\n",
    "Explanation: Nodes in blue are good. <br />\n",
    "Root Node (3) is always a good node. <br />\n",
    "Node 4 -> (3,4) is the maximum value in the path starting from the root. <br />\n",
    "Node 5 -> (3,4,5) is the maximum value in the path <br />\n",
    "Node 3 -> (3,1,3) is the maximum value in the path.\n",
    "\n",
    "<b>Example</b>\n",
    "\n",
    "Input: root = [3, 3, null, 4, 2] <br />\n",
    "Output: 3\n",
    "\n",
    "Explanation: \n",
    "Node 2 -> (3, 3, 2) is not good, because \"3\" is higher than it.\n",
    "\n",
    "<b>Example</b>\n",
    "\n",
    "Input: root = [1] <br />\n",
    "Output: 1\n",
    "\n",
    "Explanation: Root is considered as good."
   ]
  },
  {
   "cell_type": "code",
   "execution_count": 49,
   "id": "b502814d",
   "metadata": {},
   "outputs": [],
   "source": [
    "from typing import Optional"
   ]
  },
  {
   "cell_type": "code",
   "execution_count": 50,
   "id": "c7e1cd9e",
   "metadata": {},
   "outputs": [],
   "source": [
    "class TreeNode:\n",
    "    def __init__(self, val = 0, left = None, right = None):\n",
    "        self.val = val\n",
    "        self.left = left\n",
    "        self.right = right"
   ]
  },
  {
   "cell_type": "code",
   "execution_count": 80,
   "id": "fd072179",
   "metadata": {},
   "outputs": [],
   "source": [
    "def goodNodes_iter(root: TreeNode) -> int:\n",
    "    \n",
    "    stack = [(float('-inf'), root)]\n",
    "    \n",
    "    good_nodes_num = 0\n",
    "    while stack:\n",
    "        max_so_far, node = stack.pop()\n",
    "        if max_so_far <= node.val:\n",
    "            good_nodes_num += 1\n",
    "        if node.left:\n",
    "            stack.append((max(max_so_far, node.val), node.left))\n",
    "        if node.right:\n",
    "            stack.append((max(max_so_far, node.val), node.right))\n",
    "    \n",
    "    return good_nodes_num"
   ]
  },
  {
   "cell_type": "code",
   "execution_count": 81,
   "id": "59bcf49d",
   "metadata": {},
   "outputs": [
    {
     "data": {
      "text/plain": [
       "4"
      ]
     },
     "execution_count": 81,
     "metadata": {},
     "output_type": "execute_result"
    }
   ],
   "source": [
    "root_1 = TreeNode(3)\n",
    "root_1.left = TreeNode(1)\n",
    "root_1.right = TreeNode(4)\n",
    "root_1.left.left = TreeNode(3)\n",
    "root_1.right.left = TreeNode(1)\n",
    "root_1.right.right = TreeNode(5)\n",
    "\n",
    "goodNodes_iter(root_1)"
   ]
  },
  {
   "cell_type": "code",
   "execution_count": 82,
   "id": "5a04f250",
   "metadata": {},
   "outputs": [
    {
     "data": {
      "text/plain": [
       "3"
      ]
     },
     "execution_count": 82,
     "metadata": {},
     "output_type": "execute_result"
    }
   ],
   "source": [
    "root_1 = TreeNode(3)\n",
    "root_1.left = TreeNode(3)\n",
    "root_1.left.left = TreeNode(4)\n",
    "root_1.left.right = TreeNode(2)\n",
    "\n",
    "goodNodes_iter(root_1)"
   ]
  },
  {
   "cell_type": "code",
   "execution_count": 83,
   "id": "25efa024",
   "metadata": {},
   "outputs": [
    {
     "data": {
      "text/plain": [
       "1"
      ]
     },
     "execution_count": 83,
     "metadata": {},
     "output_type": "execute_result"
    }
   ],
   "source": [
    "root_1 = TreeNode(1)\n",
    "\n",
    "goodNodes_iter(root_1)"
   ]
  },
  {
   "cell_type": "code",
   "execution_count": 79,
   "id": "81d5cd96",
   "metadata": {},
   "outputs": [],
   "source": [
    "def goodNodes(root: TreeNode) -> int:\n",
    "    def dfs(node, max_so_far):\n",
    "        nonlocal num_good_nodes\n",
    "        if max_so_far <= node.val:\n",
    "            num_good_nodes += 1\n",
    "        if node.right:\n",
    "            dfs(node.right, max(node.val, max_so_far))\n",
    "        if node.left:\n",
    "            dfs(node.left, max(node.val, max_so_far))\n",
    "        \n",
    "    num_good_nodes = 0\n",
    "    dfs(root, float(\"-inf\"))\n",
    "    \n",
    "    return num_good_nodes"
   ]
  },
  {
   "cell_type": "code",
   "execution_count": 84,
   "id": "35de8959",
   "metadata": {},
   "outputs": [
    {
     "data": {
      "text/plain": [
       "4"
      ]
     },
     "execution_count": 84,
     "metadata": {},
     "output_type": "execute_result"
    }
   ],
   "source": [
    "root_1 = TreeNode(3)\n",
    "root_1.left = TreeNode(1)\n",
    "root_1.right = TreeNode(4)\n",
    "root_1.left.left = TreeNode(3)\n",
    "root_1.right.left = TreeNode(1)\n",
    "root_1.right.right = TreeNode(5)\n",
    "\n",
    "goodNodes(root_1)"
   ]
  },
  {
   "cell_type": "code",
   "execution_count": 85,
   "id": "eeaed4f6",
   "metadata": {},
   "outputs": [
    {
     "data": {
      "text/plain": [
       "3"
      ]
     },
     "execution_count": 85,
     "metadata": {},
     "output_type": "execute_result"
    }
   ],
   "source": [
    "root_1 = TreeNode(3)\n",
    "root_1.left = TreeNode(3)\n",
    "root_1.left.left = TreeNode(4)\n",
    "root_1.left.right = TreeNode(2)\n",
    "\n",
    "goodNodes_iter(root_1)"
   ]
  },
  {
   "cell_type": "code",
   "execution_count": 86,
   "id": "ace112bc",
   "metadata": {},
   "outputs": [
    {
     "data": {
      "text/plain": [
       "1"
      ]
     },
     "execution_count": 86,
     "metadata": {},
     "output_type": "execute_result"
    }
   ],
   "source": [
    "root_1 = TreeNode(1)\n",
    "\n",
    "goodNodes_iter(root_1)"
   ]
  },
  {
   "cell_type": "markdown",
   "id": "8bf2c29d",
   "metadata": {},
   "source": [
    "## 4) Path Sum III\n",
    "\n",
    "Given the root of a binary tree and an integer targetSum, return the number of paths where the sum of the values along the path equals targetSum.\n",
    "\n",
    "The path does not need to start or end at the root or a leaf, but it must go downwards (i.e., traveling only from parent nodes to child nodes).\n",
    "\n",
    "<b>Example</b>\n",
    "\n",
    "Input: root = [10, 5, -3, 3, 2, null, 11, 3, -2, null, 1], targetSum = 8 <br />\n",
    "Output: 3 <br />\n",
    "\n",
    "Explanation: The paths that sum to 8 are shown.\n",
    "\n",
    "<b>Example</b>\n",
    "\n",
    "Input: root = [5, 4, 8, 11, null, 13, 4, 7, 2, null, null, 5, 1], targetSum = 22 <br />\n",
    "Output: 3"
   ]
  },
  {
   "cell_type": "code",
   "execution_count": 99,
   "id": "31fa9fa5",
   "metadata": {},
   "outputs": [],
   "source": [
    "from typing import Optional\n",
    "from collections import defaultdict"
   ]
  },
  {
   "cell_type": "code",
   "execution_count": 100,
   "id": "6eaece1d",
   "metadata": {},
   "outputs": [],
   "source": [
    "class TreeNode:\n",
    "    def __init__(self, val = 0, left = None, right = None):\n",
    "        self.val = val\n",
    "        self.left = left\n",
    "        self.right = right"
   ]
  },
  {
   "cell_type": "code",
   "execution_count": 107,
   "id": "5a0c707f",
   "metadata": {},
   "outputs": [],
   "source": [
    "def pathSum(root: Optional[TreeNode], targetSum: int) -> int:\n",
    "    \n",
    "    def preorder(node: TreeNode, curr_sum) -> None:\n",
    "        nonlocal count\n",
    "        if not node:\n",
    "            return \n",
    "            \n",
    "        # The current prefix sum\n",
    "        curr_sum += node.val\n",
    "        \n",
    "        if curr_sum == k:\n",
    "            count += 1\n",
    "            \n",
    "        # The number of times the curr_sum − k has occurred already, \n",
    "        # determines the number of times a path with sum k \n",
    "        # has occurred up to the current node\n",
    "        # THIS LINE IS THE KEY TO THIS SOLUTION.\n",
    "        count += h[curr_sum - k]\n",
    "            \n",
    "        # Add the current sum into a hashmap\n",
    "        # to use it during the child nodes' processing\n",
    "        h[curr_sum] += 1\n",
    "            \n",
    "        # Process the left subtree\n",
    "        preorder(node.left, curr_sum)\n",
    "        # Process the right subtree\n",
    "        preorder(node.right, curr_sum)\n",
    "            \n",
    "        # Remove the current sum from the hashmap\n",
    "        # in order not to use it during \n",
    "        # the parallel subtree processing\n",
    "        h[curr_sum] -= 1\n",
    "            \n",
    "    count, k = 0, targetSum\n",
    "    h = defaultdict(int)\n",
    "    preorder(root, 0)\n",
    "    \n",
    "    return count"
   ]
  },
  {
   "cell_type": "code",
   "execution_count": 108,
   "id": "ef733f4e",
   "metadata": {},
   "outputs": [
    {
     "data": {
      "text/plain": [
       "3"
      ]
     },
     "execution_count": 108,
     "metadata": {},
     "output_type": "execute_result"
    }
   ],
   "source": [
    "root_1 = TreeNode(10)\n",
    "root_1.left = TreeNode(5)\n",
    "root_1.right = TreeNode(-3)\n",
    "root_1.left.left = TreeNode(3)\n",
    "root_1.left.right = TreeNode(2)\n",
    "root_1.right.right = TreeNode(11)\n",
    "root_1.left.left.left = TreeNode(3)\n",
    "root_1.left.left.right = TreeNode(-2)\n",
    "root_1.left.right.right = TreeNode(1)\n",
    "\n",
    "pathSum(root_1, 8)"
   ]
  },
  {
   "cell_type": "code",
   "execution_count": 112,
   "id": "c18d0315",
   "metadata": {},
   "outputs": [
    {
     "data": {
      "text/plain": [
       "3"
      ]
     },
     "execution_count": 112,
     "metadata": {},
     "output_type": "execute_result"
    }
   ],
   "source": [
    "root_2 = TreeNode(5)\n",
    "root_2.left = TreeNode(4)\n",
    "root_2.right = TreeNode(8)\n",
    "root_2.left.left = TreeNode(11)\n",
    "root_2.left.left.left = TreeNode(7)\n",
    "root_2.left.left.right = TreeNode(2)\n",
    "root_2.right.left = TreeNode(13)\n",
    "root_2.right.right = TreeNode(4)\n",
    "root_2.right.right.left = TreeNode(5)\n",
    "root_2.right.right.right = TreeNode(1)\n",
    "\n",
    "pathSum(root_2, 22)"
   ]
  },
  {
   "cell_type": "code",
   "execution_count": null,
   "id": "6deb68a8",
   "metadata": {},
   "outputs": [],
   "source": []
  }
 ],
 "metadata": {
  "kernelspec": {
   "display_name": "Python 3 (ipykernel)",
   "language": "python",
   "name": "python3"
  },
  "language_info": {
   "codemirror_mode": {
    "name": "ipython",
    "version": 3
   },
   "file_extension": ".py",
   "mimetype": "text/x-python",
   "name": "python",
   "nbconvert_exporter": "python",
   "pygments_lexer": "ipython3",
   "version": "3.8.16"
  }
 },
 "nbformat": 4,
 "nbformat_minor": 5
}
