{
 "cells": [
  {
   "cell_type": "markdown",
   "id": "d0875253",
   "metadata": {},
   "source": [
    "# Binary Tree - DFS"
   ]
  },
  {
   "cell_type": "markdown",
   "id": "5b547997",
   "metadata": {},
   "source": [
    "## 1) Maximum Depth of Binary Tree\n",
    "\n",
    "Given the root of a binary tree, return its maximum depth.\n",
    "\n",
    "A binary tree's maximum depth is the number of nodes along the longest path from the root node down to the farthest leaf node.\n",
    "\n",
    "<b>Example</b>\n",
    "\n",
    "Input: root = [3, 9, 20, null, null, 15, 7] <br />\n",
    "Output: 3\n",
    "\n",
    "<b>Example</b>\n",
    "\n",
    "Input: root = [1, null, 2] <br />\n",
    "Output: 2"
   ]
  },
  {
   "cell_type": "code",
   "execution_count": 3,
   "id": "363a658a",
   "metadata": {},
   "outputs": [],
   "source": [
    "from typing import Optional"
   ]
  },
  {
   "cell_type": "code",
   "execution_count": 4,
   "id": "b3120d2f",
   "metadata": {},
   "outputs": [],
   "source": [
    "class TreeNode:\n",
    "    def __init__(self, val = 0, left = None, right = None):\n",
    "        self.val = val\n",
    "        self.left = left\n",
    "        self.right = right"
   ]
  },
  {
   "cell_type": "code",
   "execution_count": 21,
   "id": "daa8ccf1",
   "metadata": {},
   "outputs": [],
   "source": [
    "# Recursive Approach\n",
    "\n",
    "def maxDepth(root: Optional[TreeNode]) -> int:\n",
    "    \n",
    "    if not root:\n",
    "        return 0\n",
    "    \n",
    "    return max(maxDepth(root.left), maxDepth(root.right)) + 1"
   ]
  },
  {
   "cell_type": "code",
   "execution_count": 24,
   "id": "ab4d0f21",
   "metadata": {},
   "outputs": [],
   "source": [
    "# Iterative Approach\n",
    "\n",
    "def maxDepth_iter(root: Optional[TreeNode]) -> int:\n",
    "    \n",
    "    stack = []\n",
    "    if root:\n",
    "        stack.append((1, root))\n",
    "    \n",
    "    depth = 0\n",
    "    while stack:\n",
    "        cur_depth, root = stack.pop()\n",
    "        if root:\n",
    "            depth = max(cur_depth, depth)\n",
    "            stack.append((cur_depth + 1, root.left))\n",
    "            stack.append((cur_depth + 1, root.right))\n",
    "    \n",
    "    return depth"
   ]
  },
  {
   "cell_type": "code",
   "execution_count": 22,
   "id": "b441127d",
   "metadata": {},
   "outputs": [
    {
     "data": {
      "text/plain": [
       "3"
      ]
     },
     "execution_count": 22,
     "metadata": {},
     "output_type": "execute_result"
    }
   ],
   "source": [
    "root_1 = TreeNode(3)\n",
    "root_1.left = TreeNode(9)\n",
    "root_1.right = TreeNode(20)\n",
    "root_1.right.left = TreeNode(15)\n",
    "root_1.right.right = TreeNode(7)\n",
    "\n",
    "maxDepth(root_1)"
   ]
  },
  {
   "cell_type": "code",
   "execution_count": 23,
   "id": "9875390a",
   "metadata": {},
   "outputs": [
    {
     "data": {
      "text/plain": [
       "2"
      ]
     },
     "execution_count": 23,
     "metadata": {},
     "output_type": "execute_result"
    }
   ],
   "source": [
    "root_2 = TreeNode(1)\n",
    "root_2.right = TreeNode(2)\n",
    "\n",
    "maxDepth(root_2)"
   ]
  },
  {
   "cell_type": "code",
   "execution_count": 25,
   "id": "450237f5",
   "metadata": {},
   "outputs": [
    {
     "data": {
      "text/plain": [
       "3"
      ]
     },
     "execution_count": 25,
     "metadata": {},
     "output_type": "execute_result"
    }
   ],
   "source": [
    "root_1 = TreeNode(3)\n",
    "root_1.left = TreeNode(9)\n",
    "root_1.right = TreeNode(20)\n",
    "root_1.right.left = TreeNode(15)\n",
    "root_1.right.right = TreeNode(7)\n",
    "\n",
    "maxDepth_iter(root_1)"
   ]
  },
  {
   "cell_type": "code",
   "execution_count": 26,
   "id": "cc886df8",
   "metadata": {},
   "outputs": [
    {
     "data": {
      "text/plain": [
       "2"
      ]
     },
     "execution_count": 26,
     "metadata": {},
     "output_type": "execute_result"
    }
   ],
   "source": [
    "root_2 = TreeNode(1)\n",
    "root_2.right = TreeNode(2)\n",
    "\n",
    "maxDepth_iter(root_2)"
   ]
  },
  {
   "cell_type": "code",
   "execution_count": null,
   "id": "6e5b738b",
   "metadata": {},
   "outputs": [],
   "source": []
  }
 ],
 "metadata": {
  "kernelspec": {
   "display_name": "Python 3 (ipykernel)",
   "language": "python",
   "name": "python3"
  },
  "language_info": {
   "codemirror_mode": {
    "name": "ipython",
    "version": 3
   },
   "file_extension": ".py",
   "mimetype": "text/x-python",
   "name": "python",
   "nbconvert_exporter": "python",
   "pygments_lexer": "ipython3",
   "version": "3.8.16"
  }
 },
 "nbformat": 4,
 "nbformat_minor": 5
}
