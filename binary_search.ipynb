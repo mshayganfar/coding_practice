{
 "cells": [
  {
   "cell_type": "markdown",
   "id": "04444738",
   "metadata": {},
   "source": [
    "# Binary Search"
   ]
  },
  {
   "cell_type": "markdown",
   "id": "e8a859dd",
   "metadata": {},
   "source": [
    "## 1) Guess Number Higher or Lower\n",
    "\n",
    "We are playing the Guess Game. The game is as follows:\n",
    "\n",
    "I pick a number from 1 to n. You have to guess which number I picked.\n",
    "\n",
    "Every time you guess wrong, I will tell you whether the number I picked is higher or lower than your guess.\n",
    "\n",
    "You call a pre-defined API int guess(int num), which returns three possible results:\n",
    "\n",
    "* -1: Your guess is higher than the number I picked (i.e. num > pick).\n",
    "* 1: Your guess is lower than the number I picked (i.e. num < pick).\n",
    "* 0: your guess is equal to the number I picked (i.e. num == pick).\n",
    "\n",
    "Return the number that I picked.\n",
    "\n",
    "<b>Example</b>\n",
    "\n",
    "Input: n = 10, pick = 6 <br />\n",
    "Output: 6\n",
    "\n",
    "<b>Example</b>\n",
    "\n",
    "Input: n = 1, pick = 1 <br />\n",
    "Output: 1\n",
    "\n",
    "<b>Example</b>\n",
    "\n",
    "Input: n = 2, pick = 1 <br />\n",
    "Output: 1"
   ]
  },
  {
   "cell_type": "code",
   "execution_count": 2,
   "id": "2dcac834",
   "metadata": {},
   "outputs": [],
   "source": [
    "def guessNumber(n: int) -> int:\n",
    "    \n",
    "    low = 1\n",
    "    high = n\n",
    "    while low <= high:\n",
    "        mid = low + (high - low) // 2\n",
    "        num = guess(mid) # This function is given.\n",
    "        if num == 0:\n",
    "            return mid\n",
    "        elif num == -1:\n",
    "            high = mid - 1\n",
    "        elif num == 1:\n",
    "            low = mid + 1\n",
    "    return -1"
   ]
  },
  {
   "cell_type": "code",
   "execution_count": 4,
   "id": "e1424ae1",
   "metadata": {},
   "outputs": [],
   "source": [
    "guessNumber(10)"
   ]
  },
  {
   "cell_type": "code",
   "execution_count": null,
   "id": "6e336847",
   "metadata": {},
   "outputs": [],
   "source": []
  }
 ],
 "metadata": {
  "kernelspec": {
   "display_name": "Python 3 (ipykernel)",
   "language": "python",
   "name": "python3"
  },
  "language_info": {
   "codemirror_mode": {
    "name": "ipython",
    "version": 3
   },
   "file_extension": ".py",
   "mimetype": "text/x-python",
   "name": "python",
   "nbconvert_exporter": "python",
   "pygments_lexer": "ipython3",
   "version": "3.8.16"
  }
 },
 "nbformat": 4,
 "nbformat_minor": 5
}
