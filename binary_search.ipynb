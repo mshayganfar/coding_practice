{
 "cells": [
  {
   "cell_type": "markdown",
   "id": "04444738",
   "metadata": {},
   "source": [
    "# Binary Search"
   ]
  },
  {
   "cell_type": "markdown",
   "id": "e8a859dd",
   "metadata": {},
   "source": [
    "## 1) Guess Number Higher or Lower\n",
    "\n",
    "We are playing the Guess Game. The game is as follows:\n",
    "\n",
    "I pick a number from 1 to n. You have to guess which number I picked.\n",
    "\n",
    "Every time you guess wrong, I will tell you whether the number I picked is higher or lower than your guess.\n",
    "\n",
    "You call a pre-defined API int guess(int num), which returns three possible results:\n",
    "\n",
    "* -1: Your guess is higher than the number I picked (i.e. num > pick).\n",
    "* 1: Your guess is lower than the number I picked (i.e. num < pick).\n",
    "* 0: your guess is equal to the number I picked (i.e. num == pick).\n",
    "\n",
    "Return the number that I picked.\n",
    "\n",
    "<b>Example</b>\n",
    "\n",
    "Input: n = 10, pick = 6 <br />\n",
    "Output: 6\n",
    "\n",
    "<b>Example</b>\n",
    "\n",
    "Input: n = 1, pick = 1 <br />\n",
    "Output: 1\n",
    "\n",
    "<b>Example</b>\n",
    "\n",
    "Input: n = 2, pick = 1 <br />\n",
    "Output: 1"
   ]
  },
  {
   "cell_type": "code",
   "execution_count": 1,
   "id": "2dcac834",
   "metadata": {},
   "outputs": [],
   "source": [
    "def guessNumber(n: int) -> int:\n",
    "    \n",
    "    low = 1\n",
    "    high = n\n",
    "    while low <= high:\n",
    "        mid = low + (high - low) // 2\n",
    "        num = guess(mid) # This function is given.\n",
    "        if num == 0:\n",
    "            return mid\n",
    "        elif num == -1:\n",
    "            high = mid - 1\n",
    "        elif num == 1:\n",
    "            low = mid + 1\n",
    "    return -1"
   ]
  },
  {
   "cell_type": "code",
   "execution_count": 2,
   "id": "e1424ae1",
   "metadata": {},
   "outputs": [],
   "source": [
    "#guessNumber(10)"
   ]
  },
  {
   "cell_type": "markdown",
   "id": "428a0966",
   "metadata": {},
   "source": [
    "## 2) Successful Pairs of Spells and Potions\n",
    "\n",
    "You are given two positive integer arrays spells and potions, of length n and m respectively, where spells[i] represents the strength of the ith spell and potions[j] represents the strength of the jth potion.\n",
    "\n",
    "You are also given an integer success. A spell and potion pair is considered successful if the product of their strengths is at least success.\n",
    "\n",
    "Return an integer array pairs of length n where pairs[i] is the number of potions that will form a successful pair with the ith spell.\n",
    "\n",
    "<b>Example</b>\n",
    "\n",
    "Input: spells = [5,1,3], potions = [1,2,3,4,5], success = 7 <br />\n",
    "Output: [4,0,3]\n",
    "\n",
    "Explanation: <br />\n",
    "- 0th spell: 5 * [1,2,3,4,5] = [5,10,15,20,25]. 4 pairs are successful.\n",
    "- 1st spell: 1 * [1,2,3,4,5] = [1,2,3,4,5]. 0 pairs are successful.\n",
    "- 2nd spell: 3 * [1,2,3,4,5] = [3,6,9,12,15]. 3 pairs are successful.\n",
    "\n",
    "Thus, [4,0,3] is returned.\n",
    "\n",
    "<b>Example</b>\n",
    "\n",
    "Input: spells = [3,1,2], potions = [8,5,8], success = 16 <br />\n",
    "Output: [2,0,2]\n",
    "\n",
    "Explanation: <br />\n",
    "- 0th spell: 3 * [8,5,8] = [24,15,24]. 2 pairs are successful.\n",
    "- 1st spell: 1 * [8,5,8] = [8,5,8]. 0 pairs are successful. \n",
    "- 2nd spell: 2 * [8,5,8] = [16,10,16]. 2 pairs are successful. \n",
    "\n",
    "Thus, [2,0,2] is returned."
   ]
  },
  {
   "cell_type": "code",
   "execution_count": 3,
   "id": "c32e51b6",
   "metadata": {},
   "outputs": [],
   "source": [
    "from typing import List\n",
    "import bisect"
   ]
  },
  {
   "cell_type": "code",
   "execution_count": 4,
   "id": "edb71395",
   "metadata": {},
   "outputs": [],
   "source": [
    "def successfulPairs(spells: List[int], potions: List[int], success: int) -> List[int]:\n",
    "    \n",
    "    answer = []\n",
    "    \n",
    "    potions = sorted(potions)\n",
    "    m = len(potions)\n",
    "    max_potion = potions[m - 1]\n",
    "    \n",
    "    for spell in spells:\n",
    "        # Minimum value of potion whose product with current spell\n",
    "        # will be at least success or more.\n",
    "        min_potion = (success + spell - 1) // spell\n",
    "        \n",
    "        # Check if we don't have any potion which can be used.\n",
    "        if min_potion > max_potion:\n",
    "            answer.append(0)\n",
    "            continue\n",
    "        \n",
    "        # We can use the found potion, and all potion in its right\n",
    "        # (as the right potions are greater than the found potion).\n",
    "        index = bisect.bisect_left(potions, min_potion)\n",
    "        answer.append(m - index)\n",
    "    \n",
    "    return answer"
   ]
  },
  {
   "cell_type": "code",
   "execution_count": 5,
   "id": "ddc66c18",
   "metadata": {},
   "outputs": [],
   "source": [
    "import math"
   ]
  },
  {
   "cell_type": "code",
   "execution_count": 6,
   "id": "dbb2b02a",
   "metadata": {},
   "outputs": [],
   "source": [
    "# Better Space Complexity Solution\n",
    "\n",
    "def successfulPairs(spells: List[int], potions: List[int], success: int) -> List[int]:\n",
    "    n = len(potions)\n",
    "    potions.sort()\n",
    "\n",
    "    for i in range(len(spells)):\n",
    "        spells[i] = n - bisect.bisect_left(potions, math.ceil(success/spells[i]))\n",
    "    \n",
    "    return spells"
   ]
  },
  {
   "cell_type": "code",
   "execution_count": 7,
   "id": "685c906d",
   "metadata": {},
   "outputs": [
    {
     "data": {
      "text/plain": [
       "[4, 0, 3]"
      ]
     },
     "execution_count": 7,
     "metadata": {},
     "output_type": "execute_result"
    }
   ],
   "source": [
    "spells = [5,1,3]\n",
    "potions = [1,2,3,4,5]\n",
    "success = 7\n",
    "successfulPairs(spells, potions, success)"
   ]
  },
  {
   "cell_type": "code",
   "execution_count": 8,
   "id": "a5d03cda",
   "metadata": {},
   "outputs": [
    {
     "data": {
      "text/plain": [
       "[2, 0, 2]"
      ]
     },
     "execution_count": 8,
     "metadata": {},
     "output_type": "execute_result"
    }
   ],
   "source": [
    "spells = [3,1,2]\n",
    "potions = [8,5,8]\n",
    "success = 16\n",
    "successfulPairs(spells, potions, success)"
   ]
  },
  {
   "cell_type": "markdown",
   "id": "4694d16b",
   "metadata": {},
   "source": [
    "## 3) Find Peak Element\n",
    "\n",
    "A peak element is an element that is strictly greater than its neighbors.\n",
    "\n",
    "Given a 0-indexed integer array nums, find a peak element, and return its index. If the array contains multiple peaks, return the index to any of the peaks.\n",
    "\n",
    "You may imagine that nums[-1] = nums[n] = -∞. In other words, an element is always considered to be strictly greater than a neighbor that is outside the array.\n",
    "\n",
    "You must write an algorithm that runs in O(log n) time.\n",
    "\n",
    "<b>Example</b>\n",
    "\n",
    "Input: nums = [1, 2, 3, 1] <br />\n",
    "Output: 2 <br />\n",
    "Explanation: 3 is a peak element and your function should return the index number 2.\n",
    "\n",
    "<b>Example</b>\n",
    "\n",
    "Input: nums = [1, 2, 1, 3, 5, 6, 4] <br />\n",
    "Output: 5 <br />\n",
    "Explanation: Your function can return either index number 1 where the peak element is 2, or index number 5 where the peak element is 6."
   ]
  },
  {
   "cell_type": "code",
   "execution_count": 9,
   "id": "b492c30d",
   "metadata": {},
   "outputs": [],
   "source": [
    "from typing import List"
   ]
  },
  {
   "cell_type": "code",
   "execution_count": 10,
   "id": "03da8ef2",
   "metadata": {},
   "outputs": [],
   "source": [
    "def findPeakElement(nums: List[int]) -> int:\n",
    "    \n",
    "    if len(nums) == 1:\n",
    "        return 0\n",
    "    \n",
    "    mid_left = 0\n",
    "    mid_right = len(nums) -1\n",
    "    \n",
    "    right = float('-inf')\n",
    "    left = float('-inf')\n",
    "    \n",
    "    while mid_left <= mid_right:\n",
    "        if left < nums[mid_left] and nums[mid_left] > nums[mid_left + 1]:\n",
    "            return mid_left\n",
    "        if right < nums[mid_right] and nums[mid_right] > nums[mid_right - 1]:\n",
    "            return mid_right\n",
    "        left = nums[mid_left]\n",
    "        mid_left += 1\n",
    "        right = nums[mid_right]\n",
    "        mid_right -= 1"
   ]
  },
  {
   "cell_type": "code",
   "execution_count": 11,
   "id": "4882aec7",
   "metadata": {},
   "outputs": [],
   "source": [
    "# Iterative Binary Search Solution\n",
    "\n",
    "def findPeakElement(nums: List[int]) -> int:\n",
    "    \n",
    "    l = 0\n",
    "    r = len(nums) - 1\n",
    "    \n",
    "    while l < r:\n",
    "        mid = (l + r) // 2\n",
    "        if nums[mid] > nums [mid + 1]:\n",
    "            r = mid\n",
    "        else:\n",
    "            l = mid + 1\n",
    "    \n",
    "    return l"
   ]
  },
  {
   "cell_type": "code",
   "execution_count": 12,
   "id": "da6bed41",
   "metadata": {},
   "outputs": [],
   "source": [
    "# Recursive Binary Search Solution\n",
    "\n",
    "def findPeakElement(nums: List[int]) -> int:\n",
    "    \n",
    "    def search(nums: List[int], l: int, r: int) -> int:\n",
    "        if l == r:\n",
    "            return l\n",
    "        \n",
    "        mid = (l + r) // 2\n",
    "        if nums[mid] > nums [mid + 1]:\n",
    "            return search(nums, l, mid)\n",
    "        return search(nums, mid+1, r)\n",
    "    \n",
    "    return search(nums, 0, len(nums) - 1)"
   ]
  },
  {
   "cell_type": "code",
   "execution_count": 13,
   "id": "d2652d75",
   "metadata": {},
   "outputs": [
    {
     "data": {
      "text/plain": [
       "2"
      ]
     },
     "execution_count": 13,
     "metadata": {},
     "output_type": "execute_result"
    }
   ],
   "source": [
    "nums = [1, 2, 3, 1]\n",
    "findPeakElement(nums)"
   ]
  },
  {
   "cell_type": "code",
   "execution_count": 14,
   "id": "91ec3240",
   "metadata": {},
   "outputs": [
    {
     "data": {
      "text/plain": [
       "5"
      ]
     },
     "execution_count": 14,
     "metadata": {},
     "output_type": "execute_result"
    }
   ],
   "source": [
    "nums = [1, 2, 1, 3, 5, 6, 4]\n",
    "findPeakElement(nums)"
   ]
  },
  {
   "cell_type": "code",
   "execution_count": 15,
   "id": "46e5a4f2",
   "metadata": {},
   "outputs": [
    {
     "data": {
      "text/plain": [
       "1"
      ]
     },
     "execution_count": 15,
     "metadata": {},
     "output_type": "execute_result"
    }
   ],
   "source": [
    "nums = [1, 2, 1]\n",
    "findPeakElement(nums)"
   ]
  },
  {
   "cell_type": "markdown",
   "id": "5d665e8f",
   "metadata": {},
   "source": [
    "## 4) Koko Eating Bananas\n",
    "\n",
    "Koko loves to eat bananas. There are n piles of bananas, the ith pile has piles[i] bananas. The guards have gone and will come back in h hours.\n",
    "\n",
    "Koko can decide her bananas-per-hour eating speed of k. Each hour, she chooses some pile of bananas and eats k bananas from that pile. If the pile has less than k bananas, she eats all of them instead and will not eat any more bananas during this hour.\n",
    "\n",
    "Koko likes to eat slowly but still wants to finish eating all the bananas before the guards return.\n",
    "\n",
    "Return the minimum integer k such that she can eat all the bananas within h hours.\n",
    "\n",
    "<b>Example</b>\n",
    "\n",
    "Input: piles = [3, 6, 7, 11], h = 8 <br />\n",
    "Output: 4\n",
    "\n",
    "<b>Example</b>\n",
    "\n",
    "Input: piles = [30, 11, 23, 4, 20], h = 5 <br />\n",
    "Output: 30\n",
    "\n",
    "<b>Example</b>\n",
    "\n",
    "Input: piles = [30, 11, 23, 4, 20], h = 6 <br />\n",
    "Output: 23"
   ]
  },
  {
   "cell_type": "code",
   "execution_count": 16,
   "id": "757f4aa0",
   "metadata": {},
   "outputs": [],
   "source": [
    "from typing import List\n",
    "import math"
   ]
  },
  {
   "cell_type": "code",
   "execution_count": 17,
   "id": "85a4b6fd",
   "metadata": {},
   "outputs": [],
   "source": [
    "def minEatingSpeed(piles: List[int], h: int) -> int:\n",
    "    \n",
    "    low = 1\n",
    "    high = max(piles)\n",
    "    \n",
    "    while low < high:\n",
    "        speed = (low + high) // 2\n",
    "        hour_spent = 0\n",
    "        for pile in piles:\n",
    "            hour_spent += math.ceil(pile / speed)\n",
    "        \n",
    "        if hour_spent <= h:\n",
    "            high = speed\n",
    "        else:\n",
    "            low = speed + 1\n",
    "    \n",
    "    return low"
   ]
  },
  {
   "cell_type": "code",
   "execution_count": 18,
   "id": "7d286d05",
   "metadata": {},
   "outputs": [
    {
     "data": {
      "text/plain": [
       "4"
      ]
     },
     "execution_count": 18,
     "metadata": {},
     "output_type": "execute_result"
    }
   ],
   "source": [
    "piles = [3, 6, 7, 11]\n",
    "h = 8\n",
    "minEatingSpeed(piles, h)"
   ]
  },
  {
   "cell_type": "code",
   "execution_count": 19,
   "id": "0e957caa",
   "metadata": {},
   "outputs": [
    {
     "data": {
      "text/plain": [
       "30"
      ]
     },
     "execution_count": 19,
     "metadata": {},
     "output_type": "execute_result"
    }
   ],
   "source": [
    "piles = [30, 11, 23, 4, 20]\n",
    "h = 5\n",
    "minEatingSpeed(piles, h)"
   ]
  },
  {
   "cell_type": "code",
   "execution_count": 20,
   "id": "31224361",
   "metadata": {},
   "outputs": [
    {
     "data": {
      "text/plain": [
       "23"
      ]
     },
     "execution_count": 20,
     "metadata": {},
     "output_type": "execute_result"
    }
   ],
   "source": [
    "piles = [30, 11, 23, 4, 20]\n",
    "h = 6\n",
    "minEatingSpeed(piles, h)"
   ]
  },
  {
   "cell_type": "code",
   "execution_count": null,
   "id": "42772da3",
   "metadata": {},
   "outputs": [],
   "source": []
  }
 ],
 "metadata": {
  "kernelspec": {
   "display_name": "Python 3 (ipykernel)",
   "language": "python",
   "name": "python3"
  },
  "language_info": {
   "codemirror_mode": {
    "name": "ipython",
    "version": 3
   },
   "file_extension": ".py",
   "mimetype": "text/x-python",
   "name": "python",
   "nbconvert_exporter": "python",
   "pygments_lexer": "ipython3",
   "version": "3.8.16"
  }
 },
 "nbformat": 4,
 "nbformat_minor": 5
}
