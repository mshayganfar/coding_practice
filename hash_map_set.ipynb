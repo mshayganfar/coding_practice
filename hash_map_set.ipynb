{
 "cells": [
  {
   "cell_type": "markdown",
   "id": "6dd35f8f",
   "metadata": {},
   "source": [
    "# Hash Map / Set"
   ]
  },
  {
   "cell_type": "markdown",
   "id": "5bd007f2",
   "metadata": {},
   "source": [
    "## 2215. Find the Difference of Two Arrays\n",
    "\n",
    "Given two 0-indexed integer arrays nums1 and nums2, return a list answer of size 2 where:\n",
    "\n",
    "* answer[0] is a list of all distinct integers in nums1 which are not present in nums2.\n",
    "* answer[1] is a list of all distinct integers in nums2 which are not present in nums1.\n",
    "\n",
    "Note that the integers in the lists may be returned in any order.\n",
    "\n",
    "<b>Example</b>\n",
    "\n",
    "Input: nums1 = [1, 2, 3], nums2 = [2, 4, 6] <br />\n",
    "Output: [[1, 3],[4, 6]] <br />\n",
    "\n",
    "Explanation:\n",
    "For nums1, nums1[1] = 2 is present at index 0 of nums2, whereas nums1[0] = 1 and nums1[2] = 3 are not present in nums2. Therefore, answer[0] = [1, 3].\n",
    "\n",
    "For nums2, nums2[0] = 2 is present at index 1 of nums1, whereas nums2[1] = 4 and nums2[2] = 6 are not present in nums2. Therefore, answer[1] = [4, 6].\n",
    "\n",
    "<b>Example</b>\n",
    "\n",
    "Input: nums1 = [1, 2, 3, 3], nums2 = [1, 1, 2, 2] <br />\n",
    "Output: [[3],[]]\n",
    "\n",
    "Explanation:\n",
    "For nums1, nums1[2] and nums1[3] are not present in nums2. Since nums1[2] == nums1[3], their value is only included once and answer[0] = [3].\n",
    "\n",
    "Every integer in nums2 is present in nums1. Therefore, answer[1] = []."
   ]
  },
  {
   "cell_type": "code",
   "execution_count": 3,
   "id": "1fa7fec3",
   "metadata": {},
   "outputs": [],
   "source": [
    "from typing import List"
   ]
  },
  {
   "cell_type": "code",
   "execution_count": 29,
   "id": "e491db1d",
   "metadata": {},
   "outputs": [],
   "source": [
    "def findDifference(nums1: List[int], nums2: List[int]) -> List[List[int]]:\n",
    "    \n",
    "    first = list(set(nums1) - set(nums2))\n",
    "    second = list(set(nums2) - set(nums1))\n",
    "    \n",
    "    return [first, second]"
   ]
  },
  {
   "cell_type": "code",
   "execution_count": 32,
   "id": "a07edf67",
   "metadata": {},
   "outputs": [],
   "source": [
    "# Faster Solution\n",
    "\n",
    "def findDifference(nums1: List[int], nums2: List[int]) -> List[List[int]]:\n",
    "    \n",
    "    answer = []\n",
    "    \n",
    "    nums1_set = set(nums1)\n",
    "    nums2_set = set(nums2)\n",
    "    \n",
    "    answer.append([n for n in nums1_set if n not in nums2_set])\n",
    "    answer.append([n for n in nums2_set if n not in nums1_set])\n",
    "    \n",
    "    return answer"
   ]
  },
  {
   "cell_type": "code",
   "execution_count": 33,
   "id": "b231a45d",
   "metadata": {},
   "outputs": [
    {
     "data": {
      "text/plain": [
       "[[1, 3], [4, 6]]"
      ]
     },
     "execution_count": 33,
     "metadata": {},
     "output_type": "execute_result"
    }
   ],
   "source": [
    "nums1 = [1, 2, 3]\n",
    "nums2 = [2, 4, 6]\n",
    "findDifference(nums1, nums2)"
   ]
  },
  {
   "cell_type": "code",
   "execution_count": 34,
   "id": "b7c9c3dd",
   "metadata": {},
   "outputs": [
    {
     "data": {
      "text/plain": [
       "[[3], []]"
      ]
     },
     "execution_count": 34,
     "metadata": {},
     "output_type": "execute_result"
    }
   ],
   "source": [
    "nums1 = [1, 2, 3, 3]\n",
    "nums2 = [1, 1, 2, 2]\n",
    "findDifference(nums1, nums2)"
   ]
  },
  {
   "cell_type": "markdown",
   "id": "e2be7135",
   "metadata": {},
   "source": [
    "## 1207. Unique Number of Occurrences\n",
    "\n",
    "Given an array of integers arr, return true if the number of occurrences of each value in the array is unique or false otherwise.\n",
    "\n",
    "<b>Example</b>\n",
    "\n",
    "Input: arr = [1, 2, 2, 1, 1, 3] <br />\n",
    "Output: true\n",
    "\n",
    "Explanation: The value 1 has 3 occurrences, 2 has 2 and 3 has 1. No two values have the same number of occurrences.\n",
    "\n",
    "<b>Example</b>\n",
    "\n",
    "Input: arr = [1, 2] <br />\n",
    "Output: false\n",
    "\n",
    "<b>Example</b>\n",
    "\n",
    "Input: arr = [-3, 0, 1, -3, 1, 1, 1, -3, 10, 0] <br />\n",
    "Output: true"
   ]
  },
  {
   "cell_type": "code",
   "execution_count": 45,
   "id": "78af192b",
   "metadata": {},
   "outputs": [],
   "source": [
    "def uniqueOccurrences(arr: List[int]) -> bool:\n",
    "    \n",
    "    freq = {}\n",
    "    for x in arr:\n",
    "        freq[x] = freq.get(x, 0) + 1\n",
    "\n",
    "    return len(freq) == len(set(freq.values()))"
   ]
  },
  {
   "cell_type": "code",
   "execution_count": 41,
   "id": "5bebe9e8",
   "metadata": {},
   "outputs": [],
   "source": [
    "def uniqueOccurrences(arr: List[int]) -> bool:\n",
    "    \n",
    "    count_map = {}\n",
    "    arr_set = set()\n",
    "    for num in arr:\n",
    "        if num not in arr_set:\n",
    "            if arr.count(num) in count_map:\n",
    "                return False\n",
    "            else:\n",
    "                count_map[arr.count(num)] = num\n",
    "            arr_set.add(num)\n",
    "    \n",
    "    return True"
   ]
  },
  {
   "cell_type": "code",
   "execution_count": 46,
   "id": "80d657a7",
   "metadata": {},
   "outputs": [
    {
     "data": {
      "text/plain": [
       "True"
      ]
     },
     "execution_count": 46,
     "metadata": {},
     "output_type": "execute_result"
    }
   ],
   "source": [
    "arr = [1, 2, 2, 1, 1, 3]\n",
    "uniqueOccurrences(arr)"
   ]
  },
  {
   "cell_type": "code",
   "execution_count": 47,
   "id": "db10b03b",
   "metadata": {},
   "outputs": [
    {
     "data": {
      "text/plain": [
       "False"
      ]
     },
     "execution_count": 47,
     "metadata": {},
     "output_type": "execute_result"
    }
   ],
   "source": [
    "arr = [1, 2]\n",
    "uniqueOccurrences(arr)"
   ]
  },
  {
   "cell_type": "code",
   "execution_count": 48,
   "id": "c5fd3be6",
   "metadata": {},
   "outputs": [
    {
     "data": {
      "text/plain": [
       "True"
      ]
     },
     "execution_count": 48,
     "metadata": {},
     "output_type": "execute_result"
    }
   ],
   "source": [
    "arr = [-3, 0, 1, -3, 1, 1, 1, -3, 10, 0]\n",
    "uniqueOccurrences(arr)"
   ]
  },
  {
   "cell_type": "code",
   "execution_count": null,
   "id": "46a19ef2",
   "metadata": {},
   "outputs": [],
   "source": []
  }
 ],
 "metadata": {
  "kernelspec": {
   "display_name": "Python 3 (ipykernel)",
   "language": "python",
   "name": "python3"
  },
  "language_info": {
   "codemirror_mode": {
    "name": "ipython",
    "version": 3
   },
   "file_extension": ".py",
   "mimetype": "text/x-python",
   "name": "python",
   "nbconvert_exporter": "python",
   "pygments_lexer": "ipython3",
   "version": "3.8.16"
  }
 },
 "nbformat": 4,
 "nbformat_minor": 5
}
