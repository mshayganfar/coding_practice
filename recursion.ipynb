{
 "cells": [
  {
   "cell_type": "markdown",
   "id": "2dc17e36",
   "metadata": {},
   "source": [
    "# Recursion"
   ]
  },
  {
   "cell_type": "markdown",
   "id": "249d05e7",
   "metadata": {},
   "source": [
    "## Encrypted Words\n",
    "\n",
    "You've devised a simple encryption method for alphabetic strings that shuffles the characters in such a way that the resulting string is hard to quickly read, but is easy to convert back into the original string.\n",
    "\n",
    "When you encrypt a string S, you start with an initially-empty resulting string R and append characters to it as follows:\n",
    "* Append the middle character of S (if S has even length, then we define the middle character as the left-most of the two central characters)\n",
    "* Append the encrypted version of the substring of S that's to the left of the middle character (if non-empty)\n",
    "* Append the encrypted version of the substring of S that's to the right of the middle character (if non-empty)\n",
    "\n",
    "For example, to encrypt the string \"abc\", we first take \"b\", and then append the encrypted version of \"a\" (which is just \"a\") and the encrypted version of \"c\" (which is just \"c\") to get \"bac\".\n",
    "\n",
    "If we encrypt \"abcxcba\" we'll get \"xbacbca\". That is, we take \"x\" and then append the encrypted version \"abc\" and then append the encrypted version of \"cba\".\n",
    "\n",
    "<b>Example 1</b>\n",
    "\n",
    "S = \"abc\" <br />\n",
    "R = \"bac\"\n",
    "\n",
    "<b>Example 2</b>\n",
    "\n",
    "S = \"abcd\" <br />\n",
    "R = \"bacd\"\n",
    "\n",
    "<b>Example 3</b>\n",
    "\n",
    "S = \"abcxcba\" <br />\n",
    "R = \"xbacbca\"\n",
    "\n",
    "<b>Example 4</b>\n",
    "\n",
    "S = \"facebook\" <br />\n",
    "R = \"eafcobok\""
   ]
  },
  {
   "cell_type": "code",
   "execution_count": 13,
   "id": "be47719b",
   "metadata": {},
   "outputs": [],
   "source": [
    "def encryption_helper(s, r):\n",
    "    if len(s) <= 0:\n",
    "        return r\n",
    "    \n",
    "    middle = (len(s) - 1) // 2\n",
    "    \n",
    "    left_s = s[:middle]\n",
    "    right_s = s[middle+1:]\n",
    "    \n",
    "    r.append(s[middle])\n",
    "    \n",
    "    encryption_helper(left_s, r)\n",
    "    encryption_helper(right_s, r)\n",
    "    \n",
    "    return r"
   ]
  },
  {
   "cell_type": "code",
   "execution_count": 14,
   "id": "e17493a0",
   "metadata": {},
   "outputs": [],
   "source": [
    "def findEncryptedWord(s):\n",
    "    r = []\n",
    "    return ''.join(encryption_helper(s, r))"
   ]
  },
  {
   "cell_type": "code",
   "execution_count": 15,
   "id": "3379a4d8",
   "metadata": {},
   "outputs": [
    {
     "data": {
      "text/plain": [
       "'bac'"
      ]
     },
     "execution_count": 15,
     "metadata": {},
     "output_type": "execute_result"
    }
   ],
   "source": [
    "s1 = \"abc\"\n",
    "findEncryptedWord(s1)"
   ]
  },
  {
   "cell_type": "code",
   "execution_count": 7,
   "id": "62928615",
   "metadata": {},
   "outputs": [
    {
     "data": {
      "text/plain": [
       "'bacd'"
      ]
     },
     "execution_count": 7,
     "metadata": {},
     "output_type": "execute_result"
    }
   ],
   "source": [
    "s2 = \"abcd\"\n",
    "findEncryptedWord(s2)"
   ]
  },
  {
   "cell_type": "code",
   "execution_count": 8,
   "id": "f447467c",
   "metadata": {},
   "outputs": [
    {
     "data": {
      "text/plain": [
       "'xbacbca'"
      ]
     },
     "execution_count": 8,
     "metadata": {},
     "output_type": "execute_result"
    }
   ],
   "source": [
    "s3 = \"abcxcba\"\n",
    "findEncryptedWord(s3)"
   ]
  },
  {
   "cell_type": "code",
   "execution_count": 9,
   "id": "279d78df",
   "metadata": {},
   "outputs": [
    {
     "data": {
      "text/plain": [
       "'eafcobok'"
      ]
     },
     "execution_count": 9,
     "metadata": {},
     "output_type": "execute_result"
    }
   ],
   "source": [
    "s4 = \"facebook\"\n",
    "findEncryptedWord(s4)"
   ]
  },
  {
   "cell_type": "markdown",
   "id": "46556040",
   "metadata": {},
   "source": [
    "## Change in a Foreign Currency\n",
    "\n",
    "You likely know that different currencies have coins and bills of different denominations. In some currencies, it's actually impossible to receive change for a given amount of money. For example, Canada has given up the 1-cent penny. If you're owed 94 cents in Canada, a shopkeeper will graciously supply you with 95 cents instead since there exists a 5-cent coin.\n",
    "\n",
    "Given a list of the available denominations, determine if it's possible to receive exact change for an amount of money targetMoney. Both the denominations and target amount will be given in generic units of that currency.\n",
    "\n",
    "<b>Example 1</b>\n",
    "\n",
    "denominations = [5, 10, 25, 100, 200] <br />\n",
    "targetMoney = 94 <br />\n",
    "output = False\n",
    "\n",
    "Every denomination is a multiple of 5, so you can't receive exactly 94 units of money in this currency.\n",
    "\n",
    "<b>Example 2</b>\n",
    "denominations = [4, 17, 29] <br />\n",
    "targetMoney = 75 <br />\n",
    "\n",
    "You can make 75 units with the denominations [17, 29, 29]."
   ]
  },
  {
   "cell_type": "code",
   "execution_count": null,
   "id": "5ee02d73",
   "metadata": {},
   "outputs": [],
   "source": [
    "# Older Solution\n",
    "\n",
    "# def canGetExactChange(targetMoney, denominations):\n",
    "#     if targetMoney == 0:\n",
    "#         return True\n",
    "#     if targetMoney < 0:\n",
    "#         return False\n",
    "    \n",
    "#     for d in denominations:\n",
    "#         if canGetExactChange(targetMoney-d, denominations):\n",
    "#             return True\n",
    "#     return False"
   ]
  },
  {
   "cell_type": "code",
   "execution_count": 17,
   "id": "872c62ac",
   "metadata": {},
   "outputs": [],
   "source": [
    "def canGetExactChange(targetMoney, denominations):\n",
    "    if len(denominations) == 0:\n",
    "        return False\n",
    "    \n",
    "    last_denom = denominations.pop(-1)\n",
    "    \n",
    "    if targetMoney % last_denom == 0:\n",
    "        return True\n",
    "    \n",
    "    return canGetExactChange(targetMoney % last_denom, denominations)"
   ]
  },
  {
   "cell_type": "code",
   "execution_count": 28,
   "id": "deefea29",
   "metadata": {},
   "outputs": [
    {
     "data": {
      "text/plain": [
       "False"
      ]
     },
     "execution_count": 28,
     "metadata": {},
     "output_type": "execute_result"
    }
   ],
   "source": [
    "arr_1 = [5, 10, 25, 100, 200]\n",
    "canGetExactChange(94, arr_1)"
   ]
  },
  {
   "cell_type": "code",
   "execution_count": 20,
   "id": "8ec1f543",
   "metadata": {},
   "outputs": [
    {
     "data": {
      "text/plain": [
       "True"
      ]
     },
     "execution_count": 20,
     "metadata": {},
     "output_type": "execute_result"
    }
   ],
   "source": [
    "arr_2 = [4, 17, 29]\n",
    "canGetExactChange(75, arr_2)"
   ]
  },
  {
   "cell_type": "code",
   "execution_count": null,
   "id": "43c4c2d6",
   "metadata": {},
   "outputs": [],
   "source": []
  }
 ],
 "metadata": {
  "kernelspec": {
   "display_name": "Python 3 (ipykernel)",
   "language": "python",
   "name": "python3"
  },
  "language_info": {
   "codemirror_mode": {
    "name": "ipython",
    "version": 3
   },
   "file_extension": ".py",
   "mimetype": "text/x-python",
   "name": "python",
   "nbconvert_exporter": "python",
   "pygments_lexer": "ipython3",
   "version": "3.8.16"
  }
 },
 "nbformat": 4,
 "nbformat_minor": 5
}
