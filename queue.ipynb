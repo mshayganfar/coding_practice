{
 "cells": [
  {
   "cell_type": "markdown",
   "id": "dd637cc1",
   "metadata": {},
   "source": [
    "# Queue"
   ]
  },
  {
   "cell_type": "markdown",
   "id": "14b9b71f",
   "metadata": {},
   "source": [
    "## Queue Implementation"
   ]
  },
  {
   "cell_type": "code",
   "execution_count": 3,
   "id": "b633b3ad",
   "metadata": {},
   "outputs": [],
   "source": [
    "class Node:\n",
    "    def __init__(self, value):\n",
    "        self.value = value\n",
    "        self.next = None\n",
    "        \n",
    "class Queue:\n",
    "    def __init__(self):\n",
    "        self.rear = None\n",
    "        self.front = None\n",
    "    \n",
    "    def enqueue(self, value):\n",
    "        \n",
    "        node = Node(value)\n",
    "        \n",
    "        if self.rear:\n",
    "            self.rear.next = node\n",
    "            self.rear = node\n",
    "        else:\n",
    "            self.rear = node\n",
    "            self.front = node\n",
    "    \n",
    "    def dequeue(self):\n",
    "        if self.front:\n",
    "            value = self.front.value\n",
    "            self.front = self.front.next\n",
    "            return value\n",
    "        raise Exception('Queue is empty!')"
   ]
  },
  {
   "cell_type": "code",
   "execution_count": 5,
   "id": "738104f7",
   "metadata": {},
   "outputs": [
    {
     "name": "stdout",
     "output_type": "stream",
     "text": [
      "1\n",
      "2\n",
      "3\n",
      "4\n",
      "5\n"
     ]
    }
   ],
   "source": [
    "arr = [1, 2, 3, 4, 5]\n",
    "queue = Queue()\n",
    "\n",
    "for num in arr:\n",
    "    queue.enqueue(num)\n",
    "\n",
    "for _ in arr:\n",
    "    print(queue.dequeue())"
   ]
  },
  {
   "cell_type": "markdown",
   "id": "383c575d",
   "metadata": {},
   "source": [
    "## Queue Removals\n",
    "\n",
    "You're given a list of n integers arr, which represent elements in a queue (in order from front to back). You're also given an integer x, and must perform x iterations of the following 3-step process:\n",
    "\n",
    "1) Pop x elements from the front of queue (or, if it contains fewer than x elements, pop all of them)\n",
    "2) Of the elements that were popped, find the one with the largest value (if there are multiple such elements, take the one which had been popped the earliest), and remove it\n",
    "3) For each one of the remaining elements that were popped (in the order they had been popped), decrement its value by 1 if it's positive (otherwise, if its value is 0, then it's left unchanged), and then add it back to the queue\n",
    "\n",
    "Compute a list of x integers output, the ith of which is the 1-based index in the original array of the element which had been removed in step 2 during the ith iteration.\n",
    "\n",
    "<b>Example</b>\n",
    "\n",
    "n = 6 <br />\n",
    "arr = [1, 2, 2, 3, 4, 5] <br />\n",
    "x = 5 <br />\n",
    "output = [5, 6, 4, 1, 2]\n",
    "\n",
    "The initial queue is [1, 2, 2, 3, 4, 5] (from front to back).\n",
    "\n",
    "In the first iteration, the first 5 elements are popped off the queue, leaving just [5]. Of the popped elements, the largest one is the 4, which was at index 5 in the original array. The remaining elements are then decremented and added back onto the queue, whose contents are then [5, 0, 1, 1, 2].\n",
    "\n",
    "In the second iteration, all 5 elements are popped off the queue. The largest one is the 5, which was at index 6 in the original array. The remaining elements are then decremented (aside from the 0) and added back onto the queue, whose contents are then [0, 0, 0, 1].\n",
    "\n",
    "In the third iteration, all 4 elements are popped off the queue. The largest one is the 1, which had the initial value of 3 at index 4 in the original array. The remaining elements are added back onto the queue, whose contents are then [0, 0, 0].\n",
    "\n",
    "In the fourth iteration, all 3 elements are popped off the queue. Since they all have an equal value, we remove the one that was popped first, which had the initial value of 1 at index 1 in the original array. The remaining elements are added back onto the queue, whose contents are then [0, 0].\n",
    "\n",
    "In the final iteration, both elements are popped off the queue. We remove the one that was popped first, which had the initial value of 2 at index 2 in the original array."
   ]
  },
  {
   "cell_type": "code",
   "execution_count": 6,
   "id": "f0352a08",
   "metadata": {},
   "outputs": [],
   "source": [
    "from collections import deque"
   ]
  },
  {
   "cell_type": "code",
   "execution_count": 11,
   "id": "334c7b87",
   "metadata": {},
   "outputs": [],
   "source": [
    "def findPositions(arr, x):\n",
    "    q = deque()\n",
    "    indices = []\n",
    "    \n",
    "    for e in enumerate(arr):\n",
    "        q.append(e)\n",
    "\n",
    "    for _ in range(x):\n",
    "        max_element = float('-inf')\n",
    "        popped_elements = []\n",
    "        cnt = 0\n",
    "        \n",
    "        while cnt < x and q:\n",
    "            element = q.popleft()\n",
    "            if max_element < element[1]:\n",
    "                max_element = element[1]\n",
    "                max_index = element[0]\n",
    "            popped_elements.append(element)\n",
    "            cnt += 1\n",
    "            \n",
    "        for e in popped_elements:\n",
    "            if e[0] != max_index:\n",
    "                q.append((e[0], max(0, e[1]-1)))\n",
    "                \n",
    "        indices.append(max_index + 1)\n",
    "    \n",
    "    return indices"
   ]
  },
  {
   "cell_type": "code",
   "execution_count": 14,
   "id": "9c3966df",
   "metadata": {},
   "outputs": [
    {
     "data": {
      "text/plain": [
       "[5, 6, 4, 1, 2]"
      ]
     },
     "execution_count": 14,
     "metadata": {},
     "output_type": "execute_result"
    }
   ],
   "source": [
    "arr_1 = [1, 2, 2, 3, 4, 5]\n",
    "x_1 = 5\n",
    "findPositions(arr_1, x_1)"
   ]
  },
  {
   "cell_type": "code",
   "execution_count": 15,
   "id": "6eff59f1",
   "metadata": {},
   "outputs": [
    {
     "data": {
      "text/plain": [
       "[2, 5, 10, 13]"
      ]
     },
     "execution_count": 15,
     "metadata": {},
     "output_type": "execute_result"
    }
   ],
   "source": [
    "arr_2 = [2, 4, 2, 4, 3, 1, 2, 2, 3, 4, 3, 4, 4]\n",
    "x_2 = 4\n",
    "findPositions(arr_2, x_2)"
   ]
  },
  {
   "cell_type": "markdown",
   "id": "890509c7",
   "metadata": {},
   "source": [
    "## 1) Number of Recent Calls\n",
    "\n",
    "You have a RecentCounter class which counts the number of recent requests within a certain time frame.\n",
    "\n",
    "Implement the RecentCounter class:\n",
    "\n",
    "* RecentCounter() Initializes the counter with zero recent requests.\n",
    "* int ping(int t) Adds a new request at time t, where t represents some time in milliseconds, and returns the number of requests that has happened in the past 3000 milliseconds (including the new request). Specifically, return the number of requests that have happened in the inclusive range [t - 3000, t].\n",
    "\n",
    "It is guaranteed that every call to ping uses a strictly larger value of t than the previous call.\n",
    "\n",
    "<b>Example</b>\n",
    "\n",
    "Input: <br />\n",
    "[\"RecentCounter\", \"ping\", \"ping\", \"ping\", \"ping\"] <br />\n",
    "[[], [1], [100], [3001], [3002]]\n",
    "\n",
    "Output: <br />\n",
    "[null, 1, 2, 3, 3]\n",
    "\n",
    "Explanation:\n",
    "\n",
    "RecentCounter recentCounter = new RecentCounter(); <br />\n",
    "recentCounter.ping(1);     // requests = [1], range is [-2999,1], return 1 <br />\n",
    "recentCounter.ping(100);   // requests = [1, 100], range is [-2900,100], return 2 <br />\n",
    "recentCounter.ping(3001);  // requests = [1, 100, 3001], range is [1,3001], return 3 <br />\n",
    "recentCounter.ping(3002);  // requests = [1, 100, 3001, 3002], range is [2,3002], return 3"
   ]
  },
  {
   "cell_type": "code",
   "execution_count": 3,
   "id": "166162c6",
   "metadata": {},
   "outputs": [],
   "source": [
    "from collections import deque"
   ]
  },
  {
   "cell_type": "code",
   "execution_count": 24,
   "id": "564f520d",
   "metadata": {},
   "outputs": [],
   "source": [
    "# Slower Solution\n",
    "\n",
    "class RecentCounter:\n",
    "\n",
    "    def __init__(self):\n",
    "        self.window = deque()\n",
    "\n",
    "    def ping(self, t: int) -> int:\n",
    "        \n",
    "        self.window.append(t)\n",
    "        \n",
    "        count = 0\n",
    "        for req_t in self.window:\n",
    "            if (req_t >= (t - 3000)) and (req_t <= t):\n",
    "                count += 1\n",
    "        \n",
    "        return count"
   ]
  },
  {
   "cell_type": "code",
   "execution_count": 32,
   "id": "c8820caa",
   "metadata": {},
   "outputs": [],
   "source": [
    "class RecentCounter:\n",
    "\n",
    "    def __init__(self):\n",
    "        self.window = []\n",
    "\n",
    "    def ping(self, t: int) -> int:\n",
    "        \n",
    "        self.window.append(t)\n",
    "        \n",
    "        while self.window[0] < (t - 3000):\n",
    "            self.window.pop(0)\n",
    "        \n",
    "        return len(self.window)"
   ]
  },
  {
   "cell_type": "code",
   "execution_count": 33,
   "id": "d525e5bf",
   "metadata": {},
   "outputs": [
    {
     "data": {
      "text/plain": [
       "3"
      ]
     },
     "execution_count": 33,
     "metadata": {},
     "output_type": "execute_result"
    }
   ],
   "source": [
    "obj = RecentCounter()\n",
    "obj.ping(1)\n",
    "obj.ping(100)\n",
    "obj.ping(3001)\n",
    "obj.ping(3002)"
   ]
  },
  {
   "cell_type": "markdown",
   "id": "1c40be3e",
   "metadata": {},
   "source": [
    "## 2) Dota2 Senate\n",
    "\n",
    "In the world of Dota2, there are two parties: the Radiant and the Dire.\n",
    "\n",
    "The Dota2 senate consists of senators coming from two parties. Now the Senate wants to decide on a change in the Dota2 game. The voting for this change is a round-based procedure. In each round, each senator can exercise one of the two rights:\n",
    "\n",
    "* Ban one senator's right: A senator can make another senator lose all his rights in this and all the following rounds.\n",
    "* Announce the victory: If this senator found the senators who still have rights to vote are all from the same party, he can announce the victory and decide on the change in the game.\n",
    "\n",
    "Given a string senate representing each senator's party belonging. The character 'R' and 'D' represent the Radiant party and the Dire party. Then if there are n senators, the size of the given string will be n.\n",
    "\n",
    "The round-based procedure starts from the first senator to the last senator in the given order. This procedure will last until the end of voting. All the senators who have lost their rights will be skipped during the procedure.\n",
    "\n",
    "Suppose every senator is smart enough and will play the best strategy for his own party. Predict which party will finally announce the victory and change the Dota2 game. The output should be \"Radiant\" or \"Dire\".\n",
    "\n",
    "<b>Example</b>\n",
    "\n",
    "Input: senate = \"RD\" <br />\n",
    "Output: \"Radiant\"\n",
    "\n",
    "Explanation: \n",
    "\n",
    "The first senator comes from Radiant and he can just ban the next senator's right in round 1. <br />\n",
    "And the second senator can't exercise any rights anymore since his right has been banned. <br />\n",
    "And in round 2, the first senator can just announce the victory since he is the only guy in the senate who can vote.\n",
    "\n",
    "<b>Example</b>\n",
    "\n",
    "Input: senate = \"RDD\" <br />\n",
    "Output: \"Dire\"\n",
    "\n",
    "Explanation: \n",
    "\n",
    "The first senator comes from Radiant and he can just ban the next senator's right in round 1. <br />\n",
    "And the second senator can't exercise any rights anymore since his right has been banned. <br />\n",
    "And the third senator comes from Dire and he can ban the first senator's right in round 1. <br />\n",
    "And in round 2, the third senator can just announce the victory since he is the only guy in the senate who can vote."
   ]
  },
  {
   "cell_type": "code",
   "execution_count": 62,
   "id": "e2a2b680",
   "metadata": {},
   "outputs": [],
   "source": [
    "# First Solution (not covering all cases)\n",
    "\n",
    "def predictPartyVictory(senate: str) -> str:\n",
    "            \n",
    "    voting = list(senate)\n",
    "        \n",
    "    i = 0\n",
    "    for i in range(len(voting)):\n",
    "        if voting[i] == 'R' and 'D' in voting:\n",
    "            voting[voting.index('D')] = 'N'\n",
    "        elif voting[i] == 'D' and 'R' in voting:\n",
    "            voting[voting.index('R')] = 'N'\n",
    "        \n",
    "    return 'Dire' if voting.count('D') > voting.count('R') else 'Radiant'"
   ]
  },
  {
   "cell_type": "code",
   "execution_count": 68,
   "id": "e8d738ec",
   "metadata": {},
   "outputs": [],
   "source": [
    "def predictPartyVictory(senate: str) -> str:\n",
    "    \n",
    "    n = len(senate)\n",
    "    \n",
    "    # Index will be used to find the next turn of Senator\n",
    "    r_queue = deque()\n",
    "    d_queue = deque()\n",
    "    \n",
    "    for i, s in enumerate(senate):\n",
    "        if s == 'R':\n",
    "            r_queue.append(i)\n",
    "        else:\n",
    "            d_queue.append(i)\n",
    "    \n",
    "    while r_queue and d_queue:\n",
    "        \n",
    "        # Pop the Next-Turn Senate from both Q.\n",
    "        r_turn = r_queue.popleft()\n",
    "        d_turn = d_queue.popleft()\n",
    "        \n",
    "        # ONE having a larger index will be banned by a lower index\n",
    "        # Lower index will again get Turn, so EN-Queue again\n",
    "        # But ensure its turn comes in the next round only\n",
    "        if d_turn < r_turn:\n",
    "            d_queue.append(d_turn + n)\n",
    "        else:\n",
    "            r_queue.append(r_turn + n)\n",
    "        \n",
    "    # One's which Empty is not the winner\n",
    "    return \"Radiant\" if r_queue else \"Dire\""
   ]
  },
  {
   "cell_type": "code",
   "execution_count": 69,
   "id": "c03d0cc6",
   "metadata": {},
   "outputs": [
    {
     "data": {
      "text/plain": [
       "'Radiant'"
      ]
     },
     "execution_count": 69,
     "metadata": {},
     "output_type": "execute_result"
    }
   ],
   "source": [
    "senate = \"RD\"\n",
    "predictPartyVictory(senate)"
   ]
  },
  {
   "cell_type": "code",
   "execution_count": 70,
   "id": "9705b22a",
   "metadata": {},
   "outputs": [
    {
     "data": {
      "text/plain": [
       "'Dire'"
      ]
     },
     "execution_count": 70,
     "metadata": {},
     "output_type": "execute_result"
    }
   ],
   "source": [
    "senate = \"RDD\"\n",
    "predictPartyVictory(senate)"
   ]
  },
  {
   "cell_type": "code",
   "execution_count": null,
   "id": "33858687",
   "metadata": {},
   "outputs": [],
   "source": []
  }
 ],
 "metadata": {
  "kernelspec": {
   "display_name": "Python 3 (ipykernel)",
   "language": "python",
   "name": "python3"
  },
  "language_info": {
   "codemirror_mode": {
    "name": "ipython",
    "version": 3
   },
   "file_extension": ".py",
   "mimetype": "text/x-python",
   "name": "python",
   "nbconvert_exporter": "python",
   "pygments_lexer": "ipython3",
   "version": "3.8.16"
  }
 },
 "nbformat": 4,
 "nbformat_minor": 5
}
