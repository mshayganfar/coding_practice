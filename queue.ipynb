{
 "cells": [
  {
   "cell_type": "markdown",
   "id": "dd637cc1",
   "metadata": {},
   "source": [
    "# Queue"
   ]
  },
  {
   "cell_type": "markdown",
   "id": "14b9b71f",
   "metadata": {},
   "source": [
    "## Queue Implementation"
   ]
  },
  {
   "cell_type": "code",
   "execution_count": 3,
   "id": "b633b3ad",
   "metadata": {},
   "outputs": [],
   "source": [
    "class Node:\n",
    "    def __init__(self, value):\n",
    "        self.value = value\n",
    "        self.next = None\n",
    "        \n",
    "class Queue:\n",
    "    def __init__(self):\n",
    "        self.rear = None\n",
    "        self.front = None\n",
    "    \n",
    "    def enqueue(self, value):\n",
    "        \n",
    "        node = Node(value)\n",
    "        \n",
    "        if self.rear:\n",
    "            self.rear.next = node\n",
    "            self.rear = node\n",
    "        else:\n",
    "            self.rear = node\n",
    "            self.front = node\n",
    "    \n",
    "    def dequeue(self):\n",
    "        if self.front:\n",
    "            value = self.front.value\n",
    "            self.front = self.front.next\n",
    "            return value\n",
    "        raise Exception('Queue is empty!')"
   ]
  },
  {
   "cell_type": "code",
   "execution_count": 5,
   "id": "738104f7",
   "metadata": {},
   "outputs": [
    {
     "name": "stdout",
     "output_type": "stream",
     "text": [
      "1\n",
      "2\n",
      "3\n",
      "4\n",
      "5\n"
     ]
    }
   ],
   "source": [
    "arr = [1, 2, 3, 4, 5]\n",
    "queue = Queue()\n",
    "\n",
    "for num in arr:\n",
    "    queue.enqueue(num)\n",
    "\n",
    "for _ in arr:\n",
    "    print(queue.dequeue())"
   ]
  },
  {
   "cell_type": "markdown",
   "id": "383c575d",
   "metadata": {},
   "source": [
    "## Queue Removals\n",
    "\n",
    "You're given a list of n integers arr, which represent elements in a queue (in order from front to back). You're also given an integer x, and must perform x iterations of the following 3-step process:\n",
    "\n",
    "1) Pop x elements from the front of queue (or, if it contains fewer than x elements, pop all of them)\n",
    "2) Of the elements that were popped, find the one with the largest value (if there are multiple such elements, take the one which had been popped the earliest), and remove it\n",
    "3) For each one of the remaining elements that were popped (in the order they had been popped), decrement its value by 1 if it's positive (otherwise, if its value is 0, then it's left unchanged), and then add it back to the queue\n",
    "\n",
    "Compute a list of x integers output, the ith of which is the 1-based index in the original array of the element which had been removed in step 2 during the ith iteration.\n",
    "\n",
    "<b>Example</b>\n",
    "\n",
    "n = 6 <br />\n",
    "arr = [1, 2, 2, 3, 4, 5] <br />\n",
    "x = 5 <br />\n",
    "output = [5, 6, 4, 1, 2]\n",
    "\n",
    "The initial queue is [1, 2, 2, 3, 4, 5] (from front to back).\n",
    "\n",
    "In the first iteration, the first 5 elements are popped off the queue, leaving just [5]. Of the popped elements, the largest one is the 4, which was at index 5 in the original array. The remaining elements are then decremented and added back onto the queue, whose contents are then [5, 0, 1, 1, 2].\n",
    "\n",
    "In the second iteration, all 5 elements are popped off the queue. The largest one is the 5, which was at index 6 in the original array. The remaining elements are then decremented (aside from the 0) and added back onto the queue, whose contents are then [0, 0, 0, 1].\n",
    "\n",
    "In the third iteration, all 4 elements are popped off the queue. The largest one is the 1, which had the initial value of 3 at index 4 in the original array. The remaining elements are added back onto the queue, whose contents are then [0, 0, 0].\n",
    "\n",
    "In the fourth iteration, all 3 elements are popped off the queue. Since they all have an equal value, we remove the one that was popped first, which had the initial value of 1 at index 1 in the original array. The remaining elements are added back onto the queue, whose contents are then [0, 0].\n",
    "\n",
    "In the final iteration, both elements are popped off the queue. We remove the one that was popped first, which had the initial value of 2 at index 2 in the original array."
   ]
  },
  {
   "cell_type": "code",
   "execution_count": 6,
   "id": "f0352a08",
   "metadata": {},
   "outputs": [],
   "source": [
    "from collections import deque"
   ]
  },
  {
   "cell_type": "code",
   "execution_count": 11,
   "id": "334c7b87",
   "metadata": {},
   "outputs": [],
   "source": [
    "def findPositions(arr, x):\n",
    "    q = deque()\n",
    "    indices = []\n",
    "    \n",
    "    for e in enumerate(arr):\n",
    "        q.append(e)\n",
    "\n",
    "    for _ in range(x):\n",
    "        max_element = float('-inf')\n",
    "        popped_elements = []\n",
    "        cnt = 0\n",
    "        \n",
    "        while cnt < x and q:\n",
    "            element = q.popleft()\n",
    "            if max_element < element[1]:\n",
    "                max_element = element[1]\n",
    "                max_index = element[0]\n",
    "            popped_elements.append(element)\n",
    "            cnt += 1\n",
    "            \n",
    "        for e in popped_elements:\n",
    "            if e[0] != max_index:\n",
    "                q.append((e[0], max(0, e[1]-1)))\n",
    "                \n",
    "        indices.append(max_index + 1)\n",
    "    \n",
    "    return indices"
   ]
  },
  {
   "cell_type": "code",
   "execution_count": 14,
   "id": "9c3966df",
   "metadata": {},
   "outputs": [
    {
     "data": {
      "text/plain": [
       "[5, 6, 4, 1, 2]"
      ]
     },
     "execution_count": 14,
     "metadata": {},
     "output_type": "execute_result"
    }
   ],
   "source": [
    "arr_1 = [1, 2, 2, 3, 4, 5]\n",
    "x_1 = 5\n",
    "findPositions(arr_1, x_1)"
   ]
  },
  {
   "cell_type": "code",
   "execution_count": 15,
   "id": "6eff59f1",
   "metadata": {},
   "outputs": [
    {
     "data": {
      "text/plain": [
       "[2, 5, 10, 13]"
      ]
     },
     "execution_count": 15,
     "metadata": {},
     "output_type": "execute_result"
    }
   ],
   "source": [
    "arr_2 = [2, 4, 2, 4, 3, 1, 2, 2, 3, 4, 3, 4, 4]\n",
    "x_2 = 4\n",
    "findPositions(arr_2, x_2)"
   ]
  },
  {
   "cell_type": "code",
   "execution_count": null,
   "id": "7c52785e",
   "metadata": {},
   "outputs": [],
   "source": []
  }
 ],
 "metadata": {
  "kernelspec": {
   "display_name": "Python 3 (ipykernel)",
   "language": "python",
   "name": "python3"
  },
  "language_info": {
   "codemirror_mode": {
    "name": "ipython",
    "version": 3
   },
   "file_extension": ".py",
   "mimetype": "text/x-python",
   "name": "python",
   "nbconvert_exporter": "python",
   "pygments_lexer": "ipython3",
   "version": "3.8.16"
  }
 },
 "nbformat": 4,
 "nbformat_minor": 5
}
