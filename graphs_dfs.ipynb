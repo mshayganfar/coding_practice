{
 "cells": [
  {
   "cell_type": "markdown",
   "id": "0056aa13",
   "metadata": {},
   "source": [
    "# Graphs - DFS"
   ]
  },
  {
   "cell_type": "markdown",
   "id": "decfcfbc",
   "metadata": {},
   "source": [
    "## 1) Keys and Rooms\n",
    "\n",
    "There are n rooms labeled from 0 to n - 1 and all the rooms are locked except for room 0. Your goal is to visit all the rooms. However, you cannot enter a locked room without having its key.\n",
    "\n",
    "When you visit a room, you may find a set of distinct keys in it. Each key has a number on it, denoting which room it unlocks, and you can take all of them with you to unlock the other rooms.\n",
    "\n",
    "Given an array rooms where rooms[i] is the set of keys that you can obtain if you visited room i, return true if you can visit all the rooms, or false otherwise.\n",
    "\n",
    "<b>Example</b>\n",
    "\n",
    "Input: rooms = [[1], [2], [3], []] <br />\n",
    "Output: true\n",
    "\n",
    "Explanation: <br />\n",
    "We visit room 0 and pick up key 1. <br />\n",
    "We then visit room 1 and pick up key 2. <br />\n",
    "We then visit room 2 and pick up key 3. <br />\n",
    "We then visit room 3. <br />\n",
    "Since we were able to visit every room, we return true.\n",
    "\n",
    "<b>Example</b>\n",
    "\n",
    "Input: rooms = [[1, 3], [3, 0, 1], [2], [0]] <br />\n",
    "Output: false\n",
    "\n",
    "Explanation: <br />\n",
    "We can not enter room number 2 since the only key that unlocks it is in that room."
   ]
  },
  {
   "cell_type": "code",
   "execution_count": 1,
   "id": "59f6fd85",
   "metadata": {},
   "outputs": [],
   "source": [
    "from typing import List"
   ]
  },
  {
   "cell_type": "code",
   "execution_count": 55,
   "id": "66a4c46e",
   "metadata": {},
   "outputs": [],
   "source": [
    "# Recursive Solution\n",
    "\n",
    "def canVisitAllRooms(rooms: List[List[int]]) -> bool:\n",
    "    \n",
    "    def dfs(k: int, visited):\n",
    "        visited.add(k)\n",
    "        \n",
    "        for neighbor in rooms[k]:\n",
    "            if neighbor not in visited:\n",
    "                dfs(neighbor, visited)\n",
    "    \n",
    "    visited = set()\n",
    "    \n",
    "    dfs(0, visited)\n",
    "    \n",
    "    return len(visited) == len(rooms)"
   ]
  },
  {
   "cell_type": "code",
   "execution_count": 58,
   "id": "74116e81",
   "metadata": {},
   "outputs": [],
   "source": [
    "def canVisitAllRooms(rooms: List[List[int]]) -> bool:\n",
    "    seen = [False] * len(rooms)\n",
    "    seen[0] = True\n",
    "    stack = [0]\n",
    "    \n",
    "    while stack:\n",
    "        node = stack.pop()\n",
    "        for neighbor in rooms[node]:\n",
    "            if not seen[neighbor]:\n",
    "                seen[neighbor] = True\n",
    "                stack.append(neighbor)\n",
    "    return all(seen)"
   ]
  },
  {
   "cell_type": "code",
   "execution_count": 59,
   "id": "12614eb2",
   "metadata": {},
   "outputs": [
    {
     "data": {
      "text/plain": [
       "True"
      ]
     },
     "execution_count": 59,
     "metadata": {},
     "output_type": "execute_result"
    }
   ],
   "source": [
    "rooms = [[1], [2], [3], []]\n",
    "canVisitAllRooms(rooms)"
   ]
  },
  {
   "cell_type": "code",
   "execution_count": 60,
   "id": "31fe12c0",
   "metadata": {},
   "outputs": [
    {
     "data": {
      "text/plain": [
       "False"
      ]
     },
     "execution_count": 60,
     "metadata": {},
     "output_type": "execute_result"
    }
   ],
   "source": [
    "rooms = [[1, 3], [3, 0, 1], [2], [0]]\n",
    "canVisitAllRooms(rooms)"
   ]
  },
  {
   "cell_type": "markdown",
   "id": "ff1f6ed6",
   "metadata": {},
   "source": [
    "## 2) Number of Provinces\n",
    "\n",
    "There are n cities. Some of them are connected, while some are not. If city a is connected directly with city b, and city b is connected directly with city c, then city a is connected indirectly with city c.\n",
    "\n",
    "A province is a group of directly or indirectly connected cities and no other cities outside of the group.\n",
    "\n",
    "You are given an n x n matrix isConnected where isConnected[i][j] = 1 if the ith city and the jth city are directly connected, and isConnected[i][j] = 0 otherwise.\n",
    "\n",
    "Return the total number of provinces.\n",
    "\n",
    "<b>Example</b>\n",
    "\n",
    "Input: isConnected = [[1, 1, 0], [1, 1, 0], [0, 0, 1]] <br />\n",
    "Output: 2\n",
    "\n",
    "<b>Example</b>\n",
    "\n",
    "Input: isConnected = [[1, 0, 0], [0, 1, 0], [0, 0, 1]] <br />\n",
    "Output: 3"
   ]
  },
  {
   "cell_type": "code",
   "execution_count": 74,
   "id": "42c9f7a8",
   "metadata": {},
   "outputs": [],
   "source": [
    "from typing import Set"
   ]
  },
  {
   "cell_type": "code",
   "execution_count": 83,
   "id": "1ff0f75d",
   "metadata": {},
   "outputs": [],
   "source": [
    "def findCircleNum(isConnected: List[List[int]]) -> int:\n",
    "    \n",
    "    def dfs(city: int, isConnected: List[List[int]], visited: Set):\n",
    "        visited.add(city)\n",
    "        for i in range(len(isConnected)):\n",
    "            if isConnected[city][i] and i not in visited:\n",
    "                dfs(i, isConnected, visited)\n",
    "        \n",
    "    num_of_prov = 0\n",
    "    visited = set()\n",
    "    \n",
    "    for i in range(len(isConnected)):\n",
    "        if i not in visited:\n",
    "            num_of_prov += 1\n",
    "            dfs(i, isConnected, visited)\n",
    "    \n",
    "    return num_of_prov"
   ]
  },
  {
   "cell_type": "code",
   "execution_count": 84,
   "id": "536758fa",
   "metadata": {},
   "outputs": [
    {
     "data": {
      "text/plain": [
       "2"
      ]
     },
     "execution_count": 84,
     "metadata": {},
     "output_type": "execute_result"
    }
   ],
   "source": [
    "isConnected = [[1, 1, 0], [1, 1, 0], [0, 0, 1]]\n",
    "findCircleNum(isConnected)"
   ]
  },
  {
   "cell_type": "code",
   "execution_count": 85,
   "id": "e7654736",
   "metadata": {},
   "outputs": [
    {
     "data": {
      "text/plain": [
       "3"
      ]
     },
     "execution_count": 85,
     "metadata": {},
     "output_type": "execute_result"
    }
   ],
   "source": [
    "isConnected = [[1, 0, 0], [0, 1, 0], [0, 0, 1]]\n",
    "findCircleNum(isConnected)"
   ]
  },
  {
   "cell_type": "markdown",
   "id": "12e80cf8",
   "metadata": {},
   "source": [
    "## 3) Reorder Routes to Make All Paths Lead to the City Zero\n",
    "\n",
    "There are n cities numbered from 0 to n - 1 and n - 1 roads such that there is only one way to travel between two different cities (this network form a tree). Last year, The ministry of transport decided to orient the roads in one direction because they are too narrow.\n",
    "\n",
    "Roads are represented by connections where connections[i] = [ai, bi] represents a road from city ai to city bi.\n",
    "\n",
    "This year, there will be a big event in the capital (city 0), and many people want to travel to this city.\n",
    "\n",
    "Your task consists of reorienting some roads such that each city can visit the city 0. Return the minimum number of edges changed.\n",
    "\n",
    "It's guaranteed that each city can reach city 0 after reorder.\n",
    "\n",
    "<b>Example</b>\n",
    "\n",
    "Input: n = 6, connections = [[0, 1], [1, 3], [2, 3], [4, 0], [4, 5]] <br />\n",
    "Output: 3\n",
    "\n",
    "Explanation: Change the direction of edges show in red such that each node can reach the node 0 (capital).\n",
    "\n",
    "<b>Example</b>\n",
    "\n",
    "Input: n = 5, connections = [[1, 0], [1, 2], [3, 2], [3, 4]] <br />\n",
    "Output: 2\n",
    "\n",
    "Explanation: Change the direction of edges show in red such that each node can reach the node 0 (capital).\n",
    "\n",
    "<b>Example</b>\n",
    "\n",
    "Input: n = 3, connections = [[1, 0], [2, 0]] <br />\n",
    "Output: 0"
   ]
  },
  {
   "cell_type": "code",
   "execution_count": 3,
   "id": "8e273303",
   "metadata": {},
   "outputs": [],
   "source": [
    "from typing import List"
   ]
  },
  {
   "cell_type": "code",
   "execution_count": 24,
   "id": "259182f5",
   "metadata": {},
   "outputs": [],
   "source": [
    "def minReorder(n: int, connections: List[List[int]]) -> int:\n",
    "\n",
    "    count = 0\n",
    "    visited = set()\n",
    "    stack = []\n",
    "    \n",
    "    for connection in connections:\n",
    "        if 0 in connection:\n",
    "            visited.add(tuple(connection))\n",
    "            if connection[0] == 0:\n",
    "                stack.append((connection[1], connection[0]))\n",
    "                count += 1\n",
    "            else:\n",
    "                stack.append(connection)\n",
    "    \n",
    "    while stack:\n",
    "        a, _ = stack.pop()\n",
    "        for connection in connections:\n",
    "            if tuple(connection) not in visited:\n",
    "                if a in connection:\n",
    "                    visited.add(tuple(connection))\n",
    "                    if connection[0] == a:\n",
    "                        stack.append((connection[1], connection[0]))\n",
    "                        count += 1\n",
    "                    else:\n",
    "                        stack.append(connection)\n",
    "            \n",
    "    return count"
   ]
  },
  {
   "cell_type": "code",
   "execution_count": 37,
   "id": "e3fd588c",
   "metadata": {},
   "outputs": [],
   "source": [
    "from typing import Tuple"
   ]
  },
  {
   "cell_type": "code",
   "execution_count": 51,
   "id": "2cb4349f",
   "metadata": {},
   "outputs": [],
   "source": [
    "# Faster Recursive Solution\n",
    "\n",
    "def minReorder(n: int, connections: List[List[int]]) -> int:\n",
    "    \n",
    "    def dfs(adj: List[List[Tuple[int, int]]], visited: List[bool], minChange: List[int], currCity: int) -> None:\n",
    "        visited[currCity] = True\n",
    "        for neighbourCity in adj[currCity]:\n",
    "            if not visited[neighbourCity[0]]:\n",
    "                if neighbourCity[1] == 1:\n",
    "                    minChange[0] += 1\n",
    "                dfs(adj, visited, minChange, neighbourCity[0])\n",
    "\n",
    "    adj = [[] for _ in range(n)]\n",
    "    for connection in connections:\n",
    "        adj[connection[0]].append((connection[1], 1))\n",
    "        adj[connection[1]].append((connection[0], -1))\n",
    "    \n",
    "    visited = [False] * n\n",
    "    minChange = [0]\n",
    "    dfs(adj, visited, minChange, 0)\n",
    "\n",
    "    return minChange[0]"
   ]
  },
  {
   "cell_type": "code",
   "execution_count": 52,
   "id": "072849d2",
   "metadata": {},
   "outputs": [
    {
     "data": {
      "text/plain": [
       "3"
      ]
     },
     "execution_count": 52,
     "metadata": {},
     "output_type": "execute_result"
    }
   ],
   "source": [
    "connections = [[0, 1], [1, 3], [2, 3], [4, 0], [4, 5]]\n",
    "minReorder(6, connections)"
   ]
  },
  {
   "cell_type": "code",
   "execution_count": 53,
   "id": "5c25b593",
   "metadata": {},
   "outputs": [
    {
     "data": {
      "text/plain": [
       "2"
      ]
     },
     "execution_count": 53,
     "metadata": {},
     "output_type": "execute_result"
    }
   ],
   "source": [
    "connections = [[1, 0], [1, 2], [3, 2], [3, 4]]\n",
    "minReorder(5, connections)"
   ]
  },
  {
   "cell_type": "code",
   "execution_count": 54,
   "id": "e933bb6e",
   "metadata": {},
   "outputs": [
    {
     "data": {
      "text/plain": [
       "0"
      ]
     },
     "execution_count": 54,
     "metadata": {},
     "output_type": "execute_result"
    }
   ],
   "source": [
    "connections = [[1, 0], [2, 0]]\n",
    "minReorder(3, connections)"
   ]
  },
  {
   "cell_type": "code",
   "execution_count": null,
   "id": "0442e902",
   "metadata": {},
   "outputs": [],
   "source": []
  }
 ],
 "metadata": {
  "kernelspec": {
   "display_name": "Python 3 (ipykernel)",
   "language": "python",
   "name": "python3"
  },
  "language_info": {
   "codemirror_mode": {
    "name": "ipython",
    "version": 3
   },
   "file_extension": ".py",
   "mimetype": "text/x-python",
   "name": "python",
   "nbconvert_exporter": "python",
   "pygments_lexer": "ipython3",
   "version": "3.8.16"
  }
 },
 "nbformat": 4,
 "nbformat_minor": 5
}
