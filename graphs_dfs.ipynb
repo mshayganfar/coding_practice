{
 "cells": [
  {
   "cell_type": "markdown",
   "id": "555feaee",
   "metadata": {},
   "source": [
    "# Graphs - DFS"
   ]
  },
  {
   "cell_type": "markdown",
   "id": "e9f46a8d",
   "metadata": {},
   "source": [
    "## 1) Keys and Rooms\n",
    "\n",
    "There are n rooms labeled from 0 to n - 1 and all the rooms are locked except for room 0. Your goal is to visit all the rooms. However, you cannot enter a locked room without having its key.\n",
    "\n",
    "When you visit a room, you may find a set of distinct keys in it. Each key has a number on it, denoting which room it unlocks, and you can take all of them with you to unlock the other rooms.\n",
    "\n",
    "Given an array rooms where rooms[i] is the set of keys that you can obtain if you visited room i, return true if you can visit all the rooms, or false otherwise.\n",
    "\n",
    "<b>Example</b>\n",
    "\n",
    "Input: rooms = [[1], [2], [3], []] <br />\n",
    "Output: true\n",
    "\n",
    "Explanation: <br />\n",
    "We visit room 0 and pick up key 1. <br />\n",
    "We then visit room 1 and pick up key 2. <br />\n",
    "We then visit room 2 and pick up key 3. <br />\n",
    "We then visit room 3. <br />\n",
    "Since we were able to visit every room, we return true.\n",
    "\n",
    "<b>Example</b>\n",
    "\n",
    "Input: rooms = [[1, 3], [3, 0, 1], [2], [0]] <br />\n",
    "Output: false\n",
    "\n",
    "Explanation: <br />\n",
    "We can not enter room number 2 since the only key that unlocks it is in that room."
   ]
  },
  {
   "cell_type": "code",
   "execution_count": 1,
   "id": "eea6c5a6",
   "metadata": {},
   "outputs": [],
   "source": [
    "from typing import List"
   ]
  },
  {
   "cell_type": "code",
   "execution_count": 55,
   "id": "9a3b50cb",
   "metadata": {},
   "outputs": [],
   "source": [
    "# Recursive Solution\n",
    "\n",
    "def canVisitAllRooms(rooms: List[List[int]]) -> bool:\n",
    "    \n",
    "    def dfs(k: int, visited):\n",
    "        visited.add(k)\n",
    "        \n",
    "        for neighbor in rooms[k]:\n",
    "            if neighbor not in visited:\n",
    "                dfs(neighbor, visited)\n",
    "    \n",
    "    visited = set()\n",
    "    \n",
    "    dfs(0, visited)\n",
    "    \n",
    "    return len(visited) == len(rooms)"
   ]
  },
  {
   "cell_type": "code",
   "execution_count": 58,
   "id": "ec216f74",
   "metadata": {},
   "outputs": [],
   "source": [
    "def canVisitAllRooms(rooms: List[List[int]]) -> bool:\n",
    "    seen = [False] * len(rooms)\n",
    "    seen[0] = True\n",
    "    stack = [0]\n",
    "    \n",
    "    while stack:\n",
    "        node = stack.pop()\n",
    "        for neighbor in rooms[node]:\n",
    "            if not seen[neighbor]:\n",
    "                seen[neighbor] = True\n",
    "                stack.append(neighbor)\n",
    "    return all(seen)"
   ]
  },
  {
   "cell_type": "code",
   "execution_count": 59,
   "id": "d020d081",
   "metadata": {},
   "outputs": [
    {
     "data": {
      "text/plain": [
       "True"
      ]
     },
     "execution_count": 59,
     "metadata": {},
     "output_type": "execute_result"
    }
   ],
   "source": [
    "rooms = [[1], [2], [3], []]\n",
    "canVisitAllRooms(rooms)"
   ]
  },
  {
   "cell_type": "code",
   "execution_count": 60,
   "id": "6ce4bc80",
   "metadata": {},
   "outputs": [
    {
     "data": {
      "text/plain": [
       "False"
      ]
     },
     "execution_count": 60,
     "metadata": {},
     "output_type": "execute_result"
    }
   ],
   "source": [
    "rooms = [[1, 3], [3, 0, 1], [2], [0]]\n",
    "canVisitAllRooms(rooms)"
   ]
  },
  {
   "cell_type": "markdown",
   "id": "595be148",
   "metadata": {},
   "source": [
    "## 2) Number of Provinces\n",
    "\n",
    "There are n cities. Some of them are connected, while some are not. If city a is connected directly with city b, and city b is connected directly with city c, then city a is connected indirectly with city c.\n",
    "\n",
    "A province is a group of directly or indirectly connected cities and no other cities outside of the group.\n",
    "\n",
    "You are given an n x n matrix isConnected where isConnected[i][j] = 1 if the ith city and the jth city are directly connected, and isConnected[i][j] = 0 otherwise.\n",
    "\n",
    "Return the total number of provinces.\n",
    "\n",
    "<b>Example</b>\n",
    "\n",
    "Input: isConnected = [[1, 1, 0], [1, 1, 0], [0, 0, 1]] <br />\n",
    "Output: 2\n",
    "\n",
    "<b>Example</b>\n",
    "\n",
    "Input: isConnected = [[1, 0, 0], [0, 1, 0], [0, 0, 1]] <br />\n",
    "Output: 3"
   ]
  },
  {
   "cell_type": "code",
   "execution_count": 74,
   "id": "765325bc",
   "metadata": {},
   "outputs": [],
   "source": [
    "from typing import Set"
   ]
  },
  {
   "cell_type": "code",
   "execution_count": 83,
   "id": "4e3ad695",
   "metadata": {},
   "outputs": [],
   "source": [
    "def findCircleNum(isConnected: List[List[int]]) -> int:\n",
    "    \n",
    "    def dfs(city: int, isConnected: List[List[int]], visited: Set):\n",
    "        visited.add(city)\n",
    "        for i in range(len(isConnected)):\n",
    "            if isConnected[city][i] and i not in visited:\n",
    "                dfs(i, isConnected, visited)\n",
    "        \n",
    "    num_of_prov = 0\n",
    "    visited = set()\n",
    "    \n",
    "    for i in range(len(isConnected)):\n",
    "        if i not in visited:\n",
    "            num_of_prov += 1\n",
    "            dfs(i, isConnected, visited)\n",
    "    \n",
    "    return num_of_prov"
   ]
  },
  {
   "cell_type": "code",
   "execution_count": 84,
   "id": "e5439e42",
   "metadata": {},
   "outputs": [
    {
     "data": {
      "text/plain": [
       "2"
      ]
     },
     "execution_count": 84,
     "metadata": {},
     "output_type": "execute_result"
    }
   ],
   "source": [
    "isConnected = [[1, 1, 0], [1, 1, 0], [0, 0, 1]]\n",
    "findCircleNum(isConnected)"
   ]
  },
  {
   "cell_type": "code",
   "execution_count": 85,
   "id": "c15132db",
   "metadata": {},
   "outputs": [
    {
     "data": {
      "text/plain": [
       "3"
      ]
     },
     "execution_count": 85,
     "metadata": {},
     "output_type": "execute_result"
    }
   ],
   "source": [
    "isConnected = [[1, 0, 0], [0, 1, 0], [0, 0, 1]]\n",
    "findCircleNum(isConnected)"
   ]
  },
  {
   "cell_type": "code",
   "execution_count": null,
   "id": "46264854",
   "metadata": {},
   "outputs": [],
   "source": []
  }
 ],
 "metadata": {
  "kernelspec": {
   "display_name": "Python 3 (ipykernel)",
   "language": "python",
   "name": "python3"
  },
  "language_info": {
   "codemirror_mode": {
    "name": "ipython",
    "version": 3
   },
   "file_extension": ".py",
   "mimetype": "text/x-python",
   "name": "python",
   "nbconvert_exporter": "python",
   "pygments_lexer": "ipython3",
   "version": "3.8.16"
  }
 },
 "nbformat": 4,
 "nbformat_minor": 5
}
